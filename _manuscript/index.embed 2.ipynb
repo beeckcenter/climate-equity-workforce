{
 "cells": [
  {
   "cell_type": "markdown",
   "metadata": {},
   "source": [
    "# Climate resilience requires equitable access to quality green energy\n",
    "\n",
    "jobs. St. Paul is at the forefront.\n",
    "\n",
    "Elham Ali (Beeck Center for Social Impact and Innovation at Georgetown University)  \n",
    "September 19, 2024\n",
    "\n",
    "Minnesota, particularly the City of Saint Paul, has seen a surge in climate resilience funding aimed at expanding green energy job opportunities. However, BIPOC communities remain underrepresented in these jobs and disproportionately suffer from the adverse effects of human-driven climate change.\n",
    "\n",
    "## Background\n",
    "\n",
    "This analysis looks at access to green energy jobs (like energy efficiency, renewable energy, and green construction) by race/ethnicity, gender, education, and income in St. Paul, Minnesota, USA.\n",
    "\n",
    "## Questions\n",
    "\n",
    "Here are some of the questions I will explore using different datasets:\n",
    "\n",
    "-   How much climate resilience funding has St. Paul received?\n",
    "-   What specific green jobs are being created in St. Paul (e.g., energy efficiency, renewable energy, green construction)?\n",
    "-   What is the quality of these jobs? How much do they pay? What qualifications are needed (education and experience)?\n",
    "-   Who is getting these jobs, based on education, race/ethnicity, gender, and income levels?\n",
    "\n",
    "## Data Sources\n",
    "\n",
    "The data for this project comes from:\n",
    "\n",
    "-   The National Center for O\\*NET Development\n",
    "-   2023 Occupational Employment and Wage Survey\n",
    "-   Urban Institute 11 elements of job quality: Clean Energy Job Quality and Education Data\n",
    "-   National and local demographic data from the 2022 American Community Survey Public Use Microdata Sample (ACS PUMS)\n",
    "-   US Census Bureau’s 2023 QuickFacts tool\n",
    "-   Invest.gov\n",
    "-   Geocorr from the Missouri Census Data Center\n",
    "\n",
    "I will reduce each large dataset to focus only on questions related to green jobs and job quality. Please note that some datasets have already been pre-processed in Python with specific filters applied. You can find the original raw datasets in the data folder for reference.\n",
    "\n",
    "## Analysis\n",
    "\n",
    "I will look at each question one by one and clean the data as I go. Some datasets might need to be combined, so I will organize the data during the analysis before exploring the results.\n",
    "\n",
    "### Load packages and libraries"
   ],
   "id": "8f547db5-d04f-4b2e-a976-114fd190afc1"
  },
  {
   "cell_type": "code",
   "execution_count": null,
   "metadata": {},
   "outputs": [
    {
     "output_type": "stream",
     "name": "stderr",
     "text": [
      "here() starts at /Users/elhamali/Documents/Data Projects/climate-equity-workforce"
     ]
    },
    {
     "output_type": "stream",
     "name": "stderr",
     "text": [
      "── Attaching core tidyverse packages ──────────────────────── tidyverse 2.0.0 ──\n",
      "✔ dplyr     1.1.4     ✔ readr     2.1.5\n",
      "✔ forcats   1.0.0     ✔ stringr   1.5.1\n",
      "✔ ggplot2   3.5.1     ✔ tibble    3.2.1\n",
      "✔ lubridate 1.9.3     ✔ tidyr     1.3.1\n",
      "✔ purrr     1.0.2     "
     ]
    },
    {
     "output_type": "stream",
     "name": "stderr",
     "text": [
      "── Conflicts ────────────────────────────────────────── tidyverse_conflicts() ──\n",
      "✖ dplyr::filter() masks stats::filter()\n",
      "✖ dplyr::lag()    masks stats::lag()\n",
      "ℹ Use the conflicted package (<http://conflicted.r-lib.org/>) to force all conflicts to become errors"
     ]
    },
    {
     "output_type": "stream",
     "name": "stderr",
     "text": [
      "\n",
      "Attaching package: 'rlang'\n",
      "\n",
      "The following objects are masked from 'package:purrr':\n",
      "\n",
      "    %@%, flatten, flatten_chr, flatten_dbl, flatten_int, flatten_lgl,\n",
      "    flatten_raw, invoke, splice"
     ]
    },
    {
     "output_type": "stream",
     "name": "stderr",
     "text": [
      "Registered S3 method overwritten by 'quantmod':\n",
      "  method            from\n",
      "  as.zoo.data.frame zoo \n",
      "Highcharts (www.highcharts.com) is a Highsoft software product which is\n",
      "not free for commercial and Governmental use"
     ]
    },
    {
     "output_type": "stream",
     "name": "stderr",
     "text": [
      "\n",
      "Attaching package: 'igraph'\n",
      "\n",
      "The following object is masked from 'package:rlang':\n",
      "\n",
      "    is_named\n",
      "\n",
      "The following objects are masked from 'package:lubridate':\n",
      "\n",
      "    %--%, union\n",
      "\n",
      "The following objects are masked from 'package:dplyr':\n",
      "\n",
      "    as_data_frame, groups, union\n",
      "\n",
      "The following objects are masked from 'package:purrr':\n",
      "\n",
      "    compose, simplify\n",
      "\n",
      "The following object is masked from 'package:tidyr':\n",
      "\n",
      "    crossing\n",
      "\n",
      "The following object is masked from 'package:tibble':\n",
      "\n",
      "    as_data_frame\n",
      "\n",
      "The following objects are masked from 'package:stats':\n",
      "\n",
      "    decompose, spectrum\n",
      "\n",
      "The following object is masked from 'package:base':\n",
      "\n",
      "    union"
     ]
    }
   ],
   "source": [
    "## For folder structure\n",
    "library(here)"
   ],
   "id": "661dc85e-9fa4-4bb4-a4cd-44d3eb7fc8cc"
  },
  {
   "cell_type": "markdown",
   "metadata": {},
   "source": [
    "### 1. Climate Resilience Funding for St. Paul\n",
    "\n",
    "> **RQ 1: How much climate resilience funding has St. Paul received?**\n",
    ">\n",
    "> As of June 2024, **Minnesota** received a total of \\$7,101,423,527 in funding for climate resilience, while **St. Paul** received \\$446,286,762. Specifically, as of January 2024, St. Paul has secured \\$433,028,012 from the Bipartisan Infrastructure Law (BIL) and \\$13,258,750 from the Inflation Reduction Act (IRA) for **climate resilience efforts.**\n",
    ">\n",
    "> St. Paul’s funding makes up **6.28%** of Minnesota’s total climate resilience funding. Nearly **95% of St. Paul’s funding i**s allocated to **transportation** **projects**, with clean energy, buildings, and manufacturing receiving **less than 2% of the total**. It’s like filling up a swimming pool with water but using only a small 8 oz glass for clean energy, buildings, and manufacturing.\n",
    ">\n",
    "> As of January 2024, St. Paul received **\\$8,337,843 from the BIL** and **\\$200,000 from the IRA** specifically for investments in clean energy, buildings, and manufacturing."
   ],
   "id": "e90f6fdf-e7f5-4678-ad70-a159b2085322"
  },
  {
   "cell_type": "code",
   "execution_count": null,
   "metadata": {},
   "outputs": [
    {
     "output_type": "stream",
     "name": "stderr",
     "text": [
      "Warning: One or more parsing issues, call `problems()` on your data frame for details,\n",
      "e.g.:\n",
      "  dat <- vroom(...)\n",
      "  problems(dat)"
     ]
    },
    {
     "output_type": "stream",
     "name": "stderr",
     "text": [
      "Rows: 49535 Columns: 15\n",
      "── Column specification ────────────────────────────────────────────────────────\n",
      "Delimiter: \",\"\n",
      "chr (14): Agency Name, Bureau Name, Program Name, Category, Subcategory, Pro...\n",
      "dbl  (1): Unique ID\n",
      "\n",
      "ℹ Use `spec()` to retrieve the full column specification for this data.\n",
      "ℹ Specify the column types or set `show_col_types = FALSE` to quiet this message."
     ]
    }
   ],
   "source": [
    "# Import data\n",
    "funding <- read_csv(here(\"processed_data\", \"FundingSummary.csv\"))"
   ],
   "id": "459832ca-7009-4939-8ca1-1ccf0dfa8a66"
  },
  {
   "cell_type": "code",
   "execution_count": null,
   "metadata": {},
   "outputs": [
    {
     "output_type": "stream",
     "name": "stderr",
     "text": [
      "Warning: There was 1 warning in `mutate()`.\n",
      "ℹ In argument: `Funding Amount = as.numeric(gsub(\",\", \"\", `Funding Amount`))`.\n",
      "Caused by warning:\n",
      "! NAs introduced by coercion"
     ]
    }
   ],
   "source": [
    "### Convert the `Funding Amount` to numeric and handling commas in the values\n",
    "\n",
    "funding <- funding %>%\n",
    "  mutate(`Funding Amount` = as.numeric(gsub(\",\", \"\", `Funding Amount`)))"
   ],
   "id": "08bed491-edf8-438b-a8af-bd73ae77008e"
  },
  {
   "cell_type": "markdown",
   "metadata": {},
   "source": [
    "#### Filter for MN State and City of St. Paul\n",
    "\n",
    "First, I will filter the dataset by State: **Minnesota**, and then narrow it down further to focus on the **City of St. Paul** and the surrounding region. Please note that St. Paul is part of the **Minneapolis-St. Paul-Bloomington, MN-WI** region, so I’ll ensure it’s included within that larger metropolitan area."
   ],
   "id": "5bf4cd9b-20c9-4158-aab1-32b9d71ba878"
  },
  {
   "cell_type": "code",
   "execution_count": null,
   "metadata": {},
   "outputs": [],
   "source": [
    "# Filter for Minnesota funding\n",
    "minnesota_funding <- funding %>%\n",
    "  filter(State == \"Minnesota\")\n",
    "\n",
    "saveRDS(minnesota_funding, here(\"processed_data\", \"minnesota_funding.rds\"))"
   ],
   "id": "911db6e8-41bf-4152-882f-efef5a1a92fb"
  },
  {
   "cell_type": "code",
   "execution_count": null,
   "metadata": {},
   "outputs": [],
   "source": [
    "# Further filter for St. Paul, considering variations in city names\n",
    "st_paul_funding <- minnesota_funding %>%\n",
    "  filter(str_detect(City, regex(\"Saint Paul|St. Paul|South St. Paul|Minneapolis--St. Paul|Minneapolis-St. Paul\", ignore_case = TRUE)))\n",
    "\n",
    "saveRDS(st_paul_funding, here(\"processed_data\", \"st_paul_funding.rds\"))\n",
    "\n",
    "# glimpse(st_paul_funding)"
   ],
   "id": "e12f7b96-448d-475c-ad0c-aa4075d27907"
  },
  {
   "cell_type": "markdown",
   "metadata": {},
   "source": [
    "#### Calculate funding for MN State and City of St. Paul"
   ],
   "id": "96cb1b90-0c0a-4bd6-9dcc-2a9e12a0180a"
  },
  {
   "cell_type": "code",
   "execution_count": null,
   "metadata": {},
   "outputs": [
    {
     "output_type": "stream",
     "name": "stdout",
     "text": [
      "The total amount of funding Minnesota received for climate as of June 2024 is $ 7,101,423,527 "
     ]
    },
    {
     "output_type": "stream",
     "name": "stdout",
     "text": [
      "The total amount of funding St. Paul received for climate as of June 2024 is $ 446,286,762 "
     ]
    },
    {
     "output_type": "stream",
     "name": "stdout",
     "text": [
      "As of January 2024, St. Paul has been allocated $ 433,028,012  from the Bipartisan Infrastructure Law (BIL) and $ 13,258,750  from the Inflation Reduction Act (IRA)."
     ]
    },
    {
     "output_type": "stream",
     "name": "stdout",
     "text": [
      "The total amount of funding St. Paul received for 'Clean Energy, Buildings, and Manufacturing' as of June 2024 is $ 8,537,843 "
     ]
    },
    {
     "output_type": "stream",
     "name": "stdout",
     "text": [
      "As of January 2024, St. Paul has been allocated $ 8,337,843  from the Bipartisan Infrastructure Law (BIL) and $ 200,000  from the Inflation Reduction Act (IRA) to invest in 'Clean Energy, Buildings, and Manufacturing'."
     ]
    }
   ],
   "source": [
    "# Set options to avoid scientific notation\n",
    "options(scipen = 999)\n",
    "\n",
    "# Load Minnesota and St. Paul data\n",
    "minnesota_funding <- readRDS(here(\"processed_data\", \"minnesota_funding.rds\"))\n",
    "st_paul_funding <- readRDS(here(\"processed_data\", \"st_paul_funding.rds\"))\n",
    "\n",
    "# Calculate total funding for Minnesota\n",
    "total_minnesota_funding <- minnesota_funding %>%\n",
    "  summarise(total_funding = sum(`Funding Amount`, na.rm = TRUE))\n",
    "\n",
    "cat(\"The total amount of funding Minnesota received for climate as of June 2024 is $\", \n",
    "    format(total_minnesota_funding$total_funding, big.mark = \",\"), \"\\n\")"
   ],
   "id": "a9debcb4-cd6e-4715-ae6e-6f6b9e399380"
  },
  {
   "cell_type": "markdown",
   "metadata": {},
   "source": [
    "As of January 2024, St. Paul has been allocated \\$ 433,028,012 million from the Bipartisan Infrastructure Law (BIL) and \\$ 13,258,750 from the Inflation Reduction Act (IRA) to invest in climate resilience efforts in total.\n",
    "\n",
    "As of January 2024, St. Paul has been allocated \\$ 8,337,843 million from the Bipartisan Infrastructure Law (BIL) and \\$ 200,000 from the Inflation Reduction Act (IRA) to invest in ‘Clean Energy, Buildings, and Manufacturing’.\n",
    "\n",
    "#### Calculate fraction of St. Paul’s funding from MN’s"
   ],
   "id": "bffa3d0d-6944-4418-b402-6b3a8575a190"
  },
  {
   "cell_type": "code",
   "execution_count": null,
   "metadata": {},
   "outputs": [
    {
     "output_type": "stream",
     "name": "stdout",
     "text": [
      "The fraction of St. Paul's funding from Minnesota's total funding is:  0.0628 "
     ]
    },
    {
     "output_type": "stream",
     "name": "stdout",
     "text": [
      "This means St. Paul's funding is 6.28 % of Minnesota's total funding."
     ]
    }
   ],
   "source": [
    "minnesota_funding <- readRDS(here(\"processed_data\", \"minnesota_funding.rds\"))\n",
    "st_paul_funding <- readRDS(here(\"processed_data\", \"st_paul_funding.rds\"))\n",
    "\n",
    "# Calculate total funding for Minnesota\n",
    "total_minnesota_funding <- minnesota_funding %>%\n",
    "  summarise(total_funding = sum(`Funding Amount`, na.rm = TRUE)) %>%\n",
    "  pull(total_funding)\n",
    "\n",
    "# Calculate total funding for St. Paul\n",
    "total_st_paul_funding <- st_paul_funding %>%\n",
    "  summarise(total_funding = sum(`Funding Amount`, na.rm = TRUE)) %>%\n",
    "  pull(total_funding)\n",
    "\n",
    "# Calculate the fraction of St. Paul's funding from Minnesota's total funding\n",
    "fraction_st_paul <- total_st_paul_funding / total_minnesota_funding\n",
    "\n",
    "# Output the results\n",
    "cat(\"The fraction of St. Paul's funding from Minnesota's total funding is: \", \n",
    "    round(fraction_st_paul, 4), \"\\n\")"
   ],
   "id": "4ead1672-efd9-457f-ace7-27c1dc980246"
  },
  {
   "cell_type": "markdown",
   "metadata": {},
   "source": [
    "#### Visualize categories of funding for St. Paul"
   ],
   "id": "e3efe2c4-119d-44fb-b4b2-8ada09d809c5"
  },
  {
   "cell_type": "code",
   "execution_count": null,
   "metadata": {},
   "outputs": [],
   "source": [
    "# Group the St. Paul data by Category and calculate the total funding for each category\n",
    "st_paul_category_funding <- st_paul_funding %>%\n",
    "  group_by(Category) %>%\n",
    "  summarise(total_funding = sum(`Funding Amount`, na.rm = TRUE)) %>%\n",
    "  arrange(desc(total_funding))\n",
    "\n",
    "colors <- brewer.pal(n = length(unique(st_paul_category_funding$Category)), \"Set3\")\n",
    "\n",
    "# Create an interactive bar chart using highcharter\n",
    "hchart_bar <- highchart() %>%\n",
    "  hc_chart(type = \"bar\") %>%\n",
    "  hc_xAxis(categories = st_paul_category_funding$Category, title = list(text = \"Category\")) %>%\n",
    "  hc_yAxis(title = list(text = \"Total Funding ($)\"), labels = list(format = \"{value:,.0f}\")) %>%\n",
    "  hc_add_series(name = \"Total Funding\", \n",
    "                data = st_paul_category_funding$total_funding, \n",
    "                colorByPoint = TRUE, \n",
    "                colors = colors) %>%\n",
    "  hc_title(text = \"Total Funding by Category in St. Paul\") %>%\n",
    "  hc_tooltip(pointFormat = \"Total Funding: ${point.y:,.0f}\") %>%\n",
    "  hc_exporting(\n",
    "    enabled = TRUE,\n",
    "    buttons = list(contextButton = list(menuItems = c(\"downloadPNG\", \"downloadJPEG\", \"downloadSVG\", \"downloadPDF\")))\n",
    "  )\n",
    "\n",
    "# Saving the chart as an HTML file\n",
    "saveWidget(hchart_bar, file = here(\"graphs\", \"st_paul_funding_bar.html\"))"
   ],
   "id": "ec1ddc8b-3b10-4c25-8b1b-8b2119790ae8"
  },
  {
   "cell_type": "markdown",
   "metadata": {},
   "source": [
    "A quick glance tells us that almost **95%** of St. Paul’s funding goes to transportation efforts. Clean energy, buildings and manufacturing received less than **2%** of funding."
   ],
   "id": "177d0d8c-7e72-4a55-8889-c627fe151f4b"
  },
  {
   "cell_type": "code",
   "execution_count": null,
   "metadata": {},
   "outputs": [],
   "source": [
    "# Create an interactive pie chart using highcharter\n",
    "hchart_pie <- highchart() %>%\n",
    "  hc_chart(type = \"pie\") %>%\n",
    "  hc_add_series(name = \"Total Funding\", \n",
    "                data = list_parse2(st_paul_category_funding %>% \n",
    "                                   mutate(name = Category, y = total_funding)), \n",
    "                colors = colors) %>%\n",
    "  hc_title(text = \"Total Funding by Category in St. Paul\") %>%\n",
    "  hc_tooltip(pointFormat = \"Total Funding: ${point.y:,.0f}\") %>%\n",
    "  hc_plotOptions(pie = list(innerSize = '50%', dataLabels = list(enabled = TRUE))) %>%\n",
    "  hc_exporting(\n",
    "    enabled = TRUE,\n",
    "    buttons = list(contextButton = list(menuItems = c(\"downloadPNG\", \"downloadJPEG\", \"downloadSVG\", \"downloadPDF\")))\n",
    "  )\n",
    "\n",
    "saveWidget(hchart_pie, file = here(\"graphs\", \"st_paul_funding_pie.html\"))"
   ],
   "id": "ea41516d-81b8-499c-a5d3-8f2048ebd4a3"
  },
  {
   "cell_type": "code",
   "execution_count": null,
   "metadata": {},
   "outputs": [],
   "source": [
    "## Export the funding data to CSV for graphing\n",
    "write.csv(minnesota_funding, here(\"processed_data\", \"minnesota_funding.csv\"), row.names = FALSE)\n",
    "write.csv(st_paul_funding, here(\"processed_data\", \"st_paul_funding.csv\"), row.names = FALSE)"
   ],
   "id": "500b21f2-0ef9-4f4d-8c97-22d91f9866d1"
  },
  {
   "cell_type": "markdown",
   "metadata": {},
   "source": [
    "### 2. Types of Green Jobs in St. Paul\n",
    "\n",
    "> **RQ 2: What specific green jobs are being created in St. Paul (e.g., energy efficiency, renewable energy, green construction)?**\n",
    ">\n",
    "> <u>Nationally</u>\n",
    ">\n",
    "> There’s a total of **17,119,730 employed people** in green jobs nationally. Specifically, in **Energy Efficiency**, there are 4,928,520 (28.79 %), in **Green Construction** there are 10,624,140 (62.06 %), and in **Renewable Energy Generation** there are 1,567,070 (9.15 %).\n",
    ">\n",
    "> The **mean annual wage** for the occupation in U.S. dollars for green jobs is \\$78,363.4, and for non-green jobs is \\$73,763.67. That means green jobs pay **\\$4,599.73 more** than non-green jobs **nationally**.\n",
    ">\n",
    "> The **mean hourly wage** for the occupation in U.S. dollars for green jobs is \\$37.67547, and for non-green jobs is \\$34.80. That means green jobs pay **\\$2.88 more** than non-green jobs **nationally**.\n",
    ">\n",
    "> <u>City of Saint Paul</u>\n",
    ">\n",
    "> There’s a total of **214,340 employed people** in green jobs in Saint Paul. Specifically, in **Energy Efficiency**, there are 66,410 ( 30.98 %), in **Green Construction** there are 124,680 ( 58.17 %), and in **Renewable Energy Generation** there are 23,250 ( 10.85 %).\n",
    ">\n",
    "> The **mean annual wage** for the occupation in U.S. dollars for green jobs **in Saint Paul** is \\$84,561.7, and for non-green jobs is \\$77,192.53. That means green jobs in Saint Paul pay \\$7,369.169 more than non-green jobs in Saint Paul.\n",
    ">\n",
    "> The **mean hourly wage** for the occupation in U.S. dollars for green jobs **in Saint Paul** is \\$40.65, and for non-green jobs is \\$36.31. That means green jobs in Saint Paul pay **\\$4.35 more** than non-green jobs in Saint Paul.\n",
    "\n",
    "#### Green jobs nationally"
   ],
   "id": "cc7433d1-486f-41fe-bc58-d555fb1ab3ac"
  },
  {
   "cell_type": "code",
   "execution_count": null,
   "metadata": {},
   "outputs": [
    {
     "output_type": "stream",
     "name": "stderr",
     "text": [
      "Rows: 1420 Columns: 34\n",
      "── Column specification ────────────────────────────────────────────────────────\n",
      "Delimiter: \",\"\n",
      "chr (21): AREA_TITLE, PRIM_STATE, NAICS_TITLE, I_GROUP, OCC_CODE, OCC_TITLE,...\n",
      "dbl  (7): AREA, AREA_TYPE, NAICS, OWN_CODE, TOT_EMP, EMP_PRSE, MEAN_PRSE\n",
      "lgl  (6): JOBS_1000, LOC_QUOTIENT, PCT_TOTAL, PCT_RPT, ANNUAL, HOURLY\n",
      "\n",
      "ℹ Use `spec()` to retrieve the full column specification for this data.\n",
      "ℹ Specify the column types or set `show_col_types = FALSE` to quiet this message."
     ]
    }
   ],
   "source": [
    "# Import national jobs data\n",
    "national_jobs <- read_csv(here(\"processed_data\", \"OWES_and_ONET-National.csv\"))"
   ],
   "id": "8980ffe7-24df-44aa-a360-495ecddc18e3"
  },
  {
   "cell_type": "markdown",
   "metadata": {},
   "source": [
    "Here, we’d want to filter to only green jobs"
   ],
   "id": "d49584d9-75bf-4099-9d0e-848cfb81bb52"
  },
  {
   "cell_type": "code",
   "execution_count": null,
   "metadata": {},
   "outputs": [
    {
     "output_type": "stream",
     "name": "stderr",
     "text": [
      "Warning: There were 4 warnings in `mutate()`.\n",
      "The first warning was:\n",
      "ℹ In argument: `H_MEAN = as.numeric(H_MEAN)`.\n",
      "Caused by warning:\n",
      "! NAs introduced by coercion\n",
      "ℹ Run `dplyr::last_dplyr_warnings()` to see the 3 remaining warnings."
     ]
    },
    {
     "output_type": "stream",
     "name": "stdout",
     "text": [
      "# A tibble: 4 × 6\n",
      "  `O*NET-SOC Sector`           TOT_EMP H_MEAN A_MEAN A_MEDIAN H_MEDIAN\n",
      "  <chr>                          <dbl>  <dbl>  <dbl>    <dbl>    <dbl>\n",
      "1 Energy Efficiency            4928520   43.0 89371     86355     41.5\n",
      "2 Green Construction          10624140   33.9 70506.    60165     28.9\n",
      "3 Renewable Energy Generation  1567070   42.3 88028.    97010     46.6\n",
      "4 All                         17119730   37.7 78363.    67640     32.5"
     ]
    }
   ],
   "source": [
    "# Convert necessary columns to numeric where needed\n",
    "national_jobs <- national_jobs %>%\n",
    "  mutate(\n",
    "    TOT_EMP = as.numeric(TOT_EMP),\n",
    "    # JOBS_1000 = as.numeric(JOBS_1000),\n",
    "    # PCT_TOTAL = as.numeric(PCT_TOTAL),\n",
    "    H_MEAN = as.numeric(H_MEAN),\n",
    "    A_MEAN = as.numeric(A_MEAN),\n",
    "    A_MEDIAN = as.numeric(A_MEDIAN),\n",
    "    H_MEDIAN = as.numeric(H_MEDIAN)\n",
    "  )"
   ],
   "id": "324a0c9c-0488-40e2-9883-52cebba7352e"
  },
  {
   "cell_type": "code",
   "execution_count": null,
   "metadata": {},
   "outputs": [
    {
     "output_type": "stream",
     "name": "stdout",
     "text": [
      "There's a total of 17,119,730 employed people in green jobs nationally. Specifically, in Energy Efficiency, there are 4,928,520 ( 28.79 %), in Green Construction there are 10,624,140 ( 62.06 %), and in Renewable Energy Generation there are 1,567,070 ( 9.15 %)."
     ]
    }
   ],
   "source": [
    "# Calculate total employment and sector percentages\n",
    "total_green_jobs <- final_summary %>% filter(`O*NET-SOC Sector` == \"All\") %>% pull(TOT_EMP)\n",
    "\n",
    "energy_efficiency_jobs <- final_summary %>% filter(`O*NET-SOC Sector` == \"Energy Efficiency\") %>% pull(TOT_EMP)\n",
    "green_construction_jobs <- final_summary %>% filter(`O*NET-SOC Sector` == \"Green Construction\") %>% pull(TOT_EMP)\n",
    "renewable_energy_jobs <- final_summary %>% filter(`O*NET-SOC Sector` == \"Renewable Energy Generation\") %>% pull(TOT_EMP)\n",
    "\n",
    "# Calculate the percentages\n",
    "energy_efficiency_pct <- round((energy_efficiency_jobs / total_green_jobs) * 100, 2)\n",
    "green_construction_pct <- round((green_construction_jobs / total_green_jobs) * 100, 2)\n",
    "renewable_energy_pct <- round((renewable_energy_jobs / total_green_jobs) * 100, 2)\n",
    "\n",
    "# Create the concatenated sentence\n",
    "cat(\"There's a total of\", format(total_green_jobs, big.mark = \",\", scientific = FALSE), \n",
    "    \"employed people in green jobs nationally. Specifically, in Energy Efficiency, there are\", \n",
    "    format(energy_efficiency_jobs, big.mark = \",\", scientific = FALSE), \n",
    "    \"(\", energy_efficiency_pct, \"%), in Green Construction there are\", \n",
    "    format(green_construction_jobs, big.mark = \",\", scientific = FALSE), \n",
    "    \"(\", green_construction_pct, \"%), and in Renewable Energy Generation there are\", \n",
    "    format(renewable_energy_jobs, big.mark = \",\", scientific = FALSE), \n",
    "    \"(\", renewable_energy_pct, \"%).\\n\")"
   ],
   "id": "fce7ed49-13c8-417a-8dbf-24fc4ece4dac"
  },
  {
   "cell_type": "markdown",
   "metadata": {},
   "source": [
    "Let’s visualize this so it’s easier to compare across all green sectors"
   ],
   "id": "3ef18b08-76d5-4fdf-9753-a24386d6f169"
  },
  {
   "cell_type": "code",
   "execution_count": null,
   "metadata": {},
   "outputs": [
    {
     "output_type": "display_data",
     "metadata": {},
     "data": {
      "text/html": [
       "<div class=\"highchart html-widget html-fill-item\" id=\"htmlwidget-62c5a3a73ff58515d843\" style=\"width:100%;height:464px;\"></div>\n",
       "<script type=\"application/json\" data-for=\"htmlwidget-62c5a3a73ff58515d843\">{\"x\":{\"hc_opts\":{\"chart\":{\"reflow\":true},\"title\":{\"text\":\"Total Employment by Sector\"},\"yAxis\":{\"title\":{\"text\":\"Total Employment\"},\"type\":\"linear\",\"labels\":{\"format\":\"{value:,0f}\"}},\"credits\":{\"enabled\":false},\"exporting\":{\"enabled\":false},\"boost\":{\"enabled\":false},\"plotOptions\":{\"series\":{\"label\":{\"enabled\":false},\"turboThreshold\":0,\"showInLegend\":false},\"treemap\":{\"layoutAlgorithm\":\"squarified\"},\"scatter\":{\"marker\":{\"symbol\":\"circle\"}}},\"series\":[{\"group\":\"group\",\"data\":[{\"O*NET-SOC Sector\":\"Energy Efficiency\",\"TOT_EMP\":4928520,\"H_MEAN\":42.968,\"A_MEAN\":89371,\"A_MEDIAN\":86355,\"H_MEDIAN\":41.515,\"y\":4928520,\"name\":\"Energy Efficiency\"},{\"O*NET-SOC Sector\":\"Green Construction\",\"TOT_EMP\":10624140,\"H_MEAN\":33.898,\"A_MEAN\":70506.33333333334,\"A_MEDIAN\":60165,\"H_MEDIAN\":28.925,\"y\":10624140,\"name\":\"Green Construction\"},{\"O*NET-SOC Sector\":\"Renewable Energy Generation\",\"TOT_EMP\":1567070,\"H_MEAN\":42.32153846153846,\"A_MEAN\":88027.69230769231,\"A_MEDIAN\":97010,\"H_MEDIAN\":46.64,\"y\":1567070,\"name\":\"Renewable Energy Generation\"},{\"O*NET-SOC Sector\":\"All\",\"TOT_EMP\":17119730,\"H_MEAN\":37.67547169811321,\"A_MEAN\":78363.39622641511,\"A_MEDIAN\":67640,\"H_MEDIAN\":32.52,\"y\":17119730,\"name\":\"All\"}],\"type\":\"column\"}],\"xAxis\":{\"type\":\"category\",\"title\":{\"text\":\"Sector\"}},\"tooltip\":{\"pointFormat\":\"<b>{point.y:,0f}<\\/b>\"}},\"theme\":{\"chart\":{\"backgroundColor\":\"transparent\"},\"colors\":[\"#7cb5ec\",\"#434348\",\"#90ed7d\",\"#f7a35c\",\"#8085e9\",\"#f15c80\",\"#e4d354\",\"#2b908f\",\"#f45b5b\",\"#91e8e1\"]},\"conf_opts\":{\"global\":{\"Date\":null,\"VMLRadialGradientURL\":\"http =//code.highcharts.com/list(version)/gfx/vml-radial-gradient.png\",\"canvasToolsURL\":\"http =//code.highcharts.com/list(version)/modules/canvas-tools.js\",\"getTimezoneOffset\":null,\"timezoneOffset\":0,\"useUTC\":true},\"lang\":{\"contextButtonTitle\":\"Chart context menu\",\"decimalPoint\":\".\",\"downloadCSV\":\"Download CSV\",\"downloadJPEG\":\"Download JPEG image\",\"downloadPDF\":\"Download PDF document\",\"downloadPNG\":\"Download PNG image\",\"downloadSVG\":\"Download SVG vector image\",\"downloadXLS\":\"Download XLS\",\"drillUpText\":\"◁ Back to {series.name}\",\"exitFullscreen\":\"Exit from full screen\",\"exportData\":{\"annotationHeader\":\"Annotations\",\"categoryDatetimeHeader\":\"DateTime\",\"categoryHeader\":\"Category\"},\"hideData\":\"Hide data table\",\"invalidDate\":null,\"loading\":\"Loading...\",\"months\":[\"January\",\"February\",\"March\",\"April\",\"May\",\"June\",\"July\",\"August\",\"September\",\"October\",\"November\",\"December\"],\"noData\":\"No data to display\",\"numericSymbolMagnitude\":1000,\"numericSymbols\":[\"k\",\"M\",\"G\",\"T\",\"P\",\"E\"],\"printChart\":\"Print chart\",\"resetZoom\":\"Reset zoom\",\"resetZoomTitle\":\"Reset zoom level 1:1\",\"shortMonths\":[\"Jan\",\"Feb\",\"Mar\",\"Apr\",\"May\",\"Jun\",\"Jul\",\"Aug\",\"Sep\",\"Oct\",\"Nov\",\"Dec\"],\"shortWeekdays\":[\"Sat\",\"Sun\",\"Mon\",\"Tue\",\"Wed\",\"Thu\",\"Fri\"],\"thousandsSep\":\" \",\"viewData\":\"View data table\",\"viewFullscreen\":\"View in full screen\",\"weekdays\":[\"Sunday\",\"Monday\",\"Tuesday\",\"Wednesday\",\"Thursday\",\"Friday\",\"Saturday\"]}},\"type\":\"chart\",\"fonts\":[],\"debug\":false},\"evals\":[],\"jsHooks\":[]}</script>"
      ]
     }
    },
    {
     "output_type": "display_data",
     "metadata": {},
     "data": {
      "text/html": [
       "<div class=\"highchart html-widget html-fill-item\" id=\"htmlwidget-3d511dbd0026ae781f44\" style=\"width:100%;height:464px;\"></div>\n",
       "<script type=\"application/json\" data-for=\"htmlwidget-3d511dbd0026ae781f44\">{\"x\":{\"hc_opts\":{\"chart\":{\"reflow\":true},\"title\":{\"text\":\"Mean Hourly Wage by Sector\"},\"yAxis\":{\"title\":{\"text\":\"Mean Hourly Wage (USD)\"},\"type\":\"linear\"},\"credits\":{\"enabled\":false},\"exporting\":{\"enabled\":false},\"boost\":{\"enabled\":false},\"plotOptions\":{\"series\":{\"label\":{\"enabled\":false},\"turboThreshold\":0,\"showInLegend\":false},\"treemap\":{\"layoutAlgorithm\":\"squarified\"},\"scatter\":{\"marker\":{\"symbol\":\"circle\"}}},\"series\":[{\"group\":\"group\",\"data\":[{\"O*NET-SOC Sector\":\"Energy Efficiency\",\"TOT_EMP\":4928520,\"H_MEAN\":42.968,\"A_MEAN\":89371,\"A_MEDIAN\":86355,\"H_MEDIAN\":41.515,\"y\":42.968,\"name\":\"Energy Efficiency\"},{\"O*NET-SOC Sector\":\"Green Construction\",\"TOT_EMP\":10624140,\"H_MEAN\":33.898,\"A_MEAN\":70506.33333333334,\"A_MEDIAN\":60165,\"H_MEDIAN\":28.925,\"y\":33.898,\"name\":\"Green Construction\"},{\"O*NET-SOC Sector\":\"Renewable Energy Generation\",\"TOT_EMP\":1567070,\"H_MEAN\":42.32153846153846,\"A_MEAN\":88027.69230769231,\"A_MEDIAN\":97010,\"H_MEDIAN\":46.64,\"y\":42.32153846153846,\"name\":\"Renewable Energy Generation\"},{\"O*NET-SOC Sector\":\"All\",\"TOT_EMP\":17119730,\"H_MEAN\":37.67547169811321,\"A_MEAN\":78363.39622641511,\"A_MEDIAN\":67640,\"H_MEDIAN\":32.52,\"y\":37.67547169811321,\"name\":\"All\"}],\"type\":\"column\"}],\"xAxis\":{\"type\":\"category\",\"title\":{\"text\":\"Sector\"}},\"tooltip\":{\"pointFormat\":\"<b>{point.y:.2f} USD<\\/b>\"}},\"theme\":{\"chart\":{\"backgroundColor\":\"transparent\"},\"colors\":[\"#7cb5ec\",\"#434348\",\"#90ed7d\",\"#f7a35c\",\"#8085e9\",\"#f15c80\",\"#e4d354\",\"#2b908f\",\"#f45b5b\",\"#91e8e1\"]},\"conf_opts\":{\"global\":{\"Date\":null,\"VMLRadialGradientURL\":\"http =//code.highcharts.com/list(version)/gfx/vml-radial-gradient.png\",\"canvasToolsURL\":\"http =//code.highcharts.com/list(version)/modules/canvas-tools.js\",\"getTimezoneOffset\":null,\"timezoneOffset\":0,\"useUTC\":true},\"lang\":{\"contextButtonTitle\":\"Chart context menu\",\"decimalPoint\":\".\",\"downloadCSV\":\"Download CSV\",\"downloadJPEG\":\"Download JPEG image\",\"downloadPDF\":\"Download PDF document\",\"downloadPNG\":\"Download PNG image\",\"downloadSVG\":\"Download SVG vector image\",\"downloadXLS\":\"Download XLS\",\"drillUpText\":\"◁ Back to {series.name}\",\"exitFullscreen\":\"Exit from full screen\",\"exportData\":{\"annotationHeader\":\"Annotations\",\"categoryDatetimeHeader\":\"DateTime\",\"categoryHeader\":\"Category\"},\"hideData\":\"Hide data table\",\"invalidDate\":null,\"loading\":\"Loading...\",\"months\":[\"January\",\"February\",\"March\",\"April\",\"May\",\"June\",\"July\",\"August\",\"September\",\"October\",\"November\",\"December\"],\"noData\":\"No data to display\",\"numericSymbolMagnitude\":1000,\"numericSymbols\":[\"k\",\"M\",\"G\",\"T\",\"P\",\"E\"],\"printChart\":\"Print chart\",\"resetZoom\":\"Reset zoom\",\"resetZoomTitle\":\"Reset zoom level 1:1\",\"shortMonths\":[\"Jan\",\"Feb\",\"Mar\",\"Apr\",\"May\",\"Jun\",\"Jul\",\"Aug\",\"Sep\",\"Oct\",\"Nov\",\"Dec\"],\"shortWeekdays\":[\"Sat\",\"Sun\",\"Mon\",\"Tue\",\"Wed\",\"Thu\",\"Fri\"],\"thousandsSep\":\" \",\"viewData\":\"View data table\",\"viewFullscreen\":\"View in full screen\",\"weekdays\":[\"Sunday\",\"Monday\",\"Tuesday\",\"Wednesday\",\"Thursday\",\"Friday\",\"Saturday\"]}},\"type\":\"chart\",\"fonts\":[],\"debug\":false},\"evals\":[],\"jsHooks\":[]}</script>"
      ]
     }
    },
    {
     "output_type": "display_data",
     "metadata": {},
     "data": {
      "text/html": [
       "<div class=\"highchart html-widget html-fill-item\" id=\"htmlwidget-7e003327eee4da5ef3f9\" style=\"width:100%;height:464px;\"></div>\n",
       "<script type=\"application/json\" data-for=\"htmlwidget-7e003327eee4da5ef3f9\">{\"x\":{\"hc_opts\":{\"chart\":{\"reflow\":true},\"title\":{\"text\":\"Mean Annual Wage by Sector\"},\"yAxis\":{\"title\":{\"text\":\"Mean Annual Wage (USD)\"},\"type\":\"linear\",\"labels\":{\"format\":\"{value:,0f}\"}},\"credits\":{\"enabled\":false},\"exporting\":{\"enabled\":false},\"boost\":{\"enabled\":false},\"plotOptions\":{\"series\":{\"label\":{\"enabled\":false},\"turboThreshold\":0,\"showInLegend\":false},\"treemap\":{\"layoutAlgorithm\":\"squarified\"},\"scatter\":{\"marker\":{\"symbol\":\"circle\"}}},\"series\":[{\"group\":\"group\",\"data\":[{\"O*NET-SOC Sector\":\"Energy Efficiency\",\"TOT_EMP\":4928520,\"H_MEAN\":42.968,\"A_MEAN\":89371,\"A_MEDIAN\":86355,\"H_MEDIAN\":41.515,\"y\":89371,\"name\":\"Energy Efficiency\"},{\"O*NET-SOC Sector\":\"Green Construction\",\"TOT_EMP\":10624140,\"H_MEAN\":33.898,\"A_MEAN\":70506.33333333334,\"A_MEDIAN\":60165,\"H_MEDIAN\":28.925,\"y\":70506.33333333334,\"name\":\"Green Construction\"},{\"O*NET-SOC Sector\":\"Renewable Energy Generation\",\"TOT_EMP\":1567070,\"H_MEAN\":42.32153846153846,\"A_MEAN\":88027.69230769231,\"A_MEDIAN\":97010,\"H_MEDIAN\":46.64,\"y\":88027.69230769231,\"name\":\"Renewable Energy Generation\"},{\"O*NET-SOC Sector\":\"All\",\"TOT_EMP\":17119730,\"H_MEAN\":37.67547169811321,\"A_MEAN\":78363.39622641511,\"A_MEDIAN\":67640,\"H_MEDIAN\":32.52,\"y\":78363.39622641511,\"name\":\"All\"}],\"type\":\"column\"}],\"xAxis\":{\"type\":\"category\",\"title\":{\"text\":\"Sector\"}},\"tooltip\":{\"pointFormat\":\"<b>{point.y:,0f} USD<\\/b>\"}},\"theme\":{\"chart\":{\"backgroundColor\":\"transparent\"},\"colors\":[\"#7cb5ec\",\"#434348\",\"#90ed7d\",\"#f7a35c\",\"#8085e9\",\"#f15c80\",\"#e4d354\",\"#2b908f\",\"#f45b5b\",\"#91e8e1\"]},\"conf_opts\":{\"global\":{\"Date\":null,\"VMLRadialGradientURL\":\"http =//code.highcharts.com/list(version)/gfx/vml-radial-gradient.png\",\"canvasToolsURL\":\"http =//code.highcharts.com/list(version)/modules/canvas-tools.js\",\"getTimezoneOffset\":null,\"timezoneOffset\":0,\"useUTC\":true},\"lang\":{\"contextButtonTitle\":\"Chart context menu\",\"decimalPoint\":\".\",\"downloadCSV\":\"Download CSV\",\"downloadJPEG\":\"Download JPEG image\",\"downloadPDF\":\"Download PDF document\",\"downloadPNG\":\"Download PNG image\",\"downloadSVG\":\"Download SVG vector image\",\"downloadXLS\":\"Download XLS\",\"drillUpText\":\"◁ Back to {series.name}\",\"exitFullscreen\":\"Exit from full screen\",\"exportData\":{\"annotationHeader\":\"Annotations\",\"categoryDatetimeHeader\":\"DateTime\",\"categoryHeader\":\"Category\"},\"hideData\":\"Hide data table\",\"invalidDate\":null,\"loading\":\"Loading...\",\"months\":[\"January\",\"February\",\"March\",\"April\",\"May\",\"June\",\"July\",\"August\",\"September\",\"October\",\"November\",\"December\"],\"noData\":\"No data to display\",\"numericSymbolMagnitude\":1000,\"numericSymbols\":[\"k\",\"M\",\"G\",\"T\",\"P\",\"E\"],\"printChart\":\"Print chart\",\"resetZoom\":\"Reset zoom\",\"resetZoomTitle\":\"Reset zoom level 1:1\",\"shortMonths\":[\"Jan\",\"Feb\",\"Mar\",\"Apr\",\"May\",\"Jun\",\"Jul\",\"Aug\",\"Sep\",\"Oct\",\"Nov\",\"Dec\"],\"shortWeekdays\":[\"Sat\",\"Sun\",\"Mon\",\"Tue\",\"Wed\",\"Thu\",\"Fri\"],\"thousandsSep\":\" \",\"viewData\":\"View data table\",\"viewFullscreen\":\"View in full screen\",\"weekdays\":[\"Sunday\",\"Monday\",\"Tuesday\",\"Wednesday\",\"Thursday\",\"Friday\",\"Saturday\"]}},\"type\":\"chart\",\"fonts\":[],\"debug\":false},\"evals\":[],\"jsHooks\":[]}</script>"
      ]
     }
    },
    {
     "output_type": "display_data",
     "metadata": {},
     "data": {
      "text/html": [
       "<div class=\"highchart html-widget html-fill-item\" id=\"htmlwidget-771ec56a92f1b08dcd7f\" style=\"width:100%;height:464px;\"></div>\n",
       "<script type=\"application/json\" data-for=\"htmlwidget-771ec56a92f1b08dcd7f\">{\"x\":{\"hc_opts\":{\"chart\":{\"reflow\":true},\"title\":{\"text\":\"Median Annual Wage by Sector\"},\"yAxis\":{\"title\":{\"text\":\"Median Annual Wage (USD)\"},\"type\":\"linear\",\"labels\":{\"format\":\"{value:,0f}\"}},\"credits\":{\"enabled\":false},\"exporting\":{\"enabled\":false},\"boost\":{\"enabled\":false},\"plotOptions\":{\"series\":{\"label\":{\"enabled\":false},\"turboThreshold\":0,\"showInLegend\":false},\"treemap\":{\"layoutAlgorithm\":\"squarified\"},\"scatter\":{\"marker\":{\"symbol\":\"circle\"}}},\"series\":[{\"group\":\"group\",\"data\":[{\"O*NET-SOC Sector\":\"Energy Efficiency\",\"TOT_EMP\":4928520,\"H_MEAN\":42.968,\"A_MEAN\":89371,\"A_MEDIAN\":86355,\"H_MEDIAN\":41.515,\"y\":86355,\"name\":\"Energy Efficiency\"},{\"O*NET-SOC Sector\":\"Green Construction\",\"TOT_EMP\":10624140,\"H_MEAN\":33.898,\"A_MEAN\":70506.33333333334,\"A_MEDIAN\":60165,\"H_MEDIAN\":28.925,\"y\":60165,\"name\":\"Green Construction\"},{\"O*NET-SOC Sector\":\"Renewable Energy Generation\",\"TOT_EMP\":1567070,\"H_MEAN\":42.32153846153846,\"A_MEAN\":88027.69230769231,\"A_MEDIAN\":97010,\"H_MEDIAN\":46.64,\"y\":97010,\"name\":\"Renewable Energy Generation\"},{\"O*NET-SOC Sector\":\"All\",\"TOT_EMP\":17119730,\"H_MEAN\":37.67547169811321,\"A_MEAN\":78363.39622641511,\"A_MEDIAN\":67640,\"H_MEDIAN\":32.52,\"y\":67640,\"name\":\"All\"}],\"type\":\"column\"}],\"xAxis\":{\"type\":\"category\",\"title\":{\"text\":\"Sector\"}},\"tooltip\":{\"pointFormat\":\"<b>{point.y:,0f} USD<\\/b>\"}},\"theme\":{\"chart\":{\"backgroundColor\":\"transparent\"},\"colors\":[\"#7cb5ec\",\"#434348\",\"#90ed7d\",\"#f7a35c\",\"#8085e9\",\"#f15c80\",\"#e4d354\",\"#2b908f\",\"#f45b5b\",\"#91e8e1\"]},\"conf_opts\":{\"global\":{\"Date\":null,\"VMLRadialGradientURL\":\"http =//code.highcharts.com/list(version)/gfx/vml-radial-gradient.png\",\"canvasToolsURL\":\"http =//code.highcharts.com/list(version)/modules/canvas-tools.js\",\"getTimezoneOffset\":null,\"timezoneOffset\":0,\"useUTC\":true},\"lang\":{\"contextButtonTitle\":\"Chart context menu\",\"decimalPoint\":\".\",\"downloadCSV\":\"Download CSV\",\"downloadJPEG\":\"Download JPEG image\",\"downloadPDF\":\"Download PDF document\",\"downloadPNG\":\"Download PNG image\",\"downloadSVG\":\"Download SVG vector image\",\"downloadXLS\":\"Download XLS\",\"drillUpText\":\"◁ Back to {series.name}\",\"exitFullscreen\":\"Exit from full screen\",\"exportData\":{\"annotationHeader\":\"Annotations\",\"categoryDatetimeHeader\":\"DateTime\",\"categoryHeader\":\"Category\"},\"hideData\":\"Hide data table\",\"invalidDate\":null,\"loading\":\"Loading...\",\"months\":[\"January\",\"February\",\"March\",\"April\",\"May\",\"June\",\"July\",\"August\",\"September\",\"October\",\"November\",\"December\"],\"noData\":\"No data to display\",\"numericSymbolMagnitude\":1000,\"numericSymbols\":[\"k\",\"M\",\"G\",\"T\",\"P\",\"E\"],\"printChart\":\"Print chart\",\"resetZoom\":\"Reset zoom\",\"resetZoomTitle\":\"Reset zoom level 1:1\",\"shortMonths\":[\"Jan\",\"Feb\",\"Mar\",\"Apr\",\"May\",\"Jun\",\"Jul\",\"Aug\",\"Sep\",\"Oct\",\"Nov\",\"Dec\"],\"shortWeekdays\":[\"Sat\",\"Sun\",\"Mon\",\"Tue\",\"Wed\",\"Thu\",\"Fri\"],\"thousandsSep\":\" \",\"viewData\":\"View data table\",\"viewFullscreen\":\"View in full screen\",\"weekdays\":[\"Sunday\",\"Monday\",\"Tuesday\",\"Wednesday\",\"Thursday\",\"Friday\",\"Saturday\"]}},\"type\":\"chart\",\"fonts\":[],\"debug\":false},\"evals\":[],\"jsHooks\":[]}</script>"
      ]
     }
    },
    {
     "output_type": "display_data",
     "metadata": {},
     "data": {
      "text/html": [
       "<div class=\"highchart html-widget html-fill-item\" id=\"htmlwidget-d1db50714a292790251c\" style=\"width:100%;height:464px;\"></div>\n",
       "<script type=\"application/json\" data-for=\"htmlwidget-d1db50714a292790251c\">{\"x\":{\"hc_opts\":{\"chart\":{\"reflow\":true},\"title\":{\"text\":\"Median Hourly Wage by Sector\"},\"yAxis\":{\"title\":{\"text\":\"Median Hourly Wage (USD)\"},\"type\":\"linear\"},\"credits\":{\"enabled\":false},\"exporting\":{\"enabled\":false},\"boost\":{\"enabled\":false},\"plotOptions\":{\"series\":{\"label\":{\"enabled\":false},\"turboThreshold\":0,\"showInLegend\":false},\"treemap\":{\"layoutAlgorithm\":\"squarified\"},\"scatter\":{\"marker\":{\"symbol\":\"circle\"}}},\"series\":[{\"group\":\"group\",\"data\":[{\"O*NET-SOC Sector\":\"Energy Efficiency\",\"TOT_EMP\":4928520,\"H_MEAN\":42.968,\"A_MEAN\":89371,\"A_MEDIAN\":86355,\"H_MEDIAN\":41.515,\"y\":41.515,\"name\":\"Energy Efficiency\"},{\"O*NET-SOC Sector\":\"Green Construction\",\"TOT_EMP\":10624140,\"H_MEAN\":33.898,\"A_MEAN\":70506.33333333334,\"A_MEDIAN\":60165,\"H_MEDIAN\":28.925,\"y\":28.925,\"name\":\"Green Construction\"},{\"O*NET-SOC Sector\":\"Renewable Energy Generation\",\"TOT_EMP\":1567070,\"H_MEAN\":42.32153846153846,\"A_MEAN\":88027.69230769231,\"A_MEDIAN\":97010,\"H_MEDIAN\":46.64,\"y\":46.64,\"name\":\"Renewable Energy Generation\"},{\"O*NET-SOC Sector\":\"All\",\"TOT_EMP\":17119730,\"H_MEAN\":37.67547169811321,\"A_MEAN\":78363.39622641511,\"A_MEDIAN\":67640,\"H_MEDIAN\":32.52,\"y\":32.52,\"name\":\"All\"}],\"type\":\"column\"}],\"xAxis\":{\"type\":\"category\",\"title\":{\"text\":\"Sector\"}},\"tooltip\":{\"pointFormat\":\"<b>{point.y:.2f} USD<\\/b>\"}},\"theme\":{\"chart\":{\"backgroundColor\":\"transparent\"},\"colors\":[\"#7cb5ec\",\"#434348\",\"#90ed7d\",\"#f7a35c\",\"#8085e9\",\"#f15c80\",\"#e4d354\",\"#2b908f\",\"#f45b5b\",\"#91e8e1\"]},\"conf_opts\":{\"global\":{\"Date\":null,\"VMLRadialGradientURL\":\"http =//code.highcharts.com/list(version)/gfx/vml-radial-gradient.png\",\"canvasToolsURL\":\"http =//code.highcharts.com/list(version)/modules/canvas-tools.js\",\"getTimezoneOffset\":null,\"timezoneOffset\":0,\"useUTC\":true},\"lang\":{\"contextButtonTitle\":\"Chart context menu\",\"decimalPoint\":\".\",\"downloadCSV\":\"Download CSV\",\"downloadJPEG\":\"Download JPEG image\",\"downloadPDF\":\"Download PDF document\",\"downloadPNG\":\"Download PNG image\",\"downloadSVG\":\"Download SVG vector image\",\"downloadXLS\":\"Download XLS\",\"drillUpText\":\"◁ Back to {series.name}\",\"exitFullscreen\":\"Exit from full screen\",\"exportData\":{\"annotationHeader\":\"Annotations\",\"categoryDatetimeHeader\":\"DateTime\",\"categoryHeader\":\"Category\"},\"hideData\":\"Hide data table\",\"invalidDate\":null,\"loading\":\"Loading...\",\"months\":[\"January\",\"February\",\"March\",\"April\",\"May\",\"June\",\"July\",\"August\",\"September\",\"October\",\"November\",\"December\"],\"noData\":\"No data to display\",\"numericSymbolMagnitude\":1000,\"numericSymbols\":[\"k\",\"M\",\"G\",\"T\",\"P\",\"E\"],\"printChart\":\"Print chart\",\"resetZoom\":\"Reset zoom\",\"resetZoomTitle\":\"Reset zoom level 1:1\",\"shortMonths\":[\"Jan\",\"Feb\",\"Mar\",\"Apr\",\"May\",\"Jun\",\"Jul\",\"Aug\",\"Sep\",\"Oct\",\"Nov\",\"Dec\"],\"shortWeekdays\":[\"Sat\",\"Sun\",\"Mon\",\"Tue\",\"Wed\",\"Thu\",\"Fri\"],\"thousandsSep\":\" \",\"viewData\":\"View data table\",\"viewFullscreen\":\"View in full screen\",\"weekdays\":[\"Sunday\",\"Monday\",\"Tuesday\",\"Wednesday\",\"Thursday\",\"Friday\",\"Saturday\"]}},\"type\":\"chart\",\"fonts\":[],\"debug\":false},\"evals\":[],\"jsHooks\":[]}</script>"
      ]
     }
    }
   ],
   "source": [
    "# Convert the O*NET-SOC Sector to a factor for ordering in the chart\n",
    "final_summary <- final_summary %>%\n",
    "  mutate(`O*NET-SOC Sector` = factor(`O*NET-SOC Sector`, levels = c(\"Energy Efficiency\", \"Green Construction\", \"Renewable Energy Generation\", \"All\")))\n",
    "\n",
    "# Visualizing TOT_EMP across the sectors\n",
    "hchart(final_summary, \"column\", hcaes(x = `O*NET-SOC Sector`, y = TOT_EMP)) %>%\n",
    "  hc_title(text = \"Total Employment by Sector\") %>%\n",
    "  hc_xAxis(title = list(text = \"Sector\")) %>%\n",
    "  hc_yAxis(title = list(text = \"Total Employment\"), labels = list(format = \"{value:,0f}\")) %>%\n",
    "  hc_tooltip(pointFormat = '<b>{point.y:,0f}</b>')"
   ],
   "id": "124e294e-7ec4-4de8-a51e-ac854ac256f4"
  },
  {
   "cell_type": "markdown",
   "metadata": {},
   "source": [
    "I’m also curious about the differences between green jobs and non-green jobs for mean hourly wage and mean annual wage."
   ],
   "id": "28e01233-0802-4479-b04f-d86c1d0bfb1a"
  },
  {
   "cell_type": "code",
   "execution_count": null,
   "metadata": {},
   "outputs": [
    {
     "output_type": "display_data",
     "metadata": {},
     "data": {
      "text/html": [
       "<div class=\"highchart html-widget html-fill-item\" id=\"htmlwidget-bef01bdd779ce865e999\" style=\"width:100%;height:464px;\"></div>\n",
       "<script type=\"application/json\" data-for=\"htmlwidget-bef01bdd779ce865e999\">{\"x\":{\"hc_opts\":{\"chart\":{\"reflow\":true},\"title\":{\"text\":\"Mean Hourly Wage: Green Jobs vs Non-Green Jobs\"},\"yAxis\":{\"title\":{\"text\":\"Mean Hourly Wage (USD)\"},\"type\":\"linear\"},\"credits\":{\"enabled\":false},\"exporting\":{\"enabled\":false},\"boost\":{\"enabled\":false},\"plotOptions\":{\"series\":{\"label\":{\"enabled\":false},\"turboThreshold\":0,\"showInLegend\":false},\"treemap\":{\"layoutAlgorithm\":\"squarified\"},\"scatter\":{\"marker\":{\"symbol\":\"circle\"}}},\"series\":[{\"group\":\"group\",\"data\":[{\"Job_Type\":\"Green Jobs\",\"H_MEAN\":37.67547169811321,\"A_MEAN\":78363.39622641511,\"y\":37.67547169811321,\"name\":\"Green Jobs\"},{\"Job_Type\":\"Non-Green Jobs\",\"H_MEAN\":34.79640845070423,\"A_MEAN\":73763.67060561306,\"y\":34.79640845070423,\"name\":\"Non-Green Jobs\"}],\"type\":\"column\"}],\"xAxis\":{\"type\":\"category\",\"title\":{\"text\":\"Job Type\"}},\"tooltip\":{\"pointFormat\":\"<b>{point.y:.2f} USD<\\/b>\"}},\"theme\":{\"chart\":{\"backgroundColor\":\"transparent\"},\"colors\":[\"#7cb5ec\",\"#434348\",\"#90ed7d\",\"#f7a35c\",\"#8085e9\",\"#f15c80\",\"#e4d354\",\"#2b908f\",\"#f45b5b\",\"#91e8e1\"]},\"conf_opts\":{\"global\":{\"Date\":null,\"VMLRadialGradientURL\":\"http =//code.highcharts.com/list(version)/gfx/vml-radial-gradient.png\",\"canvasToolsURL\":\"http =//code.highcharts.com/list(version)/modules/canvas-tools.js\",\"getTimezoneOffset\":null,\"timezoneOffset\":0,\"useUTC\":true},\"lang\":{\"contextButtonTitle\":\"Chart context menu\",\"decimalPoint\":\".\",\"downloadCSV\":\"Download CSV\",\"downloadJPEG\":\"Download JPEG image\",\"downloadPDF\":\"Download PDF document\",\"downloadPNG\":\"Download PNG image\",\"downloadSVG\":\"Download SVG vector image\",\"downloadXLS\":\"Download XLS\",\"drillUpText\":\"◁ Back to {series.name}\",\"exitFullscreen\":\"Exit from full screen\",\"exportData\":{\"annotationHeader\":\"Annotations\",\"categoryDatetimeHeader\":\"DateTime\",\"categoryHeader\":\"Category\"},\"hideData\":\"Hide data table\",\"invalidDate\":null,\"loading\":\"Loading...\",\"months\":[\"January\",\"February\",\"March\",\"April\",\"May\",\"June\",\"July\",\"August\",\"September\",\"October\",\"November\",\"December\"],\"noData\":\"No data to display\",\"numericSymbolMagnitude\":1000,\"numericSymbols\":[\"k\",\"M\",\"G\",\"T\",\"P\",\"E\"],\"printChart\":\"Print chart\",\"resetZoom\":\"Reset zoom\",\"resetZoomTitle\":\"Reset zoom level 1:1\",\"shortMonths\":[\"Jan\",\"Feb\",\"Mar\",\"Apr\",\"May\",\"Jun\",\"Jul\",\"Aug\",\"Sep\",\"Oct\",\"Nov\",\"Dec\"],\"shortWeekdays\":[\"Sat\",\"Sun\",\"Mon\",\"Tue\",\"Wed\",\"Thu\",\"Fri\"],\"thousandsSep\":\" \",\"viewData\":\"View data table\",\"viewFullscreen\":\"View in full screen\",\"weekdays\":[\"Sunday\",\"Monday\",\"Tuesday\",\"Wednesday\",\"Thursday\",\"Friday\",\"Saturday\"]}},\"type\":\"chart\",\"fonts\":[],\"debug\":false},\"evals\":[],\"jsHooks\":[]}</script>"
      ]
     }
    },
    {
     "output_type": "display_data",
     "metadata": {},
     "data": {
      "text/html": [
       "<div class=\"highchart html-widget html-fill-item\" id=\"htmlwidget-f4ff7919c1e04c1ddb41\" style=\"width:100%;height:464px;\"></div>\n",
       "<script type=\"application/json\" data-for=\"htmlwidget-f4ff7919c1e04c1ddb41\">{\"x\":{\"hc_opts\":{\"chart\":{\"reflow\":true},\"title\":{\"text\":\"Mean Annual Wage: Green Jobs vs Non-Green Jobs\"},\"yAxis\":{\"title\":{\"text\":\"Mean Annual Wage (USD)\"},\"type\":\"linear\"},\"credits\":{\"enabled\":false},\"exporting\":{\"enabled\":false},\"boost\":{\"enabled\":false},\"plotOptions\":{\"series\":{\"label\":{\"enabled\":false},\"turboThreshold\":0,\"showInLegend\":false},\"treemap\":{\"layoutAlgorithm\":\"squarified\"},\"scatter\":{\"marker\":{\"symbol\":\"circle\"}}},\"series\":[{\"group\":\"group\",\"data\":[{\"Job_Type\":\"Green Jobs\",\"H_MEAN\":37.67547169811321,\"A_MEAN\":78363.39622641511,\"y\":78363.39622641511,\"name\":\"Green Jobs\"},{\"Job_Type\":\"Non-Green Jobs\",\"H_MEAN\":34.79640845070423,\"A_MEAN\":73763.67060561306,\"y\":73763.67060561306,\"name\":\"Non-Green Jobs\"}],\"type\":\"column\"}],\"xAxis\":{\"type\":\"category\",\"title\":{\"text\":\"Job Type\"}},\"tooltip\":{\"pointFormat\":\"<b>{point.y:,0f} USD<\\/b>\"}},\"theme\":{\"chart\":{\"backgroundColor\":\"transparent\"},\"colors\":[\"#7cb5ec\",\"#434348\",\"#90ed7d\",\"#f7a35c\",\"#8085e9\",\"#f15c80\",\"#e4d354\",\"#2b908f\",\"#f45b5b\",\"#91e8e1\"]},\"conf_opts\":{\"global\":{\"Date\":null,\"VMLRadialGradientURL\":\"http =//code.highcharts.com/list(version)/gfx/vml-radial-gradient.png\",\"canvasToolsURL\":\"http =//code.highcharts.com/list(version)/modules/canvas-tools.js\",\"getTimezoneOffset\":null,\"timezoneOffset\":0,\"useUTC\":true},\"lang\":{\"contextButtonTitle\":\"Chart context menu\",\"decimalPoint\":\".\",\"downloadCSV\":\"Download CSV\",\"downloadJPEG\":\"Download JPEG image\",\"downloadPDF\":\"Download PDF document\",\"downloadPNG\":\"Download PNG image\",\"downloadSVG\":\"Download SVG vector image\",\"downloadXLS\":\"Download XLS\",\"drillUpText\":\"◁ Back to {series.name}\",\"exitFullscreen\":\"Exit from full screen\",\"exportData\":{\"annotationHeader\":\"Annotations\",\"categoryDatetimeHeader\":\"DateTime\",\"categoryHeader\":\"Category\"},\"hideData\":\"Hide data table\",\"invalidDate\":null,\"loading\":\"Loading...\",\"months\":[\"January\",\"February\",\"March\",\"April\",\"May\",\"June\",\"July\",\"August\",\"September\",\"October\",\"November\",\"December\"],\"noData\":\"No data to display\",\"numericSymbolMagnitude\":1000,\"numericSymbols\":[\"k\",\"M\",\"G\",\"T\",\"P\",\"E\"],\"printChart\":\"Print chart\",\"resetZoom\":\"Reset zoom\",\"resetZoomTitle\":\"Reset zoom level 1:1\",\"shortMonths\":[\"Jan\",\"Feb\",\"Mar\",\"Apr\",\"May\",\"Jun\",\"Jul\",\"Aug\",\"Sep\",\"Oct\",\"Nov\",\"Dec\"],\"shortWeekdays\":[\"Sat\",\"Sun\",\"Mon\",\"Tue\",\"Wed\",\"Thu\",\"Fri\"],\"thousandsSep\":\" \",\"viewData\":\"View data table\",\"viewFullscreen\":\"View in full screen\",\"weekdays\":[\"Sunday\",\"Monday\",\"Tuesday\",\"Wednesday\",\"Thursday\",\"Friday\",\"Saturday\"]}},\"type\":\"chart\",\"fonts\":[],\"debug\":false},\"evals\":[],\"jsHooks\":[]}</script>"
      ]
     }
    }
   ],
   "source": [
    "# Define green jobs as sectors related to energy and construction\n",
    "green_jobs_sectors <- c(\"Energy Efficiency\", \"Renewable Energy Generation\", \"Green Construction\")\n",
    "\n",
    "# Add a new column to identify green and non-green jobs\n",
    "national_jobs <- national_jobs %>%\n",
    "  mutate(\n",
    "    Job_Type = ifelse(`O*NET-SOC Sector` %in% green_jobs_sectors, \"Green Jobs\", \"Non-Green Jobs\")\n",
    "  )\n",
    "\n",
    "# Group by job type (Green vs Non-Green) and calculate mean wages\n",
    "job_type_summary <- national_jobs %>%\n",
    "  group_by(Job_Type) %>%\n",
    "  summarize(\n",
    "    H_MEAN = mean(H_MEAN, na.rm = TRUE),\n",
    "    A_MEAN = mean(A_MEAN, na.rm = TRUE)\n",
    "  )\n",
    "\n",
    "# Visualizing Mean Hourly Wage (H_MEAN) for Green vs Non-Green Jobs\n",
    "hchart(job_type_summary, \"column\", hcaes(x = Job_Type, y = H_MEAN)) %>%\n",
    "  hc_title(text = \"Mean Hourly Wage: Green Jobs vs Non-Green Jobs\") %>%\n",
    "  hc_xAxis(title = list(text = \"Job Type\")) %>%\n",
    "  hc_yAxis(title = list(text = \"Mean Hourly Wage (USD)\")) %>%\n",
    "  hc_tooltip(pointFormat = '<b>{point.y:.2f} USD</b>')"
   ],
   "id": "5f6b9e82-3a36-45aa-b880-b355ef0f44cd"
  },
  {
   "cell_type": "code",
   "execution_count": null,
   "metadata": {},
   "outputs": [
    {
     "output_type": "stream",
     "name": "stdout",
     "text": [
      "The mean annual wage for the occupation in U.S. dollars for green jobs is $78,363.4, and for non-green jobs is $73,763.67. That means green jobs pay $4,599.726 more than non-green jobs nationally."
     ]
    },
    {
     "output_type": "stream",
     "name": "stdout",
     "text": [
      "The mean hourly wage for the occupation in U.S. dollars for green jobs is $37.67547, and for non-green jobs is $34.79641. That means green jobs pay $2.879063 more than non-green jobs nationally."
     ]
    }
   ],
   "source": [
    "# Summarizing core findings nationally\n",
    "\n",
    "# Extract green and non-green job wage data\n",
    "green_wages <- job_type_summary %>% filter(Job_Type == \"Green Jobs\")\n",
    "non_green_wages <- job_type_summary %>% filter(Job_Type == \"Non-Green Jobs\")\n",
    "\n",
    "# Calculate the difference between green and non-green jobs\n",
    "difference_annual <- green_wages$A_MEAN - non_green_wages$A_MEAN\n",
    "difference_hourly <- green_wages$H_MEAN - non_green_wages$H_MEAN\n",
    "\n",
    "# Format and print the sentences\n",
    "cat(\"The mean annual wage for the occupation in U.S. dollars for green jobs is $\", \n",
    "    format(green_wages$A_MEAN, big.mark = \",\", scientific = FALSE), \n",
    "    \", and for non-green jobs is $\", \n",
    "    format(non_green_wages$A_MEAN, big.mark = \",\", scientific = FALSE), \n",
    "    \". That means green jobs pay $\", \n",
    "    format(abs(difference_annual), big.mark = \",\", scientific = FALSE), \n",
    "    ifelse(difference_annual > 0, \" more\", \" less\"), \n",
    "    \" than non-green jobs nationally.\\n\", sep = \"\")"
   ],
   "id": "91e3e9e5-0947-4904-b337-9959ab2d6a53"
  },
  {
   "cell_type": "markdown",
   "metadata": {},
   "source": [
    "I’d like to see a word cloud of different job titles for each sector"
   ],
   "id": "ae807e3f-2697-43cb-9936-08829fa07e46"
  },
  {
   "cell_type": "code",
   "execution_count": null,
   "metadata": {},
   "outputs": [
    {
     "output_type": "display_data",
     "metadata": {},
     "data": {
      "text/html": [
       "<div class=\"highchart html-widget html-fill-item\" id=\"htmlwidget-ce9f306dfbb2ef9f251e\" style=\"width:100%;height:464px;\"></div>\n",
       "<script type=\"application/json\" data-for=\"htmlwidget-ce9f306dfbb2ef9f251e\">{\"x\":{\"hc_opts\":{\"chart\":{\"reflow\":true},\"title\":{\"text\":\"Word Cloud of Green Job Titles\"},\"yAxis\":{\"title\":{\"text\":[]}},\"credits\":{\"enabled\":false},\"exporting\":{\"enabled\":false},\"boost\":{\"enabled\":false},\"plotOptions\":{\"series\":{\"label\":{\"enabled\":false},\"turboThreshold\":0,\"showInLegend\":false},\"treemap\":{\"layoutAlgorithm\":\"squarified\"},\"scatter\":{\"marker\":{\"symbol\":\"circle\"}}},\"series\":[{\"group\":\"group\",\"data\":[{\"OCC_TITLE\":null,\"n\":6,\"name\":null,\"weight\":6},{\"OCC_TITLE\":\"Electrical Engineers\",\"n\":3,\"name\":\"Electrical Engineers\",\"weight\":3},{\"OCC_TITLE\":\"Mechanical Engineers\",\"n\":3,\"name\":\"Mechanical Engineers\",\"weight\":3},{\"OCC_TITLE\":\"Boilermakers\",\"n\":2,\"name\":\"Boilermakers\",\"weight\":2},{\"OCC_TITLE\":\"Civil Engineers\",\"n\":2,\"name\":\"Civil Engineers\",\"weight\":2},{\"OCC_TITLE\":\"Financial and Investment Analysts\",\"n\":2,\"name\":\"Financial and Investment Analysts\",\"weight\":2},{\"OCC_TITLE\":\"Heating, Air Conditioning, and Refrigeration Mechanics and Installers\",\"n\":2,\"name\":\"Heating, Air Conditioning, and Refrigeration Mechanics and Installers\",\"weight\":2},{\"OCC_TITLE\":\"Insulation Workers, Floor, Ceiling, and Wall\",\"n\":2,\"name\":\"Insulation Workers, Floor, Ceiling, and Wall\",\"weight\":2},{\"OCC_TITLE\":\"Power Plant Operators\",\"n\":2,\"name\":\"Power Plant Operators\",\"weight\":2},{\"OCC_TITLE\":\"Sheet Metal Workers\",\"n\":2,\"name\":\"Sheet Metal Workers\",\"weight\":2},{\"OCC_TITLE\":\"Architects, Except Landscape and Naval\",\"n\":1,\"name\":\"Architects, Except Landscape and Naval\",\"weight\":1},{\"OCC_TITLE\":\"Architectural and Civil Drafters\",\"n\":1,\"name\":\"Architectural and Civil Drafters\",\"weight\":1},{\"OCC_TITLE\":\"Carpenters\",\"n\":1,\"name\":\"Carpenters\",\"weight\":1},{\"OCC_TITLE\":\"Cement Masons and Concrete Finishers\",\"n\":1,\"name\":\"Cement Masons and Concrete Finishers\",\"weight\":1},{\"OCC_TITLE\":\"Construction Laborers\",\"n\":1,\"name\":\"Construction Laborers\",\"weight\":1},{\"OCC_TITLE\":\"Construction Managers\",\"n\":1,\"name\":\"Construction Managers\",\"weight\":1},{\"OCC_TITLE\":\"Construction and Building Inspectors\",\"n\":1,\"name\":\"Construction and Building Inspectors\",\"weight\":1},{\"OCC_TITLE\":\"Continuous Mining Machine Operators\",\"n\":1,\"name\":\"Continuous Mining Machine Operators\",\"weight\":1},{\"OCC_TITLE\":\"Electrical Power-Line Installers and Repairers\",\"n\":1,\"name\":\"Electrical Power-Line Installers and Repairers\",\"weight\":1},{\"OCC_TITLE\":\"Electricians\",\"n\":1,\"name\":\"Electricians\",\"weight\":1},{\"OCC_TITLE\":\"General and Operations Managers\",\"n\":1,\"name\":\"General and Operations Managers\",\"weight\":1},{\"OCC_TITLE\":\"Hazardous Materials Removal Workers\",\"n\":1,\"name\":\"Hazardous Materials Removal Workers\",\"weight\":1},{\"OCC_TITLE\":\"Helpers--Carpenters\",\"n\":1,\"name\":\"Helpers--Carpenters\",\"weight\":1},{\"OCC_TITLE\":\"Helpers--Installation, Maintenance, and Repair Workers\",\"n\":1,\"name\":\"Helpers--Installation, Maintenance, and Repair Workers\",\"weight\":1},{\"OCC_TITLE\":\"Industrial Truck and Tractor Operators\",\"n\":1,\"name\":\"Industrial Truck and Tractor Operators\",\"weight\":1},{\"OCC_TITLE\":\"Laborers and Freight, Stock, and Material Movers, Hand\",\"n\":1,\"name\":\"Laborers and Freight, Stock, and Material Movers, Hand\",\"weight\":1},{\"OCC_TITLE\":\"Landscape Architects\",\"n\":1,\"name\":\"Landscape Architects\",\"weight\":1},{\"OCC_TITLE\":\"Machinists\",\"n\":1,\"name\":\"Machinists\",\"weight\":1},{\"OCC_TITLE\":\"Nuclear Power Reactor Operators\",\"n\":1,\"name\":\"Nuclear Power Reactor Operators\",\"weight\":1},{\"OCC_TITLE\":\"Nuclear Technicians\",\"n\":1,\"name\":\"Nuclear Technicians\",\"weight\":1},{\"OCC_TITLE\":\"Operating Engineers and Other Construction Equipment Operators\",\"n\":1,\"name\":\"Operating Engineers and Other Construction Equipment Operators\",\"weight\":1},{\"OCC_TITLE\":\"Plumbers, Pipefitters, and Steamfitters\",\"n\":1,\"name\":\"Plumbers, Pipefitters, and Steamfitters\",\"weight\":1},{\"OCC_TITLE\":\"Power Distributors and Dispatchers\",\"n\":1,\"name\":\"Power Distributors and Dispatchers\",\"weight\":1},{\"OCC_TITLE\":\"Roofers\",\"n\":1,\"name\":\"Roofers\",\"weight\":1},{\"OCC_TITLE\":\"Separating, Filtering, Clarifying, Precipitating, and Still Machine Setters, Operators, and Tenders\",\"n\":1,\"name\":\"Separating, Filtering, Clarifying, Precipitating, and Still Machine Setters, Operators, and Tenders\",\"weight\":1},{\"OCC_TITLE\":\"Service Unit Operators, Oil and Gas\",\"n\":1,\"name\":\"Service Unit Operators, Oil and Gas\",\"weight\":1},{\"OCC_TITLE\":\"Stationary Engineers and Boiler Operators\",\"n\":1,\"name\":\"Stationary Engineers and Boiler Operators\",\"weight\":1},{\"OCC_TITLE\":\"Structural Iron and Steel Workers\",\"n\":1,\"name\":\"Structural Iron and Steel Workers\",\"weight\":1},{\"OCC_TITLE\":\"Structural Metal Fabricators and Fitters\",\"n\":1,\"name\":\"Structural Metal Fabricators and Fitters\",\"weight\":1},{\"OCC_TITLE\":\"Transportation Inspectors\",\"n\":1,\"name\":\"Transportation Inspectors\",\"weight\":1},{\"OCC_TITLE\":\"Transportation, Storage, and Distribution Managers\",\"n\":1,\"name\":\"Transportation, Storage, and Distribution Managers\",\"weight\":1},{\"OCC_TITLE\":\"Urban and Regional Planners\",\"n\":1,\"name\":\"Urban and Regional Planners\",\"weight\":1},{\"OCC_TITLE\":\"Welders, Cutters, Solderers, and Brazers\",\"n\":1,\"name\":\"Welders, Cutters, Solderers, and Brazers\",\"weight\":1}],\"type\":\"wordcloud\"}],\"xAxis\":{\"type\":null,\"title\":{\"text\":[]},\"categories\":null}},\"theme\":{\"chart\":{\"backgroundColor\":\"transparent\"},\"colors\":[\"#7cb5ec\",\"#434348\",\"#90ed7d\",\"#f7a35c\",\"#8085e9\",\"#f15c80\",\"#e4d354\",\"#2b908f\",\"#f45b5b\",\"#91e8e1\"]},\"conf_opts\":{\"global\":{\"Date\":null,\"VMLRadialGradientURL\":\"http =//code.highcharts.com/list(version)/gfx/vml-radial-gradient.png\",\"canvasToolsURL\":\"http =//code.highcharts.com/list(version)/modules/canvas-tools.js\",\"getTimezoneOffset\":null,\"timezoneOffset\":0,\"useUTC\":true},\"lang\":{\"contextButtonTitle\":\"Chart context menu\",\"decimalPoint\":\".\",\"downloadCSV\":\"Download CSV\",\"downloadJPEG\":\"Download JPEG image\",\"downloadPDF\":\"Download PDF document\",\"downloadPNG\":\"Download PNG image\",\"downloadSVG\":\"Download SVG vector image\",\"downloadXLS\":\"Download XLS\",\"drillUpText\":\"◁ Back to {series.name}\",\"exitFullscreen\":\"Exit from full screen\",\"exportData\":{\"annotationHeader\":\"Annotations\",\"categoryDatetimeHeader\":\"DateTime\",\"categoryHeader\":\"Category\"},\"hideData\":\"Hide data table\",\"invalidDate\":null,\"loading\":\"Loading...\",\"months\":[\"January\",\"February\",\"March\",\"April\",\"May\",\"June\",\"July\",\"August\",\"September\",\"October\",\"November\",\"December\"],\"noData\":\"No data to display\",\"numericSymbolMagnitude\":1000,\"numericSymbols\":[\"k\",\"M\",\"G\",\"T\",\"P\",\"E\"],\"printChart\":\"Print chart\",\"resetZoom\":\"Reset zoom\",\"resetZoomTitle\":\"Reset zoom level 1:1\",\"shortMonths\":[\"Jan\",\"Feb\",\"Mar\",\"Apr\",\"May\",\"Jun\",\"Jul\",\"Aug\",\"Sep\",\"Oct\",\"Nov\",\"Dec\"],\"shortWeekdays\":[\"Sat\",\"Sun\",\"Mon\",\"Tue\",\"Wed\",\"Thu\",\"Fri\"],\"thousandsSep\":\" \",\"viewData\":\"View data table\",\"viewFullscreen\":\"View in full screen\",\"weekdays\":[\"Sunday\",\"Monday\",\"Tuesday\",\"Wednesday\",\"Thursday\",\"Friday\",\"Saturday\"]}},\"type\":\"chart\",\"fonts\":[],\"debug\":false},\"evals\":[],\"jsHooks\":[]}</script>"
      ]
     }
    }
   ],
   "source": [
    "# Filter the dataset for green jobs only\n",
    "green_jobs <- national_jobs %>%\n",
    "  filter(`O*NET-SOC Sector` %in% c(\"Energy Efficiency\", \"Renewable Energy Generation\", \"Green Construction\"))\n",
    "\n",
    "# Extract job titles and count their occurrences\n",
    "job_titles <- green_jobs %>%\n",
    "  count(OCC_TITLE, sort = TRUE)\n",
    "\n",
    "# Create a word cloud using highcharter\n",
    "hchart(\n",
    "  job_titles, \n",
    "  \"wordcloud\", \n",
    "  hcaes(name = OCC_TITLE, weight = n)\n",
    ") %>%\n",
    "  hc_title(text = \"Word Cloud of Green Job Titles\")"
   ],
   "id": "44b346ae-9af4-4c91-b007-eefa999984fa"
  },
  {
   "cell_type": "markdown",
   "metadata": {},
   "source": [
    "Now let’s create separate word clouds for each of the green sectors (\"Energy Efficiency\", \"Renewable Energy Generation\", and \"Green Construction\")."
   ],
   "id": "9571b947-bcbc-44e4-9efd-2b764f5c556c"
  },
  {
   "cell_type": "code",
   "execution_count": null,
   "metadata": {},
   "outputs": [
    {
     "output_type": "display_data",
     "metadata": {},
     "data": {
      "text/html": [
       "<div class=\"highchart html-widget html-fill-item\" id=\"htmlwidget-3700da2f8744f84fc55c\" style=\"width:100%;height:464px;\"></div>\n",
       "<script type=\"application/json\" data-for=\"htmlwidget-3700da2f8744f84fc55c\">{\"x\":{\"hc_opts\":{\"chart\":{\"reflow\":true},\"title\":{\"text\":\"Word Cloud of Energy Efficiency Job Titles\"},\"yAxis\":{\"title\":{\"text\":[]}},\"credits\":{\"enabled\":false},\"exporting\":{\"enabled\":false},\"boost\":{\"enabled\":false},\"plotOptions\":{\"series\":{\"label\":{\"enabled\":false},\"turboThreshold\":0,\"showInLegend\":false},\"treemap\":{\"layoutAlgorithm\":\"squarified\"},\"scatter\":{\"marker\":{\"symbol\":\"circle\"}}},\"series\":[{\"group\":\"group\",\"data\":[{\"OCC_TITLE\":null,\"n\":2,\"name\":null,\"weight\":2},{\"OCC_TITLE\":\"Boilermakers\",\"n\":1,\"name\":\"Boilermakers\",\"weight\":1},{\"OCC_TITLE\":\"Electrical Engineers\",\"n\":1,\"name\":\"Electrical Engineers\",\"weight\":1},{\"OCC_TITLE\":\"Electrical Power-Line Installers and Repairers\",\"n\":1,\"name\":\"Electrical Power-Line Installers and Repairers\",\"weight\":1},{\"OCC_TITLE\":\"Financial and Investment Analysts\",\"n\":1,\"name\":\"Financial and Investment Analysts\",\"weight\":1},{\"OCC_TITLE\":\"General and Operations Managers\",\"n\":1,\"name\":\"General and Operations Managers\",\"weight\":1},{\"OCC_TITLE\":\"Heating, Air Conditioning, and Refrigeration Mechanics and Installers\",\"n\":1,\"name\":\"Heating, Air Conditioning, and Refrigeration Mechanics and Installers\",\"weight\":1},{\"OCC_TITLE\":\"Insulation Workers, Floor, Ceiling, and Wall\",\"n\":1,\"name\":\"Insulation Workers, Floor, Ceiling, and Wall\",\"weight\":1},{\"OCC_TITLE\":\"Mechanical Engineers\",\"n\":1,\"name\":\"Mechanical Engineers\",\"weight\":1},{\"OCC_TITLE\":\"Stationary Engineers and Boiler Operators\",\"n\":1,\"name\":\"Stationary Engineers and Boiler Operators\",\"weight\":1},{\"OCC_TITLE\":\"Transportation Inspectors\",\"n\":1,\"name\":\"Transportation Inspectors\",\"weight\":1}],\"type\":\"wordcloud\"}],\"xAxis\":{\"type\":null,\"title\":{\"text\":[]},\"categories\":null}},\"theme\":{\"chart\":{\"backgroundColor\":\"transparent\"},\"colors\":[\"#7cb5ec\",\"#434348\",\"#90ed7d\",\"#f7a35c\",\"#8085e9\",\"#f15c80\",\"#e4d354\",\"#2b908f\",\"#f45b5b\",\"#91e8e1\"]},\"conf_opts\":{\"global\":{\"Date\":null,\"VMLRadialGradientURL\":\"http =//code.highcharts.com/list(version)/gfx/vml-radial-gradient.png\",\"canvasToolsURL\":\"http =//code.highcharts.com/list(version)/modules/canvas-tools.js\",\"getTimezoneOffset\":null,\"timezoneOffset\":0,\"useUTC\":true},\"lang\":{\"contextButtonTitle\":\"Chart context menu\",\"decimalPoint\":\".\",\"downloadCSV\":\"Download CSV\",\"downloadJPEG\":\"Download JPEG image\",\"downloadPDF\":\"Download PDF document\",\"downloadPNG\":\"Download PNG image\",\"downloadSVG\":\"Download SVG vector image\",\"downloadXLS\":\"Download XLS\",\"drillUpText\":\"◁ Back to {series.name}\",\"exitFullscreen\":\"Exit from full screen\",\"exportData\":{\"annotationHeader\":\"Annotations\",\"categoryDatetimeHeader\":\"DateTime\",\"categoryHeader\":\"Category\"},\"hideData\":\"Hide data table\",\"invalidDate\":null,\"loading\":\"Loading...\",\"months\":[\"January\",\"February\",\"March\",\"April\",\"May\",\"June\",\"July\",\"August\",\"September\",\"October\",\"November\",\"December\"],\"noData\":\"No data to display\",\"numericSymbolMagnitude\":1000,\"numericSymbols\":[\"k\",\"M\",\"G\",\"T\",\"P\",\"E\"],\"printChart\":\"Print chart\",\"resetZoom\":\"Reset zoom\",\"resetZoomTitle\":\"Reset zoom level 1:1\",\"shortMonths\":[\"Jan\",\"Feb\",\"Mar\",\"Apr\",\"May\",\"Jun\",\"Jul\",\"Aug\",\"Sep\",\"Oct\",\"Nov\",\"Dec\"],\"shortWeekdays\":[\"Sat\",\"Sun\",\"Mon\",\"Tue\",\"Wed\",\"Thu\",\"Fri\"],\"thousandsSep\":\" \",\"viewData\":\"View data table\",\"viewFullscreen\":\"View in full screen\",\"weekdays\":[\"Sunday\",\"Monday\",\"Tuesday\",\"Wednesday\",\"Thursday\",\"Friday\",\"Saturday\"]}},\"type\":\"chart\",\"fonts\":[],\"debug\":false},\"evals\":[],\"jsHooks\":[]}</script>"
      ]
     }
    },
    {
     "output_type": "display_data",
     "metadata": {},
     "data": {
      "text/html": [
       "<div class=\"highchart html-widget html-fill-item\" id=\"htmlwidget-8b7a681c9d980bc88792\" style=\"width:100%;height:464px;\"></div>\n",
       "<script type=\"application/json\" data-for=\"htmlwidget-8b7a681c9d980bc88792\">{\"x\":{\"hc_opts\":{\"chart\":{\"reflow\":true},\"title\":{\"text\":\"Word Cloud of Renewable Energy Generation Job Titles\"},\"yAxis\":{\"title\":{\"text\":[]}},\"credits\":{\"enabled\":false},\"exporting\":{\"enabled\":false},\"boost\":{\"enabled\":false},\"plotOptions\":{\"series\":{\"label\":{\"enabled\":false},\"turboThreshold\":0,\"showInLegend\":false},\"treemap\":{\"layoutAlgorithm\":\"squarified\"},\"scatter\":{\"marker\":{\"symbol\":\"circle\"}}},\"series\":[{\"group\":\"group\",\"data\":[{\"OCC_TITLE\":null,\"n\":2,\"name\":null,\"weight\":2},{\"OCC_TITLE\":\"Civil Engineers\",\"n\":1,\"name\":\"Civil Engineers\",\"weight\":1},{\"OCC_TITLE\":\"Continuous Mining Machine Operators\",\"n\":1,\"name\":\"Continuous Mining Machine Operators\",\"weight\":1},{\"OCC_TITLE\":\"Electrical Engineers\",\"n\":1,\"name\":\"Electrical Engineers\",\"weight\":1},{\"OCC_TITLE\":\"Machinists\",\"n\":1,\"name\":\"Machinists\",\"weight\":1},{\"OCC_TITLE\":\"Mechanical Engineers\",\"n\":1,\"name\":\"Mechanical Engineers\",\"weight\":1},{\"OCC_TITLE\":\"Nuclear Power Reactor Operators\",\"n\":1,\"name\":\"Nuclear Power Reactor Operators\",\"weight\":1},{\"OCC_TITLE\":\"Nuclear Technicians\",\"n\":1,\"name\":\"Nuclear Technicians\",\"weight\":1},{\"OCC_TITLE\":\"Power Distributors and Dispatchers\",\"n\":1,\"name\":\"Power Distributors and Dispatchers\",\"weight\":1},{\"OCC_TITLE\":\"Power Plant Operators\",\"n\":1,\"name\":\"Power Plant Operators\",\"weight\":1},{\"OCC_TITLE\":\"Separating, Filtering, Clarifying, Precipitating, and Still Machine Setters, Operators, and Tenders\",\"n\":1,\"name\":\"Separating, Filtering, Clarifying, Precipitating, and Still Machine Setters, Operators, and Tenders\",\"weight\":1},{\"OCC_TITLE\":\"Service Unit Operators, Oil and Gas\",\"n\":1,\"name\":\"Service Unit Operators, Oil and Gas\",\"weight\":1},{\"OCC_TITLE\":\"Sheet Metal Workers\",\"n\":1,\"name\":\"Sheet Metal Workers\",\"weight\":1},{\"OCC_TITLE\":\"Transportation, Storage, and Distribution Managers\",\"n\":1,\"name\":\"Transportation, Storage, and Distribution Managers\",\"weight\":1}],\"type\":\"wordcloud\"}],\"xAxis\":{\"type\":null,\"title\":{\"text\":[]},\"categories\":null}},\"theme\":{\"chart\":{\"backgroundColor\":\"transparent\"},\"colors\":[\"#7cb5ec\",\"#434348\",\"#90ed7d\",\"#f7a35c\",\"#8085e9\",\"#f15c80\",\"#e4d354\",\"#2b908f\",\"#f45b5b\",\"#91e8e1\"]},\"conf_opts\":{\"global\":{\"Date\":null,\"VMLRadialGradientURL\":\"http =//code.highcharts.com/list(version)/gfx/vml-radial-gradient.png\",\"canvasToolsURL\":\"http =//code.highcharts.com/list(version)/modules/canvas-tools.js\",\"getTimezoneOffset\":null,\"timezoneOffset\":0,\"useUTC\":true},\"lang\":{\"contextButtonTitle\":\"Chart context menu\",\"decimalPoint\":\".\",\"downloadCSV\":\"Download CSV\",\"downloadJPEG\":\"Download JPEG image\",\"downloadPDF\":\"Download PDF document\",\"downloadPNG\":\"Download PNG image\",\"downloadSVG\":\"Download SVG vector image\",\"downloadXLS\":\"Download XLS\",\"drillUpText\":\"◁ Back to {series.name}\",\"exitFullscreen\":\"Exit from full screen\",\"exportData\":{\"annotationHeader\":\"Annotations\",\"categoryDatetimeHeader\":\"DateTime\",\"categoryHeader\":\"Category\"},\"hideData\":\"Hide data table\",\"invalidDate\":null,\"loading\":\"Loading...\",\"months\":[\"January\",\"February\",\"March\",\"April\",\"May\",\"June\",\"July\",\"August\",\"September\",\"October\",\"November\",\"December\"],\"noData\":\"No data to display\",\"numericSymbolMagnitude\":1000,\"numericSymbols\":[\"k\",\"M\",\"G\",\"T\",\"P\",\"E\"],\"printChart\":\"Print chart\",\"resetZoom\":\"Reset zoom\",\"resetZoomTitle\":\"Reset zoom level 1:1\",\"shortMonths\":[\"Jan\",\"Feb\",\"Mar\",\"Apr\",\"May\",\"Jun\",\"Jul\",\"Aug\",\"Sep\",\"Oct\",\"Nov\",\"Dec\"],\"shortWeekdays\":[\"Sat\",\"Sun\",\"Mon\",\"Tue\",\"Wed\",\"Thu\",\"Fri\"],\"thousandsSep\":\" \",\"viewData\":\"View data table\",\"viewFullscreen\":\"View in full screen\",\"weekdays\":[\"Sunday\",\"Monday\",\"Tuesday\",\"Wednesday\",\"Thursday\",\"Friday\",\"Saturday\"]}},\"type\":\"chart\",\"fonts\":[],\"debug\":false},\"evals\":[],\"jsHooks\":[]}</script>"
      ]
     }
    },
    {
     "output_type": "display_data",
     "metadata": {},
     "data": {
      "text/html": [
       "<div class=\"highchart html-widget html-fill-item\" id=\"htmlwidget-ca618741abf77bc9a65e\" style=\"width:100%;height:464px;\"></div>\n",
       "<script type=\"application/json\" data-for=\"htmlwidget-ca618741abf77bc9a65e\">{\"x\":{\"hc_opts\":{\"chart\":{\"reflow\":true},\"title\":{\"text\":\"Word Cloud of Green Construction Job Titles\"},\"yAxis\":{\"title\":{\"text\":[]}},\"credits\":{\"enabled\":false},\"exporting\":{\"enabled\":false},\"boost\":{\"enabled\":false},\"plotOptions\":{\"series\":{\"label\":{\"enabled\":false},\"turboThreshold\":0,\"showInLegend\":false},\"treemap\":{\"layoutAlgorithm\":\"squarified\"},\"scatter\":{\"marker\":{\"symbol\":\"circle\"}}},\"series\":[{\"group\":\"group\",\"data\":[{\"OCC_TITLE\":null,\"n\":2,\"name\":null,\"weight\":2},{\"OCC_TITLE\":\"Architects, Except Landscape and Naval\",\"n\":1,\"name\":\"Architects, Except Landscape and Naval\",\"weight\":1},{\"OCC_TITLE\":\"Architectural and Civil Drafters\",\"n\":1,\"name\":\"Architectural and Civil Drafters\",\"weight\":1},{\"OCC_TITLE\":\"Boilermakers\",\"n\":1,\"name\":\"Boilermakers\",\"weight\":1},{\"OCC_TITLE\":\"Carpenters\",\"n\":1,\"name\":\"Carpenters\",\"weight\":1},{\"OCC_TITLE\":\"Cement Masons and Concrete Finishers\",\"n\":1,\"name\":\"Cement Masons and Concrete Finishers\",\"weight\":1},{\"OCC_TITLE\":\"Civil Engineers\",\"n\":1,\"name\":\"Civil Engineers\",\"weight\":1},{\"OCC_TITLE\":\"Construction Laborers\",\"n\":1,\"name\":\"Construction Laborers\",\"weight\":1},{\"OCC_TITLE\":\"Construction Managers\",\"n\":1,\"name\":\"Construction Managers\",\"weight\":1},{\"OCC_TITLE\":\"Construction and Building Inspectors\",\"n\":1,\"name\":\"Construction and Building Inspectors\",\"weight\":1},{\"OCC_TITLE\":\"Electrical Engineers\",\"n\":1,\"name\":\"Electrical Engineers\",\"weight\":1},{\"OCC_TITLE\":\"Electricians\",\"n\":1,\"name\":\"Electricians\",\"weight\":1},{\"OCC_TITLE\":\"Financial and Investment Analysts\",\"n\":1,\"name\":\"Financial and Investment Analysts\",\"weight\":1},{\"OCC_TITLE\":\"Hazardous Materials Removal Workers\",\"n\":1,\"name\":\"Hazardous Materials Removal Workers\",\"weight\":1},{\"OCC_TITLE\":\"Heating, Air Conditioning, and Refrigeration Mechanics and Installers\",\"n\":1,\"name\":\"Heating, Air Conditioning, and Refrigeration Mechanics and Installers\",\"weight\":1},{\"OCC_TITLE\":\"Helpers--Carpenters\",\"n\":1,\"name\":\"Helpers--Carpenters\",\"weight\":1},{\"OCC_TITLE\":\"Helpers--Installation, Maintenance, and Repair Workers\",\"n\":1,\"name\":\"Helpers--Installation, Maintenance, and Repair Workers\",\"weight\":1},{\"OCC_TITLE\":\"Industrial Truck and Tractor Operators\",\"n\":1,\"name\":\"Industrial Truck and Tractor Operators\",\"weight\":1},{\"OCC_TITLE\":\"Insulation Workers, Floor, Ceiling, and Wall\",\"n\":1,\"name\":\"Insulation Workers, Floor, Ceiling, and Wall\",\"weight\":1},{\"OCC_TITLE\":\"Laborers and Freight, Stock, and Material Movers, Hand\",\"n\":1,\"name\":\"Laborers and Freight, Stock, and Material Movers, Hand\",\"weight\":1},{\"OCC_TITLE\":\"Landscape Architects\",\"n\":1,\"name\":\"Landscape Architects\",\"weight\":1},{\"OCC_TITLE\":\"Mechanical Engineers\",\"n\":1,\"name\":\"Mechanical Engineers\",\"weight\":1},{\"OCC_TITLE\":\"Operating Engineers and Other Construction Equipment Operators\",\"n\":1,\"name\":\"Operating Engineers and Other Construction Equipment Operators\",\"weight\":1},{\"OCC_TITLE\":\"Plumbers, Pipefitters, and Steamfitters\",\"n\":1,\"name\":\"Plumbers, Pipefitters, and Steamfitters\",\"weight\":1},{\"OCC_TITLE\":\"Power Plant Operators\",\"n\":1,\"name\":\"Power Plant Operators\",\"weight\":1},{\"OCC_TITLE\":\"Roofers\",\"n\":1,\"name\":\"Roofers\",\"weight\":1},{\"OCC_TITLE\":\"Sheet Metal Workers\",\"n\":1,\"name\":\"Sheet Metal Workers\",\"weight\":1},{\"OCC_TITLE\":\"Structural Iron and Steel Workers\",\"n\":1,\"name\":\"Structural Iron and Steel Workers\",\"weight\":1},{\"OCC_TITLE\":\"Structural Metal Fabricators and Fitters\",\"n\":1,\"name\":\"Structural Metal Fabricators and Fitters\",\"weight\":1},{\"OCC_TITLE\":\"Urban and Regional Planners\",\"n\":1,\"name\":\"Urban and Regional Planners\",\"weight\":1},{\"OCC_TITLE\":\"Welders, Cutters, Solderers, and Brazers\",\"n\":1,\"name\":\"Welders, Cutters, Solderers, and Brazers\",\"weight\":1}],\"type\":\"wordcloud\"}],\"xAxis\":{\"type\":null,\"title\":{\"text\":[]},\"categories\":null}},\"theme\":{\"chart\":{\"backgroundColor\":\"transparent\"},\"colors\":[\"#7cb5ec\",\"#434348\",\"#90ed7d\",\"#f7a35c\",\"#8085e9\",\"#f15c80\",\"#e4d354\",\"#2b908f\",\"#f45b5b\",\"#91e8e1\"]},\"conf_opts\":{\"global\":{\"Date\":null,\"VMLRadialGradientURL\":\"http =//code.highcharts.com/list(version)/gfx/vml-radial-gradient.png\",\"canvasToolsURL\":\"http =//code.highcharts.com/list(version)/modules/canvas-tools.js\",\"getTimezoneOffset\":null,\"timezoneOffset\":0,\"useUTC\":true},\"lang\":{\"contextButtonTitle\":\"Chart context menu\",\"decimalPoint\":\".\",\"downloadCSV\":\"Download CSV\",\"downloadJPEG\":\"Download JPEG image\",\"downloadPDF\":\"Download PDF document\",\"downloadPNG\":\"Download PNG image\",\"downloadSVG\":\"Download SVG vector image\",\"downloadXLS\":\"Download XLS\",\"drillUpText\":\"◁ Back to {series.name}\",\"exitFullscreen\":\"Exit from full screen\",\"exportData\":{\"annotationHeader\":\"Annotations\",\"categoryDatetimeHeader\":\"DateTime\",\"categoryHeader\":\"Category\"},\"hideData\":\"Hide data table\",\"invalidDate\":null,\"loading\":\"Loading...\",\"months\":[\"January\",\"February\",\"March\",\"April\",\"May\",\"June\",\"July\",\"August\",\"September\",\"October\",\"November\",\"December\"],\"noData\":\"No data to display\",\"numericSymbolMagnitude\":1000,\"numericSymbols\":[\"k\",\"M\",\"G\",\"T\",\"P\",\"E\"],\"printChart\":\"Print chart\",\"resetZoom\":\"Reset zoom\",\"resetZoomTitle\":\"Reset zoom level 1:1\",\"shortMonths\":[\"Jan\",\"Feb\",\"Mar\",\"Apr\",\"May\",\"Jun\",\"Jul\",\"Aug\",\"Sep\",\"Oct\",\"Nov\",\"Dec\"],\"shortWeekdays\":[\"Sat\",\"Sun\",\"Mon\",\"Tue\",\"Wed\",\"Thu\",\"Fri\"],\"thousandsSep\":\" \",\"viewData\":\"View data table\",\"viewFullscreen\":\"View in full screen\",\"weekdays\":[\"Sunday\",\"Monday\",\"Tuesday\",\"Wednesday\",\"Thursday\",\"Friday\",\"Saturday\"]}},\"type\":\"chart\",\"fonts\":[],\"debug\":false},\"evals\":[],\"jsHooks\":[]}</script>"
      ]
     }
    }
   ],
   "source": [
    "# Filter the dataset for each sector\n",
    "energy_efficiency_jobs <- national_jobs %>%\n",
    "  filter(`O*NET-SOC Sector` == \"Energy Efficiency\")\n",
    "\n",
    "renewable_energy_jobs <- national_jobs %>%\n",
    "  filter(`O*NET-SOC Sector` == \"Renewable Energy Generation\")\n",
    "\n",
    "green_construction_jobs <- national_jobs %>%\n",
    "  filter(`O*NET-SOC Sector` == \"Green Construction\")\n",
    "\n",
    "# Create a function to generate word clouds\n",
    "generate_wordcloud <- function(data, sector_name) {\n",
    "  job_titles <- data %>%\n",
    "    count(OCC_TITLE, sort = TRUE)\n",
    "  \n",
    "  hchart(\n",
    "    job_titles, \n",
    "    \"wordcloud\", \n",
    "    hcaes(name = OCC_TITLE, weight = n)\n",
    "  ) %>%\n",
    "    hc_title(text = paste(\"Word Cloud of\", sector_name, \"Job Titles\"))\n",
    "}\n",
    "\n",
    "# Generate word cloud for Energy Efficiency\n",
    "energy_efficiency_wordcloud <- generate_wordcloud(energy_efficiency_jobs, \"Energy Efficiency\")\n",
    "\n",
    "# Generate word cloud for Renewable Energy Generation\n",
    "renewable_energy_wordcloud <- generate_wordcloud(renewable_energy_jobs, \"Renewable Energy Generation\")\n",
    "\n",
    "# Generate word cloud for Green Construction\n",
    "green_construction_wordcloud <- generate_wordcloud(green_construction_jobs, \"Green Construction\")\n",
    "\n",
    "# Display the word clouds\n",
    "energy_efficiency_wordcloud"
   ],
   "id": "04d3300d-316e-4430-a91e-97127511b31d"
  },
  {
   "cell_type": "markdown",
   "metadata": {},
   "source": [
    "Let’s export for graphing"
   ],
   "id": "01987611-9742-4dd1-a8de-1fc28e3741a1"
  },
  {
   "cell_type": "code",
   "execution_count": null,
   "metadata": {},
   "outputs": [],
   "source": [
    "## Export the national jobs data to CSV for graphing\n",
    "write.csv(national_jobs, here(\"processed_data\", \"national_jobs.csv\"), row.names = FALSE)\n",
    "\n",
    "# Export the job_type_summary dataset to CSV for graphing\n",
    "write.csv(job_type_summary, here(\"processed_data\", \"national_job_type_summary.csv\"), row.names = FALSE)"
   ],
   "id": "5e7a9646-8a58-423f-8934-07715a566e3c"
  },
  {
   "cell_type": "markdown",
   "metadata": {},
   "source": [
    "#### Green jobs in St. Paul"
   ],
   "id": "4a16c42a-39c6-4dcc-8d9d-138413f93cca"
  },
  {
   "cell_type": "code",
   "execution_count": null,
   "metadata": {},
   "outputs": [
    {
     "output_type": "stream",
     "name": "stderr",
     "text": [
      "Rows: 742 Columns: 34\n",
      "── Column specification ────────────────────────────────────────────────────────\n",
      "Delimiter: \",\"\n",
      "chr (26): AREA_TITLE, PRIM_STATE, NAICS_TITLE, I_GROUP, OCC_CODE, OCC_TITLE,...\n",
      "dbl  (4): AREA, AREA_TYPE, NAICS, OWN_CODE\n",
      "lgl  (4): PCT_TOTAL, PCT_RPT, ANNUAL, HOURLY\n",
      "\n",
      "ℹ Use `spec()` to retrieve the full column specification for this data.\n",
      "ℹ Specify the column types or set `show_col_types = FALSE` to quiet this message."
     ]
    }
   ],
   "source": [
    "# Import St. Paul jobs data\n",
    "st_paul_jobs <- read_csv(here(\"processed_data\", \"OWES_and_ONET-St_Paul.csv\"))"
   ],
   "id": "7a58e0a7-19bc-412f-a6d1-506a61a35dd0"
  },
  {
   "cell_type": "code",
   "execution_count": null,
   "metadata": {},
   "outputs": [
    {
     "output_type": "stream",
     "name": "stderr",
     "text": [
      "Warning: There were 5 warnings in `mutate()`.\n",
      "The first warning was:\n",
      "ℹ In argument: `TOT_EMP = as.numeric(TOT_EMP)`.\n",
      "Caused by warning:\n",
      "! NAs introduced by coercion\n",
      "ℹ Run `dplyr::last_dplyr_warnings()` to see the 4 remaining warnings."
     ]
    },
    {
     "output_type": "stream",
     "name": "stdout",
     "text": [
      "# A tibble: 4 × 6\n",
      "  `O*NET-SOC Sector`          TOT_EMP H_MEAN A_MEAN A_MEDIAN H_MEDIAN\n",
      "  <chr>                         <dbl>  <dbl>  <dbl>    <dbl>    <dbl>\n",
      "1 Energy Efficiency             66410   45.5 94669.    98740     47.5\n",
      "2 Green Construction           124680   37.9 78809.    75800     36.4\n",
      "3 Renewable Energy Generation   23250   44.7 92991.    99690     47.9\n",
      "4 All                          214340   40.7 84562.    82170     39.5"
     ]
    },
    {
     "output_type": "stream",
     "name": "stdout",
     "text": [
      "There's a total of 214,340 employed people in green jobs in Saint Paul. Specifically, in Energy Efficiency, there are 66,410 ( 30.98 %), in Green Construction there are 124,680 ( 58.17 %), and in Renewable Energy Generation there are 23,250 ( 10.85 %)."
     ]
    },
    {
     "output_type": "display_data",
     "metadata": {},
     "data": {
      "text/html": [
       "<div class=\"highchart html-widget html-fill-item\" id=\"htmlwidget-70f1a3eb33399ff2a0fd\" style=\"width:100%;height:464px;\"></div>\n",
       "<script type=\"application/json\" data-for=\"htmlwidget-70f1a3eb33399ff2a0fd\">{\"x\":{\"hc_opts\":{\"chart\":{\"reflow\":true},\"title\":{\"text\":\"Total Employment by Sector in Saint Paul\"},\"yAxis\":{\"title\":{\"text\":\"Total Employment\"},\"type\":\"linear\",\"labels\":{\"format\":\"{value:,0f}\"}},\"credits\":{\"enabled\":false},\"exporting\":{\"enabled\":false},\"boost\":{\"enabled\":false},\"plotOptions\":{\"series\":{\"label\":{\"enabled\":false},\"turboThreshold\":0,\"showInLegend\":false},\"treemap\":{\"layoutAlgorithm\":\"squarified\"},\"scatter\":{\"marker\":{\"symbol\":\"circle\"}}},\"series\":[{\"group\":\"group\",\"data\":[{\"O*NET-SOC Sector\":\"Energy Efficiency\",\"TOT_EMP\":66410,\"H_MEAN\":45.51333333333334,\"A_MEAN\":94668.88888888889,\"A_MEDIAN\":98740,\"H_MEDIAN\":47.47,\"y\":66410,\"name\":\"Energy Efficiency\"},{\"O*NET-SOC Sector\":\"Green Construction\",\"TOT_EMP\":124680,\"H_MEAN\":37.88896551724138,\"A_MEAN\":78808.96551724138,\"A_MEDIAN\":75800,\"H_MEDIAN\":36.44,\"y\":124680,\"name\":\"Green Construction\"},{\"O*NET-SOC Sector\":\"Renewable Energy Generation\",\"TOT_EMP\":23250,\"H_MEAN\":44.70666666666666,\"A_MEAN\":92991.11111111111,\"A_MEDIAN\":99690,\"H_MEDIAN\":47.93,\"y\":23250,\"name\":\"Renewable Energy Generation\"},{\"O*NET-SOC Sector\":\"All\",\"TOT_EMP\":214340,\"H_MEAN\":40.65446808510638,\"A_MEAN\":84561.70212765958,\"A_MEDIAN\":82170,\"H_MEDIAN\":39.51,\"y\":214340,\"name\":\"All\"}],\"type\":\"column\"}],\"xAxis\":{\"type\":\"category\",\"title\":{\"text\":\"Sector\"}},\"tooltip\":{\"pointFormat\":\"<b>{point.y:,0f}<\\/b>\"}},\"theme\":{\"chart\":{\"backgroundColor\":\"transparent\"},\"colors\":[\"#7cb5ec\",\"#434348\",\"#90ed7d\",\"#f7a35c\",\"#8085e9\",\"#f15c80\",\"#e4d354\",\"#2b908f\",\"#f45b5b\",\"#91e8e1\"]},\"conf_opts\":{\"global\":{\"Date\":null,\"VMLRadialGradientURL\":\"http =//code.highcharts.com/list(version)/gfx/vml-radial-gradient.png\",\"canvasToolsURL\":\"http =//code.highcharts.com/list(version)/modules/canvas-tools.js\",\"getTimezoneOffset\":null,\"timezoneOffset\":0,\"useUTC\":true},\"lang\":{\"contextButtonTitle\":\"Chart context menu\",\"decimalPoint\":\".\",\"downloadCSV\":\"Download CSV\",\"downloadJPEG\":\"Download JPEG image\",\"downloadPDF\":\"Download PDF document\",\"downloadPNG\":\"Download PNG image\",\"downloadSVG\":\"Download SVG vector image\",\"downloadXLS\":\"Download XLS\",\"drillUpText\":\"◁ Back to {series.name}\",\"exitFullscreen\":\"Exit from full screen\",\"exportData\":{\"annotationHeader\":\"Annotations\",\"categoryDatetimeHeader\":\"DateTime\",\"categoryHeader\":\"Category\"},\"hideData\":\"Hide data table\",\"invalidDate\":null,\"loading\":\"Loading...\",\"months\":[\"January\",\"February\",\"March\",\"April\",\"May\",\"June\",\"July\",\"August\",\"September\",\"October\",\"November\",\"December\"],\"noData\":\"No data to display\",\"numericSymbolMagnitude\":1000,\"numericSymbols\":[\"k\",\"M\",\"G\",\"T\",\"P\",\"E\"],\"printChart\":\"Print chart\",\"resetZoom\":\"Reset zoom\",\"resetZoomTitle\":\"Reset zoom level 1:1\",\"shortMonths\":[\"Jan\",\"Feb\",\"Mar\",\"Apr\",\"May\",\"Jun\",\"Jul\",\"Aug\",\"Sep\",\"Oct\",\"Nov\",\"Dec\"],\"shortWeekdays\":[\"Sat\",\"Sun\",\"Mon\",\"Tue\",\"Wed\",\"Thu\",\"Fri\"],\"thousandsSep\":\" \",\"viewData\":\"View data table\",\"viewFullscreen\":\"View in full screen\",\"weekdays\":[\"Sunday\",\"Monday\",\"Tuesday\",\"Wednesday\",\"Thursday\",\"Friday\",\"Saturday\"]}},\"type\":\"chart\",\"fonts\":[],\"debug\":false},\"evals\":[],\"jsHooks\":[]}</script>"
      ]
     }
    }
   ],
   "source": [
    "# Convert necessary columns to numeric where needed\n",
    "st_paul_jobs <- st_paul_jobs %>%\n",
    "  mutate(\n",
    "    TOT_EMP = as.numeric(TOT_EMP),\n",
    "    H_MEAN = as.numeric(H_MEAN),\n",
    "    A_MEAN = as.numeric(A_MEAN),\n",
    "    A_MEDIAN = as.numeric(A_MEDIAN),\n",
    "    H_MEDIAN = as.numeric(H_MEDIAN)\n",
    "  )"
   ],
   "id": "7f23caf3-29d0-45f0-9d3b-37a1cd3e66cf"
  },
  {
   "cell_type": "code",
   "execution_count": null,
   "metadata": {},
   "outputs": [
    {
     "output_type": "display_data",
     "metadata": {},
     "data": {
      "text/html": [
       "<div class=\"highchart html-widget html-fill-item\" id=\"htmlwidget-687d42d7fef4b70ffe33\" style=\"width:100%;height:464px;\"></div>\n",
       "<script type=\"application/json\" data-for=\"htmlwidget-687d42d7fef4b70ffe33\">{\"x\":{\"hc_opts\":{\"chart\":{\"reflow\":true},\"title\":{\"text\":\"Total Employment by Sector in Saint Paul\"},\"yAxis\":{\"title\":{\"text\":\"Total Employment\"},\"type\":\"linear\",\"labels\":{\"format\":\"{value:,0f}\"}},\"credits\":{\"enabled\":false},\"exporting\":{\"enabled\":false},\"boost\":{\"enabled\":false},\"plotOptions\":{\"series\":{\"label\":{\"enabled\":false},\"turboThreshold\":0,\"showInLegend\":false},\"treemap\":{\"layoutAlgorithm\":\"squarified\"},\"scatter\":{\"marker\":{\"symbol\":\"circle\"}}},\"series\":[{\"group\":\"group\",\"data\":[{\"O*NET-SOC Sector\":\"Energy Efficiency\",\"TOT_EMP\":66410,\"H_MEAN\":45.51333333333334,\"A_MEAN\":94668.88888888889,\"A_MEDIAN\":98740,\"H_MEDIAN\":47.47,\"y\":66410,\"name\":\"Energy Efficiency\"},{\"O*NET-SOC Sector\":\"Green Construction\",\"TOT_EMP\":124680,\"H_MEAN\":37.88896551724138,\"A_MEAN\":78808.96551724138,\"A_MEDIAN\":75800,\"H_MEDIAN\":36.44,\"y\":124680,\"name\":\"Green Construction\"},{\"O*NET-SOC Sector\":\"Renewable Energy Generation\",\"TOT_EMP\":23250,\"H_MEAN\":44.70666666666666,\"A_MEAN\":92991.11111111111,\"A_MEDIAN\":99690,\"H_MEDIAN\":47.93,\"y\":23250,\"name\":\"Renewable Energy Generation\"},{\"O*NET-SOC Sector\":\"All\",\"TOT_EMP\":214340,\"H_MEAN\":40.65446808510638,\"A_MEAN\":84561.70212765958,\"A_MEDIAN\":82170,\"H_MEDIAN\":39.51,\"y\":214340,\"name\":\"All\"}],\"type\":\"column\"}],\"xAxis\":{\"type\":\"category\",\"title\":{\"text\":\"Sector\"}},\"tooltip\":{\"pointFormat\":\"<b>{point.y:,0f}<\\/b>\"}},\"theme\":{\"chart\":{\"backgroundColor\":\"transparent\"},\"colors\":[\"#7cb5ec\",\"#434348\",\"#90ed7d\",\"#f7a35c\",\"#8085e9\",\"#f15c80\",\"#e4d354\",\"#2b908f\",\"#f45b5b\",\"#91e8e1\"]},\"conf_opts\":{\"global\":{\"Date\":null,\"VMLRadialGradientURL\":\"http =//code.highcharts.com/list(version)/gfx/vml-radial-gradient.png\",\"canvasToolsURL\":\"http =//code.highcharts.com/list(version)/modules/canvas-tools.js\",\"getTimezoneOffset\":null,\"timezoneOffset\":0,\"useUTC\":true},\"lang\":{\"contextButtonTitle\":\"Chart context menu\",\"decimalPoint\":\".\",\"downloadCSV\":\"Download CSV\",\"downloadJPEG\":\"Download JPEG image\",\"downloadPDF\":\"Download PDF document\",\"downloadPNG\":\"Download PNG image\",\"downloadSVG\":\"Download SVG vector image\",\"downloadXLS\":\"Download XLS\",\"drillUpText\":\"◁ Back to {series.name}\",\"exitFullscreen\":\"Exit from full screen\",\"exportData\":{\"annotationHeader\":\"Annotations\",\"categoryDatetimeHeader\":\"DateTime\",\"categoryHeader\":\"Category\"},\"hideData\":\"Hide data table\",\"invalidDate\":null,\"loading\":\"Loading...\",\"months\":[\"January\",\"February\",\"March\",\"April\",\"May\",\"June\",\"July\",\"August\",\"September\",\"October\",\"November\",\"December\"],\"noData\":\"No data to display\",\"numericSymbolMagnitude\":1000,\"numericSymbols\":[\"k\",\"M\",\"G\",\"T\",\"P\",\"E\"],\"printChart\":\"Print chart\",\"resetZoom\":\"Reset zoom\",\"resetZoomTitle\":\"Reset zoom level 1:1\",\"shortMonths\":[\"Jan\",\"Feb\",\"Mar\",\"Apr\",\"May\",\"Jun\",\"Jul\",\"Aug\",\"Sep\",\"Oct\",\"Nov\",\"Dec\"],\"shortWeekdays\":[\"Sat\",\"Sun\",\"Mon\",\"Tue\",\"Wed\",\"Thu\",\"Fri\"],\"thousandsSep\":\" \",\"viewData\":\"View data table\",\"viewFullscreen\":\"View in full screen\",\"weekdays\":[\"Sunday\",\"Monday\",\"Tuesday\",\"Wednesday\",\"Thursday\",\"Friday\",\"Saturday\"]}},\"type\":\"chart\",\"fonts\":[],\"debug\":false},\"evals\":[],\"jsHooks\":[]}</script>"
      ]
     }
    },
    {
     "output_type": "display_data",
     "metadata": {},
     "data": {
      "text/html": [
       "<div class=\"highchart html-widget html-fill-item\" id=\"htmlwidget-f2e8177d5be65944ccbd\" style=\"width:100%;height:464px;\"></div>\n",
       "<script type=\"application/json\" data-for=\"htmlwidget-f2e8177d5be65944ccbd\">{\"x\":{\"hc_opts\":{\"chart\":{\"reflow\":true},\"title\":{\"text\":\"Mean Hourly Wage by Sector in Saint Paul\"},\"yAxis\":{\"title\":{\"text\":\"Mean Hourly Wage (USD)\"},\"type\":\"linear\"},\"credits\":{\"enabled\":false},\"exporting\":{\"enabled\":false},\"boost\":{\"enabled\":false},\"plotOptions\":{\"series\":{\"label\":{\"enabled\":false},\"turboThreshold\":0,\"showInLegend\":false},\"treemap\":{\"layoutAlgorithm\":\"squarified\"},\"scatter\":{\"marker\":{\"symbol\":\"circle\"}}},\"series\":[{\"group\":\"group\",\"data\":[{\"O*NET-SOC Sector\":\"Energy Efficiency\",\"TOT_EMP\":66410,\"H_MEAN\":45.51333333333334,\"A_MEAN\":94668.88888888889,\"A_MEDIAN\":98740,\"H_MEDIAN\":47.47,\"y\":45.51333333333334,\"name\":\"Energy Efficiency\"},{\"O*NET-SOC Sector\":\"Green Construction\",\"TOT_EMP\":124680,\"H_MEAN\":37.88896551724138,\"A_MEAN\":78808.96551724138,\"A_MEDIAN\":75800,\"H_MEDIAN\":36.44,\"y\":37.88896551724138,\"name\":\"Green Construction\"},{\"O*NET-SOC Sector\":\"Renewable Energy Generation\",\"TOT_EMP\":23250,\"H_MEAN\":44.70666666666666,\"A_MEAN\":92991.11111111111,\"A_MEDIAN\":99690,\"H_MEDIAN\":47.93,\"y\":44.70666666666666,\"name\":\"Renewable Energy Generation\"},{\"O*NET-SOC Sector\":\"All\",\"TOT_EMP\":214340,\"H_MEAN\":40.65446808510638,\"A_MEAN\":84561.70212765958,\"A_MEDIAN\":82170,\"H_MEDIAN\":39.51,\"y\":40.65446808510638,\"name\":\"All\"}],\"type\":\"column\"}],\"xAxis\":{\"type\":\"category\",\"title\":{\"text\":\"Sector\"}},\"tooltip\":{\"pointFormat\":\"<b>{point.y:.2f} USD<\\/b>\"}},\"theme\":{\"chart\":{\"backgroundColor\":\"transparent\"},\"colors\":[\"#7cb5ec\",\"#434348\",\"#90ed7d\",\"#f7a35c\",\"#8085e9\",\"#f15c80\",\"#e4d354\",\"#2b908f\",\"#f45b5b\",\"#91e8e1\"]},\"conf_opts\":{\"global\":{\"Date\":null,\"VMLRadialGradientURL\":\"http =//code.highcharts.com/list(version)/gfx/vml-radial-gradient.png\",\"canvasToolsURL\":\"http =//code.highcharts.com/list(version)/modules/canvas-tools.js\",\"getTimezoneOffset\":null,\"timezoneOffset\":0,\"useUTC\":true},\"lang\":{\"contextButtonTitle\":\"Chart context menu\",\"decimalPoint\":\".\",\"downloadCSV\":\"Download CSV\",\"downloadJPEG\":\"Download JPEG image\",\"downloadPDF\":\"Download PDF document\",\"downloadPNG\":\"Download PNG image\",\"downloadSVG\":\"Download SVG vector image\",\"downloadXLS\":\"Download XLS\",\"drillUpText\":\"◁ Back to {series.name}\",\"exitFullscreen\":\"Exit from full screen\",\"exportData\":{\"annotationHeader\":\"Annotations\",\"categoryDatetimeHeader\":\"DateTime\",\"categoryHeader\":\"Category\"},\"hideData\":\"Hide data table\",\"invalidDate\":null,\"loading\":\"Loading...\",\"months\":[\"January\",\"February\",\"March\",\"April\",\"May\",\"June\",\"July\",\"August\",\"September\",\"October\",\"November\",\"December\"],\"noData\":\"No data to display\",\"numericSymbolMagnitude\":1000,\"numericSymbols\":[\"k\",\"M\",\"G\",\"T\",\"P\",\"E\"],\"printChart\":\"Print chart\",\"resetZoom\":\"Reset zoom\",\"resetZoomTitle\":\"Reset zoom level 1:1\",\"shortMonths\":[\"Jan\",\"Feb\",\"Mar\",\"Apr\",\"May\",\"Jun\",\"Jul\",\"Aug\",\"Sep\",\"Oct\",\"Nov\",\"Dec\"],\"shortWeekdays\":[\"Sat\",\"Sun\",\"Mon\",\"Tue\",\"Wed\",\"Thu\",\"Fri\"],\"thousandsSep\":\" \",\"viewData\":\"View data table\",\"viewFullscreen\":\"View in full screen\",\"weekdays\":[\"Sunday\",\"Monday\",\"Tuesday\",\"Wednesday\",\"Thursday\",\"Friday\",\"Saturday\"]}},\"type\":\"chart\",\"fonts\":[],\"debug\":false},\"evals\":[],\"jsHooks\":[]}</script>"
      ]
     }
    },
    {
     "output_type": "display_data",
     "metadata": {},
     "data": {
      "text/html": [
       "<div class=\"highchart html-widget html-fill-item\" id=\"htmlwidget-6edbef59dd6c174d8d0b\" style=\"width:100%;height:464px;\"></div>\n",
       "<script type=\"application/json\" data-for=\"htmlwidget-6edbef59dd6c174d8d0b\">{\"x\":{\"hc_opts\":{\"chart\":{\"reflow\":true},\"title\":{\"text\":\"Mean Annual Wage by Sector in Saint Paul\"},\"yAxis\":{\"title\":{\"text\":\"Mean Annual Wage (USD)\"},\"type\":\"linear\",\"labels\":{\"format\":\"{value:,0f}\"}},\"credits\":{\"enabled\":false},\"exporting\":{\"enabled\":false},\"boost\":{\"enabled\":false},\"plotOptions\":{\"series\":{\"label\":{\"enabled\":false},\"turboThreshold\":0,\"showInLegend\":false},\"treemap\":{\"layoutAlgorithm\":\"squarified\"},\"scatter\":{\"marker\":{\"symbol\":\"circle\"}}},\"series\":[{\"group\":\"group\",\"data\":[{\"O*NET-SOC Sector\":\"Energy Efficiency\",\"TOT_EMP\":66410,\"H_MEAN\":45.51333333333334,\"A_MEAN\":94668.88888888889,\"A_MEDIAN\":98740,\"H_MEDIAN\":47.47,\"y\":94668.88888888889,\"name\":\"Energy Efficiency\"},{\"O*NET-SOC Sector\":\"Green Construction\",\"TOT_EMP\":124680,\"H_MEAN\":37.88896551724138,\"A_MEAN\":78808.96551724138,\"A_MEDIAN\":75800,\"H_MEDIAN\":36.44,\"y\":78808.96551724138,\"name\":\"Green Construction\"},{\"O*NET-SOC Sector\":\"Renewable Energy Generation\",\"TOT_EMP\":23250,\"H_MEAN\":44.70666666666666,\"A_MEAN\":92991.11111111111,\"A_MEDIAN\":99690,\"H_MEDIAN\":47.93,\"y\":92991.11111111111,\"name\":\"Renewable Energy Generation\"},{\"O*NET-SOC Sector\":\"All\",\"TOT_EMP\":214340,\"H_MEAN\":40.65446808510638,\"A_MEAN\":84561.70212765958,\"A_MEDIAN\":82170,\"H_MEDIAN\":39.51,\"y\":84561.70212765958,\"name\":\"All\"}],\"type\":\"column\"}],\"xAxis\":{\"type\":\"category\",\"title\":{\"text\":\"Sector\"}},\"tooltip\":{\"pointFormat\":\"<b>{point.y:,0f} USD<\\/b>\"}},\"theme\":{\"chart\":{\"backgroundColor\":\"transparent\"},\"colors\":[\"#7cb5ec\",\"#434348\",\"#90ed7d\",\"#f7a35c\",\"#8085e9\",\"#f15c80\",\"#e4d354\",\"#2b908f\",\"#f45b5b\",\"#91e8e1\"]},\"conf_opts\":{\"global\":{\"Date\":null,\"VMLRadialGradientURL\":\"http =//code.highcharts.com/list(version)/gfx/vml-radial-gradient.png\",\"canvasToolsURL\":\"http =//code.highcharts.com/list(version)/modules/canvas-tools.js\",\"getTimezoneOffset\":null,\"timezoneOffset\":0,\"useUTC\":true},\"lang\":{\"contextButtonTitle\":\"Chart context menu\",\"decimalPoint\":\".\",\"downloadCSV\":\"Download CSV\",\"downloadJPEG\":\"Download JPEG image\",\"downloadPDF\":\"Download PDF document\",\"downloadPNG\":\"Download PNG image\",\"downloadSVG\":\"Download SVG vector image\",\"downloadXLS\":\"Download XLS\",\"drillUpText\":\"◁ Back to {series.name}\",\"exitFullscreen\":\"Exit from full screen\",\"exportData\":{\"annotationHeader\":\"Annotations\",\"categoryDatetimeHeader\":\"DateTime\",\"categoryHeader\":\"Category\"},\"hideData\":\"Hide data table\",\"invalidDate\":null,\"loading\":\"Loading...\",\"months\":[\"January\",\"February\",\"March\",\"April\",\"May\",\"June\",\"July\",\"August\",\"September\",\"October\",\"November\",\"December\"],\"noData\":\"No data to display\",\"numericSymbolMagnitude\":1000,\"numericSymbols\":[\"k\",\"M\",\"G\",\"T\",\"P\",\"E\"],\"printChart\":\"Print chart\",\"resetZoom\":\"Reset zoom\",\"resetZoomTitle\":\"Reset zoom level 1:1\",\"shortMonths\":[\"Jan\",\"Feb\",\"Mar\",\"Apr\",\"May\",\"Jun\",\"Jul\",\"Aug\",\"Sep\",\"Oct\",\"Nov\",\"Dec\"],\"shortWeekdays\":[\"Sat\",\"Sun\",\"Mon\",\"Tue\",\"Wed\",\"Thu\",\"Fri\"],\"thousandsSep\":\" \",\"viewData\":\"View data table\",\"viewFullscreen\":\"View in full screen\",\"weekdays\":[\"Sunday\",\"Monday\",\"Tuesday\",\"Wednesday\",\"Thursday\",\"Friday\",\"Saturday\"]}},\"type\":\"chart\",\"fonts\":[],\"debug\":false},\"evals\":[],\"jsHooks\":[]}</script>"
      ]
     }
    },
    {
     "output_type": "display_data",
     "metadata": {},
     "data": {
      "text/html": [
       "<div class=\"highchart html-widget html-fill-item\" id=\"htmlwidget-9eee259702ee04015735\" style=\"width:100%;height:464px;\"></div>\n",
       "<script type=\"application/json\" data-for=\"htmlwidget-9eee259702ee04015735\">{\"x\":{\"hc_opts\":{\"chart\":{\"reflow\":true},\"title\":{\"text\":\"Median Annual Wage by Sector in Saint Paul\"},\"yAxis\":{\"title\":{\"text\":\"Median Annual Wage (USD)\"},\"type\":\"linear\",\"labels\":{\"format\":\"{value:,0f}\"}},\"credits\":{\"enabled\":false},\"exporting\":{\"enabled\":false},\"boost\":{\"enabled\":false},\"plotOptions\":{\"series\":{\"label\":{\"enabled\":false},\"turboThreshold\":0,\"showInLegend\":false},\"treemap\":{\"layoutAlgorithm\":\"squarified\"},\"scatter\":{\"marker\":{\"symbol\":\"circle\"}}},\"series\":[{\"group\":\"group\",\"data\":[{\"O*NET-SOC Sector\":\"Energy Efficiency\",\"TOT_EMP\":66410,\"H_MEAN\":45.51333333333334,\"A_MEAN\":94668.88888888889,\"A_MEDIAN\":98740,\"H_MEDIAN\":47.47,\"y\":98740,\"name\":\"Energy Efficiency\"},{\"O*NET-SOC Sector\":\"Green Construction\",\"TOT_EMP\":124680,\"H_MEAN\":37.88896551724138,\"A_MEAN\":78808.96551724138,\"A_MEDIAN\":75800,\"H_MEDIAN\":36.44,\"y\":75800,\"name\":\"Green Construction\"},{\"O*NET-SOC Sector\":\"Renewable Energy Generation\",\"TOT_EMP\":23250,\"H_MEAN\":44.70666666666666,\"A_MEAN\":92991.11111111111,\"A_MEDIAN\":99690,\"H_MEDIAN\":47.93,\"y\":99690,\"name\":\"Renewable Energy Generation\"},{\"O*NET-SOC Sector\":\"All\",\"TOT_EMP\":214340,\"H_MEAN\":40.65446808510638,\"A_MEAN\":84561.70212765958,\"A_MEDIAN\":82170,\"H_MEDIAN\":39.51,\"y\":82170,\"name\":\"All\"}],\"type\":\"column\"}],\"xAxis\":{\"type\":\"category\",\"title\":{\"text\":\"Sector\"}},\"tooltip\":{\"pointFormat\":\"<b>{point.y:,0f} USD<\\/b>\"}},\"theme\":{\"chart\":{\"backgroundColor\":\"transparent\"},\"colors\":[\"#7cb5ec\",\"#434348\",\"#90ed7d\",\"#f7a35c\",\"#8085e9\",\"#f15c80\",\"#e4d354\",\"#2b908f\",\"#f45b5b\",\"#91e8e1\"]},\"conf_opts\":{\"global\":{\"Date\":null,\"VMLRadialGradientURL\":\"http =//code.highcharts.com/list(version)/gfx/vml-radial-gradient.png\",\"canvasToolsURL\":\"http =//code.highcharts.com/list(version)/modules/canvas-tools.js\",\"getTimezoneOffset\":null,\"timezoneOffset\":0,\"useUTC\":true},\"lang\":{\"contextButtonTitle\":\"Chart context menu\",\"decimalPoint\":\".\",\"downloadCSV\":\"Download CSV\",\"downloadJPEG\":\"Download JPEG image\",\"downloadPDF\":\"Download PDF document\",\"downloadPNG\":\"Download PNG image\",\"downloadSVG\":\"Download SVG vector image\",\"downloadXLS\":\"Download XLS\",\"drillUpText\":\"◁ Back to {series.name}\",\"exitFullscreen\":\"Exit from full screen\",\"exportData\":{\"annotationHeader\":\"Annotations\",\"categoryDatetimeHeader\":\"DateTime\",\"categoryHeader\":\"Category\"},\"hideData\":\"Hide data table\",\"invalidDate\":null,\"loading\":\"Loading...\",\"months\":[\"January\",\"February\",\"March\",\"April\",\"May\",\"June\",\"July\",\"August\",\"September\",\"October\",\"November\",\"December\"],\"noData\":\"No data to display\",\"numericSymbolMagnitude\":1000,\"numericSymbols\":[\"k\",\"M\",\"G\",\"T\",\"P\",\"E\"],\"printChart\":\"Print chart\",\"resetZoom\":\"Reset zoom\",\"resetZoomTitle\":\"Reset zoom level 1:1\",\"shortMonths\":[\"Jan\",\"Feb\",\"Mar\",\"Apr\",\"May\",\"Jun\",\"Jul\",\"Aug\",\"Sep\",\"Oct\",\"Nov\",\"Dec\"],\"shortWeekdays\":[\"Sat\",\"Sun\",\"Mon\",\"Tue\",\"Wed\",\"Thu\",\"Fri\"],\"thousandsSep\":\" \",\"viewData\":\"View data table\",\"viewFullscreen\":\"View in full screen\",\"weekdays\":[\"Sunday\",\"Monday\",\"Tuesday\",\"Wednesday\",\"Thursday\",\"Friday\",\"Saturday\"]}},\"type\":\"chart\",\"fonts\":[],\"debug\":false},\"evals\":[],\"jsHooks\":[]}</script>"
      ]
     }
    },
    {
     "output_type": "display_data",
     "metadata": {},
     "data": {
      "text/html": [
       "<div class=\"highchart html-widget html-fill-item\" id=\"htmlwidget-2cc53beae771456d9eeb\" style=\"width:100%;height:464px;\"></div>\n",
       "<script type=\"application/json\" data-for=\"htmlwidget-2cc53beae771456d9eeb\">{\"x\":{\"hc_opts\":{\"chart\":{\"reflow\":true},\"title\":{\"text\":\"Median Hourly Wage by Sector in Saint Paul\"},\"yAxis\":{\"title\":{\"text\":\"Median Hourly Wage (USD)\"},\"type\":\"linear\"},\"credits\":{\"enabled\":false},\"exporting\":{\"enabled\":false},\"boost\":{\"enabled\":false},\"plotOptions\":{\"series\":{\"label\":{\"enabled\":false},\"turboThreshold\":0,\"showInLegend\":false},\"treemap\":{\"layoutAlgorithm\":\"squarified\"},\"scatter\":{\"marker\":{\"symbol\":\"circle\"}}},\"series\":[{\"group\":\"group\",\"data\":[{\"O*NET-SOC Sector\":\"Energy Efficiency\",\"TOT_EMP\":66410,\"H_MEAN\":45.51333333333334,\"A_MEAN\":94668.88888888889,\"A_MEDIAN\":98740,\"H_MEDIAN\":47.47,\"y\":47.47,\"name\":\"Energy Efficiency\"},{\"O*NET-SOC Sector\":\"Green Construction\",\"TOT_EMP\":124680,\"H_MEAN\":37.88896551724138,\"A_MEAN\":78808.96551724138,\"A_MEDIAN\":75800,\"H_MEDIAN\":36.44,\"y\":36.44,\"name\":\"Green Construction\"},{\"O*NET-SOC Sector\":\"Renewable Energy Generation\",\"TOT_EMP\":23250,\"H_MEAN\":44.70666666666666,\"A_MEAN\":92991.11111111111,\"A_MEDIAN\":99690,\"H_MEDIAN\":47.93,\"y\":47.93,\"name\":\"Renewable Energy Generation\"},{\"O*NET-SOC Sector\":\"All\",\"TOT_EMP\":214340,\"H_MEAN\":40.65446808510638,\"A_MEAN\":84561.70212765958,\"A_MEDIAN\":82170,\"H_MEDIAN\":39.51,\"y\":39.51,\"name\":\"All\"}],\"type\":\"column\"}],\"xAxis\":{\"type\":\"category\",\"title\":{\"text\":\"Sector\"}},\"tooltip\":{\"pointFormat\":\"<b>{point.y:.2f} USD<\\/b>\"}},\"theme\":{\"chart\":{\"backgroundColor\":\"transparent\"},\"colors\":[\"#7cb5ec\",\"#434348\",\"#90ed7d\",\"#f7a35c\",\"#8085e9\",\"#f15c80\",\"#e4d354\",\"#2b908f\",\"#f45b5b\",\"#91e8e1\"]},\"conf_opts\":{\"global\":{\"Date\":null,\"VMLRadialGradientURL\":\"http =//code.highcharts.com/list(version)/gfx/vml-radial-gradient.png\",\"canvasToolsURL\":\"http =//code.highcharts.com/list(version)/modules/canvas-tools.js\",\"getTimezoneOffset\":null,\"timezoneOffset\":0,\"useUTC\":true},\"lang\":{\"contextButtonTitle\":\"Chart context menu\",\"decimalPoint\":\".\",\"downloadCSV\":\"Download CSV\",\"downloadJPEG\":\"Download JPEG image\",\"downloadPDF\":\"Download PDF document\",\"downloadPNG\":\"Download PNG image\",\"downloadSVG\":\"Download SVG vector image\",\"downloadXLS\":\"Download XLS\",\"drillUpText\":\"◁ Back to {series.name}\",\"exitFullscreen\":\"Exit from full screen\",\"exportData\":{\"annotationHeader\":\"Annotations\",\"categoryDatetimeHeader\":\"DateTime\",\"categoryHeader\":\"Category\"},\"hideData\":\"Hide data table\",\"invalidDate\":null,\"loading\":\"Loading...\",\"months\":[\"January\",\"February\",\"March\",\"April\",\"May\",\"June\",\"July\",\"August\",\"September\",\"October\",\"November\",\"December\"],\"noData\":\"No data to display\",\"numericSymbolMagnitude\":1000,\"numericSymbols\":[\"k\",\"M\",\"G\",\"T\",\"P\",\"E\"],\"printChart\":\"Print chart\",\"resetZoom\":\"Reset zoom\",\"resetZoomTitle\":\"Reset zoom level 1:1\",\"shortMonths\":[\"Jan\",\"Feb\",\"Mar\",\"Apr\",\"May\",\"Jun\",\"Jul\",\"Aug\",\"Sep\",\"Oct\",\"Nov\",\"Dec\"],\"shortWeekdays\":[\"Sat\",\"Sun\",\"Mon\",\"Tue\",\"Wed\",\"Thu\",\"Fri\"],\"thousandsSep\":\" \",\"viewData\":\"View data table\",\"viewFullscreen\":\"View in full screen\",\"weekdays\":[\"Sunday\",\"Monday\",\"Tuesday\",\"Wednesday\",\"Thursday\",\"Friday\",\"Saturday\"]}},\"type\":\"chart\",\"fonts\":[],\"debug\":false},\"evals\":[],\"jsHooks\":[]}</script>"
      ]
     }
    },
    {
     "output_type": "display_data",
     "metadata": {},
     "data": {
      "text/html": [
       "<div class=\"highchart html-widget html-fill-item\" id=\"htmlwidget-d7bbe48e1ea4a4334c12\" style=\"width:100%;height:464px;\"></div>\n",
       "<script type=\"application/json\" data-for=\"htmlwidget-d7bbe48e1ea4a4334c12\">{\"x\":{\"hc_opts\":{\"chart\":{\"reflow\":true},\"title\":{\"text\":\"Mean Hourly Wage: Green Jobs vs Non-Green Jobs in Saint Paul\"},\"yAxis\":{\"title\":{\"text\":\"Mean Hourly Wage (USD)\"},\"type\":\"linear\"},\"credits\":{\"enabled\":false},\"exporting\":{\"enabled\":false},\"boost\":{\"enabled\":false},\"plotOptions\":{\"series\":{\"label\":{\"enabled\":false},\"turboThreshold\":0,\"showInLegend\":false},\"treemap\":{\"layoutAlgorithm\":\"squarified\"},\"scatter\":{\"marker\":{\"symbol\":\"circle\"}}},\"series\":[{\"group\":\"group\",\"data\":[{\"Job_Type\":\"Green Jobs\",\"H_MEAN\":40.65446808510638,\"A_MEAN\":84561.70212765958,\"y\":40.65446808510638,\"name\":\"Green Jobs\"},{\"Job_Type\":\"Non-Green Jobs\",\"H_MEAN\":36.30687702265373,\"A_MEAN\":77192.53353204168,\"y\":36.30687702265373,\"name\":\"Non-Green Jobs\"}],\"type\":\"column\"}],\"xAxis\":{\"type\":\"category\",\"title\":{\"text\":\"Job Type\"}},\"tooltip\":{\"pointFormat\":\"<b>{point.y:.2f} USD<\\/b>\"}},\"theme\":{\"chart\":{\"backgroundColor\":\"transparent\"},\"colors\":[\"#7cb5ec\",\"#434348\",\"#90ed7d\",\"#f7a35c\",\"#8085e9\",\"#f15c80\",\"#e4d354\",\"#2b908f\",\"#f45b5b\",\"#91e8e1\"]},\"conf_opts\":{\"global\":{\"Date\":null,\"VMLRadialGradientURL\":\"http =//code.highcharts.com/list(version)/gfx/vml-radial-gradient.png\",\"canvasToolsURL\":\"http =//code.highcharts.com/list(version)/modules/canvas-tools.js\",\"getTimezoneOffset\":null,\"timezoneOffset\":0,\"useUTC\":true},\"lang\":{\"contextButtonTitle\":\"Chart context menu\",\"decimalPoint\":\".\",\"downloadCSV\":\"Download CSV\",\"downloadJPEG\":\"Download JPEG image\",\"downloadPDF\":\"Download PDF document\",\"downloadPNG\":\"Download PNG image\",\"downloadSVG\":\"Download SVG vector image\",\"downloadXLS\":\"Download XLS\",\"drillUpText\":\"◁ Back to {series.name}\",\"exitFullscreen\":\"Exit from full screen\",\"exportData\":{\"annotationHeader\":\"Annotations\",\"categoryDatetimeHeader\":\"DateTime\",\"categoryHeader\":\"Category\"},\"hideData\":\"Hide data table\",\"invalidDate\":null,\"loading\":\"Loading...\",\"months\":[\"January\",\"February\",\"March\",\"April\",\"May\",\"June\",\"July\",\"August\",\"September\",\"October\",\"November\",\"December\"],\"noData\":\"No data to display\",\"numericSymbolMagnitude\":1000,\"numericSymbols\":[\"k\",\"M\",\"G\",\"T\",\"P\",\"E\"],\"printChart\":\"Print chart\",\"resetZoom\":\"Reset zoom\",\"resetZoomTitle\":\"Reset zoom level 1:1\",\"shortMonths\":[\"Jan\",\"Feb\",\"Mar\",\"Apr\",\"May\",\"Jun\",\"Jul\",\"Aug\",\"Sep\",\"Oct\",\"Nov\",\"Dec\"],\"shortWeekdays\":[\"Sat\",\"Sun\",\"Mon\",\"Tue\",\"Wed\",\"Thu\",\"Fri\"],\"thousandsSep\":\" \",\"viewData\":\"View data table\",\"viewFullscreen\":\"View in full screen\",\"weekdays\":[\"Sunday\",\"Monday\",\"Tuesday\",\"Wednesday\",\"Thursday\",\"Friday\",\"Saturday\"]}},\"type\":\"chart\",\"fonts\":[],\"debug\":false},\"evals\":[],\"jsHooks\":[]}</script>"
      ]
     }
    },
    {
     "output_type": "display_data",
     "metadata": {},
     "data": {
      "text/html": [
       "<div class=\"highchart html-widget html-fill-item\" id=\"htmlwidget-6232f33639b5ff2e3743\" style=\"width:100%;height:464px;\"></div>\n",
       "<script type=\"application/json\" data-for=\"htmlwidget-6232f33639b5ff2e3743\">{\"x\":{\"hc_opts\":{\"chart\":{\"reflow\":true},\"title\":{\"text\":\"Mean Annual Wage: Green Jobs vs Non-Green Jobs in Saint Paul\"},\"yAxis\":{\"title\":{\"text\":\"Mean Annual Wage (USD)\"},\"type\":\"linear\"},\"credits\":{\"enabled\":false},\"exporting\":{\"enabled\":false},\"boost\":{\"enabled\":false},\"plotOptions\":{\"series\":{\"label\":{\"enabled\":false},\"turboThreshold\":0,\"showInLegend\":false},\"treemap\":{\"layoutAlgorithm\":\"squarified\"},\"scatter\":{\"marker\":{\"symbol\":\"circle\"}}},\"series\":[{\"group\":\"group\",\"data\":[{\"Job_Type\":\"Green Jobs\",\"H_MEAN\":40.65446808510638,\"A_MEAN\":84561.70212765958,\"y\":84561.70212765958,\"name\":\"Green Jobs\"},{\"Job_Type\":\"Non-Green Jobs\",\"H_MEAN\":36.30687702265373,\"A_MEAN\":77192.53353204168,\"y\":77192.53353204168,\"name\":\"Non-Green Jobs\"}],\"type\":\"column\"}],\"xAxis\":{\"type\":\"category\",\"title\":{\"text\":\"Job Type\"}},\"tooltip\":{\"pointFormat\":\"<b>{point.y:,0f} USD<\\/b>\"}},\"theme\":{\"chart\":{\"backgroundColor\":\"transparent\"},\"colors\":[\"#7cb5ec\",\"#434348\",\"#90ed7d\",\"#f7a35c\",\"#8085e9\",\"#f15c80\",\"#e4d354\",\"#2b908f\",\"#f45b5b\",\"#91e8e1\"]},\"conf_opts\":{\"global\":{\"Date\":null,\"VMLRadialGradientURL\":\"http =//code.highcharts.com/list(version)/gfx/vml-radial-gradient.png\",\"canvasToolsURL\":\"http =//code.highcharts.com/list(version)/modules/canvas-tools.js\",\"getTimezoneOffset\":null,\"timezoneOffset\":0,\"useUTC\":true},\"lang\":{\"contextButtonTitle\":\"Chart context menu\",\"decimalPoint\":\".\",\"downloadCSV\":\"Download CSV\",\"downloadJPEG\":\"Download JPEG image\",\"downloadPDF\":\"Download PDF document\",\"downloadPNG\":\"Download PNG image\",\"downloadSVG\":\"Download SVG vector image\",\"downloadXLS\":\"Download XLS\",\"drillUpText\":\"◁ Back to {series.name}\",\"exitFullscreen\":\"Exit from full screen\",\"exportData\":{\"annotationHeader\":\"Annotations\",\"categoryDatetimeHeader\":\"DateTime\",\"categoryHeader\":\"Category\"},\"hideData\":\"Hide data table\",\"invalidDate\":null,\"loading\":\"Loading...\",\"months\":[\"January\",\"February\",\"March\",\"April\",\"May\",\"June\",\"July\",\"August\",\"September\",\"October\",\"November\",\"December\"],\"noData\":\"No data to display\",\"numericSymbolMagnitude\":1000,\"numericSymbols\":[\"k\",\"M\",\"G\",\"T\",\"P\",\"E\"],\"printChart\":\"Print chart\",\"resetZoom\":\"Reset zoom\",\"resetZoomTitle\":\"Reset zoom level 1:1\",\"shortMonths\":[\"Jan\",\"Feb\",\"Mar\",\"Apr\",\"May\",\"Jun\",\"Jul\",\"Aug\",\"Sep\",\"Oct\",\"Nov\",\"Dec\"],\"shortWeekdays\":[\"Sat\",\"Sun\",\"Mon\",\"Tue\",\"Wed\",\"Thu\",\"Fri\"],\"thousandsSep\":\" \",\"viewData\":\"View data table\",\"viewFullscreen\":\"View in full screen\",\"weekdays\":[\"Sunday\",\"Monday\",\"Tuesday\",\"Wednesday\",\"Thursday\",\"Friday\",\"Saturday\"]}},\"type\":\"chart\",\"fonts\":[],\"debug\":false},\"evals\":[],\"jsHooks\":[]}</script>"
      ]
     }
    },
    {
     "output_type": "stream",
     "name": "stdout",
     "text": [
      "The mean annual wage for the occupation in U.S. dollars for green jobs in Saint Paul is $84,561.7, and for non-green jobs is $77,192.53. That means green jobs in Saint Paul pay $7,369.169 more than non-green jobs in Saint Paul."
     ]
    },
    {
     "output_type": "stream",
     "name": "stdout",
     "text": [
      "The mean hourly wage for the occupation in U.S. dollars for green jobs in Saint Paul is $40.65447, and for non-green jobs is $36.30688. That means green jobs in Saint Paul pay $4.347591 more than non-green jobs in Saint Paul."
     ]
    }
   ],
   "source": [
    "# Convert the O*NET-SOC Sector to a factor for ordering in the chart for St. Paul\n",
    "final_summary_st_paul <- final_summary_st_paul %>%\n",
    "  mutate(`O*NET-SOC Sector` = factor(`O*NET-SOC Sector`, levels = c(\"Energy Efficiency\", \"Green Construction\", \"Renewable Energy Generation\", \"All\")))\n",
    "\n",
    "# Visualizing TOT_EMP across the sectors for St. Paul\n",
    "hchart(final_summary_st_paul, \"column\", hcaes(x = `O*NET-SOC Sector`, y = TOT_EMP)) %>%\n",
    "  hc_title(text = \"Total Employment by Sector in Saint Paul\") %>%\n",
    "  hc_xAxis(title = list(text = \"Sector\")) %>%\n",
    "  hc_yAxis(title = list(text = \"Total Employment\"), labels = list(format = \"{value:,0f}\")) %>%\n",
    "  hc_tooltip(pointFormat = '<b>{point.y:,0f}</b>')"
   ],
   "id": "2a041b89-985c-4fb0-b4e2-3b1d07eaf7eb"
  },
  {
   "cell_type": "markdown",
   "metadata": {},
   "source": [
    "I’d like to see a word cloud of different job titles for each sector in St. Paul"
   ],
   "id": "e9e5dcff-38cb-4c58-a69d-d4f5302a2354"
  },
  {
   "cell_type": "code",
   "execution_count": null,
   "metadata": {},
   "outputs": [
    {
     "output_type": "display_data",
     "metadata": {},
     "data": {
      "text/html": [
       "<div class=\"highchart html-widget html-fill-item\" id=\"htmlwidget-e88adf9d558e1cd8513d\" style=\"width:100%;height:464px;\"></div>\n",
       "<script type=\"application/json\" data-for=\"htmlwidget-e88adf9d558e1cd8513d\">{\"x\":{\"hc_opts\":{\"chart\":{\"reflow\":true},\"title\":{\"text\":\"Word Cloud of Green Job Titles in Saint Paul\"},\"yAxis\":{\"title\":{\"text\":[]}},\"credits\":{\"enabled\":false},\"exporting\":{\"enabled\":false},\"boost\":{\"enabled\":false},\"plotOptions\":{\"series\":{\"label\":{\"enabled\":false},\"turboThreshold\":0,\"showInLegend\":false},\"treemap\":{\"layoutAlgorithm\":\"squarified\"},\"scatter\":{\"marker\":{\"symbol\":\"circle\"}}},\"series\":[{\"group\":\"group\",\"data\":[{\"OCC_TITLE\":null,\"n\":11,\"name\":null,\"weight\":11},{\"OCC_TITLE\":\"Electrical Engineers\",\"n\":3,\"name\":\"Electrical Engineers\",\"weight\":3},{\"OCC_TITLE\":\"Mechanical Engineers\",\"n\":3,\"name\":\"Mechanical Engineers\",\"weight\":3},{\"OCC_TITLE\":\"Boilermakers\",\"n\":2,\"name\":\"Boilermakers\",\"weight\":2},{\"OCC_TITLE\":\"Civil Engineers\",\"n\":2,\"name\":\"Civil Engineers\",\"weight\":2},{\"OCC_TITLE\":\"Financial and Investment Analysts\",\"n\":2,\"name\":\"Financial and Investment Analysts\",\"weight\":2},{\"OCC_TITLE\":\"Heating, Air Conditioning, and Refrigeration Mechanics and Installers\",\"n\":2,\"name\":\"Heating, Air Conditioning, and Refrigeration Mechanics and Installers\",\"weight\":2},{\"OCC_TITLE\":\"Insulation Workers, Floor, Ceiling, and Wall\",\"n\":2,\"name\":\"Insulation Workers, Floor, Ceiling, and Wall\",\"weight\":2},{\"OCC_TITLE\":\"Power Plant Operators\",\"n\":2,\"name\":\"Power Plant Operators\",\"weight\":2},{\"OCC_TITLE\":\"Sheet Metal Workers\",\"n\":2,\"name\":\"Sheet Metal Workers\",\"weight\":2},{\"OCC_TITLE\":\"Architects, Except Landscape and Naval\",\"n\":1,\"name\":\"Architects, Except Landscape and Naval\",\"weight\":1},{\"OCC_TITLE\":\"Architectural and Civil Drafters\",\"n\":1,\"name\":\"Architectural and Civil Drafters\",\"weight\":1},{\"OCC_TITLE\":\"Carpenters\",\"n\":1,\"name\":\"Carpenters\",\"weight\":1},{\"OCC_TITLE\":\"Cement Masons and Concrete Finishers\",\"n\":1,\"name\":\"Cement Masons and Concrete Finishers\",\"weight\":1},{\"OCC_TITLE\":\"Construction Laborers\",\"n\":1,\"name\":\"Construction Laborers\",\"weight\":1},{\"OCC_TITLE\":\"Construction Managers\",\"n\":1,\"name\":\"Construction Managers\",\"weight\":1},{\"OCC_TITLE\":\"Construction and Building Inspectors\",\"n\":1,\"name\":\"Construction and Building Inspectors\",\"weight\":1},{\"OCC_TITLE\":\"Electrical Power-Line Installers and Repairers\",\"n\":1,\"name\":\"Electrical Power-Line Installers and Repairers\",\"weight\":1},{\"OCC_TITLE\":\"Electricians\",\"n\":1,\"name\":\"Electricians\",\"weight\":1},{\"OCC_TITLE\":\"General and Operations Managers\",\"n\":1,\"name\":\"General and Operations Managers\",\"weight\":1},{\"OCC_TITLE\":\"Hazardous Materials Removal Workers\",\"n\":1,\"name\":\"Hazardous Materials Removal Workers\",\"weight\":1},{\"OCC_TITLE\":\"Helpers--Installation, Maintenance, and Repair Workers\",\"n\":1,\"name\":\"Helpers--Installation, Maintenance, and Repair Workers\",\"weight\":1},{\"OCC_TITLE\":\"Industrial Truck and Tractor Operators\",\"n\":1,\"name\":\"Industrial Truck and Tractor Operators\",\"weight\":1},{\"OCC_TITLE\":\"Laborers and Freight, Stock, and Material Movers, Hand\",\"n\":1,\"name\":\"Laborers and Freight, Stock, and Material Movers, Hand\",\"weight\":1},{\"OCC_TITLE\":\"Landscape Architects\",\"n\":1,\"name\":\"Landscape Architects\",\"weight\":1},{\"OCC_TITLE\":\"Machinists\",\"n\":1,\"name\":\"Machinists\",\"weight\":1},{\"OCC_TITLE\":\"Operating Engineers and Other Construction Equipment Operators\",\"n\":1,\"name\":\"Operating Engineers and Other Construction Equipment Operators\",\"weight\":1},{\"OCC_TITLE\":\"Plumbers, Pipefitters, and Steamfitters\",\"n\":1,\"name\":\"Plumbers, Pipefitters, and Steamfitters\",\"weight\":1},{\"OCC_TITLE\":\"Power Distributors and Dispatchers\",\"n\":1,\"name\":\"Power Distributors and Dispatchers\",\"weight\":1},{\"OCC_TITLE\":\"Roofers\",\"n\":1,\"name\":\"Roofers\",\"weight\":1},{\"OCC_TITLE\":\"Separating, Filtering, Clarifying, Precipitating, and Still Machine Setters, Operators, and Tenders\",\"n\":1,\"name\":\"Separating, Filtering, Clarifying, Precipitating, and Still Machine Setters, Operators, and Tenders\",\"weight\":1},{\"OCC_TITLE\":\"Stationary Engineers and Boiler Operators\",\"n\":1,\"name\":\"Stationary Engineers and Boiler Operators\",\"weight\":1},{\"OCC_TITLE\":\"Structural Iron and Steel Workers\",\"n\":1,\"name\":\"Structural Iron and Steel Workers\",\"weight\":1},{\"OCC_TITLE\":\"Structural Metal Fabricators and Fitters\",\"n\":1,\"name\":\"Structural Metal Fabricators and Fitters\",\"weight\":1},{\"OCC_TITLE\":\"Transportation Inspectors\",\"n\":1,\"name\":\"Transportation Inspectors\",\"weight\":1},{\"OCC_TITLE\":\"Transportation, Storage, and Distribution Managers\",\"n\":1,\"name\":\"Transportation, Storage, and Distribution Managers\",\"weight\":1},{\"OCC_TITLE\":\"Urban and Regional Planners\",\"n\":1,\"name\":\"Urban and Regional Planners\",\"weight\":1},{\"OCC_TITLE\":\"Welders, Cutters, Solderers, and Brazers\",\"n\":1,\"name\":\"Welders, Cutters, Solderers, and Brazers\",\"weight\":1}],\"type\":\"wordcloud\"}],\"xAxis\":{\"type\":null,\"title\":{\"text\":[]},\"categories\":null}},\"theme\":{\"chart\":{\"backgroundColor\":\"transparent\"},\"colors\":[\"#7cb5ec\",\"#434348\",\"#90ed7d\",\"#f7a35c\",\"#8085e9\",\"#f15c80\",\"#e4d354\",\"#2b908f\",\"#f45b5b\",\"#91e8e1\"]},\"conf_opts\":{\"global\":{\"Date\":null,\"VMLRadialGradientURL\":\"http =//code.highcharts.com/list(version)/gfx/vml-radial-gradient.png\",\"canvasToolsURL\":\"http =//code.highcharts.com/list(version)/modules/canvas-tools.js\",\"getTimezoneOffset\":null,\"timezoneOffset\":0,\"useUTC\":true},\"lang\":{\"contextButtonTitle\":\"Chart context menu\",\"decimalPoint\":\".\",\"downloadCSV\":\"Download CSV\",\"downloadJPEG\":\"Download JPEG image\",\"downloadPDF\":\"Download PDF document\",\"downloadPNG\":\"Download PNG image\",\"downloadSVG\":\"Download SVG vector image\",\"downloadXLS\":\"Download XLS\",\"drillUpText\":\"◁ Back to {series.name}\",\"exitFullscreen\":\"Exit from full screen\",\"exportData\":{\"annotationHeader\":\"Annotations\",\"categoryDatetimeHeader\":\"DateTime\",\"categoryHeader\":\"Category\"},\"hideData\":\"Hide data table\",\"invalidDate\":null,\"loading\":\"Loading...\",\"months\":[\"January\",\"February\",\"March\",\"April\",\"May\",\"June\",\"July\",\"August\",\"September\",\"October\",\"November\",\"December\"],\"noData\":\"No data to display\",\"numericSymbolMagnitude\":1000,\"numericSymbols\":[\"k\",\"M\",\"G\",\"T\",\"P\",\"E\"],\"printChart\":\"Print chart\",\"resetZoom\":\"Reset zoom\",\"resetZoomTitle\":\"Reset zoom level 1:1\",\"shortMonths\":[\"Jan\",\"Feb\",\"Mar\",\"Apr\",\"May\",\"Jun\",\"Jul\",\"Aug\",\"Sep\",\"Oct\",\"Nov\",\"Dec\"],\"shortWeekdays\":[\"Sat\",\"Sun\",\"Mon\",\"Tue\",\"Wed\",\"Thu\",\"Fri\"],\"thousandsSep\":\" \",\"viewData\":\"View data table\",\"viewFullscreen\":\"View in full screen\",\"weekdays\":[\"Sunday\",\"Monday\",\"Tuesday\",\"Wednesday\",\"Thursday\",\"Friday\",\"Saturday\"]}},\"type\":\"chart\",\"fonts\":[],\"debug\":false},\"evals\":[],\"jsHooks\":[]}</script>"
      ]
     }
    }
   ],
   "source": [
    "# Filter the dataset for green jobs only in St. Paul\n",
    "green_jobs_st_paul <- st_paul_jobs %>%\n",
    "  filter(`O*NET-SOC Sector` %in% c(\"Energy Efficiency\", \"Renewable Energy Generation\", \"Green Construction\"))\n",
    "\n",
    "# Extract job titles and count their occurrences in St. Paul\n",
    "job_titles_st_paul <- green_jobs_st_paul %>%\n",
    "  count(OCC_TITLE, sort = TRUE)\n",
    "\n",
    "# Create a word cloud for green jobs in St. Paul using highcharter\n",
    "hchart(\n",
    "  job_titles_st_paul, \n",
    "  \"wordcloud\", \n",
    "  hcaes(name = OCC_TITLE, weight = n)\n",
    ") %>%\n",
    "  hc_title(text = \"Word Cloud of Green Job Titles in Saint Paul\")"
   ],
   "id": "5c368fab-afbe-4047-ac7c-1bcd625a5a63"
  },
  {
   "cell_type": "markdown",
   "metadata": {},
   "source": [
    "Now let’s create separate word clouds for each of the green sectors (\"Energy Efficiency\", \"Renewable Energy Generation\", and \"Green Construction\") for St. Paul"
   ],
   "id": "8c17f5e7-cf45-469e-866e-d1ce41a9c3c2"
  },
  {
   "cell_type": "code",
   "execution_count": null,
   "metadata": {},
   "outputs": [
    {
     "output_type": "display_data",
     "metadata": {},
     "data": {
      "text/html": [
       "<div class=\"highchart html-widget html-fill-item\" id=\"htmlwidget-3db225d75aa12b3656f0\" style=\"width:100%;height:464px;\"></div>\n",
       "<script type=\"application/json\" data-for=\"htmlwidget-3db225d75aa12b3656f0\">{\"x\":{\"hc_opts\":{\"chart\":{\"reflow\":true},\"title\":{\"text\":\"Word Cloud of Energy Efficiency Job Titles in Saint Paul\"},\"yAxis\":{\"title\":{\"text\":[]}},\"credits\":{\"enabled\":false},\"exporting\":{\"enabled\":false},\"boost\":{\"enabled\":false},\"plotOptions\":{\"series\":{\"label\":{\"enabled\":false},\"turboThreshold\":0,\"showInLegend\":false},\"treemap\":{\"layoutAlgorithm\":\"squarified\"},\"scatter\":{\"marker\":{\"symbol\":\"circle\"}}},\"series\":[{\"group\":\"group\",\"data\":[{\"OCC_TITLE\":null,\"n\":2,\"name\":null,\"weight\":2},{\"OCC_TITLE\":\"Boilermakers\",\"n\":1,\"name\":\"Boilermakers\",\"weight\":1},{\"OCC_TITLE\":\"Electrical Engineers\",\"n\":1,\"name\":\"Electrical Engineers\",\"weight\":1},{\"OCC_TITLE\":\"Electrical Power-Line Installers and Repairers\",\"n\":1,\"name\":\"Electrical Power-Line Installers and Repairers\",\"weight\":1},{\"OCC_TITLE\":\"Financial and Investment Analysts\",\"n\":1,\"name\":\"Financial and Investment Analysts\",\"weight\":1},{\"OCC_TITLE\":\"General and Operations Managers\",\"n\":1,\"name\":\"General and Operations Managers\",\"weight\":1},{\"OCC_TITLE\":\"Heating, Air Conditioning, and Refrigeration Mechanics and Installers\",\"n\":1,\"name\":\"Heating, Air Conditioning, and Refrigeration Mechanics and Installers\",\"weight\":1},{\"OCC_TITLE\":\"Insulation Workers, Floor, Ceiling, and Wall\",\"n\":1,\"name\":\"Insulation Workers, Floor, Ceiling, and Wall\",\"weight\":1},{\"OCC_TITLE\":\"Mechanical Engineers\",\"n\":1,\"name\":\"Mechanical Engineers\",\"weight\":1},{\"OCC_TITLE\":\"Stationary Engineers and Boiler Operators\",\"n\":1,\"name\":\"Stationary Engineers and Boiler Operators\",\"weight\":1},{\"OCC_TITLE\":\"Transportation Inspectors\",\"n\":1,\"name\":\"Transportation Inspectors\",\"weight\":1}],\"type\":\"wordcloud\"}],\"xAxis\":{\"type\":null,\"title\":{\"text\":[]},\"categories\":null}},\"theme\":{\"chart\":{\"backgroundColor\":\"transparent\"},\"colors\":[\"#7cb5ec\",\"#434348\",\"#90ed7d\",\"#f7a35c\",\"#8085e9\",\"#f15c80\",\"#e4d354\",\"#2b908f\",\"#f45b5b\",\"#91e8e1\"]},\"conf_opts\":{\"global\":{\"Date\":null,\"VMLRadialGradientURL\":\"http =//code.highcharts.com/list(version)/gfx/vml-radial-gradient.png\",\"canvasToolsURL\":\"http =//code.highcharts.com/list(version)/modules/canvas-tools.js\",\"getTimezoneOffset\":null,\"timezoneOffset\":0,\"useUTC\":true},\"lang\":{\"contextButtonTitle\":\"Chart context menu\",\"decimalPoint\":\".\",\"downloadCSV\":\"Download CSV\",\"downloadJPEG\":\"Download JPEG image\",\"downloadPDF\":\"Download PDF document\",\"downloadPNG\":\"Download PNG image\",\"downloadSVG\":\"Download SVG vector image\",\"downloadXLS\":\"Download XLS\",\"drillUpText\":\"◁ Back to {series.name}\",\"exitFullscreen\":\"Exit from full screen\",\"exportData\":{\"annotationHeader\":\"Annotations\",\"categoryDatetimeHeader\":\"DateTime\",\"categoryHeader\":\"Category\"},\"hideData\":\"Hide data table\",\"invalidDate\":null,\"loading\":\"Loading...\",\"months\":[\"January\",\"February\",\"March\",\"April\",\"May\",\"June\",\"July\",\"August\",\"September\",\"October\",\"November\",\"December\"],\"noData\":\"No data to display\",\"numericSymbolMagnitude\":1000,\"numericSymbols\":[\"k\",\"M\",\"G\",\"T\",\"P\",\"E\"],\"printChart\":\"Print chart\",\"resetZoom\":\"Reset zoom\",\"resetZoomTitle\":\"Reset zoom level 1:1\",\"shortMonths\":[\"Jan\",\"Feb\",\"Mar\",\"Apr\",\"May\",\"Jun\",\"Jul\",\"Aug\",\"Sep\",\"Oct\",\"Nov\",\"Dec\"],\"shortWeekdays\":[\"Sat\",\"Sun\",\"Mon\",\"Tue\",\"Wed\",\"Thu\",\"Fri\"],\"thousandsSep\":\" \",\"viewData\":\"View data table\",\"viewFullscreen\":\"View in full screen\",\"weekdays\":[\"Sunday\",\"Monday\",\"Tuesday\",\"Wednesday\",\"Thursday\",\"Friday\",\"Saturday\"]}},\"type\":\"chart\",\"fonts\":[],\"debug\":false},\"evals\":[],\"jsHooks\":[]}</script>"
      ]
     }
    },
    {
     "output_type": "display_data",
     "metadata": {},
     "data": {
      "text/html": [
       "<div class=\"highchart html-widget html-fill-item\" id=\"htmlwidget-daaa0cc02c791e243ea7\" style=\"width:100%;height:464px;\"></div>\n",
       "<script type=\"application/json\" data-for=\"htmlwidget-daaa0cc02c791e243ea7\">{\"x\":{\"hc_opts\":{\"chart\":{\"reflow\":true},\"title\":{\"text\":\"Word Cloud of Renewable Energy Generation Job Titles in Saint Paul\"},\"yAxis\":{\"title\":{\"text\":[]}},\"credits\":{\"enabled\":false},\"exporting\":{\"enabled\":false},\"boost\":{\"enabled\":false},\"plotOptions\":{\"series\":{\"label\":{\"enabled\":false},\"turboThreshold\":0,\"showInLegend\":false},\"treemap\":{\"layoutAlgorithm\":\"squarified\"},\"scatter\":{\"marker\":{\"symbol\":\"circle\"}}},\"series\":[{\"group\":\"group\",\"data\":[{\"OCC_TITLE\":null,\"n\":6,\"name\":null,\"weight\":6},{\"OCC_TITLE\":\"Civil Engineers\",\"n\":1,\"name\":\"Civil Engineers\",\"weight\":1},{\"OCC_TITLE\":\"Electrical Engineers\",\"n\":1,\"name\":\"Electrical Engineers\",\"weight\":1},{\"OCC_TITLE\":\"Machinists\",\"n\":1,\"name\":\"Machinists\",\"weight\":1},{\"OCC_TITLE\":\"Mechanical Engineers\",\"n\":1,\"name\":\"Mechanical Engineers\",\"weight\":1},{\"OCC_TITLE\":\"Power Distributors and Dispatchers\",\"n\":1,\"name\":\"Power Distributors and Dispatchers\",\"weight\":1},{\"OCC_TITLE\":\"Power Plant Operators\",\"n\":1,\"name\":\"Power Plant Operators\",\"weight\":1},{\"OCC_TITLE\":\"Separating, Filtering, Clarifying, Precipitating, and Still Machine Setters, Operators, and Tenders\",\"n\":1,\"name\":\"Separating, Filtering, Clarifying, Precipitating, and Still Machine Setters, Operators, and Tenders\",\"weight\":1},{\"OCC_TITLE\":\"Sheet Metal Workers\",\"n\":1,\"name\":\"Sheet Metal Workers\",\"weight\":1},{\"OCC_TITLE\":\"Transportation, Storage, and Distribution Managers\",\"n\":1,\"name\":\"Transportation, Storage, and Distribution Managers\",\"weight\":1}],\"type\":\"wordcloud\"}],\"xAxis\":{\"type\":null,\"title\":{\"text\":[]},\"categories\":null}},\"theme\":{\"chart\":{\"backgroundColor\":\"transparent\"},\"colors\":[\"#7cb5ec\",\"#434348\",\"#90ed7d\",\"#f7a35c\",\"#8085e9\",\"#f15c80\",\"#e4d354\",\"#2b908f\",\"#f45b5b\",\"#91e8e1\"]},\"conf_opts\":{\"global\":{\"Date\":null,\"VMLRadialGradientURL\":\"http =//code.highcharts.com/list(version)/gfx/vml-radial-gradient.png\",\"canvasToolsURL\":\"http =//code.highcharts.com/list(version)/modules/canvas-tools.js\",\"getTimezoneOffset\":null,\"timezoneOffset\":0,\"useUTC\":true},\"lang\":{\"contextButtonTitle\":\"Chart context menu\",\"decimalPoint\":\".\",\"downloadCSV\":\"Download CSV\",\"downloadJPEG\":\"Download JPEG image\",\"downloadPDF\":\"Download PDF document\",\"downloadPNG\":\"Download PNG image\",\"downloadSVG\":\"Download SVG vector image\",\"downloadXLS\":\"Download XLS\",\"drillUpText\":\"◁ Back to {series.name}\",\"exitFullscreen\":\"Exit from full screen\",\"exportData\":{\"annotationHeader\":\"Annotations\",\"categoryDatetimeHeader\":\"DateTime\",\"categoryHeader\":\"Category\"},\"hideData\":\"Hide data table\",\"invalidDate\":null,\"loading\":\"Loading...\",\"months\":[\"January\",\"February\",\"March\",\"April\",\"May\",\"June\",\"July\",\"August\",\"September\",\"October\",\"November\",\"December\"],\"noData\":\"No data to display\",\"numericSymbolMagnitude\":1000,\"numericSymbols\":[\"k\",\"M\",\"G\",\"T\",\"P\",\"E\"],\"printChart\":\"Print chart\",\"resetZoom\":\"Reset zoom\",\"resetZoomTitle\":\"Reset zoom level 1:1\",\"shortMonths\":[\"Jan\",\"Feb\",\"Mar\",\"Apr\",\"May\",\"Jun\",\"Jul\",\"Aug\",\"Sep\",\"Oct\",\"Nov\",\"Dec\"],\"shortWeekdays\":[\"Sat\",\"Sun\",\"Mon\",\"Tue\",\"Wed\",\"Thu\",\"Fri\"],\"thousandsSep\":\" \",\"viewData\":\"View data table\",\"viewFullscreen\":\"View in full screen\",\"weekdays\":[\"Sunday\",\"Monday\",\"Tuesday\",\"Wednesday\",\"Thursday\",\"Friday\",\"Saturday\"]}},\"type\":\"chart\",\"fonts\":[],\"debug\":false},\"evals\":[],\"jsHooks\":[]}</script>"
      ]
     }
    },
    {
     "output_type": "display_data",
     "metadata": {},
     "data": {
      "text/html": [
       "<div class=\"highchart html-widget html-fill-item\" id=\"htmlwidget-39622cb514ad50d1af28\" style=\"width:100%;height:464px;\"></div>\n",
       "<script type=\"application/json\" data-for=\"htmlwidget-39622cb514ad50d1af28\">{\"x\":{\"hc_opts\":{\"chart\":{\"reflow\":true},\"title\":{\"text\":\"Word Cloud of Green Construction Job Titles in Saint Paul\"},\"yAxis\":{\"title\":{\"text\":[]}},\"credits\":{\"enabled\":false},\"exporting\":{\"enabled\":false},\"boost\":{\"enabled\":false},\"plotOptions\":{\"series\":{\"label\":{\"enabled\":false},\"turboThreshold\":0,\"showInLegend\":false},\"treemap\":{\"layoutAlgorithm\":\"squarified\"},\"scatter\":{\"marker\":{\"symbol\":\"circle\"}}},\"series\":[{\"group\":\"group\",\"data\":[{\"OCC_TITLE\":null,\"n\":3,\"name\":null,\"weight\":3},{\"OCC_TITLE\":\"Architects, Except Landscape and Naval\",\"n\":1,\"name\":\"Architects, Except Landscape and Naval\",\"weight\":1},{\"OCC_TITLE\":\"Architectural and Civil Drafters\",\"n\":1,\"name\":\"Architectural and Civil Drafters\",\"weight\":1},{\"OCC_TITLE\":\"Boilermakers\",\"n\":1,\"name\":\"Boilermakers\",\"weight\":1},{\"OCC_TITLE\":\"Carpenters\",\"n\":1,\"name\":\"Carpenters\",\"weight\":1},{\"OCC_TITLE\":\"Cement Masons and Concrete Finishers\",\"n\":1,\"name\":\"Cement Masons and Concrete Finishers\",\"weight\":1},{\"OCC_TITLE\":\"Civil Engineers\",\"n\":1,\"name\":\"Civil Engineers\",\"weight\":1},{\"OCC_TITLE\":\"Construction Laborers\",\"n\":1,\"name\":\"Construction Laborers\",\"weight\":1},{\"OCC_TITLE\":\"Construction Managers\",\"n\":1,\"name\":\"Construction Managers\",\"weight\":1},{\"OCC_TITLE\":\"Construction and Building Inspectors\",\"n\":1,\"name\":\"Construction and Building Inspectors\",\"weight\":1},{\"OCC_TITLE\":\"Electrical Engineers\",\"n\":1,\"name\":\"Electrical Engineers\",\"weight\":1},{\"OCC_TITLE\":\"Electricians\",\"n\":1,\"name\":\"Electricians\",\"weight\":1},{\"OCC_TITLE\":\"Financial and Investment Analysts\",\"n\":1,\"name\":\"Financial and Investment Analysts\",\"weight\":1},{\"OCC_TITLE\":\"Hazardous Materials Removal Workers\",\"n\":1,\"name\":\"Hazardous Materials Removal Workers\",\"weight\":1},{\"OCC_TITLE\":\"Heating, Air Conditioning, and Refrigeration Mechanics and Installers\",\"n\":1,\"name\":\"Heating, Air Conditioning, and Refrigeration Mechanics and Installers\",\"weight\":1},{\"OCC_TITLE\":\"Helpers--Installation, Maintenance, and Repair Workers\",\"n\":1,\"name\":\"Helpers--Installation, Maintenance, and Repair Workers\",\"weight\":1},{\"OCC_TITLE\":\"Industrial Truck and Tractor Operators\",\"n\":1,\"name\":\"Industrial Truck and Tractor Operators\",\"weight\":1},{\"OCC_TITLE\":\"Insulation Workers, Floor, Ceiling, and Wall\",\"n\":1,\"name\":\"Insulation Workers, Floor, Ceiling, and Wall\",\"weight\":1},{\"OCC_TITLE\":\"Laborers and Freight, Stock, and Material Movers, Hand\",\"n\":1,\"name\":\"Laborers and Freight, Stock, and Material Movers, Hand\",\"weight\":1},{\"OCC_TITLE\":\"Landscape Architects\",\"n\":1,\"name\":\"Landscape Architects\",\"weight\":1},{\"OCC_TITLE\":\"Mechanical Engineers\",\"n\":1,\"name\":\"Mechanical Engineers\",\"weight\":1},{\"OCC_TITLE\":\"Operating Engineers and Other Construction Equipment Operators\",\"n\":1,\"name\":\"Operating Engineers and Other Construction Equipment Operators\",\"weight\":1},{\"OCC_TITLE\":\"Plumbers, Pipefitters, and Steamfitters\",\"n\":1,\"name\":\"Plumbers, Pipefitters, and Steamfitters\",\"weight\":1},{\"OCC_TITLE\":\"Power Plant Operators\",\"n\":1,\"name\":\"Power Plant Operators\",\"weight\":1},{\"OCC_TITLE\":\"Roofers\",\"n\":1,\"name\":\"Roofers\",\"weight\":1},{\"OCC_TITLE\":\"Sheet Metal Workers\",\"n\":1,\"name\":\"Sheet Metal Workers\",\"weight\":1},{\"OCC_TITLE\":\"Structural Iron and Steel Workers\",\"n\":1,\"name\":\"Structural Iron and Steel Workers\",\"weight\":1},{\"OCC_TITLE\":\"Structural Metal Fabricators and Fitters\",\"n\":1,\"name\":\"Structural Metal Fabricators and Fitters\",\"weight\":1},{\"OCC_TITLE\":\"Urban and Regional Planners\",\"n\":1,\"name\":\"Urban and Regional Planners\",\"weight\":1},{\"OCC_TITLE\":\"Welders, Cutters, Solderers, and Brazers\",\"n\":1,\"name\":\"Welders, Cutters, Solderers, and Brazers\",\"weight\":1}],\"type\":\"wordcloud\"}],\"xAxis\":{\"type\":null,\"title\":{\"text\":[]},\"categories\":null}},\"theme\":{\"chart\":{\"backgroundColor\":\"transparent\"},\"colors\":[\"#7cb5ec\",\"#434348\",\"#90ed7d\",\"#f7a35c\",\"#8085e9\",\"#f15c80\",\"#e4d354\",\"#2b908f\",\"#f45b5b\",\"#91e8e1\"]},\"conf_opts\":{\"global\":{\"Date\":null,\"VMLRadialGradientURL\":\"http =//code.highcharts.com/list(version)/gfx/vml-radial-gradient.png\",\"canvasToolsURL\":\"http =//code.highcharts.com/list(version)/modules/canvas-tools.js\",\"getTimezoneOffset\":null,\"timezoneOffset\":0,\"useUTC\":true},\"lang\":{\"contextButtonTitle\":\"Chart context menu\",\"decimalPoint\":\".\",\"downloadCSV\":\"Download CSV\",\"downloadJPEG\":\"Download JPEG image\",\"downloadPDF\":\"Download PDF document\",\"downloadPNG\":\"Download PNG image\",\"downloadSVG\":\"Download SVG vector image\",\"downloadXLS\":\"Download XLS\",\"drillUpText\":\"◁ Back to {series.name}\",\"exitFullscreen\":\"Exit from full screen\",\"exportData\":{\"annotationHeader\":\"Annotations\",\"categoryDatetimeHeader\":\"DateTime\",\"categoryHeader\":\"Category\"},\"hideData\":\"Hide data table\",\"invalidDate\":null,\"loading\":\"Loading...\",\"months\":[\"January\",\"February\",\"March\",\"April\",\"May\",\"June\",\"July\",\"August\",\"September\",\"October\",\"November\",\"December\"],\"noData\":\"No data to display\",\"numericSymbolMagnitude\":1000,\"numericSymbols\":[\"k\",\"M\",\"G\",\"T\",\"P\",\"E\"],\"printChart\":\"Print chart\",\"resetZoom\":\"Reset zoom\",\"resetZoomTitle\":\"Reset zoom level 1:1\",\"shortMonths\":[\"Jan\",\"Feb\",\"Mar\",\"Apr\",\"May\",\"Jun\",\"Jul\",\"Aug\",\"Sep\",\"Oct\",\"Nov\",\"Dec\"],\"shortWeekdays\":[\"Sat\",\"Sun\",\"Mon\",\"Tue\",\"Wed\",\"Thu\",\"Fri\"],\"thousandsSep\":\" \",\"viewData\":\"View data table\",\"viewFullscreen\":\"View in full screen\",\"weekdays\":[\"Sunday\",\"Monday\",\"Tuesday\",\"Wednesday\",\"Thursday\",\"Friday\",\"Saturday\"]}},\"type\":\"chart\",\"fonts\":[],\"debug\":false},\"evals\":[],\"jsHooks\":[]}</script>"
      ]
     }
    }
   ],
   "source": [
    "# Filter the dataset for each sector in St. Paul\n",
    "energy_efficiency_jobs_st_paul <- st_paul_jobs %>%\n",
    "  filter(`O*NET-SOC Sector` == \"Energy Efficiency\")\n",
    "\n",
    "renewable_energy_jobs_st_paul <- st_paul_jobs %>%\n",
    "  filter(`O*NET-SOC Sector` == \"Renewable Energy Generation\")\n",
    "\n",
    "green_construction_jobs_st_paul <- st_paul_jobs %>%\n",
    "  filter(`O*NET-SOC Sector` == \"Green Construction\")\n",
    "\n",
    "# Create a function to generate word clouds for St. Paul sectors\n",
    "generate_wordcloud_st_paul <- function(data, sector_name) {\n",
    "  job_titles <- data %>%\n",
    "    count(OCC_TITLE, sort = TRUE)\n",
    "  \n",
    "  hchart(\n",
    "    job_titles, \n",
    "    \"wordcloud\", \n",
    "    hcaes(name = OCC_TITLE, weight = n)\n",
    "  ) %>%\n",
    "    hc_title(text = paste(\"Word Cloud of\", sector_name, \"Job Titles in Saint Paul\"))\n",
    "}\n",
    "\n",
    "# Generate word cloud for Energy Efficiency in St. Paul\n",
    "energy_efficiency_wordcloud_st_paul <- generate_wordcloud_st_paul(energy_efficiency_jobs_st_paul, \"Energy Efficiency\")\n",
    "\n",
    "# Generate word cloud for Renewable Energy Generation in St. Paul\n",
    "renewable_energy_wordcloud_st_paul <- generate_wordcloud_st_paul(renewable_energy_jobs_st_paul, \"Renewable Energy Generation\")\n",
    "\n",
    "# Generate word cloud for Green Construction in St. Paul\n",
    "green_construction_wordcloud_st_paul <- generate_wordcloud_st_paul(green_construction_jobs_st_paul, \"Green Construction\")\n",
    "\n",
    "# Display the word clouds for St. Paul\n",
    "energy_efficiency_wordcloud_st_paul"
   ],
   "id": "ec3410c5-da81-460a-a135-4218b66dc050"
  },
  {
   "cell_type": "markdown",
   "metadata": {},
   "source": [
    "Let’s export for graphing"
   ],
   "id": "adba7c98-b996-436c-959a-a0c0f55af4c9"
  },
  {
   "cell_type": "code",
   "execution_count": null,
   "metadata": {},
   "outputs": [],
   "source": [
    "# Export the St. Paul jobs data to CSV for graphing\n",
    "write.csv(st_paul_jobs, here(\"processed_data\", \"st_paul_jobs.csv\"), row.names = FALSE)\n",
    "\n",
    "# Export the job_type_summary dataset for St. Paul to CSV for graphing\n",
    "write.csv(job_type_summary_st_paul, here(\"processed_data\", \"st_paul_job_type_summary.csv\"), row.names = FALSE)"
   ],
   "id": "2db665ff-5929-4a71-9e7c-6d1563fb328f"
  },
  {
   "cell_type": "markdown",
   "metadata": {},
   "source": [
    "### 3. Quality, Pay, and Qualifications of Green Jobs\n",
    "\n",
    "> **RQ 3: What is the quality of these jobs? How much do they pay? What qualifications are needed (education and experience)?**\n",
    ">\n",
    "> TBD\n",
    "\n",
    "### 4. Demographics of Green Job Recipients\n",
    "\n",
    "> **RQ 4: Who is getting these jobs, based on education, race/ethnicity, gender, and income levels?**\n",
    ">\n",
    "> Of the more than **303,820 people** who live in **St. Paul**, **50.5%** are women, which is aligned with the national average. The majority of residents in St. Paul are **white** (54.3%). **Black or African American people** (15.6%) make up the largest community of color in the city. Other **communities of color,** including Asian (18.4%), Alaska and Native American (0.7%), Hispanic or Latino (8.6%) and Two or More Races (7.8%), make up about 41.5% of the population. Around **42.8% of people aged 25 and older have a bachelor’s degree** in St. Paul, which is higher than the national rate of 34% but lower than Minneapolis’ 54%.\n",
    "\n",
    "In the following figures, we describe the challenges women and people of color in Minneapolis are likely to face in equitably accessing the jobs that may be created through BIL and IRA funding in three specific sectors: energy efficiency, renewable-energy generation, and green construction.\n",
    "\n",
    "**Sources**: Demographic data from 2022 American Community Survey Public Use Microdata Sample (ACS PUMS); total employment from 2022 Occupational Employment and Wage Survey (OEWS); occupational job quality ratings from [Job Quality and Race and Gender Equity](https://www.urban.org/research/publication/job-quality-and-race-and-gender-equity); occupation codes from [O\\*NET](https://www.onetonline.org/)."
   ],
   "id": "c55f1c2d-521a-4b44-9b1b-134f025d1e91"
  }
 ],
 "nbformat": 4,
 "nbformat_minor": 5,
 "metadata": {}
}
