{
 "cells": [
  {
   "cell_type": "markdown",
   "metadata": {},
   "source": [
    "# Climate resilience requires equitable access to quality green energy\n",
    "\n",
    "jobs. St. Paul is at the forefront.\n",
    "\n",
    "Elham Ali (Beeck Center for Social Impact and Innovation at Georgetown University)  \n",
    "September 19, 2024\n",
    "\n",
    "Minnesota, particularly the City of Saint Paul, has seen a surge in climate resilience funding aimed at expanding green energy job opportunities. However, BIPOC communities remain underrepresented in these jobs and disproportionately suffer from the adverse effects of human-driven climate change.\n",
    "\n",
    "## Background\n",
    "\n",
    "This analysis looks at access to green energy jobs (like energy efficiency, renewable energy, and green construction) by race/ethnicity, gender, education, and income in St. Paul, Minnesota, USA.\n",
    "\n",
    "## Questions\n",
    "\n",
    "Here are some of the questions I will explore using different datasets:\n",
    "\n",
    "-   How much climate resilience funding has St. Paul received?\n",
    "-   What specific green jobs are being created in St. Paul (e.g., energy efficiency, renewable energy, green construction)?\n",
    "-   What is the quality of these jobs? How much do they pay? What qualifications are needed (education and experience)?\n",
    "-   Who is getting these jobs, based on education, race/ethnicity, gender, and income levels?\n",
    "\n",
    "## Data Sources\n",
    "\n",
    "The data for this project comes from:\n",
    "\n",
    "-   The National Center for O\\*NET Development\n",
    "-   2023 Occupational Employment and Wage Survey\n",
    "-   Urban Institute 11 elements of job quality: Clean Energy Job Quality and Education Data\n",
    "-   National and local demographic data from the 2022 American Community Survey Public Use Microdata Sample (ACS PUMS)\n",
    "-   US Census Bureau’s 2023 QuickFacts tool\n",
    "-   Invest.gov\n",
    "-   Geocorr from the Missouri Census Data Center\n",
    "\n",
    "I will reduce each large dataset to focus only on questions related to green jobs and job quality. Please note that some datasets have already been pre-processed in Python with specific filters applied. You can find the original raw datasets in the data folder for reference.\n",
    "\n",
    "## Analysis\n",
    "\n",
    "I will look at each question one by one and clean the data as I go. Some datasets might need to be combined, so I will organize the data during the analysis before exploring the results.\n",
    "\n",
    "### Load packages and libraries"
   ],
   "id": "4b4f618c-d275-4eb1-aed1-44dc0f9c1e0f"
  },
  {
   "cell_type": "code",
   "execution_count": null,
   "metadata": {},
   "outputs": [
    {
     "output_type": "stream",
     "name": "stderr",
     "text": [
      "here() starts at /Users/elhamali/Documents/Data Projects/climate-equity-workforce"
     ]
    },
    {
     "output_type": "stream",
     "name": "stderr",
     "text": [
      "── Attaching core tidyverse packages ──────────────────────── tidyverse 2.0.0 ──\n",
      "✔ dplyr     1.1.4     ✔ readr     2.1.5\n",
      "✔ forcats   1.0.0     ✔ stringr   1.5.1\n",
      "✔ ggplot2   3.5.1     ✔ tibble    3.2.1\n",
      "✔ lubridate 1.9.3     ✔ tidyr     1.3.1\n",
      "✔ purrr     1.0.2     "
     ]
    },
    {
     "output_type": "stream",
     "name": "stderr",
     "text": [
      "── Conflicts ────────────────────────────────────────── tidyverse_conflicts() ──\n",
      "✖ dplyr::filter() masks stats::filter()\n",
      "✖ dplyr::lag()    masks stats::lag()\n",
      "ℹ Use the conflicted package (<http://conflicted.r-lib.org/>) to force all conflicts to become errors"
     ]
    },
    {
     "output_type": "stream",
     "name": "stderr",
     "text": [
      "\n",
      "Attaching package: 'rlang'\n",
      "\n",
      "The following objects are masked from 'package:purrr':\n",
      "\n",
      "    %@%, flatten, flatten_chr, flatten_dbl, flatten_int, flatten_lgl,\n",
      "    flatten_raw, invoke, splice"
     ]
    },
    {
     "output_type": "stream",
     "name": "stderr",
     "text": [
      "Registered S3 method overwritten by 'quantmod':\n",
      "  method            from\n",
      "  as.zoo.data.frame zoo "
     ]
    },
    {
     "output_type": "stream",
     "name": "stderr",
     "text": [
      "\n",
      "Attaching package: 'igraph'\n",
      "\n",
      "The following object is masked from 'package:rlang':\n",
      "\n",
      "    is_named\n",
      "\n",
      "The following objects are masked from 'package:lubridate':\n",
      "\n",
      "    %--%, union\n",
      "\n",
      "The following objects are masked from 'package:dplyr':\n",
      "\n",
      "    as_data_frame, groups, union\n",
      "\n",
      "The following objects are masked from 'package:purrr':\n",
      "\n",
      "    compose, simplify\n",
      "\n",
      "The following object is masked from 'package:tidyr':\n",
      "\n",
      "    crossing\n",
      "\n",
      "The following object is masked from 'package:tibble':\n",
      "\n",
      "    as_data_frame\n",
      "\n",
      "The following objects are masked from 'package:stats':\n",
      "\n",
      "    decompose, spectrum\n",
      "\n",
      "The following object is masked from 'package:base':\n",
      "\n",
      "    union"
     ]
    }
   ],
   "source": [
    "## For folder structure\n",
    "library(here)"
   ],
   "id": "96c0a35b-4832-4fa5-b5a3-eb3ff87a4b8f"
  },
  {
   "cell_type": "markdown",
   "metadata": {},
   "source": [
    "### 1. Climate Resilience Funding for St. Paul\n",
    "\n",
    "> **RQ 1: How much climate resilience funding has the City of Saint Paul received?**\n",
    ">\n",
    "> As of June 2024, **Minnesota** received a total of \\$7,101,423,527 in funding for climate resilience, while **St. Paul** received \\$446,286,762. Specifically, as of January 2024, St. Paul has secured \\$433,028,012 from the Bipartisan Infrastructure Law (BIL) and \\$13,258,750 from the Inflation Reduction Act (IRA) for **climate resilience efforts.**\n",
    ">\n",
    "> St. Paul’s funding makes up **6.28%** of Minnesota’s total climate resilience funding. Nearly **95% of St. Paul’s funding i**s allocated to **transportation** **projects**, with clean energy, buildings, and manufacturing receiving **less than 2% of the total**. It’s like filling up a swimming pool with water but using only a small 8 oz glass for clean energy, buildings, and manufacturing.\n",
    ">\n",
    "> As of January 2024, St. Paul received **\\$8,337,843 from the BIL** and **\\$200,000 from the IRA** specifically for investments in clean energy, buildings, and manufacturing."
   ],
   "id": "c05607e7-9cf5-4e97-b947-814c98d1d6f9"
  },
  {
   "cell_type": "code",
   "execution_count": null,
   "metadata": {},
   "outputs": [
    {
     "output_type": "stream",
     "name": "stderr",
     "text": [
      "Warning: One or more parsing issues, call `problems()` on your data frame for details,\n",
      "e.g.:\n",
      "  dat <- vroom(...)\n",
      "  problems(dat)"
     ]
    },
    {
     "output_type": "stream",
     "name": "stderr",
     "text": [
      "Rows: 49535 Columns: 15\n",
      "── Column specification ────────────────────────────────────────────────────────\n",
      "Delimiter: \",\"\n",
      "chr (14): Agency Name, Bureau Name, Program Name, Category, Subcategory, Pro...\n",
      "dbl  (1): Unique ID\n",
      "\n",
      "ℹ Use `spec()` to retrieve the full column specification for this data.\n",
      "ℹ Specify the column types or set `show_col_types = FALSE` to quiet this message."
     ]
    }
   ],
   "source": [
    "# Import data\n",
    "funding <- read_csv(here(\"processed_data\", \"FundingSummary.csv\"))"
   ],
   "id": "8a288064-fa99-4986-adc5-c53d60a952ad"
  },
  {
   "cell_type": "code",
   "execution_count": null,
   "metadata": {},
   "outputs": [
    {
     "output_type": "stream",
     "name": "stderr",
     "text": [
      "Warning: There was 1 warning in `mutate()`.\n",
      "ℹ In argument: `Funding Amount = as.numeric(gsub(\",\", \"\", `Funding Amount`))`.\n",
      "Caused by warning:\n",
      "! NAs introduced by coercion"
     ]
    }
   ],
   "source": [
    "### Convert the `Funding Amount` to numeric and handling commas in the values\n",
    "\n",
    "funding <- funding %>%\n",
    "  mutate(`Funding Amount` = as.numeric(gsub(\",\", \"\", `Funding Amount`)))"
   ],
   "id": "96677817-988a-4dc4-ba5a-03979dcf4410"
  },
  {
   "cell_type": "markdown",
   "metadata": {},
   "source": [
    "#### Filter for MN State and City of St. Paul\n",
    "\n",
    "First, I will filter the dataset by State: **Minnesota**, and then narrow it down further to focus on the **City of St. Paul** and the surrounding region. Please note that St. Paul is part of the **Minneapolis-St. Paul-Bloomington, MN-WI** region, so I’ll ensure it’s included within that larger metropolitan area."
   ],
   "id": "dfbc2596-25bd-4124-a7c8-3c11a408901a"
  },
  {
   "cell_type": "code",
   "execution_count": null,
   "metadata": {},
   "outputs": [],
   "source": [
    "# Filter for Minnesota funding\n",
    "minnesota_funding <- funding %>%\n",
    "  filter(State == \"Minnesota\")\n",
    "\n",
    "saveRDS(minnesota_funding, here(\"processed_data\", \"minnesota_funding.rds\"))"
   ],
   "id": "bf4ed2c5-0cc9-4c29-a023-9159fc17bd3f"
  },
  {
   "cell_type": "code",
   "execution_count": null,
   "metadata": {},
   "outputs": [],
   "source": [
    "# Further filter for St. Paul, considering variations in city names\n",
    "st_paul_funding <- minnesota_funding %>%\n",
    "  filter(str_detect(City, regex(\"Saint Paul|St. Paul|South St. Paul|Minneapolis--St. Paul|Minneapolis-St. Paul\", ignore_case = TRUE)))\n",
    "\n",
    "saveRDS(st_paul_funding, here(\"processed_data\", \"st_paul_funding.rds\"))\n",
    "\n",
    "# glimpse(st_paul_funding)"
   ],
   "id": "bdf1163e-06ef-45e3-afb1-48b934b0fdda"
  },
  {
   "cell_type": "markdown",
   "metadata": {},
   "source": [
    "#### Calculate funding for MN State and City of St. Paul"
   ],
   "id": "e76d9af2-7d83-448c-a00d-b145522a3e20"
  },
  {
   "cell_type": "code",
   "execution_count": null,
   "metadata": {},
   "outputs": [
    {
     "output_type": "stream",
     "name": "stdout",
     "text": [
      "The total amount of funding Minnesota received for climate as of June 2024 is $ 7,101,423,527 "
     ]
    },
    {
     "output_type": "stream",
     "name": "stdout",
     "text": [
      "The total amount of funding St. Paul received for climate as of June 2024 is $ 446,286,762 "
     ]
    },
    {
     "output_type": "stream",
     "name": "stdout",
     "text": [
      "As of January 2024, St. Paul has been allocated $ 433,028,012  from the Bipartisan Infrastructure Law (BIL) and $ 13,258,750  from the Inflation Reduction Act (IRA)."
     ]
    },
    {
     "output_type": "stream",
     "name": "stdout",
     "text": [
      "The total amount of funding St. Paul received for 'Clean Energy, Buildings, and Manufacturing' as of June 2024 is $ 8,537,843 "
     ]
    },
    {
     "output_type": "stream",
     "name": "stdout",
     "text": [
      "As of January 2024, St. Paul has been allocated $ 8,337,843  from the Bipartisan Infrastructure Law (BIL) and $ 200,000  from the Inflation Reduction Act (IRA) to invest in 'Clean Energy, Buildings, and Manufacturing'."
     ]
    }
   ],
   "source": [
    "# Set options to avoid scientific notation\n",
    "options(scipen = 999)\n",
    "\n",
    "# Load Minnesota and St. Paul data\n",
    "minnesota_funding <- readRDS(here(\"processed_data\", \"minnesota_funding.rds\"))\n",
    "st_paul_funding <- readRDS(here(\"processed_data\", \"st_paul_funding.rds\"))\n",
    "\n",
    "# Calculate total funding for Minnesota\n",
    "total_minnesota_funding <- minnesota_funding %>%\n",
    "  summarise(total_funding = sum(`Funding Amount`, na.rm = TRUE))\n",
    "\n",
    "cat(\"The total amount of funding Minnesota received for climate as of June 2024 is $\", \n",
    "    format(total_minnesota_funding$total_funding, big.mark = \",\"), \"\\n\")"
   ],
   "id": "fc8c4b35-7513-4b28-8d45-bae4fb7ad874"
  },
  {
   "cell_type": "markdown",
   "metadata": {},
   "source": [
    "As of January 2024, St. Paul has been allocated \\$ 433,028,012 million from the Bipartisan Infrastructure Law (BIL) and \\$ 13,258,750 from the Inflation Reduction Act (IRA) to invest in climate resilience efforts in total.\n",
    "\n",
    "As of January 2024, St. Paul has been allocated \\$ 8,337,843 million from the Bipartisan Infrastructure Law (BIL) and \\$ 200,000 from the Inflation Reduction Act (IRA) to invest in ‘Clean Energy, Buildings, and Manufacturing’.\n",
    "\n",
    "#### Calculate fraction of St. Paul’s funding from MN’s"
   ],
   "id": "09a79070-7388-432b-a7f5-95253293c96c"
  },
  {
   "cell_type": "code",
   "execution_count": null,
   "metadata": {},
   "outputs": [
    {
     "output_type": "stream",
     "name": "stdout",
     "text": [
      "The fraction of St. Paul's funding from Minnesota's total funding is:  0.0628 "
     ]
    },
    {
     "output_type": "stream",
     "name": "stdout",
     "text": [
      "This means St. Paul's funding is 6.28 % of Minnesota's total funding."
     ]
    }
   ],
   "source": [
    "minnesota_funding <- readRDS(here(\"processed_data\", \"minnesota_funding.rds\"))\n",
    "st_paul_funding <- readRDS(here(\"processed_data\", \"st_paul_funding.rds\"))\n",
    "\n",
    "# Calculate total funding for Minnesota\n",
    "total_minnesota_funding <- minnesota_funding %>%\n",
    "  summarise(total_funding = sum(`Funding Amount`, na.rm = TRUE)) %>%\n",
    "  pull(total_funding)\n",
    "\n",
    "# Calculate total funding for St. Paul\n",
    "total_st_paul_funding <- st_paul_funding %>%\n",
    "  summarise(total_funding = sum(`Funding Amount`, na.rm = TRUE)) %>%\n",
    "  pull(total_funding)\n",
    "\n",
    "# Calculate the fraction of St. Paul's funding from Minnesota's total funding\n",
    "fraction_st_paul <- total_st_paul_funding / total_minnesota_funding\n",
    "\n",
    "# Output the results\n",
    "cat(\"The fraction of St. Paul's funding from Minnesota's total funding is: \", \n",
    "    round(fraction_st_paul, 4), \"\\n\")"
   ],
   "id": "8782d8e0-bbc6-49a4-9a14-8214a1593bb6"
  },
  {
   "cell_type": "markdown",
   "metadata": {},
   "source": [
    "#### Visualize categories of funding for St. Paul"
   ],
   "id": "71218d70-99dc-446f-9282-bfafe626fb2c"
  },
  {
   "cell_type": "code",
   "execution_count": null,
   "metadata": {},
   "outputs": [],
   "source": [
    "# Group the St. Paul data by Category and calculate the total funding for each category\n",
    "st_paul_category_funding <- st_paul_funding %>%\n",
    "  group_by(Category) %>%\n",
    "  summarise(total_funding = sum(`Funding Amount`, na.rm = TRUE)) %>%\n",
    "  arrange(desc(total_funding))\n",
    "\n",
    "colors <- brewer.pal(n = length(unique(st_paul_category_funding$Category)), \"Set3\")\n",
    "\n",
    "# Create an interactive bar chart using highcharter\n",
    "hchart_bar <- highchart() %>%\n",
    "  hc_chart(type = \"bar\") %>%\n",
    "  hc_xAxis(categories = st_paul_category_funding$Category, title = list(text = \"Category\")) %>%\n",
    "  hc_yAxis(title = list(text = \"Total Funding ($)\"), labels = list(format = \"{value:,.0f}\")) %>%\n",
    "  hc_add_series(name = \"Total Funding\", \n",
    "                data = st_paul_category_funding$total_funding, \n",
    "                colorByPoint = TRUE, \n",
    "                colors = colors) %>%\n",
    "  hc_title(text = \"Total Funding by Category in St. Paul\") %>%\n",
    "  hc_tooltip(pointFormat = \"Total Funding: ${point.y:,.0f}\") %>%\n",
    "  hc_exporting(\n",
    "    enabled = TRUE,\n",
    "    buttons = list(contextButton = list(menuItems = c(\"downloadPNG\", \"downloadJPEG\", \"downloadSVG\", \"downloadPDF\")))\n",
    "  )\n",
    "\n",
    "# Saving the chart as an HTML file\n",
    "saveWidget(hchart_bar, file = here(\"graphs\", \"st_paul_funding_bar.html\"))"
   ],
   "id": "a373a031-8cdb-4f0d-921b-695eb0de5e33"
  },
  {
   "cell_type": "markdown",
   "metadata": {},
   "source": [
    "A quick glance tells us that almost **95%** of St. Paul’s funding goes to transportation efforts. Clean energy, buildings and manufacturing received less than **2%** of funding."
   ],
   "id": "25b40b62-507c-4c87-8e39-dc67ab17c1b2"
  },
  {
   "cell_type": "code",
   "execution_count": null,
   "metadata": {},
   "outputs": [],
   "source": [
    "# Create an interactive pie chart using highcharter\n",
    "hchart_pie <- highchart() %>%\n",
    "  hc_chart(type = \"pie\") %>%\n",
    "  hc_add_series(name = \"Total Funding\", \n",
    "                data = list_parse2(st_paul_category_funding %>% \n",
    "                                   mutate(name = Category, y = total_funding)), \n",
    "                colors = colors) %>%\n",
    "  hc_title(text = \"Total Funding by Category in St. Paul\") %>%\n",
    "  hc_tooltip(pointFormat = \"Total Funding: ${point.y:,.0f}\") %>%\n",
    "  hc_plotOptions(pie = list(innerSize = '50%', dataLabels = list(enabled = TRUE))) %>%\n",
    "  hc_exporting(\n",
    "    enabled = TRUE,\n",
    "    buttons = list(contextButton = list(menuItems = c(\"downloadPNG\", \"downloadJPEG\", \"downloadSVG\", \"downloadPDF\")))\n",
    "  )\n",
    "\n",
    "saveWidget(hchart_pie, file = here(\"graphs\", \"st_paul_funding_pie.html\"))"
   ],
   "id": "4216378d-9fe5-4182-8c9e-b2b7342ecdff"
  },
  {
   "cell_type": "code",
   "execution_count": null,
   "metadata": {},
   "outputs": [],
   "source": [
    "## Export the funding data to CSV for graphing\n",
    "write.csv(minnesota_funding, here(\"processed_data\", \"minnesota_funding.csv\"), row.names = FALSE)\n",
    "write.csv(st_paul_funding, here(\"processed_data\", \"st_paul_funding.csv\"), row.names = FALSE)"
   ],
   "id": "755a83de-942a-4eae-9dfb-63297ee02eaf"
  },
  {
   "cell_type": "markdown",
   "metadata": {},
   "source": [
    "### 2. Types of Green Jobs in St. Paul\n",
    "\n",
    "> **RQ 2: What specific green jobs are being created in the City of Saint Paul and nationally (e.g., energy efficiency, renewable energy, green construction)?**\n",
    ">\n",
    "> <u>Nationally</u>\n",
    ">\n",
    "> There’s a total of **17,119,730 employed people** in green jobs nationally. Specifically, in **Energy Efficiency**, there are 4,928,520 (28.79 %), in **Green Construction** there are 10,624,140 (62.06 %), and in **Renewable Energy Generation** there are 1,567,070 (9.15 %).\n",
    ">\n",
    "> The **mean annual wage** for the occupation in U.S. dollars for green jobs is \\$78,363.4, and for non-green jobs is \\$73,763.67. That means green jobs pay **\\$4,599.73 more** than non-green jobs **nationally**.\n",
    ">\n",
    "> The **mean hourly wage** for the occupation in U.S. dollars for green jobs is \\$37.67547, and for non-green jobs is \\$34.80. That means green jobs pay **\\$2.88 more** than non-green jobs **nationally**.\n",
    ">\n",
    "> <u>City of Saint Paul</u>\n",
    ">\n",
    "> There’s a total of **214,340 employed people** in green jobs in Saint Paul. Specifically, in **Energy Efficiency**, there are 66,410 ( 30.98 %), in **Green Construction** there are 124,680 ( 58.17 %), and in **Renewable Energy Generation** there are 23,250 ( 10.85 %).\n",
    ">\n",
    "> The **mean annual wage** for the occupation in U.S. dollars for green jobs **in Saint Paul** is \\$84,561.7, and for non-green jobs is \\$77,192.53. That means green jobs in Saint Paul pay \\$7,369.169 more than non-green jobs in Saint Paul.\n",
    ">\n",
    "> The **mean hourly wage** for the occupation in U.S. dollars for green jobs **in Saint Paul** is \\$40.65, and for non-green jobs is \\$36.31. That means green jobs in Saint Paul pay **\\$4.35 more** than non-green jobs in Saint Paul.\n",
    "\n",
    "#### Green jobs nationally"
   ],
   "id": "f05e109e-c112-46ff-92e9-1696d5da19f9"
  },
  {
   "cell_type": "code",
   "execution_count": null,
   "metadata": {},
   "outputs": [
    {
     "output_type": "stream",
     "name": "stderr",
     "text": [
      "Rows: 1420 Columns: 34\n",
      "── Column specification ────────────────────────────────────────────────────────\n",
      "Delimiter: \",\"\n",
      "chr (21): AREA_TITLE, PRIM_STATE, NAICS_TITLE, I_GROUP, OCC_CODE, OCC_TITLE,...\n",
      "dbl  (7): AREA, AREA_TYPE, NAICS, OWN_CODE, TOT_EMP, EMP_PRSE, MEAN_PRSE\n",
      "lgl  (6): JOBS_1000, LOC_QUOTIENT, PCT_TOTAL, PCT_RPT, ANNUAL, HOURLY\n",
      "\n",
      "ℹ Use `spec()` to retrieve the full column specification for this data.\n",
      "ℹ Specify the column types or set `show_col_types = FALSE` to quiet this message."
     ]
    }
   ],
   "source": [
    "# Import national jobs data\n",
    "national_jobs <- read_csv(here(\"processed_data\", \"OWES_and_ONET-National.csv\"))"
   ],
   "id": "34e70c76-3870-4d7e-832d-914370db5a56"
  },
  {
   "cell_type": "markdown",
   "metadata": {},
   "source": [
    "Here, we’d want to filter to only green jobs"
   ],
   "id": "9e343dd0-e27a-4332-9831-db5fa97d93c2"
  },
  {
   "cell_type": "code",
   "execution_count": null,
   "metadata": {},
   "outputs": [
    {
     "output_type": "stream",
     "name": "stderr",
     "text": [
      "Warning: There were 4 warnings in `mutate()`.\n",
      "The first warning was:\n",
      "ℹ In argument: `H_MEAN = as.numeric(H_MEAN)`.\n",
      "Caused by warning:\n",
      "! NAs introduced by coercion\n",
      "ℹ Run `dplyr::last_dplyr_warnings()` to see the 3 remaining warnings."
     ]
    },
    {
     "output_type": "stream",
     "name": "stdout",
     "text": [
      "# A tibble: 4 × 6\n",
      "  `O*NET-SOC Sector`           TOT_EMP H_MEAN A_MEAN A_MEDIAN H_MEDIAN\n",
      "  <chr>                          <dbl>  <dbl>  <dbl>    <dbl>    <dbl>\n",
      "1 Energy Efficiency            4928520   43.0 89371     86355     41.5\n",
      "2 Green Construction          10624140   33.9 70506.    60165     28.9\n",
      "3 Renewable Energy Generation  1567070   42.3 88028.    97010     46.6\n",
      "4 All                         17119730   37.7 78363.    67640     32.5"
     ]
    }
   ],
   "source": [
    "# Convert necessary columns to numeric where needed\n",
    "national_jobs <- national_jobs %>%\n",
    "  mutate(\n",
    "    TOT_EMP = as.numeric(TOT_EMP),\n",
    "    # JOBS_1000 = as.numeric(JOBS_1000),\n",
    "    # PCT_TOTAL = as.numeric(PCT_TOTAL),\n",
    "    H_MEAN = as.numeric(H_MEAN),\n",
    "    A_MEAN = as.numeric(A_MEAN),\n",
    "    A_MEDIAN = as.numeric(A_MEDIAN),\n",
    "    H_MEDIAN = as.numeric(H_MEDIAN)\n",
    "  )"
   ],
   "id": "52a9fe03-c617-450c-9f26-a0cc1c430335"
  },
  {
   "cell_type": "code",
   "execution_count": null,
   "metadata": {},
   "outputs": [
    {
     "output_type": "stream",
     "name": "stdout",
     "text": [
      "There's a total of 17,119,730 employed people in green jobs nationally. Specifically, in Energy Efficiency, there are 4,928,520 ( 28.79 %), in Green Construction there are 10,624,140 ( 62.06 %), and in Renewable Energy Generation there are 1,567,070 ( 9.15 %)."
     ]
    }
   ],
   "source": [
    "# Calculate total employment and sector percentages\n",
    "total_green_jobs <- final_summary %>% filter(`O*NET-SOC Sector` == \"All\") %>% pull(TOT_EMP)\n",
    "\n",
    "energy_efficiency_jobs <- final_summary %>% filter(`O*NET-SOC Sector` == \"Energy Efficiency\") %>% pull(TOT_EMP)\n",
    "green_construction_jobs <- final_summary %>% filter(`O*NET-SOC Sector` == \"Green Construction\") %>% pull(TOT_EMP)\n",
    "renewable_energy_jobs <- final_summary %>% filter(`O*NET-SOC Sector` == \"Renewable Energy Generation\") %>% pull(TOT_EMP)\n",
    "\n",
    "# Calculate the percentages\n",
    "energy_efficiency_pct <- round((energy_efficiency_jobs / total_green_jobs) * 100, 2)\n",
    "green_construction_pct <- round((green_construction_jobs / total_green_jobs) * 100, 2)\n",
    "renewable_energy_pct <- round((renewable_energy_jobs / total_green_jobs) * 100, 2)\n",
    "\n",
    "# Create the concatenated sentence\n",
    "cat(\"There's a total of\", format(total_green_jobs, big.mark = \",\", scientific = FALSE), \n",
    "    \"employed people in green jobs nationally. Specifically, in Energy Efficiency, there are\", \n",
    "    format(energy_efficiency_jobs, big.mark = \",\", scientific = FALSE), \n",
    "    \"(\", energy_efficiency_pct, \"%), in Green Construction there are\", \n",
    "    format(green_construction_jobs, big.mark = \",\", scientific = FALSE), \n",
    "    \"(\", green_construction_pct, \"%), and in Renewable Energy Generation there are\", \n",
    "    format(renewable_energy_jobs, big.mark = \",\", scientific = FALSE), \n",
    "    \"(\", renewable_energy_pct, \"%).\\n\")"
   ],
   "id": "3a24ef99-b86d-48bc-9d41-620a67a88979"
  },
  {
   "cell_type": "markdown",
   "metadata": {},
   "source": [
    "Let’s visualize this so it’s easier to compare across all green sectors"
   ],
   "id": "0bc03a8b-41ca-4dfd-a4f7-2efc8237c84c"
  },
  {
   "cell_type": "code",
   "execution_count": null,
   "metadata": {},
   "outputs": [
    {
     "output_type": "display_data",
     "metadata": {},
     "data": {
      "text/html": [
       "<div class=\"highchart html-widget html-fill-item\" id=\"htmlwidget-f03987309a1453243f04\" style=\"width:100%;height:464px;\"></div>\n",
       "<script type=\"application/json\" data-for=\"htmlwidget-f03987309a1453243f04\">{\"x\":{\"hc_opts\":{\"chart\":{\"reflow\":true},\"title\":{\"text\":\"Total Employment by Sector\"},\"yAxis\":{\"title\":{\"text\":\"Total Employment\"},\"type\":\"linear\",\"labels\":{\"format\":\"{value:,0f}\"}},\"credits\":{\"enabled\":false},\"exporting\":{\"enabled\":false},\"boost\":{\"enabled\":false},\"plotOptions\":{\"series\":{\"label\":{\"enabled\":false},\"turboThreshold\":0,\"showInLegend\":false},\"treemap\":{\"layoutAlgorithm\":\"squarified\"},\"scatter\":{\"marker\":{\"symbol\":\"circle\"}}},\"series\":[{\"group\":\"group\",\"data\":[{\"O*NET-SOC Sector\":\"Energy Efficiency\",\"TOT_EMP\":4928520,\"H_MEAN\":42.968,\"A_MEAN\":89371,\"A_MEDIAN\":86355,\"H_MEDIAN\":41.515,\"y\":4928520,\"name\":\"Energy Efficiency\"},{\"O*NET-SOC Sector\":\"Green Construction\",\"TOT_EMP\":10624140,\"H_MEAN\":33.898,\"A_MEAN\":70506.33333333334,\"A_MEDIAN\":60165,\"H_MEDIAN\":28.925,\"y\":10624140,\"name\":\"Green Construction\"},{\"O*NET-SOC Sector\":\"Renewable Energy Generation\",\"TOT_EMP\":1567070,\"H_MEAN\":42.32153846153846,\"A_MEAN\":88027.69230769231,\"A_MEDIAN\":97010,\"H_MEDIAN\":46.64,\"y\":1567070,\"name\":\"Renewable Energy Generation\"},{\"O*NET-SOC Sector\":\"All\",\"TOT_EMP\":17119730,\"H_MEAN\":37.67547169811321,\"A_MEAN\":78363.39622641511,\"A_MEDIAN\":67640,\"H_MEDIAN\":32.52,\"y\":17119730,\"name\":\"All\"}],\"type\":\"column\"}],\"xAxis\":{\"type\":\"category\",\"title\":{\"text\":\"Sector\"}},\"tooltip\":{\"pointFormat\":\"<b>{point.y:,0f}<\\/b>\"}},\"theme\":{\"chart\":{\"backgroundColor\":\"transparent\"},\"colors\":[\"#7cb5ec\",\"#434348\",\"#90ed7d\",\"#f7a35c\",\"#8085e9\",\"#f15c80\",\"#e4d354\",\"#2b908f\",\"#f45b5b\",\"#91e8e1\"]},\"conf_opts\":{\"global\":{\"Date\":null,\"VMLRadialGradientURL\":\"http =//code.highcharts.com/list(version)/gfx/vml-radial-gradient.png\",\"canvasToolsURL\":\"http =//code.highcharts.com/list(version)/modules/canvas-tools.js\",\"getTimezoneOffset\":null,\"timezoneOffset\":0,\"useUTC\":true},\"lang\":{\"contextButtonTitle\":\"Chart context menu\",\"decimalPoint\":\".\",\"downloadCSV\":\"Download CSV\",\"downloadJPEG\":\"Download JPEG image\",\"downloadPDF\":\"Download PDF document\",\"downloadPNG\":\"Download PNG image\",\"downloadSVG\":\"Download SVG vector image\",\"downloadXLS\":\"Download XLS\",\"drillUpText\":\"◁ Back to {series.name}\",\"exitFullscreen\":\"Exit from full screen\",\"exportData\":{\"annotationHeader\":\"Annotations\",\"categoryDatetimeHeader\":\"DateTime\",\"categoryHeader\":\"Category\"},\"hideData\":\"Hide data table\",\"invalidDate\":null,\"loading\":\"Loading...\",\"months\":[\"January\",\"February\",\"March\",\"April\",\"May\",\"June\",\"July\",\"August\",\"September\",\"October\",\"November\",\"December\"],\"noData\":\"No data to display\",\"numericSymbolMagnitude\":1000,\"numericSymbols\":[\"k\",\"M\",\"G\",\"T\",\"P\",\"E\"],\"printChart\":\"Print chart\",\"resetZoom\":\"Reset zoom\",\"resetZoomTitle\":\"Reset zoom level 1:1\",\"shortMonths\":[\"Jan\",\"Feb\",\"Mar\",\"Apr\",\"May\",\"Jun\",\"Jul\",\"Aug\",\"Sep\",\"Oct\",\"Nov\",\"Dec\"],\"shortWeekdays\":[\"Sat\",\"Sun\",\"Mon\",\"Tue\",\"Wed\",\"Thu\",\"Fri\"],\"thousandsSep\":\" \",\"viewData\":\"View data table\",\"viewFullscreen\":\"View in full screen\",\"weekdays\":[\"Sunday\",\"Monday\",\"Tuesday\",\"Wednesday\",\"Thursday\",\"Friday\",\"Saturday\"]}},\"type\":\"chart\",\"fonts\":[],\"debug\":false},\"evals\":[],\"jsHooks\":[]}</script>"
      ]
     }
    },
    {
     "output_type": "display_data",
     "metadata": {},
     "data": {
      "text/html": [
       "<div class=\"highchart html-widget html-fill-item\" id=\"htmlwidget-c17c334ea3bde936c058\" style=\"width:100%;height:464px;\"></div>\n",
       "<script type=\"application/json\" data-for=\"htmlwidget-c17c334ea3bde936c058\">{\"x\":{\"hc_opts\":{\"chart\":{\"reflow\":true},\"title\":{\"text\":\"Mean Hourly Wage by Sector\"},\"yAxis\":{\"title\":{\"text\":\"Mean Hourly Wage (USD)\"},\"type\":\"linear\"},\"credits\":{\"enabled\":false},\"exporting\":{\"enabled\":false},\"boost\":{\"enabled\":false},\"plotOptions\":{\"series\":{\"label\":{\"enabled\":false},\"turboThreshold\":0,\"showInLegend\":false},\"treemap\":{\"layoutAlgorithm\":\"squarified\"},\"scatter\":{\"marker\":{\"symbol\":\"circle\"}}},\"series\":[{\"group\":\"group\",\"data\":[{\"O*NET-SOC Sector\":\"Energy Efficiency\",\"TOT_EMP\":4928520,\"H_MEAN\":42.968,\"A_MEAN\":89371,\"A_MEDIAN\":86355,\"H_MEDIAN\":41.515,\"y\":42.968,\"name\":\"Energy Efficiency\"},{\"O*NET-SOC Sector\":\"Green Construction\",\"TOT_EMP\":10624140,\"H_MEAN\":33.898,\"A_MEAN\":70506.33333333334,\"A_MEDIAN\":60165,\"H_MEDIAN\":28.925,\"y\":33.898,\"name\":\"Green Construction\"},{\"O*NET-SOC Sector\":\"Renewable Energy Generation\",\"TOT_EMP\":1567070,\"H_MEAN\":42.32153846153846,\"A_MEAN\":88027.69230769231,\"A_MEDIAN\":97010,\"H_MEDIAN\":46.64,\"y\":42.32153846153846,\"name\":\"Renewable Energy Generation\"},{\"O*NET-SOC Sector\":\"All\",\"TOT_EMP\":17119730,\"H_MEAN\":37.67547169811321,\"A_MEAN\":78363.39622641511,\"A_MEDIAN\":67640,\"H_MEDIAN\":32.52,\"y\":37.67547169811321,\"name\":\"All\"}],\"type\":\"column\"}],\"xAxis\":{\"type\":\"category\",\"title\":{\"text\":\"Sector\"}},\"tooltip\":{\"pointFormat\":\"<b>{point.y:.2f} USD<\\/b>\"}},\"theme\":{\"chart\":{\"backgroundColor\":\"transparent\"},\"colors\":[\"#7cb5ec\",\"#434348\",\"#90ed7d\",\"#f7a35c\",\"#8085e9\",\"#f15c80\",\"#e4d354\",\"#2b908f\",\"#f45b5b\",\"#91e8e1\"]},\"conf_opts\":{\"global\":{\"Date\":null,\"VMLRadialGradientURL\":\"http =//code.highcharts.com/list(version)/gfx/vml-radial-gradient.png\",\"canvasToolsURL\":\"http =//code.highcharts.com/list(version)/modules/canvas-tools.js\",\"getTimezoneOffset\":null,\"timezoneOffset\":0,\"useUTC\":true},\"lang\":{\"contextButtonTitle\":\"Chart context menu\",\"decimalPoint\":\".\",\"downloadCSV\":\"Download CSV\",\"downloadJPEG\":\"Download JPEG image\",\"downloadPDF\":\"Download PDF document\",\"downloadPNG\":\"Download PNG image\",\"downloadSVG\":\"Download SVG vector image\",\"downloadXLS\":\"Download XLS\",\"drillUpText\":\"◁ Back to {series.name}\",\"exitFullscreen\":\"Exit from full screen\",\"exportData\":{\"annotationHeader\":\"Annotations\",\"categoryDatetimeHeader\":\"DateTime\",\"categoryHeader\":\"Category\"},\"hideData\":\"Hide data table\",\"invalidDate\":null,\"loading\":\"Loading...\",\"months\":[\"January\",\"February\",\"March\",\"April\",\"May\",\"June\",\"July\",\"August\",\"September\",\"October\",\"November\",\"December\"],\"noData\":\"No data to display\",\"numericSymbolMagnitude\":1000,\"numericSymbols\":[\"k\",\"M\",\"G\",\"T\",\"P\",\"E\"],\"printChart\":\"Print chart\",\"resetZoom\":\"Reset zoom\",\"resetZoomTitle\":\"Reset zoom level 1:1\",\"shortMonths\":[\"Jan\",\"Feb\",\"Mar\",\"Apr\",\"May\",\"Jun\",\"Jul\",\"Aug\",\"Sep\",\"Oct\",\"Nov\",\"Dec\"],\"shortWeekdays\":[\"Sat\",\"Sun\",\"Mon\",\"Tue\",\"Wed\",\"Thu\",\"Fri\"],\"thousandsSep\":\" \",\"viewData\":\"View data table\",\"viewFullscreen\":\"View in full screen\",\"weekdays\":[\"Sunday\",\"Monday\",\"Tuesday\",\"Wednesday\",\"Thursday\",\"Friday\",\"Saturday\"]}},\"type\":\"chart\",\"fonts\":[],\"debug\":false},\"evals\":[],\"jsHooks\":[]}</script>"
      ]
     }
    },
    {
     "output_type": "display_data",
     "metadata": {},
     "data": {
      "text/html": [
       "<div class=\"highchart html-widget html-fill-item\" id=\"htmlwidget-bce4531518d960ace3c7\" style=\"width:100%;height:464px;\"></div>\n",
       "<script type=\"application/json\" data-for=\"htmlwidget-bce4531518d960ace3c7\">{\"x\":{\"hc_opts\":{\"chart\":{\"reflow\":true},\"title\":{\"text\":\"Mean Annual Wage by Sector\"},\"yAxis\":{\"title\":{\"text\":\"Mean Annual Wage (USD)\"},\"type\":\"linear\",\"labels\":{\"format\":\"{value:,0f}\"}},\"credits\":{\"enabled\":false},\"exporting\":{\"enabled\":false},\"boost\":{\"enabled\":false},\"plotOptions\":{\"series\":{\"label\":{\"enabled\":false},\"turboThreshold\":0,\"showInLegend\":false},\"treemap\":{\"layoutAlgorithm\":\"squarified\"},\"scatter\":{\"marker\":{\"symbol\":\"circle\"}}},\"series\":[{\"group\":\"group\",\"data\":[{\"O*NET-SOC Sector\":\"Energy Efficiency\",\"TOT_EMP\":4928520,\"H_MEAN\":42.968,\"A_MEAN\":89371,\"A_MEDIAN\":86355,\"H_MEDIAN\":41.515,\"y\":89371,\"name\":\"Energy Efficiency\"},{\"O*NET-SOC Sector\":\"Green Construction\",\"TOT_EMP\":10624140,\"H_MEAN\":33.898,\"A_MEAN\":70506.33333333334,\"A_MEDIAN\":60165,\"H_MEDIAN\":28.925,\"y\":70506.33333333334,\"name\":\"Green Construction\"},{\"O*NET-SOC Sector\":\"Renewable Energy Generation\",\"TOT_EMP\":1567070,\"H_MEAN\":42.32153846153846,\"A_MEAN\":88027.69230769231,\"A_MEDIAN\":97010,\"H_MEDIAN\":46.64,\"y\":88027.69230769231,\"name\":\"Renewable Energy Generation\"},{\"O*NET-SOC Sector\":\"All\",\"TOT_EMP\":17119730,\"H_MEAN\":37.67547169811321,\"A_MEAN\":78363.39622641511,\"A_MEDIAN\":67640,\"H_MEDIAN\":32.52,\"y\":78363.39622641511,\"name\":\"All\"}],\"type\":\"column\"}],\"xAxis\":{\"type\":\"category\",\"title\":{\"text\":\"Sector\"}},\"tooltip\":{\"pointFormat\":\"<b>{point.y:,0f} USD<\\/b>\"}},\"theme\":{\"chart\":{\"backgroundColor\":\"transparent\"},\"colors\":[\"#7cb5ec\",\"#434348\",\"#90ed7d\",\"#f7a35c\",\"#8085e9\",\"#f15c80\",\"#e4d354\",\"#2b908f\",\"#f45b5b\",\"#91e8e1\"]},\"conf_opts\":{\"global\":{\"Date\":null,\"VMLRadialGradientURL\":\"http =//code.highcharts.com/list(version)/gfx/vml-radial-gradient.png\",\"canvasToolsURL\":\"http =//code.highcharts.com/list(version)/modules/canvas-tools.js\",\"getTimezoneOffset\":null,\"timezoneOffset\":0,\"useUTC\":true},\"lang\":{\"contextButtonTitle\":\"Chart context menu\",\"decimalPoint\":\".\",\"downloadCSV\":\"Download CSV\",\"downloadJPEG\":\"Download JPEG image\",\"downloadPDF\":\"Download PDF document\",\"downloadPNG\":\"Download PNG image\",\"downloadSVG\":\"Download SVG vector image\",\"downloadXLS\":\"Download XLS\",\"drillUpText\":\"◁ Back to {series.name}\",\"exitFullscreen\":\"Exit from full screen\",\"exportData\":{\"annotationHeader\":\"Annotations\",\"categoryDatetimeHeader\":\"DateTime\",\"categoryHeader\":\"Category\"},\"hideData\":\"Hide data table\",\"invalidDate\":null,\"loading\":\"Loading...\",\"months\":[\"January\",\"February\",\"March\",\"April\",\"May\",\"June\",\"July\",\"August\",\"September\",\"October\",\"November\",\"December\"],\"noData\":\"No data to display\",\"numericSymbolMagnitude\":1000,\"numericSymbols\":[\"k\",\"M\",\"G\",\"T\",\"P\",\"E\"],\"printChart\":\"Print chart\",\"resetZoom\":\"Reset zoom\",\"resetZoomTitle\":\"Reset zoom level 1:1\",\"shortMonths\":[\"Jan\",\"Feb\",\"Mar\",\"Apr\",\"May\",\"Jun\",\"Jul\",\"Aug\",\"Sep\",\"Oct\",\"Nov\",\"Dec\"],\"shortWeekdays\":[\"Sat\",\"Sun\",\"Mon\",\"Tue\",\"Wed\",\"Thu\",\"Fri\"],\"thousandsSep\":\" \",\"viewData\":\"View data table\",\"viewFullscreen\":\"View in full screen\",\"weekdays\":[\"Sunday\",\"Monday\",\"Tuesday\",\"Wednesday\",\"Thursday\",\"Friday\",\"Saturday\"]}},\"type\":\"chart\",\"fonts\":[],\"debug\":false},\"evals\":[],\"jsHooks\":[]}</script>"
      ]
     }
    },
    {
     "output_type": "display_data",
     "metadata": {},
     "data": {
      "text/html": [
       "<div class=\"highchart html-widget html-fill-item\" id=\"htmlwidget-57c4b0e4cacdba713724\" style=\"width:100%;height:464px;\"></div>\n",
       "<script type=\"application/json\" data-for=\"htmlwidget-57c4b0e4cacdba713724\">{\"x\":{\"hc_opts\":{\"chart\":{\"reflow\":true},\"title\":{\"text\":\"Median Annual Wage by Sector\"},\"yAxis\":{\"title\":{\"text\":\"Median Annual Wage (USD)\"},\"type\":\"linear\",\"labels\":{\"format\":\"{value:,0f}\"}},\"credits\":{\"enabled\":false},\"exporting\":{\"enabled\":false},\"boost\":{\"enabled\":false},\"plotOptions\":{\"series\":{\"label\":{\"enabled\":false},\"turboThreshold\":0,\"showInLegend\":false},\"treemap\":{\"layoutAlgorithm\":\"squarified\"},\"scatter\":{\"marker\":{\"symbol\":\"circle\"}}},\"series\":[{\"group\":\"group\",\"data\":[{\"O*NET-SOC Sector\":\"Energy Efficiency\",\"TOT_EMP\":4928520,\"H_MEAN\":42.968,\"A_MEAN\":89371,\"A_MEDIAN\":86355,\"H_MEDIAN\":41.515,\"y\":86355,\"name\":\"Energy Efficiency\"},{\"O*NET-SOC Sector\":\"Green Construction\",\"TOT_EMP\":10624140,\"H_MEAN\":33.898,\"A_MEAN\":70506.33333333334,\"A_MEDIAN\":60165,\"H_MEDIAN\":28.925,\"y\":60165,\"name\":\"Green Construction\"},{\"O*NET-SOC Sector\":\"Renewable Energy Generation\",\"TOT_EMP\":1567070,\"H_MEAN\":42.32153846153846,\"A_MEAN\":88027.69230769231,\"A_MEDIAN\":97010,\"H_MEDIAN\":46.64,\"y\":97010,\"name\":\"Renewable Energy Generation\"},{\"O*NET-SOC Sector\":\"All\",\"TOT_EMP\":17119730,\"H_MEAN\":37.67547169811321,\"A_MEAN\":78363.39622641511,\"A_MEDIAN\":67640,\"H_MEDIAN\":32.52,\"y\":67640,\"name\":\"All\"}],\"type\":\"column\"}],\"xAxis\":{\"type\":\"category\",\"title\":{\"text\":\"Sector\"}},\"tooltip\":{\"pointFormat\":\"<b>{point.y:,0f} USD<\\/b>\"}},\"theme\":{\"chart\":{\"backgroundColor\":\"transparent\"},\"colors\":[\"#7cb5ec\",\"#434348\",\"#90ed7d\",\"#f7a35c\",\"#8085e9\",\"#f15c80\",\"#e4d354\",\"#2b908f\",\"#f45b5b\",\"#91e8e1\"]},\"conf_opts\":{\"global\":{\"Date\":null,\"VMLRadialGradientURL\":\"http =//code.highcharts.com/list(version)/gfx/vml-radial-gradient.png\",\"canvasToolsURL\":\"http =//code.highcharts.com/list(version)/modules/canvas-tools.js\",\"getTimezoneOffset\":null,\"timezoneOffset\":0,\"useUTC\":true},\"lang\":{\"contextButtonTitle\":\"Chart context menu\",\"decimalPoint\":\".\",\"downloadCSV\":\"Download CSV\",\"downloadJPEG\":\"Download JPEG image\",\"downloadPDF\":\"Download PDF document\",\"downloadPNG\":\"Download PNG image\",\"downloadSVG\":\"Download SVG vector image\",\"downloadXLS\":\"Download XLS\",\"drillUpText\":\"◁ Back to {series.name}\",\"exitFullscreen\":\"Exit from full screen\",\"exportData\":{\"annotationHeader\":\"Annotations\",\"categoryDatetimeHeader\":\"DateTime\",\"categoryHeader\":\"Category\"},\"hideData\":\"Hide data table\",\"invalidDate\":null,\"loading\":\"Loading...\",\"months\":[\"January\",\"February\",\"March\",\"April\",\"May\",\"June\",\"July\",\"August\",\"September\",\"October\",\"November\",\"December\"],\"noData\":\"No data to display\",\"numericSymbolMagnitude\":1000,\"numericSymbols\":[\"k\",\"M\",\"G\",\"T\",\"P\",\"E\"],\"printChart\":\"Print chart\",\"resetZoom\":\"Reset zoom\",\"resetZoomTitle\":\"Reset zoom level 1:1\",\"shortMonths\":[\"Jan\",\"Feb\",\"Mar\",\"Apr\",\"May\",\"Jun\",\"Jul\",\"Aug\",\"Sep\",\"Oct\",\"Nov\",\"Dec\"],\"shortWeekdays\":[\"Sat\",\"Sun\",\"Mon\",\"Tue\",\"Wed\",\"Thu\",\"Fri\"],\"thousandsSep\":\" \",\"viewData\":\"View data table\",\"viewFullscreen\":\"View in full screen\",\"weekdays\":[\"Sunday\",\"Monday\",\"Tuesday\",\"Wednesday\",\"Thursday\",\"Friday\",\"Saturday\"]}},\"type\":\"chart\",\"fonts\":[],\"debug\":false},\"evals\":[],\"jsHooks\":[]}</script>"
      ]
     }
    },
    {
     "output_type": "display_data",
     "metadata": {},
     "data": {
      "text/html": [
       "<div class=\"highchart html-widget html-fill-item\" id=\"htmlwidget-88b81879624e07c65770\" style=\"width:100%;height:464px;\"></div>\n",
       "<script type=\"application/json\" data-for=\"htmlwidget-88b81879624e07c65770\">{\"x\":{\"hc_opts\":{\"chart\":{\"reflow\":true},\"title\":{\"text\":\"Median Hourly Wage by Sector\"},\"yAxis\":{\"title\":{\"text\":\"Median Hourly Wage (USD)\"},\"type\":\"linear\"},\"credits\":{\"enabled\":false},\"exporting\":{\"enabled\":false},\"boost\":{\"enabled\":false},\"plotOptions\":{\"series\":{\"label\":{\"enabled\":false},\"turboThreshold\":0,\"showInLegend\":false},\"treemap\":{\"layoutAlgorithm\":\"squarified\"},\"scatter\":{\"marker\":{\"symbol\":\"circle\"}}},\"series\":[{\"group\":\"group\",\"data\":[{\"O*NET-SOC Sector\":\"Energy Efficiency\",\"TOT_EMP\":4928520,\"H_MEAN\":42.968,\"A_MEAN\":89371,\"A_MEDIAN\":86355,\"H_MEDIAN\":41.515,\"y\":41.515,\"name\":\"Energy Efficiency\"},{\"O*NET-SOC Sector\":\"Green Construction\",\"TOT_EMP\":10624140,\"H_MEAN\":33.898,\"A_MEAN\":70506.33333333334,\"A_MEDIAN\":60165,\"H_MEDIAN\":28.925,\"y\":28.925,\"name\":\"Green Construction\"},{\"O*NET-SOC Sector\":\"Renewable Energy Generation\",\"TOT_EMP\":1567070,\"H_MEAN\":42.32153846153846,\"A_MEAN\":88027.69230769231,\"A_MEDIAN\":97010,\"H_MEDIAN\":46.64,\"y\":46.64,\"name\":\"Renewable Energy Generation\"},{\"O*NET-SOC Sector\":\"All\",\"TOT_EMP\":17119730,\"H_MEAN\":37.67547169811321,\"A_MEAN\":78363.39622641511,\"A_MEDIAN\":67640,\"H_MEDIAN\":32.52,\"y\":32.52,\"name\":\"All\"}],\"type\":\"column\"}],\"xAxis\":{\"type\":\"category\",\"title\":{\"text\":\"Sector\"}},\"tooltip\":{\"pointFormat\":\"<b>{point.y:.2f} USD<\\/b>\"}},\"theme\":{\"chart\":{\"backgroundColor\":\"transparent\"},\"colors\":[\"#7cb5ec\",\"#434348\",\"#90ed7d\",\"#f7a35c\",\"#8085e9\",\"#f15c80\",\"#e4d354\",\"#2b908f\",\"#f45b5b\",\"#91e8e1\"]},\"conf_opts\":{\"global\":{\"Date\":null,\"VMLRadialGradientURL\":\"http =//code.highcharts.com/list(version)/gfx/vml-radial-gradient.png\",\"canvasToolsURL\":\"http =//code.highcharts.com/list(version)/modules/canvas-tools.js\",\"getTimezoneOffset\":null,\"timezoneOffset\":0,\"useUTC\":true},\"lang\":{\"contextButtonTitle\":\"Chart context menu\",\"decimalPoint\":\".\",\"downloadCSV\":\"Download CSV\",\"downloadJPEG\":\"Download JPEG image\",\"downloadPDF\":\"Download PDF document\",\"downloadPNG\":\"Download PNG image\",\"downloadSVG\":\"Download SVG vector image\",\"downloadXLS\":\"Download XLS\",\"drillUpText\":\"◁ Back to {series.name}\",\"exitFullscreen\":\"Exit from full screen\",\"exportData\":{\"annotationHeader\":\"Annotations\",\"categoryDatetimeHeader\":\"DateTime\",\"categoryHeader\":\"Category\"},\"hideData\":\"Hide data table\",\"invalidDate\":null,\"loading\":\"Loading...\",\"months\":[\"January\",\"February\",\"March\",\"April\",\"May\",\"June\",\"July\",\"August\",\"September\",\"October\",\"November\",\"December\"],\"noData\":\"No data to display\",\"numericSymbolMagnitude\":1000,\"numericSymbols\":[\"k\",\"M\",\"G\",\"T\",\"P\",\"E\"],\"printChart\":\"Print chart\",\"resetZoom\":\"Reset zoom\",\"resetZoomTitle\":\"Reset zoom level 1:1\",\"shortMonths\":[\"Jan\",\"Feb\",\"Mar\",\"Apr\",\"May\",\"Jun\",\"Jul\",\"Aug\",\"Sep\",\"Oct\",\"Nov\",\"Dec\"],\"shortWeekdays\":[\"Sat\",\"Sun\",\"Mon\",\"Tue\",\"Wed\",\"Thu\",\"Fri\"],\"thousandsSep\":\" \",\"viewData\":\"View data table\",\"viewFullscreen\":\"View in full screen\",\"weekdays\":[\"Sunday\",\"Monday\",\"Tuesday\",\"Wednesday\",\"Thursday\",\"Friday\",\"Saturday\"]}},\"type\":\"chart\",\"fonts\":[],\"debug\":false},\"evals\":[],\"jsHooks\":[]}</script>"
      ]
     }
    }
   ],
   "source": [
    "# Convert the O*NET-SOC Sector to a factor for ordering in the chart\n",
    "final_summary <- final_summary %>%\n",
    "  mutate(`O*NET-SOC Sector` = factor(`O*NET-SOC Sector`, levels = c(\"Energy Efficiency\", \"Green Construction\", \"Renewable Energy Generation\", \"All\")))\n",
    "\n",
    "# Visualizing TOT_EMP across the sectors\n",
    "hchart(final_summary, \"column\", hcaes(x = `O*NET-SOC Sector`, y = TOT_EMP)) %>%\n",
    "  hc_title(text = \"Total Employment by Sector\") %>%\n",
    "  hc_xAxis(title = list(text = \"Sector\")) %>%\n",
    "  hc_yAxis(title = list(text = \"Total Employment\"), labels = list(format = \"{value:,0f}\")) %>%\n",
    "  hc_tooltip(pointFormat = '<b>{point.y:,0f}</b>')"
   ],
   "id": "e3e071f3-8cf2-4715-87d2-4b65e026b74c"
  },
  {
   "cell_type": "markdown",
   "metadata": {},
   "source": [
    "I’m also curious about the differences between green jobs and non-green jobs for mean hourly wage and mean annual wage."
   ],
   "id": "18397590-dfc5-459a-859f-269905d68eb8"
  },
  {
   "cell_type": "code",
   "execution_count": null,
   "metadata": {},
   "outputs": [
    {
     "output_type": "display_data",
     "metadata": {},
     "data": {
      "text/html": [
       "<div class=\"highchart html-widget html-fill-item\" id=\"htmlwidget-52c0f0caf0c03d1e5c1b\" style=\"width:100%;height:464px;\"></div>\n",
       "<script type=\"application/json\" data-for=\"htmlwidget-52c0f0caf0c03d1e5c1b\">{\"x\":{\"hc_opts\":{\"chart\":{\"reflow\":true},\"title\":{\"text\":\"Mean Hourly Wage: Green Jobs vs Non-Green Jobs\"},\"yAxis\":{\"title\":{\"text\":\"Mean Hourly Wage (USD)\"},\"type\":\"linear\"},\"credits\":{\"enabled\":false},\"exporting\":{\"enabled\":false},\"boost\":{\"enabled\":false},\"plotOptions\":{\"series\":{\"label\":{\"enabled\":false},\"turboThreshold\":0,\"showInLegend\":false},\"treemap\":{\"layoutAlgorithm\":\"squarified\"},\"scatter\":{\"marker\":{\"symbol\":\"circle\"}}},\"series\":[{\"group\":\"group\",\"data\":[{\"Job_Type\":\"Green Jobs\",\"H_MEAN\":37.67547169811321,\"A_MEAN\":78363.39622641511,\"y\":37.67547169811321,\"name\":\"Green Jobs\"},{\"Job_Type\":\"Non-Green Jobs\",\"H_MEAN\":34.79640845070423,\"A_MEAN\":73763.67060561306,\"y\":34.79640845070423,\"name\":\"Non-Green Jobs\"}],\"type\":\"column\"}],\"xAxis\":{\"type\":\"category\",\"title\":{\"text\":\"Job Type\"}},\"tooltip\":{\"pointFormat\":\"<b>{point.y:.2f} USD<\\/b>\"}},\"theme\":{\"chart\":{\"backgroundColor\":\"transparent\"},\"colors\":[\"#7cb5ec\",\"#434348\",\"#90ed7d\",\"#f7a35c\",\"#8085e9\",\"#f15c80\",\"#e4d354\",\"#2b908f\",\"#f45b5b\",\"#91e8e1\"]},\"conf_opts\":{\"global\":{\"Date\":null,\"VMLRadialGradientURL\":\"http =//code.highcharts.com/list(version)/gfx/vml-radial-gradient.png\",\"canvasToolsURL\":\"http =//code.highcharts.com/list(version)/modules/canvas-tools.js\",\"getTimezoneOffset\":null,\"timezoneOffset\":0,\"useUTC\":true},\"lang\":{\"contextButtonTitle\":\"Chart context menu\",\"decimalPoint\":\".\",\"downloadCSV\":\"Download CSV\",\"downloadJPEG\":\"Download JPEG image\",\"downloadPDF\":\"Download PDF document\",\"downloadPNG\":\"Download PNG image\",\"downloadSVG\":\"Download SVG vector image\",\"downloadXLS\":\"Download XLS\",\"drillUpText\":\"◁ Back to {series.name}\",\"exitFullscreen\":\"Exit from full screen\",\"exportData\":{\"annotationHeader\":\"Annotations\",\"categoryDatetimeHeader\":\"DateTime\",\"categoryHeader\":\"Category\"},\"hideData\":\"Hide data table\",\"invalidDate\":null,\"loading\":\"Loading...\",\"months\":[\"January\",\"February\",\"March\",\"April\",\"May\",\"June\",\"July\",\"August\",\"September\",\"October\",\"November\",\"December\"],\"noData\":\"No data to display\",\"numericSymbolMagnitude\":1000,\"numericSymbols\":[\"k\",\"M\",\"G\",\"T\",\"P\",\"E\"],\"printChart\":\"Print chart\",\"resetZoom\":\"Reset zoom\",\"resetZoomTitle\":\"Reset zoom level 1:1\",\"shortMonths\":[\"Jan\",\"Feb\",\"Mar\",\"Apr\",\"May\",\"Jun\",\"Jul\",\"Aug\",\"Sep\",\"Oct\",\"Nov\",\"Dec\"],\"shortWeekdays\":[\"Sat\",\"Sun\",\"Mon\",\"Tue\",\"Wed\",\"Thu\",\"Fri\"],\"thousandsSep\":\" \",\"viewData\":\"View data table\",\"viewFullscreen\":\"View in full screen\",\"weekdays\":[\"Sunday\",\"Monday\",\"Tuesday\",\"Wednesday\",\"Thursday\",\"Friday\",\"Saturday\"]}},\"type\":\"chart\",\"fonts\":[],\"debug\":false},\"evals\":[],\"jsHooks\":[]}</script>"
      ]
     }
    },
    {
     "output_type": "display_data",
     "metadata": {},
     "data": {
      "text/html": [
       "<div class=\"highchart html-widget html-fill-item\" id=\"htmlwidget-a2a744a98e5434af9bcd\" style=\"width:100%;height:464px;\"></div>\n",
       "<script type=\"application/json\" data-for=\"htmlwidget-a2a744a98e5434af9bcd\">{\"x\":{\"hc_opts\":{\"chart\":{\"reflow\":true},\"title\":{\"text\":\"Mean Annual Wage: Green Jobs vs Non-Green Jobs\"},\"yAxis\":{\"title\":{\"text\":\"Mean Annual Wage (USD)\"},\"type\":\"linear\"},\"credits\":{\"enabled\":false},\"exporting\":{\"enabled\":false},\"boost\":{\"enabled\":false},\"plotOptions\":{\"series\":{\"label\":{\"enabled\":false},\"turboThreshold\":0,\"showInLegend\":false},\"treemap\":{\"layoutAlgorithm\":\"squarified\"},\"scatter\":{\"marker\":{\"symbol\":\"circle\"}}},\"series\":[{\"group\":\"group\",\"data\":[{\"Job_Type\":\"Green Jobs\",\"H_MEAN\":37.67547169811321,\"A_MEAN\":78363.39622641511,\"y\":78363.39622641511,\"name\":\"Green Jobs\"},{\"Job_Type\":\"Non-Green Jobs\",\"H_MEAN\":34.79640845070423,\"A_MEAN\":73763.67060561306,\"y\":73763.67060561306,\"name\":\"Non-Green Jobs\"}],\"type\":\"column\"}],\"xAxis\":{\"type\":\"category\",\"title\":{\"text\":\"Job Type\"}},\"tooltip\":{\"pointFormat\":\"<b>{point.y:,0f} USD<\\/b>\"}},\"theme\":{\"chart\":{\"backgroundColor\":\"transparent\"},\"colors\":[\"#7cb5ec\",\"#434348\",\"#90ed7d\",\"#f7a35c\",\"#8085e9\",\"#f15c80\",\"#e4d354\",\"#2b908f\",\"#f45b5b\",\"#91e8e1\"]},\"conf_opts\":{\"global\":{\"Date\":null,\"VMLRadialGradientURL\":\"http =//code.highcharts.com/list(version)/gfx/vml-radial-gradient.png\",\"canvasToolsURL\":\"http =//code.highcharts.com/list(version)/modules/canvas-tools.js\",\"getTimezoneOffset\":null,\"timezoneOffset\":0,\"useUTC\":true},\"lang\":{\"contextButtonTitle\":\"Chart context menu\",\"decimalPoint\":\".\",\"downloadCSV\":\"Download CSV\",\"downloadJPEG\":\"Download JPEG image\",\"downloadPDF\":\"Download PDF document\",\"downloadPNG\":\"Download PNG image\",\"downloadSVG\":\"Download SVG vector image\",\"downloadXLS\":\"Download XLS\",\"drillUpText\":\"◁ Back to {series.name}\",\"exitFullscreen\":\"Exit from full screen\",\"exportData\":{\"annotationHeader\":\"Annotations\",\"categoryDatetimeHeader\":\"DateTime\",\"categoryHeader\":\"Category\"},\"hideData\":\"Hide data table\",\"invalidDate\":null,\"loading\":\"Loading...\",\"months\":[\"January\",\"February\",\"March\",\"April\",\"May\",\"June\",\"July\",\"August\",\"September\",\"October\",\"November\",\"December\"],\"noData\":\"No data to display\",\"numericSymbolMagnitude\":1000,\"numericSymbols\":[\"k\",\"M\",\"G\",\"T\",\"P\",\"E\"],\"printChart\":\"Print chart\",\"resetZoom\":\"Reset zoom\",\"resetZoomTitle\":\"Reset zoom level 1:1\",\"shortMonths\":[\"Jan\",\"Feb\",\"Mar\",\"Apr\",\"May\",\"Jun\",\"Jul\",\"Aug\",\"Sep\",\"Oct\",\"Nov\",\"Dec\"],\"shortWeekdays\":[\"Sat\",\"Sun\",\"Mon\",\"Tue\",\"Wed\",\"Thu\",\"Fri\"],\"thousandsSep\":\" \",\"viewData\":\"View data table\",\"viewFullscreen\":\"View in full screen\",\"weekdays\":[\"Sunday\",\"Monday\",\"Tuesday\",\"Wednesday\",\"Thursday\",\"Friday\",\"Saturday\"]}},\"type\":\"chart\",\"fonts\":[],\"debug\":false},\"evals\":[],\"jsHooks\":[]}</script>"
      ]
     }
    }
   ],
   "source": [
    "# Define green jobs as sectors related to energy and construction\n",
    "green_jobs_sectors <- c(\"Energy Efficiency\", \"Renewable Energy Generation\", \"Green Construction\")\n",
    "\n",
    "# Add a new column to identify green and non-green jobs\n",
    "national_jobs <- national_jobs %>%\n",
    "  mutate(\n",
    "    Job_Type = ifelse(`O*NET-SOC Sector` %in% green_jobs_sectors, \"Green Jobs\", \"Non-Green Jobs\")\n",
    "  )\n",
    "\n",
    "# Group by job type (Green vs Non-Green) and calculate mean wages\n",
    "job_type_summary <- national_jobs %>%\n",
    "  group_by(Job_Type) %>%\n",
    "  summarize(\n",
    "    H_MEAN = mean(H_MEAN, na.rm = TRUE),\n",
    "    A_MEAN = mean(A_MEAN, na.rm = TRUE)\n",
    "  )\n",
    "\n",
    "# Visualizing Mean Hourly Wage (H_MEAN) for Green vs Non-Green Jobs\n",
    "hchart(job_type_summary, \"column\", hcaes(x = Job_Type, y = H_MEAN)) %>%\n",
    "  hc_title(text = \"Mean Hourly Wage: Green Jobs vs Non-Green Jobs\") %>%\n",
    "  hc_xAxis(title = list(text = \"Job Type\")) %>%\n",
    "  hc_yAxis(title = list(text = \"Mean Hourly Wage (USD)\")) %>%\n",
    "  hc_tooltip(pointFormat = '<b>{point.y:.2f} USD</b>')"
   ],
   "id": "c169a703-ebe2-4829-afd3-e4ad0d778bde"
  },
  {
   "cell_type": "code",
   "execution_count": null,
   "metadata": {},
   "outputs": [
    {
     "output_type": "stream",
     "name": "stdout",
     "text": [
      "The mean annual wage for the occupation in U.S. dollars for green jobs is $78,363.4, and for non-green jobs is $73,763.67. That means green jobs pay $4,599.726 more than non-green jobs nationally."
     ]
    },
    {
     "output_type": "stream",
     "name": "stdout",
     "text": [
      "The mean hourly wage for the occupation in U.S. dollars for green jobs is $37.67547, and for non-green jobs is $34.79641. That means green jobs pay $2.879063 more than non-green jobs nationally."
     ]
    }
   ],
   "source": [
    "# Summarizing core findings nationally\n",
    "\n",
    "# Extract green and non-green job wage data\n",
    "green_wages <- job_type_summary %>% filter(Job_Type == \"Green Jobs\")\n",
    "non_green_wages <- job_type_summary %>% filter(Job_Type == \"Non-Green Jobs\")\n",
    "\n",
    "# Calculate the difference between green and non-green jobs\n",
    "difference_annual <- green_wages$A_MEAN - non_green_wages$A_MEAN\n",
    "difference_hourly <- green_wages$H_MEAN - non_green_wages$H_MEAN\n",
    "\n",
    "# Format and print the sentences\n",
    "cat(\"The mean annual wage for the occupation in U.S. dollars for green jobs is $\", \n",
    "    format(green_wages$A_MEAN, big.mark = \",\", scientific = FALSE), \n",
    "    \", and for non-green jobs is $\", \n",
    "    format(non_green_wages$A_MEAN, big.mark = \",\", scientific = FALSE), \n",
    "    \". That means green jobs pay $\", \n",
    "    format(abs(difference_annual), big.mark = \",\", scientific = FALSE), \n",
    "    ifelse(difference_annual > 0, \" more\", \" less\"), \n",
    "    \" than non-green jobs nationally.\\n\", sep = \"\")"
   ],
   "id": "0097e673-42a0-4828-8a5b-ebfbf9f59a72"
  },
  {
   "cell_type": "markdown",
   "metadata": {},
   "source": [
    "I’d like to see a word cloud of different job titles for each sector"
   ],
   "id": "82e178c1-8c64-48a3-998c-a05932af4609"
  },
  {
   "cell_type": "code",
   "execution_count": null,
   "metadata": {},
   "outputs": [
    {
     "output_type": "display_data",
     "metadata": {},
     "data": {
      "text/html": [
       "<div class=\"highchart html-widget html-fill-item\" id=\"htmlwidget-5ce6457ca3d1d5be34b0\" style=\"width:100%;height:464px;\"></div>\n",
       "<script type=\"application/json\" data-for=\"htmlwidget-5ce6457ca3d1d5be34b0\">{\"x\":{\"hc_opts\":{\"chart\":{\"reflow\":true},\"title\":{\"text\":\"Word Cloud of Green Job Titles\"},\"yAxis\":{\"title\":{\"text\":[]}},\"credits\":{\"enabled\":false},\"exporting\":{\"enabled\":false},\"boost\":{\"enabled\":false},\"plotOptions\":{\"series\":{\"label\":{\"enabled\":false},\"turboThreshold\":0,\"showInLegend\":false},\"treemap\":{\"layoutAlgorithm\":\"squarified\"},\"scatter\":{\"marker\":{\"symbol\":\"circle\"}}},\"series\":[{\"group\":\"group\",\"data\":[{\"OCC_TITLE\":null,\"n\":6,\"name\":null,\"weight\":6},{\"OCC_TITLE\":\"Electrical Engineers\",\"n\":3,\"name\":\"Electrical Engineers\",\"weight\":3},{\"OCC_TITLE\":\"Mechanical Engineers\",\"n\":3,\"name\":\"Mechanical Engineers\",\"weight\":3},{\"OCC_TITLE\":\"Boilermakers\",\"n\":2,\"name\":\"Boilermakers\",\"weight\":2},{\"OCC_TITLE\":\"Civil Engineers\",\"n\":2,\"name\":\"Civil Engineers\",\"weight\":2},{\"OCC_TITLE\":\"Financial and Investment Analysts\",\"n\":2,\"name\":\"Financial and Investment Analysts\",\"weight\":2},{\"OCC_TITLE\":\"Heating, Air Conditioning, and Refrigeration Mechanics and Installers\",\"n\":2,\"name\":\"Heating, Air Conditioning, and Refrigeration Mechanics and Installers\",\"weight\":2},{\"OCC_TITLE\":\"Insulation Workers, Floor, Ceiling, and Wall\",\"n\":2,\"name\":\"Insulation Workers, Floor, Ceiling, and Wall\",\"weight\":2},{\"OCC_TITLE\":\"Power Plant Operators\",\"n\":2,\"name\":\"Power Plant Operators\",\"weight\":2},{\"OCC_TITLE\":\"Sheet Metal Workers\",\"n\":2,\"name\":\"Sheet Metal Workers\",\"weight\":2},{\"OCC_TITLE\":\"Architects, Except Landscape and Naval\",\"n\":1,\"name\":\"Architects, Except Landscape and Naval\",\"weight\":1},{\"OCC_TITLE\":\"Architectural and Civil Drafters\",\"n\":1,\"name\":\"Architectural and Civil Drafters\",\"weight\":1},{\"OCC_TITLE\":\"Carpenters\",\"n\":1,\"name\":\"Carpenters\",\"weight\":1},{\"OCC_TITLE\":\"Cement Masons and Concrete Finishers\",\"n\":1,\"name\":\"Cement Masons and Concrete Finishers\",\"weight\":1},{\"OCC_TITLE\":\"Construction Laborers\",\"n\":1,\"name\":\"Construction Laborers\",\"weight\":1},{\"OCC_TITLE\":\"Construction Managers\",\"n\":1,\"name\":\"Construction Managers\",\"weight\":1},{\"OCC_TITLE\":\"Construction and Building Inspectors\",\"n\":1,\"name\":\"Construction and Building Inspectors\",\"weight\":1},{\"OCC_TITLE\":\"Continuous Mining Machine Operators\",\"n\":1,\"name\":\"Continuous Mining Machine Operators\",\"weight\":1},{\"OCC_TITLE\":\"Electrical Power-Line Installers and Repairers\",\"n\":1,\"name\":\"Electrical Power-Line Installers and Repairers\",\"weight\":1},{\"OCC_TITLE\":\"Electricians\",\"n\":1,\"name\":\"Electricians\",\"weight\":1},{\"OCC_TITLE\":\"General and Operations Managers\",\"n\":1,\"name\":\"General and Operations Managers\",\"weight\":1},{\"OCC_TITLE\":\"Hazardous Materials Removal Workers\",\"n\":1,\"name\":\"Hazardous Materials Removal Workers\",\"weight\":1},{\"OCC_TITLE\":\"Helpers--Carpenters\",\"n\":1,\"name\":\"Helpers--Carpenters\",\"weight\":1},{\"OCC_TITLE\":\"Helpers--Installation, Maintenance, and Repair Workers\",\"n\":1,\"name\":\"Helpers--Installation, Maintenance, and Repair Workers\",\"weight\":1},{\"OCC_TITLE\":\"Industrial Truck and Tractor Operators\",\"n\":1,\"name\":\"Industrial Truck and Tractor Operators\",\"weight\":1},{\"OCC_TITLE\":\"Laborers and Freight, Stock, and Material Movers, Hand\",\"n\":1,\"name\":\"Laborers and Freight, Stock, and Material Movers, Hand\",\"weight\":1},{\"OCC_TITLE\":\"Landscape Architects\",\"n\":1,\"name\":\"Landscape Architects\",\"weight\":1},{\"OCC_TITLE\":\"Machinists\",\"n\":1,\"name\":\"Machinists\",\"weight\":1},{\"OCC_TITLE\":\"Nuclear Power Reactor Operators\",\"n\":1,\"name\":\"Nuclear Power Reactor Operators\",\"weight\":1},{\"OCC_TITLE\":\"Nuclear Technicians\",\"n\":1,\"name\":\"Nuclear Technicians\",\"weight\":1},{\"OCC_TITLE\":\"Operating Engineers and Other Construction Equipment Operators\",\"n\":1,\"name\":\"Operating Engineers and Other Construction Equipment Operators\",\"weight\":1},{\"OCC_TITLE\":\"Plumbers, Pipefitters, and Steamfitters\",\"n\":1,\"name\":\"Plumbers, Pipefitters, and Steamfitters\",\"weight\":1},{\"OCC_TITLE\":\"Power Distributors and Dispatchers\",\"n\":1,\"name\":\"Power Distributors and Dispatchers\",\"weight\":1},{\"OCC_TITLE\":\"Roofers\",\"n\":1,\"name\":\"Roofers\",\"weight\":1},{\"OCC_TITLE\":\"Separating, Filtering, Clarifying, Precipitating, and Still Machine Setters, Operators, and Tenders\",\"n\":1,\"name\":\"Separating, Filtering, Clarifying, Precipitating, and Still Machine Setters, Operators, and Tenders\",\"weight\":1},{\"OCC_TITLE\":\"Service Unit Operators, Oil and Gas\",\"n\":1,\"name\":\"Service Unit Operators, Oil and Gas\",\"weight\":1},{\"OCC_TITLE\":\"Stationary Engineers and Boiler Operators\",\"n\":1,\"name\":\"Stationary Engineers and Boiler Operators\",\"weight\":1},{\"OCC_TITLE\":\"Structural Iron and Steel Workers\",\"n\":1,\"name\":\"Structural Iron and Steel Workers\",\"weight\":1},{\"OCC_TITLE\":\"Structural Metal Fabricators and Fitters\",\"n\":1,\"name\":\"Structural Metal Fabricators and Fitters\",\"weight\":1},{\"OCC_TITLE\":\"Transportation Inspectors\",\"n\":1,\"name\":\"Transportation Inspectors\",\"weight\":1},{\"OCC_TITLE\":\"Transportation, Storage, and Distribution Managers\",\"n\":1,\"name\":\"Transportation, Storage, and Distribution Managers\",\"weight\":1},{\"OCC_TITLE\":\"Urban and Regional Planners\",\"n\":1,\"name\":\"Urban and Regional Planners\",\"weight\":1},{\"OCC_TITLE\":\"Welders, Cutters, Solderers, and Brazers\",\"n\":1,\"name\":\"Welders, Cutters, Solderers, and Brazers\",\"weight\":1}],\"type\":\"wordcloud\"}],\"xAxis\":{\"type\":null,\"title\":{\"text\":[]},\"categories\":null}},\"theme\":{\"chart\":{\"backgroundColor\":\"transparent\"},\"colors\":[\"#7cb5ec\",\"#434348\",\"#90ed7d\",\"#f7a35c\",\"#8085e9\",\"#f15c80\",\"#e4d354\",\"#2b908f\",\"#f45b5b\",\"#91e8e1\"]},\"conf_opts\":{\"global\":{\"Date\":null,\"VMLRadialGradientURL\":\"http =//code.highcharts.com/list(version)/gfx/vml-radial-gradient.png\",\"canvasToolsURL\":\"http =//code.highcharts.com/list(version)/modules/canvas-tools.js\",\"getTimezoneOffset\":null,\"timezoneOffset\":0,\"useUTC\":true},\"lang\":{\"contextButtonTitle\":\"Chart context menu\",\"decimalPoint\":\".\",\"downloadCSV\":\"Download CSV\",\"downloadJPEG\":\"Download JPEG image\",\"downloadPDF\":\"Download PDF document\",\"downloadPNG\":\"Download PNG image\",\"downloadSVG\":\"Download SVG vector image\",\"downloadXLS\":\"Download XLS\",\"drillUpText\":\"◁ Back to {series.name}\",\"exitFullscreen\":\"Exit from full screen\",\"exportData\":{\"annotationHeader\":\"Annotations\",\"categoryDatetimeHeader\":\"DateTime\",\"categoryHeader\":\"Category\"},\"hideData\":\"Hide data table\",\"invalidDate\":null,\"loading\":\"Loading...\",\"months\":[\"January\",\"February\",\"March\",\"April\",\"May\",\"June\",\"July\",\"August\",\"September\",\"October\",\"November\",\"December\"],\"noData\":\"No data to display\",\"numericSymbolMagnitude\":1000,\"numericSymbols\":[\"k\",\"M\",\"G\",\"T\",\"P\",\"E\"],\"printChart\":\"Print chart\",\"resetZoom\":\"Reset zoom\",\"resetZoomTitle\":\"Reset zoom level 1:1\",\"shortMonths\":[\"Jan\",\"Feb\",\"Mar\",\"Apr\",\"May\",\"Jun\",\"Jul\",\"Aug\",\"Sep\",\"Oct\",\"Nov\",\"Dec\"],\"shortWeekdays\":[\"Sat\",\"Sun\",\"Mon\",\"Tue\",\"Wed\",\"Thu\",\"Fri\"],\"thousandsSep\":\" \",\"viewData\":\"View data table\",\"viewFullscreen\":\"View in full screen\",\"weekdays\":[\"Sunday\",\"Monday\",\"Tuesday\",\"Wednesday\",\"Thursday\",\"Friday\",\"Saturday\"]}},\"type\":\"chart\",\"fonts\":[],\"debug\":false},\"evals\":[],\"jsHooks\":[]}</script>"
      ]
     }
    }
   ],
   "source": [
    "# Filter the dataset for green jobs only\n",
    "green_jobs <- national_jobs %>%\n",
    "  filter(`O*NET-SOC Sector` %in% c(\"Energy Efficiency\", \"Renewable Energy Generation\", \"Green Construction\"))\n",
    "\n",
    "# Extract job titles and count their occurrences\n",
    "job_titles <- green_jobs %>%\n",
    "  count(OCC_TITLE, sort = TRUE)\n",
    "\n",
    "# Create a word cloud using highcharter\n",
    "hchart(\n",
    "  job_titles, \n",
    "  \"wordcloud\", \n",
    "  hcaes(name = OCC_TITLE, weight = n)\n",
    ") %>%\n",
    "  hc_title(text = \"Word Cloud of Green Job Titles\")"
   ],
   "id": "44d190c2-8563-496b-b010-c56e2df43657"
  },
  {
   "cell_type": "markdown",
   "metadata": {},
   "source": [
    "Now let’s create separate word clouds for each of the green sectors (“Energy Efficiency”, “Renewable Energy Generation”, and “Green Construction”)."
   ],
   "id": "90477f81-ab0c-4b99-a5ca-3e7b2d239221"
  },
  {
   "cell_type": "code",
   "execution_count": null,
   "metadata": {},
   "outputs": [
    {
     "output_type": "display_data",
     "metadata": {},
     "data": {
      "text/html": [
       "<div class=\"highchart html-widget html-fill-item\" id=\"htmlwidget-da6533e3d449ad2bd17a\" style=\"width:100%;height:464px;\"></div>\n",
       "<script type=\"application/json\" data-for=\"htmlwidget-da6533e3d449ad2bd17a\">{\"x\":{\"hc_opts\":{\"chart\":{\"reflow\":true},\"title\":{\"text\":\"Word Cloud of Energy Efficiency Job Titles\"},\"yAxis\":{\"title\":{\"text\":[]}},\"credits\":{\"enabled\":false},\"exporting\":{\"enabled\":false},\"boost\":{\"enabled\":false},\"plotOptions\":{\"series\":{\"label\":{\"enabled\":false},\"turboThreshold\":0,\"showInLegend\":false},\"treemap\":{\"layoutAlgorithm\":\"squarified\"},\"scatter\":{\"marker\":{\"symbol\":\"circle\"}}},\"series\":[{\"group\":\"group\",\"data\":[{\"OCC_TITLE\":null,\"n\":2,\"name\":null,\"weight\":2},{\"OCC_TITLE\":\"Boilermakers\",\"n\":1,\"name\":\"Boilermakers\",\"weight\":1},{\"OCC_TITLE\":\"Electrical Engineers\",\"n\":1,\"name\":\"Electrical Engineers\",\"weight\":1},{\"OCC_TITLE\":\"Electrical Power-Line Installers and Repairers\",\"n\":1,\"name\":\"Electrical Power-Line Installers and Repairers\",\"weight\":1},{\"OCC_TITLE\":\"Financial and Investment Analysts\",\"n\":1,\"name\":\"Financial and Investment Analysts\",\"weight\":1},{\"OCC_TITLE\":\"General and Operations Managers\",\"n\":1,\"name\":\"General and Operations Managers\",\"weight\":1},{\"OCC_TITLE\":\"Heating, Air Conditioning, and Refrigeration Mechanics and Installers\",\"n\":1,\"name\":\"Heating, Air Conditioning, and Refrigeration Mechanics and Installers\",\"weight\":1},{\"OCC_TITLE\":\"Insulation Workers, Floor, Ceiling, and Wall\",\"n\":1,\"name\":\"Insulation Workers, Floor, Ceiling, and Wall\",\"weight\":1},{\"OCC_TITLE\":\"Mechanical Engineers\",\"n\":1,\"name\":\"Mechanical Engineers\",\"weight\":1},{\"OCC_TITLE\":\"Stationary Engineers and Boiler Operators\",\"n\":1,\"name\":\"Stationary Engineers and Boiler Operators\",\"weight\":1},{\"OCC_TITLE\":\"Transportation Inspectors\",\"n\":1,\"name\":\"Transportation Inspectors\",\"weight\":1}],\"type\":\"wordcloud\"}],\"xAxis\":{\"type\":null,\"title\":{\"text\":[]},\"categories\":null}},\"theme\":{\"chart\":{\"backgroundColor\":\"transparent\"},\"colors\":[\"#7cb5ec\",\"#434348\",\"#90ed7d\",\"#f7a35c\",\"#8085e9\",\"#f15c80\",\"#e4d354\",\"#2b908f\",\"#f45b5b\",\"#91e8e1\"]},\"conf_opts\":{\"global\":{\"Date\":null,\"VMLRadialGradientURL\":\"http =//code.highcharts.com/list(version)/gfx/vml-radial-gradient.png\",\"canvasToolsURL\":\"http =//code.highcharts.com/list(version)/modules/canvas-tools.js\",\"getTimezoneOffset\":null,\"timezoneOffset\":0,\"useUTC\":true},\"lang\":{\"contextButtonTitle\":\"Chart context menu\",\"decimalPoint\":\".\",\"downloadCSV\":\"Download CSV\",\"downloadJPEG\":\"Download JPEG image\",\"downloadPDF\":\"Download PDF document\",\"downloadPNG\":\"Download PNG image\",\"downloadSVG\":\"Download SVG vector image\",\"downloadXLS\":\"Download XLS\",\"drillUpText\":\"◁ Back to {series.name}\",\"exitFullscreen\":\"Exit from full screen\",\"exportData\":{\"annotationHeader\":\"Annotations\",\"categoryDatetimeHeader\":\"DateTime\",\"categoryHeader\":\"Category\"},\"hideData\":\"Hide data table\",\"invalidDate\":null,\"loading\":\"Loading...\",\"months\":[\"January\",\"February\",\"March\",\"April\",\"May\",\"June\",\"July\",\"August\",\"September\",\"October\",\"November\",\"December\"],\"noData\":\"No data to display\",\"numericSymbolMagnitude\":1000,\"numericSymbols\":[\"k\",\"M\",\"G\",\"T\",\"P\",\"E\"],\"printChart\":\"Print chart\",\"resetZoom\":\"Reset zoom\",\"resetZoomTitle\":\"Reset zoom level 1:1\",\"shortMonths\":[\"Jan\",\"Feb\",\"Mar\",\"Apr\",\"May\",\"Jun\",\"Jul\",\"Aug\",\"Sep\",\"Oct\",\"Nov\",\"Dec\"],\"shortWeekdays\":[\"Sat\",\"Sun\",\"Mon\",\"Tue\",\"Wed\",\"Thu\",\"Fri\"],\"thousandsSep\":\" \",\"viewData\":\"View data table\",\"viewFullscreen\":\"View in full screen\",\"weekdays\":[\"Sunday\",\"Monday\",\"Tuesday\",\"Wednesday\",\"Thursday\",\"Friday\",\"Saturday\"]}},\"type\":\"chart\",\"fonts\":[],\"debug\":false},\"evals\":[],\"jsHooks\":[]}</script>"
      ]
     }
    },
    {
     "output_type": "display_data",
     "metadata": {},
     "data": {
      "text/html": [
       "<div class=\"highchart html-widget html-fill-item\" id=\"htmlwidget-b5af95378d8a698627dc\" style=\"width:100%;height:464px;\"></div>\n",
       "<script type=\"application/json\" data-for=\"htmlwidget-b5af95378d8a698627dc\">{\"x\":{\"hc_opts\":{\"chart\":{\"reflow\":true},\"title\":{\"text\":\"Word Cloud of Renewable Energy Generation Job Titles\"},\"yAxis\":{\"title\":{\"text\":[]}},\"credits\":{\"enabled\":false},\"exporting\":{\"enabled\":false},\"boost\":{\"enabled\":false},\"plotOptions\":{\"series\":{\"label\":{\"enabled\":false},\"turboThreshold\":0,\"showInLegend\":false},\"treemap\":{\"layoutAlgorithm\":\"squarified\"},\"scatter\":{\"marker\":{\"symbol\":\"circle\"}}},\"series\":[{\"group\":\"group\",\"data\":[{\"OCC_TITLE\":null,\"n\":2,\"name\":null,\"weight\":2},{\"OCC_TITLE\":\"Civil Engineers\",\"n\":1,\"name\":\"Civil Engineers\",\"weight\":1},{\"OCC_TITLE\":\"Continuous Mining Machine Operators\",\"n\":1,\"name\":\"Continuous Mining Machine Operators\",\"weight\":1},{\"OCC_TITLE\":\"Electrical Engineers\",\"n\":1,\"name\":\"Electrical Engineers\",\"weight\":1},{\"OCC_TITLE\":\"Machinists\",\"n\":1,\"name\":\"Machinists\",\"weight\":1},{\"OCC_TITLE\":\"Mechanical Engineers\",\"n\":1,\"name\":\"Mechanical Engineers\",\"weight\":1},{\"OCC_TITLE\":\"Nuclear Power Reactor Operators\",\"n\":1,\"name\":\"Nuclear Power Reactor Operators\",\"weight\":1},{\"OCC_TITLE\":\"Nuclear Technicians\",\"n\":1,\"name\":\"Nuclear Technicians\",\"weight\":1},{\"OCC_TITLE\":\"Power Distributors and Dispatchers\",\"n\":1,\"name\":\"Power Distributors and Dispatchers\",\"weight\":1},{\"OCC_TITLE\":\"Power Plant Operators\",\"n\":1,\"name\":\"Power Plant Operators\",\"weight\":1},{\"OCC_TITLE\":\"Separating, Filtering, Clarifying, Precipitating, and Still Machine Setters, Operators, and Tenders\",\"n\":1,\"name\":\"Separating, Filtering, Clarifying, Precipitating, and Still Machine Setters, Operators, and Tenders\",\"weight\":1},{\"OCC_TITLE\":\"Service Unit Operators, Oil and Gas\",\"n\":1,\"name\":\"Service Unit Operators, Oil and Gas\",\"weight\":1},{\"OCC_TITLE\":\"Sheet Metal Workers\",\"n\":1,\"name\":\"Sheet Metal Workers\",\"weight\":1},{\"OCC_TITLE\":\"Transportation, Storage, and Distribution Managers\",\"n\":1,\"name\":\"Transportation, Storage, and Distribution Managers\",\"weight\":1}],\"type\":\"wordcloud\"}],\"xAxis\":{\"type\":null,\"title\":{\"text\":[]},\"categories\":null}},\"theme\":{\"chart\":{\"backgroundColor\":\"transparent\"},\"colors\":[\"#7cb5ec\",\"#434348\",\"#90ed7d\",\"#f7a35c\",\"#8085e9\",\"#f15c80\",\"#e4d354\",\"#2b908f\",\"#f45b5b\",\"#91e8e1\"]},\"conf_opts\":{\"global\":{\"Date\":null,\"VMLRadialGradientURL\":\"http =//code.highcharts.com/list(version)/gfx/vml-radial-gradient.png\",\"canvasToolsURL\":\"http =//code.highcharts.com/list(version)/modules/canvas-tools.js\",\"getTimezoneOffset\":null,\"timezoneOffset\":0,\"useUTC\":true},\"lang\":{\"contextButtonTitle\":\"Chart context menu\",\"decimalPoint\":\".\",\"downloadCSV\":\"Download CSV\",\"downloadJPEG\":\"Download JPEG image\",\"downloadPDF\":\"Download PDF document\",\"downloadPNG\":\"Download PNG image\",\"downloadSVG\":\"Download SVG vector image\",\"downloadXLS\":\"Download XLS\",\"drillUpText\":\"◁ Back to {series.name}\",\"exitFullscreen\":\"Exit from full screen\",\"exportData\":{\"annotationHeader\":\"Annotations\",\"categoryDatetimeHeader\":\"DateTime\",\"categoryHeader\":\"Category\"},\"hideData\":\"Hide data table\",\"invalidDate\":null,\"loading\":\"Loading...\",\"months\":[\"January\",\"February\",\"March\",\"April\",\"May\",\"June\",\"July\",\"August\",\"September\",\"October\",\"November\",\"December\"],\"noData\":\"No data to display\",\"numericSymbolMagnitude\":1000,\"numericSymbols\":[\"k\",\"M\",\"G\",\"T\",\"P\",\"E\"],\"printChart\":\"Print chart\",\"resetZoom\":\"Reset zoom\",\"resetZoomTitle\":\"Reset zoom level 1:1\",\"shortMonths\":[\"Jan\",\"Feb\",\"Mar\",\"Apr\",\"May\",\"Jun\",\"Jul\",\"Aug\",\"Sep\",\"Oct\",\"Nov\",\"Dec\"],\"shortWeekdays\":[\"Sat\",\"Sun\",\"Mon\",\"Tue\",\"Wed\",\"Thu\",\"Fri\"],\"thousandsSep\":\" \",\"viewData\":\"View data table\",\"viewFullscreen\":\"View in full screen\",\"weekdays\":[\"Sunday\",\"Monday\",\"Tuesday\",\"Wednesday\",\"Thursday\",\"Friday\",\"Saturday\"]}},\"type\":\"chart\",\"fonts\":[],\"debug\":false},\"evals\":[],\"jsHooks\":[]}</script>"
      ]
     }
    },
    {
     "output_type": "display_data",
     "metadata": {},
     "data": {
      "text/html": [
       "<div class=\"highchart html-widget html-fill-item\" id=\"htmlwidget-d62d691b811348725397\" style=\"width:100%;height:464px;\"></div>\n",
       "<script type=\"application/json\" data-for=\"htmlwidget-d62d691b811348725397\">{\"x\":{\"hc_opts\":{\"chart\":{\"reflow\":true},\"title\":{\"text\":\"Word Cloud of Green Construction Job Titles\"},\"yAxis\":{\"title\":{\"text\":[]}},\"credits\":{\"enabled\":false},\"exporting\":{\"enabled\":false},\"boost\":{\"enabled\":false},\"plotOptions\":{\"series\":{\"label\":{\"enabled\":false},\"turboThreshold\":0,\"showInLegend\":false},\"treemap\":{\"layoutAlgorithm\":\"squarified\"},\"scatter\":{\"marker\":{\"symbol\":\"circle\"}}},\"series\":[{\"group\":\"group\",\"data\":[{\"OCC_TITLE\":null,\"n\":2,\"name\":null,\"weight\":2},{\"OCC_TITLE\":\"Architects, Except Landscape and Naval\",\"n\":1,\"name\":\"Architects, Except Landscape and Naval\",\"weight\":1},{\"OCC_TITLE\":\"Architectural and Civil Drafters\",\"n\":1,\"name\":\"Architectural and Civil Drafters\",\"weight\":1},{\"OCC_TITLE\":\"Boilermakers\",\"n\":1,\"name\":\"Boilermakers\",\"weight\":1},{\"OCC_TITLE\":\"Carpenters\",\"n\":1,\"name\":\"Carpenters\",\"weight\":1},{\"OCC_TITLE\":\"Cement Masons and Concrete Finishers\",\"n\":1,\"name\":\"Cement Masons and Concrete Finishers\",\"weight\":1},{\"OCC_TITLE\":\"Civil Engineers\",\"n\":1,\"name\":\"Civil Engineers\",\"weight\":1},{\"OCC_TITLE\":\"Construction Laborers\",\"n\":1,\"name\":\"Construction Laborers\",\"weight\":1},{\"OCC_TITLE\":\"Construction Managers\",\"n\":1,\"name\":\"Construction Managers\",\"weight\":1},{\"OCC_TITLE\":\"Construction and Building Inspectors\",\"n\":1,\"name\":\"Construction and Building Inspectors\",\"weight\":1},{\"OCC_TITLE\":\"Electrical Engineers\",\"n\":1,\"name\":\"Electrical Engineers\",\"weight\":1},{\"OCC_TITLE\":\"Electricians\",\"n\":1,\"name\":\"Electricians\",\"weight\":1},{\"OCC_TITLE\":\"Financial and Investment Analysts\",\"n\":1,\"name\":\"Financial and Investment Analysts\",\"weight\":1},{\"OCC_TITLE\":\"Hazardous Materials Removal Workers\",\"n\":1,\"name\":\"Hazardous Materials Removal Workers\",\"weight\":1},{\"OCC_TITLE\":\"Heating, Air Conditioning, and Refrigeration Mechanics and Installers\",\"n\":1,\"name\":\"Heating, Air Conditioning, and Refrigeration Mechanics and Installers\",\"weight\":1},{\"OCC_TITLE\":\"Helpers--Carpenters\",\"n\":1,\"name\":\"Helpers--Carpenters\",\"weight\":1},{\"OCC_TITLE\":\"Helpers--Installation, Maintenance, and Repair Workers\",\"n\":1,\"name\":\"Helpers--Installation, Maintenance, and Repair Workers\",\"weight\":1},{\"OCC_TITLE\":\"Industrial Truck and Tractor Operators\",\"n\":1,\"name\":\"Industrial Truck and Tractor Operators\",\"weight\":1},{\"OCC_TITLE\":\"Insulation Workers, Floor, Ceiling, and Wall\",\"n\":1,\"name\":\"Insulation Workers, Floor, Ceiling, and Wall\",\"weight\":1},{\"OCC_TITLE\":\"Laborers and Freight, Stock, and Material Movers, Hand\",\"n\":1,\"name\":\"Laborers and Freight, Stock, and Material Movers, Hand\",\"weight\":1},{\"OCC_TITLE\":\"Landscape Architects\",\"n\":1,\"name\":\"Landscape Architects\",\"weight\":1},{\"OCC_TITLE\":\"Mechanical Engineers\",\"n\":1,\"name\":\"Mechanical Engineers\",\"weight\":1},{\"OCC_TITLE\":\"Operating Engineers and Other Construction Equipment Operators\",\"n\":1,\"name\":\"Operating Engineers and Other Construction Equipment Operators\",\"weight\":1},{\"OCC_TITLE\":\"Plumbers, Pipefitters, and Steamfitters\",\"n\":1,\"name\":\"Plumbers, Pipefitters, and Steamfitters\",\"weight\":1},{\"OCC_TITLE\":\"Power Plant Operators\",\"n\":1,\"name\":\"Power Plant Operators\",\"weight\":1},{\"OCC_TITLE\":\"Roofers\",\"n\":1,\"name\":\"Roofers\",\"weight\":1},{\"OCC_TITLE\":\"Sheet Metal Workers\",\"n\":1,\"name\":\"Sheet Metal Workers\",\"weight\":1},{\"OCC_TITLE\":\"Structural Iron and Steel Workers\",\"n\":1,\"name\":\"Structural Iron and Steel Workers\",\"weight\":1},{\"OCC_TITLE\":\"Structural Metal Fabricators and Fitters\",\"n\":1,\"name\":\"Structural Metal Fabricators and Fitters\",\"weight\":1},{\"OCC_TITLE\":\"Urban and Regional Planners\",\"n\":1,\"name\":\"Urban and Regional Planners\",\"weight\":1},{\"OCC_TITLE\":\"Welders, Cutters, Solderers, and Brazers\",\"n\":1,\"name\":\"Welders, Cutters, Solderers, and Brazers\",\"weight\":1}],\"type\":\"wordcloud\"}],\"xAxis\":{\"type\":null,\"title\":{\"text\":[]},\"categories\":null}},\"theme\":{\"chart\":{\"backgroundColor\":\"transparent\"},\"colors\":[\"#7cb5ec\",\"#434348\",\"#90ed7d\",\"#f7a35c\",\"#8085e9\",\"#f15c80\",\"#e4d354\",\"#2b908f\",\"#f45b5b\",\"#91e8e1\"]},\"conf_opts\":{\"global\":{\"Date\":null,\"VMLRadialGradientURL\":\"http =//code.highcharts.com/list(version)/gfx/vml-radial-gradient.png\",\"canvasToolsURL\":\"http =//code.highcharts.com/list(version)/modules/canvas-tools.js\",\"getTimezoneOffset\":null,\"timezoneOffset\":0,\"useUTC\":true},\"lang\":{\"contextButtonTitle\":\"Chart context menu\",\"decimalPoint\":\".\",\"downloadCSV\":\"Download CSV\",\"downloadJPEG\":\"Download JPEG image\",\"downloadPDF\":\"Download PDF document\",\"downloadPNG\":\"Download PNG image\",\"downloadSVG\":\"Download SVG vector image\",\"downloadXLS\":\"Download XLS\",\"drillUpText\":\"◁ Back to {series.name}\",\"exitFullscreen\":\"Exit from full screen\",\"exportData\":{\"annotationHeader\":\"Annotations\",\"categoryDatetimeHeader\":\"DateTime\",\"categoryHeader\":\"Category\"},\"hideData\":\"Hide data table\",\"invalidDate\":null,\"loading\":\"Loading...\",\"months\":[\"January\",\"February\",\"March\",\"April\",\"May\",\"June\",\"July\",\"August\",\"September\",\"October\",\"November\",\"December\"],\"noData\":\"No data to display\",\"numericSymbolMagnitude\":1000,\"numericSymbols\":[\"k\",\"M\",\"G\",\"T\",\"P\",\"E\"],\"printChart\":\"Print chart\",\"resetZoom\":\"Reset zoom\",\"resetZoomTitle\":\"Reset zoom level 1:1\",\"shortMonths\":[\"Jan\",\"Feb\",\"Mar\",\"Apr\",\"May\",\"Jun\",\"Jul\",\"Aug\",\"Sep\",\"Oct\",\"Nov\",\"Dec\"],\"shortWeekdays\":[\"Sat\",\"Sun\",\"Mon\",\"Tue\",\"Wed\",\"Thu\",\"Fri\"],\"thousandsSep\":\" \",\"viewData\":\"View data table\",\"viewFullscreen\":\"View in full screen\",\"weekdays\":[\"Sunday\",\"Monday\",\"Tuesday\",\"Wednesday\",\"Thursday\",\"Friday\",\"Saturday\"]}},\"type\":\"chart\",\"fonts\":[],\"debug\":false},\"evals\":[],\"jsHooks\":[]}</script>"
      ]
     }
    }
   ],
   "source": [
    "# Filter the dataset for each sector\n",
    "energy_efficiency_jobs <- national_jobs %>%\n",
    "  filter(`O*NET-SOC Sector` == \"Energy Efficiency\")\n",
    "\n",
    "renewable_energy_jobs <- national_jobs %>%\n",
    "  filter(`O*NET-SOC Sector` == \"Renewable Energy Generation\")\n",
    "\n",
    "green_construction_jobs <- national_jobs %>%\n",
    "  filter(`O*NET-SOC Sector` == \"Green Construction\")\n",
    "\n",
    "# Create a function to generate word clouds\n",
    "generate_wordcloud <- function(data, sector_name) {\n",
    "  job_titles <- data %>%\n",
    "    count(OCC_TITLE, sort = TRUE)\n",
    "  \n",
    "  hchart(\n",
    "    job_titles, \n",
    "    \"wordcloud\", \n",
    "    hcaes(name = OCC_TITLE, weight = n)\n",
    "  ) %>%\n",
    "    hc_title(text = paste(\"Word Cloud of\", sector_name, \"Job Titles\"))\n",
    "}\n",
    "\n",
    "# Generate word cloud for Energy Efficiency\n",
    "energy_efficiency_wordcloud <- generate_wordcloud(energy_efficiency_jobs, \"Energy Efficiency\")\n",
    "\n",
    "# Generate word cloud for Renewable Energy Generation\n",
    "renewable_energy_wordcloud <- generate_wordcloud(renewable_energy_jobs, \"Renewable Energy Generation\")\n",
    "\n",
    "# Generate word cloud for Green Construction\n",
    "green_construction_wordcloud <- generate_wordcloud(green_construction_jobs, \"Green Construction\")\n",
    "\n",
    "# Display the word clouds\n",
    "energy_efficiency_wordcloud"
   ],
   "id": "7e42224c-50a0-44f7-8baf-f5941da11de4"
  },
  {
   "cell_type": "markdown",
   "metadata": {},
   "source": [
    "Let’s export for graphing"
   ],
   "id": "efa7bce6-feab-4c94-8e71-e2a6257c04f5"
  },
  {
   "cell_type": "code",
   "execution_count": null,
   "metadata": {},
   "outputs": [],
   "source": [
    "## Export the national jobs data to CSV for graphing\n",
    "write.csv(national_jobs, here(\"processed_data\", \"national_jobs.csv\"), row.names = FALSE)\n",
    "\n",
    "# Export the job_type_summary dataset to CSV for graphing\n",
    "write.csv(job_type_summary, here(\"processed_data\", \"national_job_type_summary.csv\"), row.names = FALSE)"
   ],
   "id": "a48899d6-142b-4d4d-a3f6-8b01b3e4f760"
  },
  {
   "cell_type": "markdown",
   "metadata": {},
   "source": [
    "#### Green jobs in St. Paul"
   ],
   "id": "0afb99e9-fdec-40be-ac2b-f08a20f842df"
  },
  {
   "cell_type": "code",
   "execution_count": null,
   "metadata": {},
   "outputs": [
    {
     "output_type": "stream",
     "name": "stderr",
     "text": [
      "Rows: 742 Columns: 34\n",
      "── Column specification ────────────────────────────────────────────────────────\n",
      "Delimiter: \",\"\n",
      "chr (26): AREA_TITLE, PRIM_STATE, NAICS_TITLE, I_GROUP, OCC_CODE, OCC_TITLE,...\n",
      "dbl  (4): AREA, AREA_TYPE, NAICS, OWN_CODE\n",
      "lgl  (4): PCT_TOTAL, PCT_RPT, ANNUAL, HOURLY\n",
      "\n",
      "ℹ Use `spec()` to retrieve the full column specification for this data.\n",
      "ℹ Specify the column types or set `show_col_types = FALSE` to quiet this message."
     ]
    }
   ],
   "source": [
    "# Import St. Paul jobs data\n",
    "st_paul_jobs <- read_csv(here(\"processed_data\", \"OWES_and_ONET-St_Paul.csv\"))"
   ],
   "id": "7e9cf244-c365-4064-b2a9-ea10c800f4b5"
  },
  {
   "cell_type": "code",
   "execution_count": null,
   "metadata": {},
   "outputs": [
    {
     "output_type": "stream",
     "name": "stderr",
     "text": [
      "Warning: There were 5 warnings in `mutate()`.\n",
      "The first warning was:\n",
      "ℹ In argument: `TOT_EMP = as.numeric(TOT_EMP)`.\n",
      "Caused by warning:\n",
      "! NAs introduced by coercion\n",
      "ℹ Run `dplyr::last_dplyr_warnings()` to see the 4 remaining warnings."
     ]
    },
    {
     "output_type": "stream",
     "name": "stdout",
     "text": [
      "# A tibble: 4 × 6\n",
      "  `O*NET-SOC Sector`          TOT_EMP H_MEAN A_MEAN A_MEDIAN H_MEDIAN\n",
      "  <chr>                         <dbl>  <dbl>  <dbl>    <dbl>    <dbl>\n",
      "1 Energy Efficiency             66410   45.5 94669.    98740     47.5\n",
      "2 Green Construction           124680   37.9 78809.    75800     36.4\n",
      "3 Renewable Energy Generation   23250   44.7 92991.    99690     47.9\n",
      "4 All                          214340   40.7 84562.    82170     39.5"
     ]
    },
    {
     "output_type": "stream",
     "name": "stdout",
     "text": [
      "There's a total of 214,340 employed people in green jobs in Saint Paul. Specifically, in Energy Efficiency, there are 66,410 ( 30.98 %), in Green Construction there are 124,680 ( 58.17 %), and in Renewable Energy Generation there are 23,250 ( 10.85 %)."
     ]
    },
    {
     "output_type": "display_data",
     "metadata": {},
     "data": {
      "text/html": [
       "<div class=\"highchart html-widget html-fill-item\" id=\"htmlwidget-f1decf8896ab061b9216\" style=\"width:100%;height:464px;\"></div>\n",
       "<script type=\"application/json\" data-for=\"htmlwidget-f1decf8896ab061b9216\">{\"x\":{\"hc_opts\":{\"chart\":{\"reflow\":true},\"title\":{\"text\":\"Total Employment by Sector in Saint Paul\"},\"yAxis\":{\"title\":{\"text\":\"Total Employment\"},\"type\":\"linear\",\"labels\":{\"format\":\"{value:,0f}\"}},\"credits\":{\"enabled\":false},\"exporting\":{\"enabled\":false},\"boost\":{\"enabled\":false},\"plotOptions\":{\"series\":{\"label\":{\"enabled\":false},\"turboThreshold\":0,\"showInLegend\":false},\"treemap\":{\"layoutAlgorithm\":\"squarified\"},\"scatter\":{\"marker\":{\"symbol\":\"circle\"}}},\"series\":[{\"group\":\"group\",\"data\":[{\"O*NET-SOC Sector\":\"Energy Efficiency\",\"TOT_EMP\":66410,\"H_MEAN\":45.51333333333334,\"A_MEAN\":94668.88888888889,\"A_MEDIAN\":98740,\"H_MEDIAN\":47.47,\"y\":66410,\"name\":\"Energy Efficiency\"},{\"O*NET-SOC Sector\":\"Green Construction\",\"TOT_EMP\":124680,\"H_MEAN\":37.88896551724138,\"A_MEAN\":78808.96551724138,\"A_MEDIAN\":75800,\"H_MEDIAN\":36.44,\"y\":124680,\"name\":\"Green Construction\"},{\"O*NET-SOC Sector\":\"Renewable Energy Generation\",\"TOT_EMP\":23250,\"H_MEAN\":44.70666666666666,\"A_MEAN\":92991.11111111111,\"A_MEDIAN\":99690,\"H_MEDIAN\":47.93,\"y\":23250,\"name\":\"Renewable Energy Generation\"},{\"O*NET-SOC Sector\":\"All\",\"TOT_EMP\":214340,\"H_MEAN\":40.65446808510638,\"A_MEAN\":84561.70212765958,\"A_MEDIAN\":82170,\"H_MEDIAN\":39.51,\"y\":214340,\"name\":\"All\"}],\"type\":\"column\"}],\"xAxis\":{\"type\":\"category\",\"title\":{\"text\":\"Sector\"}},\"tooltip\":{\"pointFormat\":\"<b>{point.y:,0f}<\\/b>\"}},\"theme\":{\"chart\":{\"backgroundColor\":\"transparent\"},\"colors\":[\"#7cb5ec\",\"#434348\",\"#90ed7d\",\"#f7a35c\",\"#8085e9\",\"#f15c80\",\"#e4d354\",\"#2b908f\",\"#f45b5b\",\"#91e8e1\"]},\"conf_opts\":{\"global\":{\"Date\":null,\"VMLRadialGradientURL\":\"http =//code.highcharts.com/list(version)/gfx/vml-radial-gradient.png\",\"canvasToolsURL\":\"http =//code.highcharts.com/list(version)/modules/canvas-tools.js\",\"getTimezoneOffset\":null,\"timezoneOffset\":0,\"useUTC\":true},\"lang\":{\"contextButtonTitle\":\"Chart context menu\",\"decimalPoint\":\".\",\"downloadCSV\":\"Download CSV\",\"downloadJPEG\":\"Download JPEG image\",\"downloadPDF\":\"Download PDF document\",\"downloadPNG\":\"Download PNG image\",\"downloadSVG\":\"Download SVG vector image\",\"downloadXLS\":\"Download XLS\",\"drillUpText\":\"◁ Back to {series.name}\",\"exitFullscreen\":\"Exit from full screen\",\"exportData\":{\"annotationHeader\":\"Annotations\",\"categoryDatetimeHeader\":\"DateTime\",\"categoryHeader\":\"Category\"},\"hideData\":\"Hide data table\",\"invalidDate\":null,\"loading\":\"Loading...\",\"months\":[\"January\",\"February\",\"March\",\"April\",\"May\",\"June\",\"July\",\"August\",\"September\",\"October\",\"November\",\"December\"],\"noData\":\"No data to display\",\"numericSymbolMagnitude\":1000,\"numericSymbols\":[\"k\",\"M\",\"G\",\"T\",\"P\",\"E\"],\"printChart\":\"Print chart\",\"resetZoom\":\"Reset zoom\",\"resetZoomTitle\":\"Reset zoom level 1:1\",\"shortMonths\":[\"Jan\",\"Feb\",\"Mar\",\"Apr\",\"May\",\"Jun\",\"Jul\",\"Aug\",\"Sep\",\"Oct\",\"Nov\",\"Dec\"],\"shortWeekdays\":[\"Sat\",\"Sun\",\"Mon\",\"Tue\",\"Wed\",\"Thu\",\"Fri\"],\"thousandsSep\":\" \",\"viewData\":\"View data table\",\"viewFullscreen\":\"View in full screen\",\"weekdays\":[\"Sunday\",\"Monday\",\"Tuesday\",\"Wednesday\",\"Thursday\",\"Friday\",\"Saturday\"]}},\"type\":\"chart\",\"fonts\":[],\"debug\":false},\"evals\":[],\"jsHooks\":[]}</script>"
      ]
     }
    }
   ],
   "source": [
    "# Convert necessary columns to numeric where needed\n",
    "st_paul_jobs <- st_paul_jobs %>%\n",
    "  mutate(\n",
    "    TOT_EMP = as.numeric(TOT_EMP),\n",
    "    H_MEAN = as.numeric(H_MEAN),\n",
    "    A_MEAN = as.numeric(A_MEAN),\n",
    "    A_MEDIAN = as.numeric(A_MEDIAN),\n",
    "    H_MEDIAN = as.numeric(H_MEDIAN)\n",
    "  )"
   ],
   "id": "9a27ba1e-ab21-40ea-b8aa-b68a0655cef2"
  },
  {
   "cell_type": "code",
   "execution_count": null,
   "metadata": {},
   "outputs": [
    {
     "output_type": "display_data",
     "metadata": {},
     "data": {
      "text/html": [
       "<div class=\"highchart html-widget html-fill-item\" id=\"htmlwidget-19e686dbb1245d4f750a\" style=\"width:100%;height:464px;\"></div>\n",
       "<script type=\"application/json\" data-for=\"htmlwidget-19e686dbb1245d4f750a\">{\"x\":{\"hc_opts\":{\"chart\":{\"reflow\":true},\"title\":{\"text\":\"Total Employment by Sector in Saint Paul\"},\"yAxis\":{\"title\":{\"text\":\"Total Employment\"},\"type\":\"linear\",\"labels\":{\"format\":\"{value:,0f}\"}},\"credits\":{\"enabled\":false},\"exporting\":{\"enabled\":false},\"boost\":{\"enabled\":false},\"plotOptions\":{\"series\":{\"label\":{\"enabled\":false},\"turboThreshold\":0,\"showInLegend\":false},\"treemap\":{\"layoutAlgorithm\":\"squarified\"},\"scatter\":{\"marker\":{\"symbol\":\"circle\"}}},\"series\":[{\"group\":\"group\",\"data\":[{\"O*NET-SOC Sector\":\"Energy Efficiency\",\"TOT_EMP\":66410,\"H_MEAN\":45.51333333333334,\"A_MEAN\":94668.88888888889,\"A_MEDIAN\":98740,\"H_MEDIAN\":47.47,\"y\":66410,\"name\":\"Energy Efficiency\"},{\"O*NET-SOC Sector\":\"Green Construction\",\"TOT_EMP\":124680,\"H_MEAN\":37.88896551724138,\"A_MEAN\":78808.96551724138,\"A_MEDIAN\":75800,\"H_MEDIAN\":36.44,\"y\":124680,\"name\":\"Green Construction\"},{\"O*NET-SOC Sector\":\"Renewable Energy Generation\",\"TOT_EMP\":23250,\"H_MEAN\":44.70666666666666,\"A_MEAN\":92991.11111111111,\"A_MEDIAN\":99690,\"H_MEDIAN\":47.93,\"y\":23250,\"name\":\"Renewable Energy Generation\"},{\"O*NET-SOC Sector\":\"All\",\"TOT_EMP\":214340,\"H_MEAN\":40.65446808510638,\"A_MEAN\":84561.70212765958,\"A_MEDIAN\":82170,\"H_MEDIAN\":39.51,\"y\":214340,\"name\":\"All\"}],\"type\":\"column\"}],\"xAxis\":{\"type\":\"category\",\"title\":{\"text\":\"Sector\"}},\"tooltip\":{\"pointFormat\":\"<b>{point.y:,0f}<\\/b>\"}},\"theme\":{\"chart\":{\"backgroundColor\":\"transparent\"},\"colors\":[\"#7cb5ec\",\"#434348\",\"#90ed7d\",\"#f7a35c\",\"#8085e9\",\"#f15c80\",\"#e4d354\",\"#2b908f\",\"#f45b5b\",\"#91e8e1\"]},\"conf_opts\":{\"global\":{\"Date\":null,\"VMLRadialGradientURL\":\"http =//code.highcharts.com/list(version)/gfx/vml-radial-gradient.png\",\"canvasToolsURL\":\"http =//code.highcharts.com/list(version)/modules/canvas-tools.js\",\"getTimezoneOffset\":null,\"timezoneOffset\":0,\"useUTC\":true},\"lang\":{\"contextButtonTitle\":\"Chart context menu\",\"decimalPoint\":\".\",\"downloadCSV\":\"Download CSV\",\"downloadJPEG\":\"Download JPEG image\",\"downloadPDF\":\"Download PDF document\",\"downloadPNG\":\"Download PNG image\",\"downloadSVG\":\"Download SVG vector image\",\"downloadXLS\":\"Download XLS\",\"drillUpText\":\"◁ Back to {series.name}\",\"exitFullscreen\":\"Exit from full screen\",\"exportData\":{\"annotationHeader\":\"Annotations\",\"categoryDatetimeHeader\":\"DateTime\",\"categoryHeader\":\"Category\"},\"hideData\":\"Hide data table\",\"invalidDate\":null,\"loading\":\"Loading...\",\"months\":[\"January\",\"February\",\"March\",\"April\",\"May\",\"June\",\"July\",\"August\",\"September\",\"October\",\"November\",\"December\"],\"noData\":\"No data to display\",\"numericSymbolMagnitude\":1000,\"numericSymbols\":[\"k\",\"M\",\"G\",\"T\",\"P\",\"E\"],\"printChart\":\"Print chart\",\"resetZoom\":\"Reset zoom\",\"resetZoomTitle\":\"Reset zoom level 1:1\",\"shortMonths\":[\"Jan\",\"Feb\",\"Mar\",\"Apr\",\"May\",\"Jun\",\"Jul\",\"Aug\",\"Sep\",\"Oct\",\"Nov\",\"Dec\"],\"shortWeekdays\":[\"Sat\",\"Sun\",\"Mon\",\"Tue\",\"Wed\",\"Thu\",\"Fri\"],\"thousandsSep\":\" \",\"viewData\":\"View data table\",\"viewFullscreen\":\"View in full screen\",\"weekdays\":[\"Sunday\",\"Monday\",\"Tuesday\",\"Wednesday\",\"Thursday\",\"Friday\",\"Saturday\"]}},\"type\":\"chart\",\"fonts\":[],\"debug\":false},\"evals\":[],\"jsHooks\":[]}</script>"
      ]
     }
    },
    {
     "output_type": "display_data",
     "metadata": {},
     "data": {
      "text/html": [
       "<div class=\"highchart html-widget html-fill-item\" id=\"htmlwidget-3c7c6a6d289ee44a7170\" style=\"width:100%;height:464px;\"></div>\n",
       "<script type=\"application/json\" data-for=\"htmlwidget-3c7c6a6d289ee44a7170\">{\"x\":{\"hc_opts\":{\"chart\":{\"reflow\":true},\"title\":{\"text\":\"Mean Hourly Wage by Sector in Saint Paul\"},\"yAxis\":{\"title\":{\"text\":\"Mean Hourly Wage (USD)\"},\"type\":\"linear\"},\"credits\":{\"enabled\":false},\"exporting\":{\"enabled\":false},\"boost\":{\"enabled\":false},\"plotOptions\":{\"series\":{\"label\":{\"enabled\":false},\"turboThreshold\":0,\"showInLegend\":false},\"treemap\":{\"layoutAlgorithm\":\"squarified\"},\"scatter\":{\"marker\":{\"symbol\":\"circle\"}}},\"series\":[{\"group\":\"group\",\"data\":[{\"O*NET-SOC Sector\":\"Energy Efficiency\",\"TOT_EMP\":66410,\"H_MEAN\":45.51333333333334,\"A_MEAN\":94668.88888888889,\"A_MEDIAN\":98740,\"H_MEDIAN\":47.47,\"y\":45.51333333333334,\"name\":\"Energy Efficiency\"},{\"O*NET-SOC Sector\":\"Green Construction\",\"TOT_EMP\":124680,\"H_MEAN\":37.88896551724138,\"A_MEAN\":78808.96551724138,\"A_MEDIAN\":75800,\"H_MEDIAN\":36.44,\"y\":37.88896551724138,\"name\":\"Green Construction\"},{\"O*NET-SOC Sector\":\"Renewable Energy Generation\",\"TOT_EMP\":23250,\"H_MEAN\":44.70666666666666,\"A_MEAN\":92991.11111111111,\"A_MEDIAN\":99690,\"H_MEDIAN\":47.93,\"y\":44.70666666666666,\"name\":\"Renewable Energy Generation\"},{\"O*NET-SOC Sector\":\"All\",\"TOT_EMP\":214340,\"H_MEAN\":40.65446808510638,\"A_MEAN\":84561.70212765958,\"A_MEDIAN\":82170,\"H_MEDIAN\":39.51,\"y\":40.65446808510638,\"name\":\"All\"}],\"type\":\"column\"}],\"xAxis\":{\"type\":\"category\",\"title\":{\"text\":\"Sector\"}},\"tooltip\":{\"pointFormat\":\"<b>{point.y:.2f} USD<\\/b>\"}},\"theme\":{\"chart\":{\"backgroundColor\":\"transparent\"},\"colors\":[\"#7cb5ec\",\"#434348\",\"#90ed7d\",\"#f7a35c\",\"#8085e9\",\"#f15c80\",\"#e4d354\",\"#2b908f\",\"#f45b5b\",\"#91e8e1\"]},\"conf_opts\":{\"global\":{\"Date\":null,\"VMLRadialGradientURL\":\"http =//code.highcharts.com/list(version)/gfx/vml-radial-gradient.png\",\"canvasToolsURL\":\"http =//code.highcharts.com/list(version)/modules/canvas-tools.js\",\"getTimezoneOffset\":null,\"timezoneOffset\":0,\"useUTC\":true},\"lang\":{\"contextButtonTitle\":\"Chart context menu\",\"decimalPoint\":\".\",\"downloadCSV\":\"Download CSV\",\"downloadJPEG\":\"Download JPEG image\",\"downloadPDF\":\"Download PDF document\",\"downloadPNG\":\"Download PNG image\",\"downloadSVG\":\"Download SVG vector image\",\"downloadXLS\":\"Download XLS\",\"drillUpText\":\"◁ Back to {series.name}\",\"exitFullscreen\":\"Exit from full screen\",\"exportData\":{\"annotationHeader\":\"Annotations\",\"categoryDatetimeHeader\":\"DateTime\",\"categoryHeader\":\"Category\"},\"hideData\":\"Hide data table\",\"invalidDate\":null,\"loading\":\"Loading...\",\"months\":[\"January\",\"February\",\"March\",\"April\",\"May\",\"June\",\"July\",\"August\",\"September\",\"October\",\"November\",\"December\"],\"noData\":\"No data to display\",\"numericSymbolMagnitude\":1000,\"numericSymbols\":[\"k\",\"M\",\"G\",\"T\",\"P\",\"E\"],\"printChart\":\"Print chart\",\"resetZoom\":\"Reset zoom\",\"resetZoomTitle\":\"Reset zoom level 1:1\",\"shortMonths\":[\"Jan\",\"Feb\",\"Mar\",\"Apr\",\"May\",\"Jun\",\"Jul\",\"Aug\",\"Sep\",\"Oct\",\"Nov\",\"Dec\"],\"shortWeekdays\":[\"Sat\",\"Sun\",\"Mon\",\"Tue\",\"Wed\",\"Thu\",\"Fri\"],\"thousandsSep\":\" \",\"viewData\":\"View data table\",\"viewFullscreen\":\"View in full screen\",\"weekdays\":[\"Sunday\",\"Monday\",\"Tuesday\",\"Wednesday\",\"Thursday\",\"Friday\",\"Saturday\"]}},\"type\":\"chart\",\"fonts\":[],\"debug\":false},\"evals\":[],\"jsHooks\":[]}</script>"
      ]
     }
    },
    {
     "output_type": "display_data",
     "metadata": {},
     "data": {
      "text/html": [
       "<div class=\"highchart html-widget html-fill-item\" id=\"htmlwidget-cb2495343133cf01baec\" style=\"width:100%;height:464px;\"></div>\n",
       "<script type=\"application/json\" data-for=\"htmlwidget-cb2495343133cf01baec\">{\"x\":{\"hc_opts\":{\"chart\":{\"reflow\":true},\"title\":{\"text\":\"Mean Annual Wage by Sector in Saint Paul\"},\"yAxis\":{\"title\":{\"text\":\"Mean Annual Wage (USD)\"},\"type\":\"linear\",\"labels\":{\"format\":\"{value:,0f}\"}},\"credits\":{\"enabled\":false},\"exporting\":{\"enabled\":false},\"boost\":{\"enabled\":false},\"plotOptions\":{\"series\":{\"label\":{\"enabled\":false},\"turboThreshold\":0,\"showInLegend\":false},\"treemap\":{\"layoutAlgorithm\":\"squarified\"},\"scatter\":{\"marker\":{\"symbol\":\"circle\"}}},\"series\":[{\"group\":\"group\",\"data\":[{\"O*NET-SOC Sector\":\"Energy Efficiency\",\"TOT_EMP\":66410,\"H_MEAN\":45.51333333333334,\"A_MEAN\":94668.88888888889,\"A_MEDIAN\":98740,\"H_MEDIAN\":47.47,\"y\":94668.88888888889,\"name\":\"Energy Efficiency\"},{\"O*NET-SOC Sector\":\"Green Construction\",\"TOT_EMP\":124680,\"H_MEAN\":37.88896551724138,\"A_MEAN\":78808.96551724138,\"A_MEDIAN\":75800,\"H_MEDIAN\":36.44,\"y\":78808.96551724138,\"name\":\"Green Construction\"},{\"O*NET-SOC Sector\":\"Renewable Energy Generation\",\"TOT_EMP\":23250,\"H_MEAN\":44.70666666666666,\"A_MEAN\":92991.11111111111,\"A_MEDIAN\":99690,\"H_MEDIAN\":47.93,\"y\":92991.11111111111,\"name\":\"Renewable Energy Generation\"},{\"O*NET-SOC Sector\":\"All\",\"TOT_EMP\":214340,\"H_MEAN\":40.65446808510638,\"A_MEAN\":84561.70212765958,\"A_MEDIAN\":82170,\"H_MEDIAN\":39.51,\"y\":84561.70212765958,\"name\":\"All\"}],\"type\":\"column\"}],\"xAxis\":{\"type\":\"category\",\"title\":{\"text\":\"Sector\"}},\"tooltip\":{\"pointFormat\":\"<b>{point.y:,0f} USD<\\/b>\"}},\"theme\":{\"chart\":{\"backgroundColor\":\"transparent\"},\"colors\":[\"#7cb5ec\",\"#434348\",\"#90ed7d\",\"#f7a35c\",\"#8085e9\",\"#f15c80\",\"#e4d354\",\"#2b908f\",\"#f45b5b\",\"#91e8e1\"]},\"conf_opts\":{\"global\":{\"Date\":null,\"VMLRadialGradientURL\":\"http =//code.highcharts.com/list(version)/gfx/vml-radial-gradient.png\",\"canvasToolsURL\":\"http =//code.highcharts.com/list(version)/modules/canvas-tools.js\",\"getTimezoneOffset\":null,\"timezoneOffset\":0,\"useUTC\":true},\"lang\":{\"contextButtonTitle\":\"Chart context menu\",\"decimalPoint\":\".\",\"downloadCSV\":\"Download CSV\",\"downloadJPEG\":\"Download JPEG image\",\"downloadPDF\":\"Download PDF document\",\"downloadPNG\":\"Download PNG image\",\"downloadSVG\":\"Download SVG vector image\",\"downloadXLS\":\"Download XLS\",\"drillUpText\":\"◁ Back to {series.name}\",\"exitFullscreen\":\"Exit from full screen\",\"exportData\":{\"annotationHeader\":\"Annotations\",\"categoryDatetimeHeader\":\"DateTime\",\"categoryHeader\":\"Category\"},\"hideData\":\"Hide data table\",\"invalidDate\":null,\"loading\":\"Loading...\",\"months\":[\"January\",\"February\",\"March\",\"April\",\"May\",\"June\",\"July\",\"August\",\"September\",\"October\",\"November\",\"December\"],\"noData\":\"No data to display\",\"numericSymbolMagnitude\":1000,\"numericSymbols\":[\"k\",\"M\",\"G\",\"T\",\"P\",\"E\"],\"printChart\":\"Print chart\",\"resetZoom\":\"Reset zoom\",\"resetZoomTitle\":\"Reset zoom level 1:1\",\"shortMonths\":[\"Jan\",\"Feb\",\"Mar\",\"Apr\",\"May\",\"Jun\",\"Jul\",\"Aug\",\"Sep\",\"Oct\",\"Nov\",\"Dec\"],\"shortWeekdays\":[\"Sat\",\"Sun\",\"Mon\",\"Tue\",\"Wed\",\"Thu\",\"Fri\"],\"thousandsSep\":\" \",\"viewData\":\"View data table\",\"viewFullscreen\":\"View in full screen\",\"weekdays\":[\"Sunday\",\"Monday\",\"Tuesday\",\"Wednesday\",\"Thursday\",\"Friday\",\"Saturday\"]}},\"type\":\"chart\",\"fonts\":[],\"debug\":false},\"evals\":[],\"jsHooks\":[]}</script>"
      ]
     }
    },
    {
     "output_type": "display_data",
     "metadata": {},
     "data": {
      "text/html": [
       "<div class=\"highchart html-widget html-fill-item\" id=\"htmlwidget-4c5b76de0f5c5dad6f4f\" style=\"width:100%;height:464px;\"></div>\n",
       "<script type=\"application/json\" data-for=\"htmlwidget-4c5b76de0f5c5dad6f4f\">{\"x\":{\"hc_opts\":{\"chart\":{\"reflow\":true},\"title\":{\"text\":\"Median Annual Wage by Sector in Saint Paul\"},\"yAxis\":{\"title\":{\"text\":\"Median Annual Wage (USD)\"},\"type\":\"linear\",\"labels\":{\"format\":\"{value:,0f}\"}},\"credits\":{\"enabled\":false},\"exporting\":{\"enabled\":false},\"boost\":{\"enabled\":false},\"plotOptions\":{\"series\":{\"label\":{\"enabled\":false},\"turboThreshold\":0,\"showInLegend\":false},\"treemap\":{\"layoutAlgorithm\":\"squarified\"},\"scatter\":{\"marker\":{\"symbol\":\"circle\"}}},\"series\":[{\"group\":\"group\",\"data\":[{\"O*NET-SOC Sector\":\"Energy Efficiency\",\"TOT_EMP\":66410,\"H_MEAN\":45.51333333333334,\"A_MEAN\":94668.88888888889,\"A_MEDIAN\":98740,\"H_MEDIAN\":47.47,\"y\":98740,\"name\":\"Energy Efficiency\"},{\"O*NET-SOC Sector\":\"Green Construction\",\"TOT_EMP\":124680,\"H_MEAN\":37.88896551724138,\"A_MEAN\":78808.96551724138,\"A_MEDIAN\":75800,\"H_MEDIAN\":36.44,\"y\":75800,\"name\":\"Green Construction\"},{\"O*NET-SOC Sector\":\"Renewable Energy Generation\",\"TOT_EMP\":23250,\"H_MEAN\":44.70666666666666,\"A_MEAN\":92991.11111111111,\"A_MEDIAN\":99690,\"H_MEDIAN\":47.93,\"y\":99690,\"name\":\"Renewable Energy Generation\"},{\"O*NET-SOC Sector\":\"All\",\"TOT_EMP\":214340,\"H_MEAN\":40.65446808510638,\"A_MEAN\":84561.70212765958,\"A_MEDIAN\":82170,\"H_MEDIAN\":39.51,\"y\":82170,\"name\":\"All\"}],\"type\":\"column\"}],\"xAxis\":{\"type\":\"category\",\"title\":{\"text\":\"Sector\"}},\"tooltip\":{\"pointFormat\":\"<b>{point.y:,0f} USD<\\/b>\"}},\"theme\":{\"chart\":{\"backgroundColor\":\"transparent\"},\"colors\":[\"#7cb5ec\",\"#434348\",\"#90ed7d\",\"#f7a35c\",\"#8085e9\",\"#f15c80\",\"#e4d354\",\"#2b908f\",\"#f45b5b\",\"#91e8e1\"]},\"conf_opts\":{\"global\":{\"Date\":null,\"VMLRadialGradientURL\":\"http =//code.highcharts.com/list(version)/gfx/vml-radial-gradient.png\",\"canvasToolsURL\":\"http =//code.highcharts.com/list(version)/modules/canvas-tools.js\",\"getTimezoneOffset\":null,\"timezoneOffset\":0,\"useUTC\":true},\"lang\":{\"contextButtonTitle\":\"Chart context menu\",\"decimalPoint\":\".\",\"downloadCSV\":\"Download CSV\",\"downloadJPEG\":\"Download JPEG image\",\"downloadPDF\":\"Download PDF document\",\"downloadPNG\":\"Download PNG image\",\"downloadSVG\":\"Download SVG vector image\",\"downloadXLS\":\"Download XLS\",\"drillUpText\":\"◁ Back to {series.name}\",\"exitFullscreen\":\"Exit from full screen\",\"exportData\":{\"annotationHeader\":\"Annotations\",\"categoryDatetimeHeader\":\"DateTime\",\"categoryHeader\":\"Category\"},\"hideData\":\"Hide data table\",\"invalidDate\":null,\"loading\":\"Loading...\",\"months\":[\"January\",\"February\",\"March\",\"April\",\"May\",\"June\",\"July\",\"August\",\"September\",\"October\",\"November\",\"December\"],\"noData\":\"No data to display\",\"numericSymbolMagnitude\":1000,\"numericSymbols\":[\"k\",\"M\",\"G\",\"T\",\"P\",\"E\"],\"printChart\":\"Print chart\",\"resetZoom\":\"Reset zoom\",\"resetZoomTitle\":\"Reset zoom level 1:1\",\"shortMonths\":[\"Jan\",\"Feb\",\"Mar\",\"Apr\",\"May\",\"Jun\",\"Jul\",\"Aug\",\"Sep\",\"Oct\",\"Nov\",\"Dec\"],\"shortWeekdays\":[\"Sat\",\"Sun\",\"Mon\",\"Tue\",\"Wed\",\"Thu\",\"Fri\"],\"thousandsSep\":\" \",\"viewData\":\"View data table\",\"viewFullscreen\":\"View in full screen\",\"weekdays\":[\"Sunday\",\"Monday\",\"Tuesday\",\"Wednesday\",\"Thursday\",\"Friday\",\"Saturday\"]}},\"type\":\"chart\",\"fonts\":[],\"debug\":false},\"evals\":[],\"jsHooks\":[]}</script>"
      ]
     }
    },
    {
     "output_type": "display_data",
     "metadata": {},
     "data": {
      "text/html": [
       "<div class=\"highchart html-widget html-fill-item\" id=\"htmlwidget-d951510e1ac94920bafb\" style=\"width:100%;height:464px;\"></div>\n",
       "<script type=\"application/json\" data-for=\"htmlwidget-d951510e1ac94920bafb\">{\"x\":{\"hc_opts\":{\"chart\":{\"reflow\":true},\"title\":{\"text\":\"Median Hourly Wage by Sector in Saint Paul\"},\"yAxis\":{\"title\":{\"text\":\"Median Hourly Wage (USD)\"},\"type\":\"linear\"},\"credits\":{\"enabled\":false},\"exporting\":{\"enabled\":false},\"boost\":{\"enabled\":false},\"plotOptions\":{\"series\":{\"label\":{\"enabled\":false},\"turboThreshold\":0,\"showInLegend\":false},\"treemap\":{\"layoutAlgorithm\":\"squarified\"},\"scatter\":{\"marker\":{\"symbol\":\"circle\"}}},\"series\":[{\"group\":\"group\",\"data\":[{\"O*NET-SOC Sector\":\"Energy Efficiency\",\"TOT_EMP\":66410,\"H_MEAN\":45.51333333333334,\"A_MEAN\":94668.88888888889,\"A_MEDIAN\":98740,\"H_MEDIAN\":47.47,\"y\":47.47,\"name\":\"Energy Efficiency\"},{\"O*NET-SOC Sector\":\"Green Construction\",\"TOT_EMP\":124680,\"H_MEAN\":37.88896551724138,\"A_MEAN\":78808.96551724138,\"A_MEDIAN\":75800,\"H_MEDIAN\":36.44,\"y\":36.44,\"name\":\"Green Construction\"},{\"O*NET-SOC Sector\":\"Renewable Energy Generation\",\"TOT_EMP\":23250,\"H_MEAN\":44.70666666666666,\"A_MEAN\":92991.11111111111,\"A_MEDIAN\":99690,\"H_MEDIAN\":47.93,\"y\":47.93,\"name\":\"Renewable Energy Generation\"},{\"O*NET-SOC Sector\":\"All\",\"TOT_EMP\":214340,\"H_MEAN\":40.65446808510638,\"A_MEAN\":84561.70212765958,\"A_MEDIAN\":82170,\"H_MEDIAN\":39.51,\"y\":39.51,\"name\":\"All\"}],\"type\":\"column\"}],\"xAxis\":{\"type\":\"category\",\"title\":{\"text\":\"Sector\"}},\"tooltip\":{\"pointFormat\":\"<b>{point.y:.2f} USD<\\/b>\"}},\"theme\":{\"chart\":{\"backgroundColor\":\"transparent\"},\"colors\":[\"#7cb5ec\",\"#434348\",\"#90ed7d\",\"#f7a35c\",\"#8085e9\",\"#f15c80\",\"#e4d354\",\"#2b908f\",\"#f45b5b\",\"#91e8e1\"]},\"conf_opts\":{\"global\":{\"Date\":null,\"VMLRadialGradientURL\":\"http =//code.highcharts.com/list(version)/gfx/vml-radial-gradient.png\",\"canvasToolsURL\":\"http =//code.highcharts.com/list(version)/modules/canvas-tools.js\",\"getTimezoneOffset\":null,\"timezoneOffset\":0,\"useUTC\":true},\"lang\":{\"contextButtonTitle\":\"Chart context menu\",\"decimalPoint\":\".\",\"downloadCSV\":\"Download CSV\",\"downloadJPEG\":\"Download JPEG image\",\"downloadPDF\":\"Download PDF document\",\"downloadPNG\":\"Download PNG image\",\"downloadSVG\":\"Download SVG vector image\",\"downloadXLS\":\"Download XLS\",\"drillUpText\":\"◁ Back to {series.name}\",\"exitFullscreen\":\"Exit from full screen\",\"exportData\":{\"annotationHeader\":\"Annotations\",\"categoryDatetimeHeader\":\"DateTime\",\"categoryHeader\":\"Category\"},\"hideData\":\"Hide data table\",\"invalidDate\":null,\"loading\":\"Loading...\",\"months\":[\"January\",\"February\",\"March\",\"April\",\"May\",\"June\",\"July\",\"August\",\"September\",\"October\",\"November\",\"December\"],\"noData\":\"No data to display\",\"numericSymbolMagnitude\":1000,\"numericSymbols\":[\"k\",\"M\",\"G\",\"T\",\"P\",\"E\"],\"printChart\":\"Print chart\",\"resetZoom\":\"Reset zoom\",\"resetZoomTitle\":\"Reset zoom level 1:1\",\"shortMonths\":[\"Jan\",\"Feb\",\"Mar\",\"Apr\",\"May\",\"Jun\",\"Jul\",\"Aug\",\"Sep\",\"Oct\",\"Nov\",\"Dec\"],\"shortWeekdays\":[\"Sat\",\"Sun\",\"Mon\",\"Tue\",\"Wed\",\"Thu\",\"Fri\"],\"thousandsSep\":\" \",\"viewData\":\"View data table\",\"viewFullscreen\":\"View in full screen\",\"weekdays\":[\"Sunday\",\"Monday\",\"Tuesday\",\"Wednesday\",\"Thursday\",\"Friday\",\"Saturday\"]}},\"type\":\"chart\",\"fonts\":[],\"debug\":false},\"evals\":[],\"jsHooks\":[]}</script>"
      ]
     }
    },
    {
     "output_type": "display_data",
     "metadata": {},
     "data": {
      "text/html": [
       "<div class=\"highchart html-widget html-fill-item\" id=\"htmlwidget-88a4535794deff48f0d7\" style=\"width:100%;height:464px;\"></div>\n",
       "<script type=\"application/json\" data-for=\"htmlwidget-88a4535794deff48f0d7\">{\"x\":{\"hc_opts\":{\"chart\":{\"reflow\":true},\"title\":{\"text\":\"Mean Hourly Wage: Green Jobs vs Non-Green Jobs in Saint Paul\"},\"yAxis\":{\"title\":{\"text\":\"Mean Hourly Wage (USD)\"},\"type\":\"linear\"},\"credits\":{\"enabled\":false},\"exporting\":{\"enabled\":false},\"boost\":{\"enabled\":false},\"plotOptions\":{\"series\":{\"label\":{\"enabled\":false},\"turboThreshold\":0,\"showInLegend\":false},\"treemap\":{\"layoutAlgorithm\":\"squarified\"},\"scatter\":{\"marker\":{\"symbol\":\"circle\"}}},\"series\":[{\"group\":\"group\",\"data\":[{\"Job_Type\":\"Green Jobs\",\"H_MEAN\":40.65446808510638,\"A_MEAN\":84561.70212765958,\"y\":40.65446808510638,\"name\":\"Green Jobs\"},{\"Job_Type\":\"Non-Green Jobs\",\"H_MEAN\":36.30687702265373,\"A_MEAN\":77192.53353204168,\"y\":36.30687702265373,\"name\":\"Non-Green Jobs\"}],\"type\":\"column\"}],\"xAxis\":{\"type\":\"category\",\"title\":{\"text\":\"Job Type\"}},\"tooltip\":{\"pointFormat\":\"<b>{point.y:.2f} USD<\\/b>\"}},\"theme\":{\"chart\":{\"backgroundColor\":\"transparent\"},\"colors\":[\"#7cb5ec\",\"#434348\",\"#90ed7d\",\"#f7a35c\",\"#8085e9\",\"#f15c80\",\"#e4d354\",\"#2b908f\",\"#f45b5b\",\"#91e8e1\"]},\"conf_opts\":{\"global\":{\"Date\":null,\"VMLRadialGradientURL\":\"http =//code.highcharts.com/list(version)/gfx/vml-radial-gradient.png\",\"canvasToolsURL\":\"http =//code.highcharts.com/list(version)/modules/canvas-tools.js\",\"getTimezoneOffset\":null,\"timezoneOffset\":0,\"useUTC\":true},\"lang\":{\"contextButtonTitle\":\"Chart context menu\",\"decimalPoint\":\".\",\"downloadCSV\":\"Download CSV\",\"downloadJPEG\":\"Download JPEG image\",\"downloadPDF\":\"Download PDF document\",\"downloadPNG\":\"Download PNG image\",\"downloadSVG\":\"Download SVG vector image\",\"downloadXLS\":\"Download XLS\",\"drillUpText\":\"◁ Back to {series.name}\",\"exitFullscreen\":\"Exit from full screen\",\"exportData\":{\"annotationHeader\":\"Annotations\",\"categoryDatetimeHeader\":\"DateTime\",\"categoryHeader\":\"Category\"},\"hideData\":\"Hide data table\",\"invalidDate\":null,\"loading\":\"Loading...\",\"months\":[\"January\",\"February\",\"March\",\"April\",\"May\",\"June\",\"July\",\"August\",\"September\",\"October\",\"November\",\"December\"],\"noData\":\"No data to display\",\"numericSymbolMagnitude\":1000,\"numericSymbols\":[\"k\",\"M\",\"G\",\"T\",\"P\",\"E\"],\"printChart\":\"Print chart\",\"resetZoom\":\"Reset zoom\",\"resetZoomTitle\":\"Reset zoom level 1:1\",\"shortMonths\":[\"Jan\",\"Feb\",\"Mar\",\"Apr\",\"May\",\"Jun\",\"Jul\",\"Aug\",\"Sep\",\"Oct\",\"Nov\",\"Dec\"],\"shortWeekdays\":[\"Sat\",\"Sun\",\"Mon\",\"Tue\",\"Wed\",\"Thu\",\"Fri\"],\"thousandsSep\":\" \",\"viewData\":\"View data table\",\"viewFullscreen\":\"View in full screen\",\"weekdays\":[\"Sunday\",\"Monday\",\"Tuesday\",\"Wednesday\",\"Thursday\",\"Friday\",\"Saturday\"]}},\"type\":\"chart\",\"fonts\":[],\"debug\":false},\"evals\":[],\"jsHooks\":[]}</script>"
      ]
     }
    },
    {
     "output_type": "display_data",
     "metadata": {},
     "data": {
      "text/html": [
       "<div class=\"highchart html-widget html-fill-item\" id=\"htmlwidget-104e1e38aab357fbc883\" style=\"width:100%;height:464px;\"></div>\n",
       "<script type=\"application/json\" data-for=\"htmlwidget-104e1e38aab357fbc883\">{\"x\":{\"hc_opts\":{\"chart\":{\"reflow\":true},\"title\":{\"text\":\"Mean Annual Wage: Green Jobs vs Non-Green Jobs in Saint Paul\"},\"yAxis\":{\"title\":{\"text\":\"Mean Annual Wage (USD)\"},\"type\":\"linear\"},\"credits\":{\"enabled\":false},\"exporting\":{\"enabled\":false},\"boost\":{\"enabled\":false},\"plotOptions\":{\"series\":{\"label\":{\"enabled\":false},\"turboThreshold\":0,\"showInLegend\":false},\"treemap\":{\"layoutAlgorithm\":\"squarified\"},\"scatter\":{\"marker\":{\"symbol\":\"circle\"}}},\"series\":[{\"group\":\"group\",\"data\":[{\"Job_Type\":\"Green Jobs\",\"H_MEAN\":40.65446808510638,\"A_MEAN\":84561.70212765958,\"y\":84561.70212765958,\"name\":\"Green Jobs\"},{\"Job_Type\":\"Non-Green Jobs\",\"H_MEAN\":36.30687702265373,\"A_MEAN\":77192.53353204168,\"y\":77192.53353204168,\"name\":\"Non-Green Jobs\"}],\"type\":\"column\"}],\"xAxis\":{\"type\":\"category\",\"title\":{\"text\":\"Job Type\"}},\"tooltip\":{\"pointFormat\":\"<b>{point.y:,0f} USD<\\/b>\"}},\"theme\":{\"chart\":{\"backgroundColor\":\"transparent\"},\"colors\":[\"#7cb5ec\",\"#434348\",\"#90ed7d\",\"#f7a35c\",\"#8085e9\",\"#f15c80\",\"#e4d354\",\"#2b908f\",\"#f45b5b\",\"#91e8e1\"]},\"conf_opts\":{\"global\":{\"Date\":null,\"VMLRadialGradientURL\":\"http =//code.highcharts.com/list(version)/gfx/vml-radial-gradient.png\",\"canvasToolsURL\":\"http =//code.highcharts.com/list(version)/modules/canvas-tools.js\",\"getTimezoneOffset\":null,\"timezoneOffset\":0,\"useUTC\":true},\"lang\":{\"contextButtonTitle\":\"Chart context menu\",\"decimalPoint\":\".\",\"downloadCSV\":\"Download CSV\",\"downloadJPEG\":\"Download JPEG image\",\"downloadPDF\":\"Download PDF document\",\"downloadPNG\":\"Download PNG image\",\"downloadSVG\":\"Download SVG vector image\",\"downloadXLS\":\"Download XLS\",\"drillUpText\":\"◁ Back to {series.name}\",\"exitFullscreen\":\"Exit from full screen\",\"exportData\":{\"annotationHeader\":\"Annotations\",\"categoryDatetimeHeader\":\"DateTime\",\"categoryHeader\":\"Category\"},\"hideData\":\"Hide data table\",\"invalidDate\":null,\"loading\":\"Loading...\",\"months\":[\"January\",\"February\",\"March\",\"April\",\"May\",\"June\",\"July\",\"August\",\"September\",\"October\",\"November\",\"December\"],\"noData\":\"No data to display\",\"numericSymbolMagnitude\":1000,\"numericSymbols\":[\"k\",\"M\",\"G\",\"T\",\"P\",\"E\"],\"printChart\":\"Print chart\",\"resetZoom\":\"Reset zoom\",\"resetZoomTitle\":\"Reset zoom level 1:1\",\"shortMonths\":[\"Jan\",\"Feb\",\"Mar\",\"Apr\",\"May\",\"Jun\",\"Jul\",\"Aug\",\"Sep\",\"Oct\",\"Nov\",\"Dec\"],\"shortWeekdays\":[\"Sat\",\"Sun\",\"Mon\",\"Tue\",\"Wed\",\"Thu\",\"Fri\"],\"thousandsSep\":\" \",\"viewData\":\"View data table\",\"viewFullscreen\":\"View in full screen\",\"weekdays\":[\"Sunday\",\"Monday\",\"Tuesday\",\"Wednesday\",\"Thursday\",\"Friday\",\"Saturday\"]}},\"type\":\"chart\",\"fonts\":[],\"debug\":false},\"evals\":[],\"jsHooks\":[]}</script>"
      ]
     }
    },
    {
     "output_type": "stream",
     "name": "stdout",
     "text": [
      "The mean annual wage for the occupation in U.S. dollars for green jobs in Saint Paul is $84,561.7, and for non-green jobs is $77,192.53. That means green jobs in Saint Paul pay $7,369.169 more than non-green jobs in Saint Paul."
     ]
    },
    {
     "output_type": "stream",
     "name": "stdout",
     "text": [
      "The mean hourly wage for the occupation in U.S. dollars for green jobs in Saint Paul is $40.65447, and for non-green jobs is $36.30688. That means green jobs in Saint Paul pay $4.347591 more than non-green jobs in Saint Paul."
     ]
    }
   ],
   "source": [
    "# Convert the O*NET-SOC Sector to a factor for ordering in the chart for St. Paul\n",
    "final_summary_st_paul <- final_summary_st_paul %>%\n",
    "  mutate(`O*NET-SOC Sector` = factor(`O*NET-SOC Sector`, levels = c(\"Energy Efficiency\", \"Green Construction\", \"Renewable Energy Generation\", \"All\")))\n",
    "\n",
    "# Visualizing TOT_EMP across the sectors for St. Paul\n",
    "hchart(final_summary_st_paul, \"column\", hcaes(x = `O*NET-SOC Sector`, y = TOT_EMP)) %>%\n",
    "  hc_title(text = \"Total Employment by Sector in Saint Paul\") %>%\n",
    "  hc_xAxis(title = list(text = \"Sector\")) %>%\n",
    "  hc_yAxis(title = list(text = \"Total Employment\"), labels = list(format = \"{value:,0f}\")) %>%\n",
    "  hc_tooltip(pointFormat = '<b>{point.y:,0f}</b>')"
   ],
   "id": "9d089f55-91ca-4f7b-a763-190eb7114931"
  },
  {
   "cell_type": "markdown",
   "metadata": {},
   "source": [
    "I’d like to see a word cloud of different job titles for each sector in St. Paul"
   ],
   "id": "deeff9e5-ec9e-4a85-96fe-5b04978fb822"
  },
  {
   "cell_type": "code",
   "execution_count": null,
   "metadata": {},
   "outputs": [
    {
     "output_type": "display_data",
     "metadata": {},
     "data": {
      "text/html": [
       "<div class=\"highchart html-widget html-fill-item\" id=\"htmlwidget-610796111a0d248e0a65\" style=\"width:100%;height:464px;\"></div>\n",
       "<script type=\"application/json\" data-for=\"htmlwidget-610796111a0d248e0a65\">{\"x\":{\"hc_opts\":{\"chart\":{\"reflow\":true},\"title\":{\"text\":\"Word Cloud of Green Job Titles in Saint Paul\"},\"yAxis\":{\"title\":{\"text\":[]}},\"credits\":{\"enabled\":false},\"exporting\":{\"enabled\":false},\"boost\":{\"enabled\":false},\"plotOptions\":{\"series\":{\"label\":{\"enabled\":false},\"turboThreshold\":0,\"showInLegend\":false},\"treemap\":{\"layoutAlgorithm\":\"squarified\"},\"scatter\":{\"marker\":{\"symbol\":\"circle\"}}},\"series\":[{\"group\":\"group\",\"data\":[{\"OCC_TITLE\":null,\"n\":11,\"name\":null,\"weight\":11},{\"OCC_TITLE\":\"Electrical Engineers\",\"n\":3,\"name\":\"Electrical Engineers\",\"weight\":3},{\"OCC_TITLE\":\"Mechanical Engineers\",\"n\":3,\"name\":\"Mechanical Engineers\",\"weight\":3},{\"OCC_TITLE\":\"Boilermakers\",\"n\":2,\"name\":\"Boilermakers\",\"weight\":2},{\"OCC_TITLE\":\"Civil Engineers\",\"n\":2,\"name\":\"Civil Engineers\",\"weight\":2},{\"OCC_TITLE\":\"Financial and Investment Analysts\",\"n\":2,\"name\":\"Financial and Investment Analysts\",\"weight\":2},{\"OCC_TITLE\":\"Heating, Air Conditioning, and Refrigeration Mechanics and Installers\",\"n\":2,\"name\":\"Heating, Air Conditioning, and Refrigeration Mechanics and Installers\",\"weight\":2},{\"OCC_TITLE\":\"Insulation Workers, Floor, Ceiling, and Wall\",\"n\":2,\"name\":\"Insulation Workers, Floor, Ceiling, and Wall\",\"weight\":2},{\"OCC_TITLE\":\"Power Plant Operators\",\"n\":2,\"name\":\"Power Plant Operators\",\"weight\":2},{\"OCC_TITLE\":\"Sheet Metal Workers\",\"n\":2,\"name\":\"Sheet Metal Workers\",\"weight\":2},{\"OCC_TITLE\":\"Architects, Except Landscape and Naval\",\"n\":1,\"name\":\"Architects, Except Landscape and Naval\",\"weight\":1},{\"OCC_TITLE\":\"Architectural and Civil Drafters\",\"n\":1,\"name\":\"Architectural and Civil Drafters\",\"weight\":1},{\"OCC_TITLE\":\"Carpenters\",\"n\":1,\"name\":\"Carpenters\",\"weight\":1},{\"OCC_TITLE\":\"Cement Masons and Concrete Finishers\",\"n\":1,\"name\":\"Cement Masons and Concrete Finishers\",\"weight\":1},{\"OCC_TITLE\":\"Construction Laborers\",\"n\":1,\"name\":\"Construction Laborers\",\"weight\":1},{\"OCC_TITLE\":\"Construction Managers\",\"n\":1,\"name\":\"Construction Managers\",\"weight\":1},{\"OCC_TITLE\":\"Construction and Building Inspectors\",\"n\":1,\"name\":\"Construction and Building Inspectors\",\"weight\":1},{\"OCC_TITLE\":\"Electrical Power-Line Installers and Repairers\",\"n\":1,\"name\":\"Electrical Power-Line Installers and Repairers\",\"weight\":1},{\"OCC_TITLE\":\"Electricians\",\"n\":1,\"name\":\"Electricians\",\"weight\":1},{\"OCC_TITLE\":\"General and Operations Managers\",\"n\":1,\"name\":\"General and Operations Managers\",\"weight\":1},{\"OCC_TITLE\":\"Hazardous Materials Removal Workers\",\"n\":1,\"name\":\"Hazardous Materials Removal Workers\",\"weight\":1},{\"OCC_TITLE\":\"Helpers--Installation, Maintenance, and Repair Workers\",\"n\":1,\"name\":\"Helpers--Installation, Maintenance, and Repair Workers\",\"weight\":1},{\"OCC_TITLE\":\"Industrial Truck and Tractor Operators\",\"n\":1,\"name\":\"Industrial Truck and Tractor Operators\",\"weight\":1},{\"OCC_TITLE\":\"Laborers and Freight, Stock, and Material Movers, Hand\",\"n\":1,\"name\":\"Laborers and Freight, Stock, and Material Movers, Hand\",\"weight\":1},{\"OCC_TITLE\":\"Landscape Architects\",\"n\":1,\"name\":\"Landscape Architects\",\"weight\":1},{\"OCC_TITLE\":\"Machinists\",\"n\":1,\"name\":\"Machinists\",\"weight\":1},{\"OCC_TITLE\":\"Operating Engineers and Other Construction Equipment Operators\",\"n\":1,\"name\":\"Operating Engineers and Other Construction Equipment Operators\",\"weight\":1},{\"OCC_TITLE\":\"Plumbers, Pipefitters, and Steamfitters\",\"n\":1,\"name\":\"Plumbers, Pipefitters, and Steamfitters\",\"weight\":1},{\"OCC_TITLE\":\"Power Distributors and Dispatchers\",\"n\":1,\"name\":\"Power Distributors and Dispatchers\",\"weight\":1},{\"OCC_TITLE\":\"Roofers\",\"n\":1,\"name\":\"Roofers\",\"weight\":1},{\"OCC_TITLE\":\"Separating, Filtering, Clarifying, Precipitating, and Still Machine Setters, Operators, and Tenders\",\"n\":1,\"name\":\"Separating, Filtering, Clarifying, Precipitating, and Still Machine Setters, Operators, and Tenders\",\"weight\":1},{\"OCC_TITLE\":\"Stationary Engineers and Boiler Operators\",\"n\":1,\"name\":\"Stationary Engineers and Boiler Operators\",\"weight\":1},{\"OCC_TITLE\":\"Structural Iron and Steel Workers\",\"n\":1,\"name\":\"Structural Iron and Steel Workers\",\"weight\":1},{\"OCC_TITLE\":\"Structural Metal Fabricators and Fitters\",\"n\":1,\"name\":\"Structural Metal Fabricators and Fitters\",\"weight\":1},{\"OCC_TITLE\":\"Transportation Inspectors\",\"n\":1,\"name\":\"Transportation Inspectors\",\"weight\":1},{\"OCC_TITLE\":\"Transportation, Storage, and Distribution Managers\",\"n\":1,\"name\":\"Transportation, Storage, and Distribution Managers\",\"weight\":1},{\"OCC_TITLE\":\"Urban and Regional Planners\",\"n\":1,\"name\":\"Urban and Regional Planners\",\"weight\":1},{\"OCC_TITLE\":\"Welders, Cutters, Solderers, and Brazers\",\"n\":1,\"name\":\"Welders, Cutters, Solderers, and Brazers\",\"weight\":1}],\"type\":\"wordcloud\"}],\"xAxis\":{\"type\":null,\"title\":{\"text\":[]},\"categories\":null}},\"theme\":{\"chart\":{\"backgroundColor\":\"transparent\"},\"colors\":[\"#7cb5ec\",\"#434348\",\"#90ed7d\",\"#f7a35c\",\"#8085e9\",\"#f15c80\",\"#e4d354\",\"#2b908f\",\"#f45b5b\",\"#91e8e1\"]},\"conf_opts\":{\"global\":{\"Date\":null,\"VMLRadialGradientURL\":\"http =//code.highcharts.com/list(version)/gfx/vml-radial-gradient.png\",\"canvasToolsURL\":\"http =//code.highcharts.com/list(version)/modules/canvas-tools.js\",\"getTimezoneOffset\":null,\"timezoneOffset\":0,\"useUTC\":true},\"lang\":{\"contextButtonTitle\":\"Chart context menu\",\"decimalPoint\":\".\",\"downloadCSV\":\"Download CSV\",\"downloadJPEG\":\"Download JPEG image\",\"downloadPDF\":\"Download PDF document\",\"downloadPNG\":\"Download PNG image\",\"downloadSVG\":\"Download SVG vector image\",\"downloadXLS\":\"Download XLS\",\"drillUpText\":\"◁ Back to {series.name}\",\"exitFullscreen\":\"Exit from full screen\",\"exportData\":{\"annotationHeader\":\"Annotations\",\"categoryDatetimeHeader\":\"DateTime\",\"categoryHeader\":\"Category\"},\"hideData\":\"Hide data table\",\"invalidDate\":null,\"loading\":\"Loading...\",\"months\":[\"January\",\"February\",\"March\",\"April\",\"May\",\"June\",\"July\",\"August\",\"September\",\"October\",\"November\",\"December\"],\"noData\":\"No data to display\",\"numericSymbolMagnitude\":1000,\"numericSymbols\":[\"k\",\"M\",\"G\",\"T\",\"P\",\"E\"],\"printChart\":\"Print chart\",\"resetZoom\":\"Reset zoom\",\"resetZoomTitle\":\"Reset zoom level 1:1\",\"shortMonths\":[\"Jan\",\"Feb\",\"Mar\",\"Apr\",\"May\",\"Jun\",\"Jul\",\"Aug\",\"Sep\",\"Oct\",\"Nov\",\"Dec\"],\"shortWeekdays\":[\"Sat\",\"Sun\",\"Mon\",\"Tue\",\"Wed\",\"Thu\",\"Fri\"],\"thousandsSep\":\" \",\"viewData\":\"View data table\",\"viewFullscreen\":\"View in full screen\",\"weekdays\":[\"Sunday\",\"Monday\",\"Tuesday\",\"Wednesday\",\"Thursday\",\"Friday\",\"Saturday\"]}},\"type\":\"chart\",\"fonts\":[],\"debug\":false},\"evals\":[],\"jsHooks\":[]}</script>"
      ]
     }
    }
   ],
   "source": [
    "# Filter the dataset for green jobs only in St. Paul\n",
    "green_jobs_st_paul <- st_paul_jobs %>%\n",
    "  filter(`O*NET-SOC Sector` %in% c(\"Energy Efficiency\", \"Renewable Energy Generation\", \"Green Construction\"))\n",
    "\n",
    "# Extract job titles and count their occurrences in St. Paul\n",
    "job_titles_st_paul <- green_jobs_st_paul %>%\n",
    "  count(OCC_TITLE, sort = TRUE)\n",
    "\n",
    "# Create a word cloud for green jobs in St. Paul using highcharter\n",
    "hchart(\n",
    "  job_titles_st_paul, \n",
    "  \"wordcloud\", \n",
    "  hcaes(name = OCC_TITLE, weight = n)\n",
    ") %>%\n",
    "  hc_title(text = \"Word Cloud of Green Job Titles in Saint Paul\")"
   ],
   "id": "667a0c14-5b9a-4b45-8717-9f32a98a7f88"
  },
  {
   "cell_type": "markdown",
   "metadata": {},
   "source": [
    "Now let’s create separate word clouds for each of the green sectors (“Energy Efficiency”, “Renewable Energy Generation”, and “Green Construction”) for St. Paul"
   ],
   "id": "cda63253-55cf-40d2-87ce-be3bf6f9a945"
  },
  {
   "cell_type": "code",
   "execution_count": null,
   "metadata": {},
   "outputs": [
    {
     "output_type": "display_data",
     "metadata": {},
     "data": {
      "text/html": [
       "<div class=\"highchart html-widget html-fill-item\" id=\"htmlwidget-f67cf3eef9ee80c7a149\" style=\"width:100%;height:464px;\"></div>\n",
       "<script type=\"application/json\" data-for=\"htmlwidget-f67cf3eef9ee80c7a149\">{\"x\":{\"hc_opts\":{\"chart\":{\"reflow\":true},\"title\":{\"text\":\"Word Cloud of Energy Efficiency Job Titles in Saint Paul\"},\"yAxis\":{\"title\":{\"text\":[]}},\"credits\":{\"enabled\":false},\"exporting\":{\"enabled\":false},\"boost\":{\"enabled\":false},\"plotOptions\":{\"series\":{\"label\":{\"enabled\":false},\"turboThreshold\":0,\"showInLegend\":false},\"treemap\":{\"layoutAlgorithm\":\"squarified\"},\"scatter\":{\"marker\":{\"symbol\":\"circle\"}}},\"series\":[{\"group\":\"group\",\"data\":[{\"OCC_TITLE\":null,\"n\":2,\"name\":null,\"weight\":2},{\"OCC_TITLE\":\"Boilermakers\",\"n\":1,\"name\":\"Boilermakers\",\"weight\":1},{\"OCC_TITLE\":\"Electrical Engineers\",\"n\":1,\"name\":\"Electrical Engineers\",\"weight\":1},{\"OCC_TITLE\":\"Electrical Power-Line Installers and Repairers\",\"n\":1,\"name\":\"Electrical Power-Line Installers and Repairers\",\"weight\":1},{\"OCC_TITLE\":\"Financial and Investment Analysts\",\"n\":1,\"name\":\"Financial and Investment Analysts\",\"weight\":1},{\"OCC_TITLE\":\"General and Operations Managers\",\"n\":1,\"name\":\"General and Operations Managers\",\"weight\":1},{\"OCC_TITLE\":\"Heating, Air Conditioning, and Refrigeration Mechanics and Installers\",\"n\":1,\"name\":\"Heating, Air Conditioning, and Refrigeration Mechanics and Installers\",\"weight\":1},{\"OCC_TITLE\":\"Insulation Workers, Floor, Ceiling, and Wall\",\"n\":1,\"name\":\"Insulation Workers, Floor, Ceiling, and Wall\",\"weight\":1},{\"OCC_TITLE\":\"Mechanical Engineers\",\"n\":1,\"name\":\"Mechanical Engineers\",\"weight\":1},{\"OCC_TITLE\":\"Stationary Engineers and Boiler Operators\",\"n\":1,\"name\":\"Stationary Engineers and Boiler Operators\",\"weight\":1},{\"OCC_TITLE\":\"Transportation Inspectors\",\"n\":1,\"name\":\"Transportation Inspectors\",\"weight\":1}],\"type\":\"wordcloud\"}],\"xAxis\":{\"type\":null,\"title\":{\"text\":[]},\"categories\":null}},\"theme\":{\"chart\":{\"backgroundColor\":\"transparent\"},\"colors\":[\"#7cb5ec\",\"#434348\",\"#90ed7d\",\"#f7a35c\",\"#8085e9\",\"#f15c80\",\"#e4d354\",\"#2b908f\",\"#f45b5b\",\"#91e8e1\"]},\"conf_opts\":{\"global\":{\"Date\":null,\"VMLRadialGradientURL\":\"http =//code.highcharts.com/list(version)/gfx/vml-radial-gradient.png\",\"canvasToolsURL\":\"http =//code.highcharts.com/list(version)/modules/canvas-tools.js\",\"getTimezoneOffset\":null,\"timezoneOffset\":0,\"useUTC\":true},\"lang\":{\"contextButtonTitle\":\"Chart context menu\",\"decimalPoint\":\".\",\"downloadCSV\":\"Download CSV\",\"downloadJPEG\":\"Download JPEG image\",\"downloadPDF\":\"Download PDF document\",\"downloadPNG\":\"Download PNG image\",\"downloadSVG\":\"Download SVG vector image\",\"downloadXLS\":\"Download XLS\",\"drillUpText\":\"◁ Back to {series.name}\",\"exitFullscreen\":\"Exit from full screen\",\"exportData\":{\"annotationHeader\":\"Annotations\",\"categoryDatetimeHeader\":\"DateTime\",\"categoryHeader\":\"Category\"},\"hideData\":\"Hide data table\",\"invalidDate\":null,\"loading\":\"Loading...\",\"months\":[\"January\",\"February\",\"March\",\"April\",\"May\",\"June\",\"July\",\"August\",\"September\",\"October\",\"November\",\"December\"],\"noData\":\"No data to display\",\"numericSymbolMagnitude\":1000,\"numericSymbols\":[\"k\",\"M\",\"G\",\"T\",\"P\",\"E\"],\"printChart\":\"Print chart\",\"resetZoom\":\"Reset zoom\",\"resetZoomTitle\":\"Reset zoom level 1:1\",\"shortMonths\":[\"Jan\",\"Feb\",\"Mar\",\"Apr\",\"May\",\"Jun\",\"Jul\",\"Aug\",\"Sep\",\"Oct\",\"Nov\",\"Dec\"],\"shortWeekdays\":[\"Sat\",\"Sun\",\"Mon\",\"Tue\",\"Wed\",\"Thu\",\"Fri\"],\"thousandsSep\":\" \",\"viewData\":\"View data table\",\"viewFullscreen\":\"View in full screen\",\"weekdays\":[\"Sunday\",\"Monday\",\"Tuesday\",\"Wednesday\",\"Thursday\",\"Friday\",\"Saturday\"]}},\"type\":\"chart\",\"fonts\":[],\"debug\":false},\"evals\":[],\"jsHooks\":[]}</script>"
      ]
     }
    },
    {
     "output_type": "display_data",
     "metadata": {},
     "data": {
      "text/html": [
       "<div class=\"highchart html-widget html-fill-item\" id=\"htmlwidget-0d4a819f194bd77f4d98\" style=\"width:100%;height:464px;\"></div>\n",
       "<script type=\"application/json\" data-for=\"htmlwidget-0d4a819f194bd77f4d98\">{\"x\":{\"hc_opts\":{\"chart\":{\"reflow\":true},\"title\":{\"text\":\"Word Cloud of Renewable Energy Generation Job Titles in Saint Paul\"},\"yAxis\":{\"title\":{\"text\":[]}},\"credits\":{\"enabled\":false},\"exporting\":{\"enabled\":false},\"boost\":{\"enabled\":false},\"plotOptions\":{\"series\":{\"label\":{\"enabled\":false},\"turboThreshold\":0,\"showInLegend\":false},\"treemap\":{\"layoutAlgorithm\":\"squarified\"},\"scatter\":{\"marker\":{\"symbol\":\"circle\"}}},\"series\":[{\"group\":\"group\",\"data\":[{\"OCC_TITLE\":null,\"n\":6,\"name\":null,\"weight\":6},{\"OCC_TITLE\":\"Civil Engineers\",\"n\":1,\"name\":\"Civil Engineers\",\"weight\":1},{\"OCC_TITLE\":\"Electrical Engineers\",\"n\":1,\"name\":\"Electrical Engineers\",\"weight\":1},{\"OCC_TITLE\":\"Machinists\",\"n\":1,\"name\":\"Machinists\",\"weight\":1},{\"OCC_TITLE\":\"Mechanical Engineers\",\"n\":1,\"name\":\"Mechanical Engineers\",\"weight\":1},{\"OCC_TITLE\":\"Power Distributors and Dispatchers\",\"n\":1,\"name\":\"Power Distributors and Dispatchers\",\"weight\":1},{\"OCC_TITLE\":\"Power Plant Operators\",\"n\":1,\"name\":\"Power Plant Operators\",\"weight\":1},{\"OCC_TITLE\":\"Separating, Filtering, Clarifying, Precipitating, and Still Machine Setters, Operators, and Tenders\",\"n\":1,\"name\":\"Separating, Filtering, Clarifying, Precipitating, and Still Machine Setters, Operators, and Tenders\",\"weight\":1},{\"OCC_TITLE\":\"Sheet Metal Workers\",\"n\":1,\"name\":\"Sheet Metal Workers\",\"weight\":1},{\"OCC_TITLE\":\"Transportation, Storage, and Distribution Managers\",\"n\":1,\"name\":\"Transportation, Storage, and Distribution Managers\",\"weight\":1}],\"type\":\"wordcloud\"}],\"xAxis\":{\"type\":null,\"title\":{\"text\":[]},\"categories\":null}},\"theme\":{\"chart\":{\"backgroundColor\":\"transparent\"},\"colors\":[\"#7cb5ec\",\"#434348\",\"#90ed7d\",\"#f7a35c\",\"#8085e9\",\"#f15c80\",\"#e4d354\",\"#2b908f\",\"#f45b5b\",\"#91e8e1\"]},\"conf_opts\":{\"global\":{\"Date\":null,\"VMLRadialGradientURL\":\"http =//code.highcharts.com/list(version)/gfx/vml-radial-gradient.png\",\"canvasToolsURL\":\"http =//code.highcharts.com/list(version)/modules/canvas-tools.js\",\"getTimezoneOffset\":null,\"timezoneOffset\":0,\"useUTC\":true},\"lang\":{\"contextButtonTitle\":\"Chart context menu\",\"decimalPoint\":\".\",\"downloadCSV\":\"Download CSV\",\"downloadJPEG\":\"Download JPEG image\",\"downloadPDF\":\"Download PDF document\",\"downloadPNG\":\"Download PNG image\",\"downloadSVG\":\"Download SVG vector image\",\"downloadXLS\":\"Download XLS\",\"drillUpText\":\"◁ Back to {series.name}\",\"exitFullscreen\":\"Exit from full screen\",\"exportData\":{\"annotationHeader\":\"Annotations\",\"categoryDatetimeHeader\":\"DateTime\",\"categoryHeader\":\"Category\"},\"hideData\":\"Hide data table\",\"invalidDate\":null,\"loading\":\"Loading...\",\"months\":[\"January\",\"February\",\"March\",\"April\",\"May\",\"June\",\"July\",\"August\",\"September\",\"October\",\"November\",\"December\"],\"noData\":\"No data to display\",\"numericSymbolMagnitude\":1000,\"numericSymbols\":[\"k\",\"M\",\"G\",\"T\",\"P\",\"E\"],\"printChart\":\"Print chart\",\"resetZoom\":\"Reset zoom\",\"resetZoomTitle\":\"Reset zoom level 1:1\",\"shortMonths\":[\"Jan\",\"Feb\",\"Mar\",\"Apr\",\"May\",\"Jun\",\"Jul\",\"Aug\",\"Sep\",\"Oct\",\"Nov\",\"Dec\"],\"shortWeekdays\":[\"Sat\",\"Sun\",\"Mon\",\"Tue\",\"Wed\",\"Thu\",\"Fri\"],\"thousandsSep\":\" \",\"viewData\":\"View data table\",\"viewFullscreen\":\"View in full screen\",\"weekdays\":[\"Sunday\",\"Monday\",\"Tuesday\",\"Wednesday\",\"Thursday\",\"Friday\",\"Saturday\"]}},\"type\":\"chart\",\"fonts\":[],\"debug\":false},\"evals\":[],\"jsHooks\":[]}</script>"
      ]
     }
    },
    {
     "output_type": "display_data",
     "metadata": {},
     "data": {
      "text/html": [
       "<div class=\"highchart html-widget html-fill-item\" id=\"htmlwidget-cd3024440dcb6e0efd64\" style=\"width:100%;height:464px;\"></div>\n",
       "<script type=\"application/json\" data-for=\"htmlwidget-cd3024440dcb6e0efd64\">{\"x\":{\"hc_opts\":{\"chart\":{\"reflow\":true},\"title\":{\"text\":\"Word Cloud of Green Construction Job Titles in Saint Paul\"},\"yAxis\":{\"title\":{\"text\":[]}},\"credits\":{\"enabled\":false},\"exporting\":{\"enabled\":false},\"boost\":{\"enabled\":false},\"plotOptions\":{\"series\":{\"label\":{\"enabled\":false},\"turboThreshold\":0,\"showInLegend\":false},\"treemap\":{\"layoutAlgorithm\":\"squarified\"},\"scatter\":{\"marker\":{\"symbol\":\"circle\"}}},\"series\":[{\"group\":\"group\",\"data\":[{\"OCC_TITLE\":null,\"n\":3,\"name\":null,\"weight\":3},{\"OCC_TITLE\":\"Architects, Except Landscape and Naval\",\"n\":1,\"name\":\"Architects, Except Landscape and Naval\",\"weight\":1},{\"OCC_TITLE\":\"Architectural and Civil Drafters\",\"n\":1,\"name\":\"Architectural and Civil Drafters\",\"weight\":1},{\"OCC_TITLE\":\"Boilermakers\",\"n\":1,\"name\":\"Boilermakers\",\"weight\":1},{\"OCC_TITLE\":\"Carpenters\",\"n\":1,\"name\":\"Carpenters\",\"weight\":1},{\"OCC_TITLE\":\"Cement Masons and Concrete Finishers\",\"n\":1,\"name\":\"Cement Masons and Concrete Finishers\",\"weight\":1},{\"OCC_TITLE\":\"Civil Engineers\",\"n\":1,\"name\":\"Civil Engineers\",\"weight\":1},{\"OCC_TITLE\":\"Construction Laborers\",\"n\":1,\"name\":\"Construction Laborers\",\"weight\":1},{\"OCC_TITLE\":\"Construction Managers\",\"n\":1,\"name\":\"Construction Managers\",\"weight\":1},{\"OCC_TITLE\":\"Construction and Building Inspectors\",\"n\":1,\"name\":\"Construction and Building Inspectors\",\"weight\":1},{\"OCC_TITLE\":\"Electrical Engineers\",\"n\":1,\"name\":\"Electrical Engineers\",\"weight\":1},{\"OCC_TITLE\":\"Electricians\",\"n\":1,\"name\":\"Electricians\",\"weight\":1},{\"OCC_TITLE\":\"Financial and Investment Analysts\",\"n\":1,\"name\":\"Financial and Investment Analysts\",\"weight\":1},{\"OCC_TITLE\":\"Hazardous Materials Removal Workers\",\"n\":1,\"name\":\"Hazardous Materials Removal Workers\",\"weight\":1},{\"OCC_TITLE\":\"Heating, Air Conditioning, and Refrigeration Mechanics and Installers\",\"n\":1,\"name\":\"Heating, Air Conditioning, and Refrigeration Mechanics and Installers\",\"weight\":1},{\"OCC_TITLE\":\"Helpers--Installation, Maintenance, and Repair Workers\",\"n\":1,\"name\":\"Helpers--Installation, Maintenance, and Repair Workers\",\"weight\":1},{\"OCC_TITLE\":\"Industrial Truck and Tractor Operators\",\"n\":1,\"name\":\"Industrial Truck and Tractor Operators\",\"weight\":1},{\"OCC_TITLE\":\"Insulation Workers, Floor, Ceiling, and Wall\",\"n\":1,\"name\":\"Insulation Workers, Floor, Ceiling, and Wall\",\"weight\":1},{\"OCC_TITLE\":\"Laborers and Freight, Stock, and Material Movers, Hand\",\"n\":1,\"name\":\"Laborers and Freight, Stock, and Material Movers, Hand\",\"weight\":1},{\"OCC_TITLE\":\"Landscape Architects\",\"n\":1,\"name\":\"Landscape Architects\",\"weight\":1},{\"OCC_TITLE\":\"Mechanical Engineers\",\"n\":1,\"name\":\"Mechanical Engineers\",\"weight\":1},{\"OCC_TITLE\":\"Operating Engineers and Other Construction Equipment Operators\",\"n\":1,\"name\":\"Operating Engineers and Other Construction Equipment Operators\",\"weight\":1},{\"OCC_TITLE\":\"Plumbers, Pipefitters, and Steamfitters\",\"n\":1,\"name\":\"Plumbers, Pipefitters, and Steamfitters\",\"weight\":1},{\"OCC_TITLE\":\"Power Plant Operators\",\"n\":1,\"name\":\"Power Plant Operators\",\"weight\":1},{\"OCC_TITLE\":\"Roofers\",\"n\":1,\"name\":\"Roofers\",\"weight\":1},{\"OCC_TITLE\":\"Sheet Metal Workers\",\"n\":1,\"name\":\"Sheet Metal Workers\",\"weight\":1},{\"OCC_TITLE\":\"Structural Iron and Steel Workers\",\"n\":1,\"name\":\"Structural Iron and Steel Workers\",\"weight\":1},{\"OCC_TITLE\":\"Structural Metal Fabricators and Fitters\",\"n\":1,\"name\":\"Structural Metal Fabricators and Fitters\",\"weight\":1},{\"OCC_TITLE\":\"Urban and Regional Planners\",\"n\":1,\"name\":\"Urban and Regional Planners\",\"weight\":1},{\"OCC_TITLE\":\"Welders, Cutters, Solderers, and Brazers\",\"n\":1,\"name\":\"Welders, Cutters, Solderers, and Brazers\",\"weight\":1}],\"type\":\"wordcloud\"}],\"xAxis\":{\"type\":null,\"title\":{\"text\":[]},\"categories\":null}},\"theme\":{\"chart\":{\"backgroundColor\":\"transparent\"},\"colors\":[\"#7cb5ec\",\"#434348\",\"#90ed7d\",\"#f7a35c\",\"#8085e9\",\"#f15c80\",\"#e4d354\",\"#2b908f\",\"#f45b5b\",\"#91e8e1\"]},\"conf_opts\":{\"global\":{\"Date\":null,\"VMLRadialGradientURL\":\"http =//code.highcharts.com/list(version)/gfx/vml-radial-gradient.png\",\"canvasToolsURL\":\"http =//code.highcharts.com/list(version)/modules/canvas-tools.js\",\"getTimezoneOffset\":null,\"timezoneOffset\":0,\"useUTC\":true},\"lang\":{\"contextButtonTitle\":\"Chart context menu\",\"decimalPoint\":\".\",\"downloadCSV\":\"Download CSV\",\"downloadJPEG\":\"Download JPEG image\",\"downloadPDF\":\"Download PDF document\",\"downloadPNG\":\"Download PNG image\",\"downloadSVG\":\"Download SVG vector image\",\"downloadXLS\":\"Download XLS\",\"drillUpText\":\"◁ Back to {series.name}\",\"exitFullscreen\":\"Exit from full screen\",\"exportData\":{\"annotationHeader\":\"Annotations\",\"categoryDatetimeHeader\":\"DateTime\",\"categoryHeader\":\"Category\"},\"hideData\":\"Hide data table\",\"invalidDate\":null,\"loading\":\"Loading...\",\"months\":[\"January\",\"February\",\"March\",\"April\",\"May\",\"June\",\"July\",\"August\",\"September\",\"October\",\"November\",\"December\"],\"noData\":\"No data to display\",\"numericSymbolMagnitude\":1000,\"numericSymbols\":[\"k\",\"M\",\"G\",\"T\",\"P\",\"E\"],\"printChart\":\"Print chart\",\"resetZoom\":\"Reset zoom\",\"resetZoomTitle\":\"Reset zoom level 1:1\",\"shortMonths\":[\"Jan\",\"Feb\",\"Mar\",\"Apr\",\"May\",\"Jun\",\"Jul\",\"Aug\",\"Sep\",\"Oct\",\"Nov\",\"Dec\"],\"shortWeekdays\":[\"Sat\",\"Sun\",\"Mon\",\"Tue\",\"Wed\",\"Thu\",\"Fri\"],\"thousandsSep\":\" \",\"viewData\":\"View data table\",\"viewFullscreen\":\"View in full screen\",\"weekdays\":[\"Sunday\",\"Monday\",\"Tuesday\",\"Wednesday\",\"Thursday\",\"Friday\",\"Saturday\"]}},\"type\":\"chart\",\"fonts\":[],\"debug\":false},\"evals\":[],\"jsHooks\":[]}</script>"
      ]
     }
    }
   ],
   "source": [
    "# Filter the dataset for each sector in St. Paul\n",
    "energy_efficiency_jobs_st_paul <- st_paul_jobs %>%\n",
    "  filter(`O*NET-SOC Sector` == \"Energy Efficiency\")\n",
    "\n",
    "renewable_energy_jobs_st_paul <- st_paul_jobs %>%\n",
    "  filter(`O*NET-SOC Sector` == \"Renewable Energy Generation\")\n",
    "\n",
    "green_construction_jobs_st_paul <- st_paul_jobs %>%\n",
    "  filter(`O*NET-SOC Sector` == \"Green Construction\")\n",
    "\n",
    "# Create a function to generate word clouds for St. Paul sectors\n",
    "generate_wordcloud_st_paul <- function(data, sector_name) {\n",
    "  job_titles <- data %>%\n",
    "    count(OCC_TITLE, sort = TRUE)\n",
    "  \n",
    "  hchart(\n",
    "    job_titles, \n",
    "    \"wordcloud\", \n",
    "    hcaes(name = OCC_TITLE, weight = n)\n",
    "  ) %>%\n",
    "    hc_title(text = paste(\"Word Cloud of\", sector_name, \"Job Titles in Saint Paul\"))\n",
    "}\n",
    "\n",
    "# Generate word cloud for Energy Efficiency in St. Paul\n",
    "energy_efficiency_wordcloud_st_paul <- generate_wordcloud_st_paul(energy_efficiency_jobs_st_paul, \"Energy Efficiency\")\n",
    "\n",
    "# Generate word cloud for Renewable Energy Generation in St. Paul\n",
    "renewable_energy_wordcloud_st_paul <- generate_wordcloud_st_paul(renewable_energy_jobs_st_paul, \"Renewable Energy Generation\")\n",
    "\n",
    "# Generate word cloud for Green Construction in St. Paul\n",
    "green_construction_wordcloud_st_paul <- generate_wordcloud_st_paul(green_construction_jobs_st_paul, \"Green Construction\")\n",
    "\n",
    "# Display the word clouds for St. Paul\n",
    "energy_efficiency_wordcloud_st_paul"
   ],
   "id": "5421800d-b847-44f0-8d66-222363c10148"
  },
  {
   "cell_type": "markdown",
   "metadata": {},
   "source": [
    "Let’s export for graphing"
   ],
   "id": "a6135f0d-39f2-4020-a112-65d6c7515977"
  },
  {
   "cell_type": "code",
   "execution_count": null,
   "metadata": {},
   "outputs": [],
   "source": [
    "# Export the St. Paul jobs data to CSV for graphing\n",
    "write.csv(st_paul_jobs, here(\"processed_data\", \"st_paul_jobs.csv\"), row.names = FALSE)\n",
    "\n",
    "# Export the job_type_summary dataset for St. Paul to CSV for graphing\n",
    "write.csv(job_type_summary_st_paul, here(\"processed_data\", \"st_paul_job_type_summary.csv\"), row.names = FALSE)"
   ],
   "id": "71647c15-7ef9-4ec5-b3f8-bfc41eee2ec3"
  },
  {
   "cell_type": "markdown",
   "metadata": {},
   "source": [
    "### 3. Quality, Pay, and Qualifications of Green Jobs\n",
    "\n",
    "> **RQ 3: What is the quality of these green jobs? How much do they pay? What qualifications are needed (education and experience) nationally?**\n",
    ">\n",
    "> TBD\n",
    "\n",
    "[**Job_Info_Merged**](https://docs.google.com/spreadsheets/d/1kKarz2K1ds0tSfiO-CWi5Wu_wHt1S39JMqsTh0a95y8/edit?gid=842759689#gid=842759689) joins all of the job related data together to make it a bit easier to look at.\n",
    "\n",
    "[**Clean Energy Job Quality and Education Data**](https://docs.google.com/spreadsheets/d/1AFfj5L2_RBNBCw6isvVu1QkiP9rWuKia/edit?usp=drive_link)\n",
    "\n",
    "### 4. Demographics of Green Job Recipients\n",
    "\n",
    "> **RQ 4: Who is getting these green jobs, based on education, race/ethnicity, gender, and income levels in the City of Saint Paul?**\n",
    ">\n",
    "> Of the more than **303,820 people** who live in **St. Paul**, **50.5%** are women, which is aligned with the national average. The majority of residents in St. Paul are **white** (54.3%). **Black or African American people** (15.6%) make up the largest community of color in the city. Other **communities of color,** including Asian (18.4%), Alaska and Native American (0.7%), Hispanic or Latino (8.6%) and Two or More Races (7.8%), make up about 41.5% of the population. Around **42.8% of people aged 25 and older have a bachelor’s degree** in St. Paul, which is higher than the national rate of 34% but lower than Minneapolis’ 54%.\n",
    "\n",
    "In the following figures, we describe the challenges women and people of color in Saint Paul are likely to face in equitably accessing the jobs that may be created through BIL and IRA funding in three specific sectors: energy efficiency, renewable-energy generation, and green construction.\n",
    "\n",
    "-   **2023 Occupational Employment and Wage Survey (OEWS):**\n",
    "\n",
    "    -   Provides employment and wage data by occupation.\n",
    "\n",
    "    -   It’s organized at the **Metropolitan Statistical Area (MSA)** level, which includes a broader geographic area (e.g., Minneapolis-St. Paul-Bloomington, MN-WI Metro).\n",
    "\n",
    "    -   This data gives insights into **jobs and wages** but lacks detailed individual demographics such as race, ethnicity, education, etc.\n",
    "\n",
    "-   **Geocorr Data from the Missouri Census Data Center:**\n",
    "\n",
    "    -   This data helps map geographic boundaries like PUMAs (Public Use Microdata Areas) to more specific local areas, such as St. Paul.\n",
    "\n",
    "    -   By using geographic weighting from Geocorr, we can estimate **St. Paul-specific** statistics from the broader MSA-level data in the OEWS.\n",
    "\n",
    "1.  Load and explore the two datasets.\n",
    "2.  Filter the OEWS data to the Minneapolis-St. Paul-Bloomington Metro area.\n",
    "3.  Get weights from the Geocorr file to adjust for St. Paul’s population.\n",
    "4.  Merge demographic data (from ACS) with the estimated job/wage data from OEWS.\n",
    "5.  Analyze the final dataset for insights into who holds green jobs in St. Paul.\n",
    "\n",
    "**2023 Occupational Employment and Wage Survey**\n",
    "\n",
    "✅[National level data](https://docs.google.com/spreadsheets/d/1I2munGunOJgdI2iWRW7p0BVU0O13r4zb/edit?gid=1944656488#gid=1944656488)\n",
    "\n",
    "✅[Minneapolis-St. Paul-Bloomington, MN-WI](https://docs.google.com/spreadsheets/d/105RYiRn-1LIVC-iUdCD3fCKROfOGH_M62s45gbo7GFM/edit?gid=2141627594#gid=2141627594)\n",
    "\n",
    "**Geocorr from the Missouri Census Data Center**\n",
    "\n",
    "[Minnesota Level ](https://docs.google.com/spreadsheets/d/1wRr-jATTjaXpErUfSCAZsoSn-lt1-TZtWv_Hoq2C29Q/edit?gid=1877088889#gid=1877088889): Contains data mapping PUMAs to Metropolitan Statistical Areas and PUMAs to cities\n",
    "\n",
    "**Processed** \n",
    "\n",
    "[St. Paul - ACS PUMS - Five Years + O\\*NET Green Jobs](https://drive.google.com/file/d/1uyRoXlExkExjlJytEh8meqD3D--4Hwj4/view?usp=drive_link)\n",
    "\n",
    "[National - ACS PUMS - Five Years + O\\*NET Green Jobs](https://drive.google.com/file/d/1C3opSLifg144MIYnISHmf7wwZuAe2TQJ/view?usp=drive_link)\n",
    "\n",
    "You will first need to load the **OEWS** data (Occupational Employment and Wage Survey) and the **Geocorr** data (geographic weights from the Missouri Census Data Center) into R.\n",
    "\n",
    "**OEWS:** processed_data/OWES_and_ONET_St_Paul\n",
    "\n",
    "**Geocorr:** raw_data/Geocorr from the Missouri Census Data Center - Minnesota.xlsx\n",
    "\n",
    "If you have the **ACS (American Community Survey)** data that provides demographic information (education, race, gender, income), you’ll load that as well.\n",
    "\n",
    "**ACS:** processed_data/St_Paul_ACS_All_Jobs.csv\n",
    "\n",
    "    1.  Load the Data:\n",
    "    •   \n",
    "\n",
    "    3.  Use Geocorr to Apply Weights:\n",
    "    •   The Geocorr data provides the geographic weights that represent the population of St. Paul relative to the larger metro area.\n",
    "    •   The purpose of this step is to adjust the OEWS data to better represent St. Paul specifically.\n",
    "    •   You will calculate the percentage of St. Paul’s population in the larger metro area using Geocorr and apply this as a weight to the OEWS data.\n",
    "    4.  Estimate St. Paul-Specific Data:\n",
    "    •   Multiply the employment numbers and wages in the OEWS data by the St. Paul weight to get St. Paul-specific employment and wage estimates.\n",
    "    5.  Incorporate ACS Demographics:\n",
    "    •   You will merge the OEWS data with the ACS data. The ACS data should have demographic information like education, race/ethnicity, gender, and income levels.\n",
    "    •   This will allow you to analyze the green job data segmented by these demographic factors in St. Paul.\n",
    "    6.  Analyze the Data:\n",
    "    •   Once the datasets are merged, you can start analyzing the data to answer your research question: Who is getting green jobs in St. Paul?\n",
    "\n",
    "**Load the OEWS data** (Occupational Employment and Wage Survey), the Geocorr data (geographic weights from the Missouri Census Data Center), and the ACS (American Community Survey) data that provides demographic information (education, race, gender, income). The OEWS Data: is already filtered to the Minneapolis-St. Paul-Bloomington, MN-WI Metro Area."
   ],
   "id": "bc5100bc-26de-449f-a941-6ed4caf330f8"
  },
  {
   "cell_type": "code",
   "execution_count": null,
   "metadata": {},
   "outputs": [
    {
     "output_type": "stream",
     "name": "stderr",
     "text": [
      "Rows: 742 Columns: 34\n",
      "── Column specification ────────────────────────────────────────────────────────\n",
      "Delimiter: \",\"\n",
      "chr (26): AREA_TITLE, PRIM_STATE, NAICS_TITLE, I_GROUP, OCC_CODE, OCC_TITLE,...\n",
      "dbl  (4): AREA, AREA_TYPE, NAICS, OWN_CODE\n",
      "lgl  (4): PCT_TOTAL, PCT_RPT, ANNUAL, HOURLY\n",
      "\n",
      "ℹ Use `spec()` to retrieve the full column specification for this data.\n",
      "ℹ Specify the column types or set `show_col_types = FALSE` to quiet this message."
     ]
    },
    {
     "output_type": "stream",
     "name": "stderr",
     "text": [
      "Rows: 1730 Columns: 19\n",
      "── Column specification ────────────────────────────────────────────────────────\n",
      "Delimiter: \",\"\n",
      "chr  (7): RT, SERIALNO, SOCP, RAC1P, SEX, SCHL, O*NET-SOC Title\n",
      "dbl (12): DIVISION, SPORDER, PUMA20, REGION, ST, AGEP, PINCP, ADJINC, WAGP, ...\n",
      "\n",
      "ℹ Use `spec()` to retrieve the full column specification for this data.\n",
      "ℹ Specify the column types or set `show_col_types = FALSE` to quiet this message."
     ]
    }
   ],
   "source": [
    "# Load St. Paul jobs data (OEWS dataset)\n",
    "st_paul_jobs <- read_csv(here(\"processed_data\", \"OWES_and_ONET-St_Paul.csv\"))"
   ],
   "id": "0b0973fa-ada9-44d9-a082-a060e7c99f4b"
  },
  {
   "cell_type": "markdown",
   "metadata": {},
   "source": [
    "**Use Geocorr to apply weights.** The **Geocorr** data provides the geographic weights that represent the population of St. Paul relative to the larger metro area.The purpose of this step is to adjust the OEWS data to better represent **St. Paul** specifically. We will calculate the percentage of St. Paul's population in the larger metro area using **Geocorr** and apply this as a weight to the OEWS data.\n",
    "\n",
    "Since we are working with PUMAs (Public Use Microdata Areas) and need to adjust the OEWS data for St. Paul using the Geocorr weights, we'll focus on using:\n",
    "\n",
    "-   `Total population (2020 Census)` to understand the population of each PUMA.\n",
    "\n",
    "-   `puma22-to-cbsa20` allocation factor, which represents the proportion of the population in each PUMA that falls within the Minneapolis-St. Paul-Bloomington metro area.\n",
    "\n",
    "The St. Paul weighted allocation factor is 1, which means that for these specific PUMAs (representing **Ramsey County–St. Paul City**), the entire population is considered part of the Minneapolis-St. Paul-Bloomington metro area. This result suggests that we can apply the full population of these PUMAs without needing further weighting, which simplifies the next steps."
   ],
   "id": "a365dde3-0456-4de3-a49d-17c2367581eb"
  },
  {
   "cell_type": "code",
   "execution_count": null,
   "metadata": {},
   "outputs": [
    {
     "output_type": "stream",
     "name": "stdout",
     "text": [
      "St. Paul weighted allocation factor: 1 "
     ]
    },
    {
     "output_type": "stream",
     "name": "stdout",
     "text": [
      "St. Paul population: 311,527 "
     ]
    },
    {
     "output_type": "stream",
     "name": "stdout",
     "text": [
      "Metro area population: 5,706,494 "
     ]
    }
   ],
   "source": [
    "# Filter the Geocorr data to only include St. Paul PUMAs\n",
    "st_paul_geocorr <- geocorr_data %>%\n",
    "  filter(`PUMA22 name` %in% c(\n",
    "    \"Ramsey County--St. Paul City (Northwest)\", \n",
    "    \"Ramsey County--St. Paul City (Southwest)\", \n",
    "    \"Ramsey County--St. Paul City (East)\"\n",
    "  ))\n",
    "\n",
    "# Calculate the total population for St. Paul PUMAs and the weighted allocation factor\n",
    "st_paul_population <- sum(st_paul_geocorr$`Total population (2020 Census)`, na.rm = TRUE)\n",
    "metro_population <- sum(geocorr_data$`Total population (2020 Census)`, na.rm = TRUE)\n",
    "\n",
    "# Calculate the weighted population factor for St. Paul within the metro area using the allocation factor\n",
    "st_paul_weight <- sum(st_paul_geocorr$`puma22-to-cbsa20 allocation factor`, na.rm = TRUE) / nrow(st_paul_geocorr)\n",
    "\n",
    "# Output the results\n",
    "cat(\"St. Paul weighted allocation factor:\", st_paul_weight, \"\\n\")"
   ],
   "id": "d8a0fe2d-70ba-4f5e-ac3f-9e13ba204cac"
  },
  {
   "cell_type": "markdown",
   "metadata": {},
   "source": [
    "**Estimate St. Paul-specific data**. Multiply the employment numbers and wages in the **OEWS** data by the St. Paul weight to get **St. Paul-specific** employment and wage estimates.\n",
    "\n",
    "We'll multiply the employment numbers (TOT_EMP) and wages (H_MEAN and A_MEAN) from the **OEWS** dataset by this St. Paul weight to get **St. Paul-specific estimates**."
   ],
   "id": "79f68406-0bff-48d9-9bbf-050a052f927d"
  },
  {
   "cell_type": "code",
   "execution_count": null,
   "metadata": {},
   "outputs": [
    {
     "output_type": "stream",
     "name": "stderr",
     "text": [
      "Warning: There were 3 warnings in `mutate()`.\n",
      "The first warning was:\n",
      "ℹ In argument: `TOT_EMP = as.numeric(TOT_EMP)`.\n",
      "Caused by warning:\n",
      "! NAs introduced by coercion\n",
      "ℹ Run `dplyr::last_dplyr_warnings()` to see the 2 remaining warnings."
     ]
    },
    {
     "output_type": "stream",
     "name": "stdout",
     "text": [
      "Rows: 742\n",
      "Columns: 37\n",
      "$ AREA               <dbl> 33460, 33460, 33460, 33460, 33460, 33460, 33460, 33…\n",
      "$ AREA_TITLE         <chr> \"Minneapolis-St. Paul-Bloomington, MN-WI\", \"Minneap…\n",
      "$ AREA_TYPE          <dbl> 4, 4, 4, 4, 4, 4, 4, 4, 4, 4, 4, 4, 4, 4, 4, 4, 4, …\n",
      "$ PRIM_STATE         <chr> \"MN\", \"MN\", \"MN\", \"MN\", \"MN\", \"MN\", \"MN\", \"MN\", \"MN…\n",
      "$ NAICS              <dbl> 0, 0, 0, 0, 0, 0, 0, 0, 0, 0, 0, 0, 0, 0, 0, 0, 0, …\n",
      "$ NAICS_TITLE        <chr> \"Cross-industry\", \"Cross-industry\", \"Cross-industry…\n",
      "$ I_GROUP            <chr> \"cross-industry\", \"cross-industry\", \"cross-industry…\n",
      "$ OWN_CODE           <dbl> 1235, 1235, 1235, 1235, 1235, 1235, 1235, 1235, 123…\n",
      "$ OCC_CODE           <chr> \"00-0000\", \"11-0000\", \"11-1011\", \"11-1021\", \"11-103…\n",
      "$ OCC_TITLE          <chr> \"All Occupations\", \"Management Occupations\", \"Chief…\n",
      "$ O_GROUP            <chr> \"total\", \"major\", \"detailed\", \"detailed\", \"detailed…\n",
      "$ TOT_EMP            <dbl> 1911030, 140870, 4420, 48300, 70, 90, 7000, 7390, 9…\n",
      "$ EMP_PRSE           <chr> \"0\", \"1.2\", \"3.9\", \"2\", \"11.9\", \"20.5\", \"3.4\", \"11.…\n",
      "$ JOBS_1000          <chr> \"1000\", \"73.712\", \"2.315\", \"25.272\", \"0.036\", \"0.04…\n",
      "$ LOC_QUOTIENT       <chr> \"1\", \"1.07\", \"1.66\", \"1.09\", \"0.17\", \"0.36\", \"1.51\"…\n",
      "$ PCT_TOTAL          <lgl> NA, NA, NA, NA, NA, NA, NA, NA, NA, NA, NA, NA, NA,…\n",
      "$ PCT_RPT            <lgl> NA, NA, NA, NA, NA, NA, NA, NA, NA, NA, NA, NA, NA,…\n",
      "$ H_MEAN             <dbl> 33.80, 69.10, 129.79, 59.93, NA, 59.25, 86.25, 81.1…\n",
      "$ A_MEAN             <dbl> 70290, 143730, 269950, 124650, 82650, 123240, 17939…\n",
      "$ MEAN_PRSE          <chr> \"0.5\", \"1\", \"3.5\", \"1.2\", \"2.6\", \"8.7\", \"1.9\", \"2.4…\n",
      "$ H_PCT10            <chr> \"15.06\", \"29.27\", \"45.92\", \"22.92\", \"*\", \"33.65\", \"…\n",
      "$ H_PCT25            <chr> \"18.45\", \"41.06\", \"67.35\", \"32.21\", \"*\", \"37.64\", \"…\n",
      "$ H_MEDIAN           <chr> \"26.37\", \"61.33\", \"100.87\", \"49.26\", \"*\", \"55.5\", \"…\n",
      "$ H_PCT75            <chr> \"39.85\", \"83.45\", \"#\", \"76.63\", \"*\", \"70.61\", \"101.…\n",
      "$ H_PCT90            <chr> \"60.7\", \"110.83\", \"#\", \"105.67\", \"*\", \"98.35\", \"#\",…\n",
      "$ A_PCT10            <chr> \"31320\", \"60890\", \"95510\", \"47670\", \"21140\", \"69990…\n",
      "$ A_PCT25            <chr> \"38380\", \"85410\", \"140090\", \"66990\", \"37050\", \"7828…\n",
      "$ A_MEDIAN           <chr> \"54850\", \"127570\", \"209820\", \"102460\", \"79000\", \"11…\n",
      "$ A_PCT75            <chr> \"82890\", \"173570\", \"#\", \"159380\", \"114000\", \"146860…\n",
      "$ A_PCT90            <chr> \"126260\", \"230520\", \"#\", \"219800\", \"151910\", \"20457…\n",
      "$ ANNUAL             <lgl> NA, NA, NA, NA, TRUE, NA, NA, NA, NA, NA, NA, NA, N…\n",
      "$ HOURLY             <lgl> NA, NA, NA, NA, NA, NA, NA, NA, NA, NA, NA, NA, NA,…\n",
      "$ `O*NET-SOC Code`   <chr> NA, NA, NA, \"11-1021\", NA, NA, NA, NA, NA, NA, NA, …\n",
      "$ `O*NET-SOC Sector` <chr> NA, NA, NA, \"Energy Efficiency\", NA, NA, NA, NA, NA…\n",
      "$ TOT_EMP_St_Paul    <dbl> 1911030, 140870, 4420, 48300, 70, 90, 7000, 7390, 9…\n",
      "$ H_MEAN_St_Paul     <dbl> 33.80, 69.10, 129.79, 59.93, NA, 59.25, 86.25, 81.1…\n",
      "$ A_MEAN_St_Paul     <dbl> 70290, 143730, 269950, 124650, 82650, 123240, 17939…"
     ]
    },
    {
     "output_type": "stream",
     "name": "stdout",
     "text": [
      "# A tibble: 1 × 3\n",
      "  Total_Employment Mean_Hourly_Wage Mean_Annual_Wage\n",
      "             <dbl>            <dbl>            <dbl>\n",
      "1          5751890             36.6           77675."
     ]
    }
   ],
   "source": [
    "# Ensure that the necessary columns are numeric\n",
    "st_paul_jobs <- st_paul_jobs %>%\n",
    "  mutate(\n",
    "    TOT_EMP = as.numeric(TOT_EMP),  # Convert total employment to numeric\n",
    "    H_MEAN = as.numeric(H_MEAN),    # Convert mean hourly wage to numeric\n",
    "    A_MEAN = as.numeric(A_MEAN)     # Convert mean annual wage to numeric\n",
    "  )"
   ],
   "id": "e3d8d5f5-c4f4-45bf-b19e-c001a2153d6a"
  },
  {
   "cell_type": "code",
   "execution_count": null,
   "metadata": {},
   "outputs": [
    {
     "output_type": "stream",
     "name": "stdout",
     "text": [
      "# A tibble: 4 × 4\n",
      "  `O*NET-SOC Sector`          Total_Employment Mean_Hourly_Wage Mean_Annual_Wage\n",
      "  <chr>                                  <dbl>            <dbl>            <dbl>\n",
      "1 Energy Efficiency                      66410             45.5           94669.\n",
      "2 Green Construction                    124680             37.9           78809.\n",
      "3 Other                                5537550             36.3           77193.\n",
      "4 Renewable Energy Generation            23250             44.7           92991."
     ]
    },
    {
     "output_type": "display_data",
     "metadata": {},
     "data": {
      "text/html": [
       "<div class=\"highchart html-widget html-fill-item\" id=\"htmlwidget-3ecbc95a0092a1e74dd3\" style=\"width:100%;height:464px;\"></div>\n",
       "<script type=\"application/json\" data-for=\"htmlwidget-3ecbc95a0092a1e74dd3\">{\"x\":{\"hc_opts\":{\"chart\":{\"reflow\":true},\"title\":{\"text\":\"Total Employment by Sector in St. Paul\"},\"yAxis\":{\"title\":{\"text\":\"Total Employment\"},\"type\":\"linear\",\"labels\":{\"format\":\"{value:,0f}\"}},\"credits\":{\"enabled\":false},\"exporting\":{\"enabled\":false},\"boost\":{\"enabled\":false},\"plotOptions\":{\"series\":{\"label\":{\"enabled\":false},\"turboThreshold\":0,\"showInLegend\":false},\"treemap\":{\"layoutAlgorithm\":\"squarified\"},\"scatter\":{\"marker\":{\"symbol\":\"circle\"}}},\"series\":[{\"group\":\"group\",\"data\":[{\"O*NET-SOC Sector\":\"Energy Efficiency\",\"Total_Employment\":66410,\"Mean_Hourly_Wage\":45.51333333333334,\"Mean_Annual_Wage\":94668.88888888889,\"y\":66410,\"name\":\"Energy Efficiency\"},{\"O*NET-SOC Sector\":\"Green Construction\",\"Total_Employment\":124680,\"Mean_Hourly_Wage\":37.88896551724138,\"Mean_Annual_Wage\":78808.96551724138,\"y\":124680,\"name\":\"Green Construction\"},{\"O*NET-SOC Sector\":\"Other\",\"Total_Employment\":5537550,\"Mean_Hourly_Wage\":36.30687702265373,\"Mean_Annual_Wage\":77192.53353204168,\"y\":5537550,\"name\":\"Other\"},{\"O*NET-SOC Sector\":\"Renewable Energy Generation\",\"Total_Employment\":23250,\"Mean_Hourly_Wage\":44.70666666666666,\"Mean_Annual_Wage\":92991.11111111111,\"y\":23250,\"name\":\"Renewable Energy Generation\"}],\"type\":\"column\"}],\"xAxis\":{\"type\":\"category\",\"title\":{\"text\":\"Sector\"}},\"tooltip\":{\"pointFormat\":\"<b>{point.y:,0f}<\\/b>\"}},\"theme\":{\"chart\":{\"backgroundColor\":\"transparent\"},\"colors\":[\"#7cb5ec\",\"#434348\",\"#90ed7d\",\"#f7a35c\",\"#8085e9\",\"#f15c80\",\"#e4d354\",\"#2b908f\",\"#f45b5b\",\"#91e8e1\"]},\"conf_opts\":{\"global\":{\"Date\":null,\"VMLRadialGradientURL\":\"http =//code.highcharts.com/list(version)/gfx/vml-radial-gradient.png\",\"canvasToolsURL\":\"http =//code.highcharts.com/list(version)/modules/canvas-tools.js\",\"getTimezoneOffset\":null,\"timezoneOffset\":0,\"useUTC\":true},\"lang\":{\"contextButtonTitle\":\"Chart context menu\",\"decimalPoint\":\".\",\"downloadCSV\":\"Download CSV\",\"downloadJPEG\":\"Download JPEG image\",\"downloadPDF\":\"Download PDF document\",\"downloadPNG\":\"Download PNG image\",\"downloadSVG\":\"Download SVG vector image\",\"downloadXLS\":\"Download XLS\",\"drillUpText\":\"◁ Back to {series.name}\",\"exitFullscreen\":\"Exit from full screen\",\"exportData\":{\"annotationHeader\":\"Annotations\",\"categoryDatetimeHeader\":\"DateTime\",\"categoryHeader\":\"Category\"},\"hideData\":\"Hide data table\",\"invalidDate\":null,\"loading\":\"Loading...\",\"months\":[\"January\",\"February\",\"March\",\"April\",\"May\",\"June\",\"July\",\"August\",\"September\",\"October\",\"November\",\"December\"],\"noData\":\"No data to display\",\"numericSymbolMagnitude\":1000,\"numericSymbols\":[\"k\",\"M\",\"G\",\"T\",\"P\",\"E\"],\"printChart\":\"Print chart\",\"resetZoom\":\"Reset zoom\",\"resetZoomTitle\":\"Reset zoom level 1:1\",\"shortMonths\":[\"Jan\",\"Feb\",\"Mar\",\"Apr\",\"May\",\"Jun\",\"Jul\",\"Aug\",\"Sep\",\"Oct\",\"Nov\",\"Dec\"],\"shortWeekdays\":[\"Sat\",\"Sun\",\"Mon\",\"Tue\",\"Wed\",\"Thu\",\"Fri\"],\"thousandsSep\":\" \",\"viewData\":\"View data table\",\"viewFullscreen\":\"View in full screen\",\"weekdays\":[\"Sunday\",\"Monday\",\"Tuesday\",\"Wednesday\",\"Thursday\",\"Friday\",\"Saturday\"]}},\"type\":\"chart\",\"fonts\":[],\"debug\":false},\"evals\":[],\"jsHooks\":[]}</script>"
      ]
     }
    },
    {
     "output_type": "display_data",
     "metadata": {},
     "data": {
      "text/html": [
       "<div class=\"highchart html-widget html-fill-item\" id=\"htmlwidget-c0ef65b9df868a583686\" style=\"width:100%;height:464px;\"></div>\n",
       "<script type=\"application/json\" data-for=\"htmlwidget-c0ef65b9df868a583686\">{\"x\":{\"hc_opts\":{\"chart\":{\"reflow\":true},\"title\":{\"text\":\"Mean Hourly Wage by Sector in St. Paul\"},\"yAxis\":{\"title\":{\"text\":\"Mean Hourly Wage (USD)\"},\"type\":\"linear\"},\"credits\":{\"enabled\":false},\"exporting\":{\"enabled\":false},\"boost\":{\"enabled\":false},\"plotOptions\":{\"series\":{\"label\":{\"enabled\":false},\"turboThreshold\":0,\"showInLegend\":false},\"treemap\":{\"layoutAlgorithm\":\"squarified\"},\"scatter\":{\"marker\":{\"symbol\":\"circle\"}}},\"series\":[{\"group\":\"group\",\"data\":[{\"O*NET-SOC Sector\":\"Energy Efficiency\",\"Total_Employment\":66410,\"Mean_Hourly_Wage\":45.51333333333334,\"Mean_Annual_Wage\":94668.88888888889,\"y\":45.51333333333334,\"name\":\"Energy Efficiency\"},{\"O*NET-SOC Sector\":\"Green Construction\",\"Total_Employment\":124680,\"Mean_Hourly_Wage\":37.88896551724138,\"Mean_Annual_Wage\":78808.96551724138,\"y\":37.88896551724138,\"name\":\"Green Construction\"},{\"O*NET-SOC Sector\":\"Other\",\"Total_Employment\":5537550,\"Mean_Hourly_Wage\":36.30687702265373,\"Mean_Annual_Wage\":77192.53353204168,\"y\":36.30687702265373,\"name\":\"Other\"},{\"O*NET-SOC Sector\":\"Renewable Energy Generation\",\"Total_Employment\":23250,\"Mean_Hourly_Wage\":44.70666666666666,\"Mean_Annual_Wage\":92991.11111111111,\"y\":44.70666666666666,\"name\":\"Renewable Energy Generation\"}],\"type\":\"column\"}],\"xAxis\":{\"type\":\"category\",\"title\":{\"text\":\"Sector\"}},\"tooltip\":{\"pointFormat\":\"<b>{point.y:.2f} USD<\\/b>\"}},\"theme\":{\"chart\":{\"backgroundColor\":\"transparent\"},\"colors\":[\"#7cb5ec\",\"#434348\",\"#90ed7d\",\"#f7a35c\",\"#8085e9\",\"#f15c80\",\"#e4d354\",\"#2b908f\",\"#f45b5b\",\"#91e8e1\"]},\"conf_opts\":{\"global\":{\"Date\":null,\"VMLRadialGradientURL\":\"http =//code.highcharts.com/list(version)/gfx/vml-radial-gradient.png\",\"canvasToolsURL\":\"http =//code.highcharts.com/list(version)/modules/canvas-tools.js\",\"getTimezoneOffset\":null,\"timezoneOffset\":0,\"useUTC\":true},\"lang\":{\"contextButtonTitle\":\"Chart context menu\",\"decimalPoint\":\".\",\"downloadCSV\":\"Download CSV\",\"downloadJPEG\":\"Download JPEG image\",\"downloadPDF\":\"Download PDF document\",\"downloadPNG\":\"Download PNG image\",\"downloadSVG\":\"Download SVG vector image\",\"downloadXLS\":\"Download XLS\",\"drillUpText\":\"◁ Back to {series.name}\",\"exitFullscreen\":\"Exit from full screen\",\"exportData\":{\"annotationHeader\":\"Annotations\",\"categoryDatetimeHeader\":\"DateTime\",\"categoryHeader\":\"Category\"},\"hideData\":\"Hide data table\",\"invalidDate\":null,\"loading\":\"Loading...\",\"months\":[\"January\",\"February\",\"March\",\"April\",\"May\",\"June\",\"July\",\"August\",\"September\",\"October\",\"November\",\"December\"],\"noData\":\"No data to display\",\"numericSymbolMagnitude\":1000,\"numericSymbols\":[\"k\",\"M\",\"G\",\"T\",\"P\",\"E\"],\"printChart\":\"Print chart\",\"resetZoom\":\"Reset zoom\",\"resetZoomTitle\":\"Reset zoom level 1:1\",\"shortMonths\":[\"Jan\",\"Feb\",\"Mar\",\"Apr\",\"May\",\"Jun\",\"Jul\",\"Aug\",\"Sep\",\"Oct\",\"Nov\",\"Dec\"],\"shortWeekdays\":[\"Sat\",\"Sun\",\"Mon\",\"Tue\",\"Wed\",\"Thu\",\"Fri\"],\"thousandsSep\":\" \",\"viewData\":\"View data table\",\"viewFullscreen\":\"View in full screen\",\"weekdays\":[\"Sunday\",\"Monday\",\"Tuesday\",\"Wednesday\",\"Thursday\",\"Friday\",\"Saturday\"]}},\"type\":\"chart\",\"fonts\":[],\"debug\":false},\"evals\":[],\"jsHooks\":[]}</script>"
      ]
     }
    },
    {
     "output_type": "display_data",
     "metadata": {},
     "data": {
      "text/html": [
       "<div class=\"highchart html-widget html-fill-item\" id=\"htmlwidget-3543a45874b47907c999\" style=\"width:100%;height:464px;\"></div>\n",
       "<script type=\"application/json\" data-for=\"htmlwidget-3543a45874b47907c999\">{\"x\":{\"hc_opts\":{\"chart\":{\"reflow\":true},\"title\":{\"text\":\"Mean Annual Wage by Sector in St. Paul\"},\"yAxis\":{\"title\":{\"text\":\"Mean Annual Wage (USD)\"},\"type\":\"linear\",\"labels\":{\"format\":\"{value:,0f}\"}},\"credits\":{\"enabled\":false},\"exporting\":{\"enabled\":false},\"boost\":{\"enabled\":false},\"plotOptions\":{\"series\":{\"label\":{\"enabled\":false},\"turboThreshold\":0,\"showInLegend\":false},\"treemap\":{\"layoutAlgorithm\":\"squarified\"},\"scatter\":{\"marker\":{\"symbol\":\"circle\"}}},\"series\":[{\"group\":\"group\",\"data\":[{\"O*NET-SOC Sector\":\"Energy Efficiency\",\"Total_Employment\":66410,\"Mean_Hourly_Wage\":45.51333333333334,\"Mean_Annual_Wage\":94668.88888888889,\"y\":94668.88888888889,\"name\":\"Energy Efficiency\"},{\"O*NET-SOC Sector\":\"Green Construction\",\"Total_Employment\":124680,\"Mean_Hourly_Wage\":37.88896551724138,\"Mean_Annual_Wage\":78808.96551724138,\"y\":78808.96551724138,\"name\":\"Green Construction\"},{\"O*NET-SOC Sector\":\"Other\",\"Total_Employment\":5537550,\"Mean_Hourly_Wage\":36.30687702265373,\"Mean_Annual_Wage\":77192.53353204168,\"y\":77192.53353204168,\"name\":\"Other\"},{\"O*NET-SOC Sector\":\"Renewable Energy Generation\",\"Total_Employment\":23250,\"Mean_Hourly_Wage\":44.70666666666666,\"Mean_Annual_Wage\":92991.11111111111,\"y\":92991.11111111111,\"name\":\"Renewable Energy Generation\"}],\"type\":\"column\"}],\"xAxis\":{\"type\":\"category\",\"title\":{\"text\":\"Sector\"}},\"tooltip\":{\"pointFormat\":\"<b>{point.y:,0f} USD<\\/b>\"}},\"theme\":{\"chart\":{\"backgroundColor\":\"transparent\"},\"colors\":[\"#7cb5ec\",\"#434348\",\"#90ed7d\",\"#f7a35c\",\"#8085e9\",\"#f15c80\",\"#e4d354\",\"#2b908f\",\"#f45b5b\",\"#91e8e1\"]},\"conf_opts\":{\"global\":{\"Date\":null,\"VMLRadialGradientURL\":\"http =//code.highcharts.com/list(version)/gfx/vml-radial-gradient.png\",\"canvasToolsURL\":\"http =//code.highcharts.com/list(version)/modules/canvas-tools.js\",\"getTimezoneOffset\":null,\"timezoneOffset\":0,\"useUTC\":true},\"lang\":{\"contextButtonTitle\":\"Chart context menu\",\"decimalPoint\":\".\",\"downloadCSV\":\"Download CSV\",\"downloadJPEG\":\"Download JPEG image\",\"downloadPDF\":\"Download PDF document\",\"downloadPNG\":\"Download PNG image\",\"downloadSVG\":\"Download SVG vector image\",\"downloadXLS\":\"Download XLS\",\"drillUpText\":\"◁ Back to {series.name}\",\"exitFullscreen\":\"Exit from full screen\",\"exportData\":{\"annotationHeader\":\"Annotations\",\"categoryDatetimeHeader\":\"DateTime\",\"categoryHeader\":\"Category\"},\"hideData\":\"Hide data table\",\"invalidDate\":null,\"loading\":\"Loading...\",\"months\":[\"January\",\"February\",\"March\",\"April\",\"May\",\"June\",\"July\",\"August\",\"September\",\"October\",\"November\",\"December\"],\"noData\":\"No data to display\",\"numericSymbolMagnitude\":1000,\"numericSymbols\":[\"k\",\"M\",\"G\",\"T\",\"P\",\"E\"],\"printChart\":\"Print chart\",\"resetZoom\":\"Reset zoom\",\"resetZoomTitle\":\"Reset zoom level 1:1\",\"shortMonths\":[\"Jan\",\"Feb\",\"Mar\",\"Apr\",\"May\",\"Jun\",\"Jul\",\"Aug\",\"Sep\",\"Oct\",\"Nov\",\"Dec\"],\"shortWeekdays\":[\"Sat\",\"Sun\",\"Mon\",\"Tue\",\"Wed\",\"Thu\",\"Fri\"],\"thousandsSep\":\" \",\"viewData\":\"View data table\",\"viewFullscreen\":\"View in full screen\",\"weekdays\":[\"Sunday\",\"Monday\",\"Tuesday\",\"Wednesday\",\"Thursday\",\"Friday\",\"Saturday\"]}},\"type\":\"chart\",\"fonts\":[],\"debug\":false},\"evals\":[],\"jsHooks\":[]}</script>"
      ]
     }
    }
   ],
   "source": [
    "# Replace NA values in 'O*NET-SOC Sector' with 'Other'\n",
    "st_paul_jobs_weighted <- st_paul_jobs_weighted %>%\n",
    "  mutate(`O*NET-SOC Sector` = ifelse(is.na(`O*NET-SOC Sector`), \"Other\", `O*NET-SOC Sector`))\n",
    "\n",
    "# Group by 'O*NET-SOC Sector' and calculate the total employment, mean hourly wage, and mean annual wage\n",
    "sector_summary_st_paul <- st_paul_jobs_weighted %>%\n",
    "  group_by(`O*NET-SOC Sector`) %>%\n",
    "  summarize(\n",
    "    Total_Employment = sum(TOT_EMP_St_Paul, na.rm = TRUE),\n",
    "    Mean_Hourly_Wage = mean(H_MEAN_St_Paul, na.rm = TRUE),\n",
    "    Mean_Annual_Wage = mean(A_MEAN_St_Paul, na.rm = TRUE)\n",
    "  )\n",
    "\n",
    "# Output the sector-wise summary\n",
    "print(sector_summary_st_paul)"
   ],
   "id": "e88a2aba-3534-4f5e-aab9-6875ffef121d"
  },
  {
   "cell_type": "markdown",
   "metadata": {},
   "source": [
    "**Incorporate ACS demographics**. We will merge the OEWS data with the **ACS** data. The **ACS data** has demographic information like education, race/ethnicity, gender, and income levels. This will allow us to analyze the green job data segmented by these demographic factors in **St. Paul**."
   ],
   "id": "e87baa30-e213-434c-ab54-83c2c1f5a1b2"
  },
  {
   "cell_type": "code",
   "execution_count": null,
   "metadata": {},
   "outputs": [],
   "source": [
    "# Convert the O*NET-SOC code to character in both datasets\n",
    "st_paul_jobs_weighted <- st_paul_jobs_weighted %>%\n",
    "  mutate(`O*NET-SOC Code` = as.character(`O*NET-SOC Code`))\n",
    "\n",
    "acs_data <- acs_data %>%\n",
    "  mutate(`O*NET-SOC Code` = as.character(`O*NET-SOC Code`))"
   ],
   "id": "270144eb-71e4-489a-a598-da20a33d032c"
  },
  {
   "cell_type": "code",
   "execution_count": null,
   "metadata": {},
   "outputs": [],
   "source": [
    "# # Now, merge the OEWS weighted data with the ACS demographics data using the 'O*NET-SOC Code' column. Proceed with the join, allowing many-to-many relationship\n",
    "# merged_data <- st_paul_jobs_weighted %>%\n",
    "#   left_join(acs_data, by = \"O*NET-SOC Code\", relationship = \"many-to-many\")\n",
    "# \n",
    "# # Save the merged dataset for future reference\n",
    "# saveRDS(merged_data, here(\"processed_data\", \"merged_st_paul_jobs_acs.rds\"))\n",
    "# write_csv(merged_data, here(\"processed_data\", \"merged_st_paul_jobs_acs.csv\"))\n",
    "# \n",
    "# ################################\n",
    "# \n",
    "# # Ensure distinct values of O*NET-SOC Code in ACS data to avoid duplication\n",
    "# distinct_acs_data <- acs_data %>%\n",
    "#   distinct(`O*NET-SOC Code`, .keep_all = TRUE)  # Keeping unique rows\n",
    "# \n",
    "# # Merge the distinct ACS data with the OEWS data\n",
    "# merged_data <- st_paul_jobs_weighted %>%\n",
    "#   left_join(distinct_acs_data, by = \"O*NET-SOC Code\", relationship = \"many-to-many\")\n",
    "# \n",
    "# # Check the count of Green Job Flag after merging\n",
    "# sum(merged_data$`Green Job Flag`, na.rm = TRUE)  # Compare with the original count of 72"
   ],
   "id": "ab791bc2-3f92-462e-bef5-d083b1838a21"
  },
  {
   "cell_type": "markdown",
   "metadata": {},
   "source": [
    "**Analyze the data**. Once the datasets are merged, you can start analyzing the data to answer your research question.\n",
    "\n",
    "Now that we've merged the **OEWS** and **ACS** data, we can group by the **O\\*NET-SOC Sector** (Energy Efficiency, Renewable Energy Generation, Green Construction) and demographic factors like **education**, **race**, **gender**, and **income**."
   ],
   "id": "50e417e2-28da-4b5b-a86f-941d94f98cab"
  },
  {
   "cell_type": "code",
   "execution_count": null,
   "metadata": {},
   "outputs": [],
   "source": [
    "# # Summarize the data by sector and demographic factors (education, race, gender, income)\n",
    "# demographic_summary <- merged_data %>%\n",
    "#   group_by(`O*NET-SOC Sector`, SCHL, RAC1P, SEX, PINCP) %>%  # SCHL for education, RAC1P for race, SEX for gender, PINCP for income\n",
    "#   summarize(\n",
    "#     Total_Employment = sum(TOT_EMP_St_Paul, na.rm = TRUE),\n",
    "#     Mean_Hourly_Wage = mean(H_MEAN_St_Paul, na.rm = TRUE),\n",
    "#     Mean_Annual_Wage = mean(A_MEAN_St_Paul, na.rm = TRUE)\n",
    "#   )\n",
    "# \n",
    "# # View the summarized demographic data\n",
    "# print(demographic_summary)\n",
    "# \n",
    "# # Save the demographic summary for future reference\n",
    "# saveRDS(demographic_summary, here(\"processed_data\", \"demographic_summary_st_paul.rds\"))\n",
    "# write_csv(demographic_summary, here(\"processed_data\", \"demographic_summary_st_paul.csv\"))\n",
    "# \n",
    "# # Example visualization for Total Employment by education level in green jobs\n",
    "# hchart(demographic_summary, \"column\", hcaes(x = SCHL, y = Total_Employment, group = `O*NET-SOC Sector`)) %>%\n",
    "#   hc_title(text = \"Total Employment in Green Jobs by Education Level and Sector\") %>%\n",
    "#   hc_xAxis(title = list(text = \"Education Level\")) %>%\n",
    "#   hc_yAxis(title = list(text = \"Total Employment\"), labels = list(format = \"{value:,0f}\")) %>%\n",
    "#   hc_tooltip(pointFormat = '<b>{point.y:,0f}</b>')\n",
    "# \n",
    "# # Example visualization for Mean Hourly Wage by gender in green jobs\n",
    "# hchart(demographic_summary, \"column\", hcaes(x = SEX, y = Mean_Hourly_Wage, group = `O*NET-SOC Sector`)) %>%\n",
    "#   hc_title(text = \"Mean Hourly Wage in Green Jobs by Gender and Sector\") %>%\n",
    "#   hc_xAxis(title = list(text = \"Gender\")) %>%\n",
    "#   hc_yAxis(title = list(text = \"Mean Hourly Wage (USD)\")) %>%\n",
    "#   hc_tooltip(pointFormat = '<b>{point.y:.2f} USD</b>')"
   ],
   "id": "fb381577-0481-4bd3-99f9-efb2bfac3c8e"
  }
 ],
 "nbformat": 4,
 "nbformat_minor": 5,
 "metadata": {}
}
