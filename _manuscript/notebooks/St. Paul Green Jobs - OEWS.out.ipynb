{
  "cells": [
    {
      "cell_type": "markdown",
      "metadata": {},
      "source": [
        "#"
      ],
      "id": "96dc7321-412d-4fda-b3b4-0a52740aff96"
    },
    {
      "cell_type": "code",
      "execution_count": 3,
      "metadata": {
        "executionInfo": {
          "elapsed": 401,
          "status": "ok",
          "timestamp": 1724527917997,
          "user": {
            "displayName": "Eva Revear",
            "userId": "01665688304887348614"
          },
          "user_tz": 420
        }
      },
      "outputs": [],
      "source": [
        "import pandas as pd"
      ],
      "id": "cell-0"
    },
    {
      "cell_type": "code",
      "execution_count": 4,
      "metadata": {
        "executionInfo": {
          "elapsed": 41239,
          "status": "ok",
          "timestamp": 1724527959625,
          "user": {
            "displayName": "Eva Revear",
            "userId": "01665688304887348614"
          },
          "user_tz": 420
        },
        "outputId": "8ed814fe-b488-4832-82bf-0778b4018846"
      },
      "outputs": [
        {
          "output_type": "stream",
          "name": "stdout",
          "text": [
            "    AREA   AREA_TITLE  AREA_TYPE PRIM_STATE  NAICS     NAICS_TITLE  \\\n",
            "0  10180  Abilene, TX          4         TX      0  Cross-industry   \n",
            "1  10180  Abilene, TX          4         TX      0  Cross-industry   \n",
            "2  10180  Abilene, TX          4         TX      0  Cross-industry   \n",
            "3  10180  Abilene, TX          4         TX      0  Cross-industry   \n",
            "4  10180  Abilene, TX          4         TX      0  Cross-industry   \n",
            "\n",
            "          I_GROUP  OWN_CODE OCC_CODE                        OCC_TITLE  ...  \\\n",
            "0  cross-industry      1235  00-0000                  All Occupations  ...   \n",
            "1  cross-industry      1235  11-0000           Management Occupations  ...   \n",
            "2  cross-industry      1235  11-1011                 Chief Executives  ...   \n",
            "3  cross-industry      1235  11-1021  General and Operations Managers  ...   \n",
            "4  cross-industry      1235  11-2021               Marketing Managers  ...   \n",
            "\n",
            "  H_MEDIAN H_PCT75 H_PCT90 A_PCT10 A_PCT25  A_MEDIAN  A_PCT75 A_PCT90 ANNUAL  \\\n",
            "0     18.6   28.03   40.08   22750   28710     38680    58310   83360    NaN   \n",
            "1    39.09   58.27   81.79   42080   59290     81310   121200  170130    NaN   \n",
            "2    97.28       #       #   98490  135280    202340        #       #    NaN   \n",
            "3    37.19   57.85   86.97   34440   49430     77360   120330  180900    NaN   \n",
            "4    45.31   72.66   97.35   60130   74980     94240   151130  202490    NaN   \n",
            "\n",
            "  HOURLY  \n",
            "0    NaN  \n",
            "1    NaN  \n",
            "2    NaN  \n",
            "3    NaN  \n",
            "4    NaN  \n",
            "\n",
            "[5 rows x 32 columns]"
          ]
        }
      ],
      "source": [
        "green_jobs_df = pd.read_csv('/content/drive/MyDrive/Upwork - St. Paul Clean Energy Jobs/st_paul_green_jobs_data/processed_data/Green Enhanced Skills Occupations - All - Sheet1.csv')\n",
        "\n",
        "green_jobs_df.head()"
      ],
      "id": "cell-1"
    },
    {
      "cell_type": "code",
      "execution_count": 5,
      "metadata": {
        "executionInfo": {
          "elapsed": 41,
          "status": "ok",
          "timestamp": 1724527959626,
          "user": {
            "displayName": "Eva Revear",
            "userId": "01665688304887348614"
          },
          "user_tz": 420
        },
        "outputId": "cdf658f8-8c36-4a40-c208-3bf36bf8a2e2"
      },
      "outputs": [
        {
          "output_type": "stream",
          "name": "stdout",
          "text": [
            "        AREA                               AREA_TITLE  AREA_TYPE PRIM_STATE  \\\n",
            "82306  33460  Minneapolis-St. Paul-Bloomington, MN-WI          4         MN   \n",
            "82307  33460  Minneapolis-St. Paul-Bloomington, MN-WI          4         MN   \n",
            "82308  33460  Minneapolis-St. Paul-Bloomington, MN-WI          4         MN   \n",
            "82309  33460  Minneapolis-St. Paul-Bloomington, MN-WI          4         MN   \n",
            "82310  33460  Minneapolis-St. Paul-Bloomington, MN-WI          4         MN   \n",
            "\n",
            "       NAICS     NAICS_TITLE         I_GROUP  OWN_CODE OCC_CODE  \\\n",
            "82306      0  Cross-industry  cross-industry      1235  00-0000   \n",
            "82307      0  Cross-industry  cross-industry      1235  11-0000   \n",
            "82308      0  Cross-industry  cross-industry      1235  11-1011   \n",
            "82309      0  Cross-industry  cross-industry      1235  11-1021   \n",
            "82310      0  Cross-industry  cross-industry      1235  11-1031   \n",
            "\n",
            "                             OCC_TITLE  ... H_MEDIAN H_PCT75 H_PCT90 A_PCT10  \\\n",
            "82306                  All Occupations  ...    26.37   39.85    60.7   31320   \n",
            "82307           Management Occupations  ...    61.33   83.45  110.83   60890   \n",
            "82308                 Chief Executives  ...   100.87       #       #   95510   \n",
            "82309  General and Operations Managers  ...    49.26   76.63  105.67   47670   \n",
            "82310                      Legislators  ...        *       *       *   21140   \n",
            "\n",
            "      A_PCT25  A_MEDIAN  A_PCT75 A_PCT90 ANNUAL HOURLY  \n",
            "82306   38380     54850    82890  126260    NaN    NaN  \n",
            "82307   85410    127570   173570  230520    NaN    NaN  \n",
            "82308  140090    209820        #       #    NaN    NaN  \n",
            "82309   66990    102460   159380  219800    NaN    NaN  \n",
            "82310   37050     79000   114000  151910   True    NaN  \n",
            "\n",
            "[5 rows x 32 columns]"
          ]
        }
      ],
      "source": [
        "# Filter the DataFrame for 'AREA_TITLE' = 'Minneapolis-St. Paul-Bloomington, MN-WI'\n",
        "filtered_oews_df = oews_df[oews_df['AREA_TITLE'] == 'Minneapolis-St. Paul-Bloomington, MN-WI']\n",
        "\n",
        "# Display the first few rows of the filtered DataFrame\n",
        "print(filtered_oews_df.head())\n"
      ],
      "id": "cell-2"
    },
    {
      "cell_type": "code",
      "execution_count": 7,
      "metadata": {
        "executionInfo": {
          "elapsed": 428,
          "status": "ok",
          "timestamp": 1724528113875,
          "user": {
            "displayName": "Eva Revear",
            "userId": "01665688304887348614"
          },
          "user_tz": 420
        }
      },
      "outputs": [],
      "source": [
        "filtered_oews_df.to_csv('/content/drive/MyDrive/Upwork - St. Paul Clean Energy Jobs/st_paul_green_jobs_data/raw_data/st_paul_level/OWES_Minneapolis.csv', index=False)"
      ],
      "id": "cell-3"
    }
  ],
  "nbformat": 4,
  "nbformat_minor": 5,
  "metadata": {
    "colab": {
      "authorship_tag": "ABX9TyO3QRZDEPVWZI4/vz4Se7s/",
      "machine_shape": "hm",
      "mount_file_id": "14Bj2SE4ya5WnDby7WusFS2ivXlQ6SVos",
      "provenance": []
    },
    "kernelspec": {
      "name": "python3",
      "display_name": "Python 3",
      "language": "python"
    },
    "language_info": {
      "name": "python"
    }
  }
}