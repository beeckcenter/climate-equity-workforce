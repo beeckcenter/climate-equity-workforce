{
  "cells": [
    {
      "cell_type": "markdown",
      "metadata": {},
      "source": [
        "#"
      ],
      "id": "bb305335-b1fe-492a-9618-f7b78ee61d3f"
    },
    {
      "cell_type": "code",
      "execution_count": 1,
      "metadata": {
        "executionInfo": {
          "elapsed": 1150,
          "status": "ok",
          "timestamp": 1724540575311,
          "user": {
            "displayName": "Eva Revear",
            "userId": "01665688304887348614"
          },
          "user_tz": 420
        }
      },
      "outputs": [],
      "source": [
        "import requests\n",
        "import pandas as pd"
      ],
      "id": "cell-0"
    },
    {
      "cell_type": "code",
      "execution_count": 2,
      "metadata": {
        "executionInfo": {
          "elapsed": 186218,
          "status": "ok",
          "timestamp": 1724540761499,
          "user": {
            "displayName": "Eva Revear",
            "userId": "01665688304887348614"
          },
          "user_tz": 420
        },
        "outputId": "d8005a10-31cb-4c8e-a025-e778856d4ae0"
      },
      "outputs": [
        {
          "output_type": "stream",
          "name": "stdout",
          "text": [
            "   tabulate SEX RAC1P SCHL    SOCP AGEGROUPS\n",
            "0         0   1     3   03  339021         1\n",
            "1         0   2     3   03  339021         1\n",
            "2         0   1     1   03  339021         1\n",
            "3         0   2     1   03  339021         1\n",
            "4         0   1     8   03  339021         1"
          ]
        }
      ],
      "source": [
        "# API URL\n",
        "url = 'https://api.census.gov/data/2022/acs/acs5/pums?tabulate=weight(PWGTP)&row+SEX&row+RAC1P&row+SCHL&row+SOCP&row+AGEGROUPS&recode+AGEGROUPS=%7B%22b%22%3A%22AGEP%22%2C%20%22d%22%3A%5B%5B%7B%22mn%22%3A16%2C%22mx%22%3A24%7D%5D%2C%5B%7B%22mn%22%3A25%2C%22mx%22%3A34%7D%5D%2C%5B%7B%22mn%22%3A35%2C%22mx%22%3A44%7D%5D%2C%5B%7B%22mn%22%3A45%2C%22mx%22%3A54%7D%5D%2C%5B%7B%22mn%22%3A55%2C%22mx%22%3A64%7D%5D%2C%5B%7B%22mn%22%3A65%2C%22mx%22%3A99%7D%5D%5D%7D%0A'\n",
        "\n",
        "# Make the API request\n",
        "response = requests.get(url)\n",
        "\n",
        "# Check if the request was successful\n",
        "if response.status_code == 200:\n",
        "    # Convert the response to JSON\n",
        "    data = response.json()\n",
        "\n",
        "    # Extract column names and data\n",
        "    columns = data[0]  # First entry is the column names\n",
        "    rows = data[1:]    # Remaining entries are the data rows\n",
        "\n",
        "    # Create a DataFrame\n",
        "    df = pd.DataFrame(rows, columns=columns)\n",
        "\n",
        "    # Display the first few rows of the DataFrame\n",
        "    print(df.head())\n",
        "else:\n",
        "    print(f\"Failed to retrieve data. Status code: {response.status_code}\")\n"
      ],
      "id": "cell-1"
    },
    {
      "cell_type": "code",
      "execution_count": 4,
      "metadata": {
        "executionInfo": {
          "elapsed": 3685,
          "status": "ok",
          "timestamp": 1724540876304,
          "user": {
            "displayName": "Eva Revear",
            "userId": "01665688304887348614"
          },
          "user_tz": 420
        }
      },
      "outputs": [],
      "source": [
        "df.to_csv('/content/drive/MyDrive/Upwork - St. Paul Clean Energy Jobs/st_paul_green_jobs_data/raw_data/national_level/ACS-PUMS-National.csv', index=False)"
      ],
      "id": "cell-2"
    }
  ],
  "nbformat": 4,
  "nbformat_minor": 5,
  "metadata": {
    "colab": {
      "authorship_tag": "ABX9TyN/XP7OR329QXY/ISR8edMb",
      "machine_shape": "hm",
      "mount_file_id": "1Ia69wDFyydbMEgOGD9OUk29FRzbj5_yT",
      "provenance": []
    },
    "kernelspec": {
      "name": "python3",
      "display_name": "Python 3",
      "language": "python"
    },
    "language_info": {
      "name": "python"
    }
  }
}