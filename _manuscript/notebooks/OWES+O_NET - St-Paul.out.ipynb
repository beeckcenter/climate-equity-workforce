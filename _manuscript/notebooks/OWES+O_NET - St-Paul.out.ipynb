{
  "cells": [
    {
      "cell_type": "markdown",
      "metadata": {},
      "source": [
        "#"
      ],
      "id": "ef0178b1-c19a-460c-8804-195d181967b1"
    },
    {
      "cell_type": "code",
      "execution_count": 3,
      "metadata": {
        "executionInfo": {
          "elapsed": 272,
          "status": "ok",
          "timestamp": 1724727305882,
          "user": {
            "displayName": "Eva Revear",
            "userId": "01665688304887348614"
          },
          "user_tz": 420
        }
      },
      "outputs": [],
      "source": [
        "import pandas as pd"
      ],
      "id": "cell-0"
    },
    {
      "cell_type": "code",
      "execution_count": 4,
      "metadata": {
        "executionInfo": {
          "elapsed": 32,
          "status": "ok",
          "timestamp": 1724727306177,
          "user": {
            "displayName": "Eva Revear",
            "userId": "01665688304887348614"
          },
          "user_tz": 420
        },
        "outputId": "20c795a4-c78c-422d-8dfb-bcc878d05ade"
      },
      "outputs": [
        {
          "output_type": "stream",
          "name": "stdout",
          "text": [
            "    AREA                               AREA_TITLE  AREA_TYPE PRIM_STATE  \\\n",
            "0  33460  Minneapolis-St. Paul-Bloomington, MN-WI          4         MN   \n",
            "1  33460  Minneapolis-St. Paul-Bloomington, MN-WI          4         MN   \n",
            "2  33460  Minneapolis-St. Paul-Bloomington, MN-WI          4         MN   \n",
            "3  33460  Minneapolis-St. Paul-Bloomington, MN-WI          4         MN   \n",
            "4  33460  Minneapolis-St. Paul-Bloomington, MN-WI          4         MN   \n",
            "\n",
            "   NAICS     NAICS_TITLE         I_GROUP  OWN_CODE OCC_CODE  \\\n",
            "0      0  Cross-industry  cross-industry      1235  00-0000   \n",
            "1      0  Cross-industry  cross-industry      1235  11-0000   \n",
            "2      0  Cross-industry  cross-industry      1235  11-1011   \n",
            "3      0  Cross-industry  cross-industry      1235  11-1021   \n",
            "4      0  Cross-industry  cross-industry      1235  11-1031   \n",
            "\n",
            "                         OCC_TITLE  ... H_MEDIAN H_PCT75 H_PCT90 A_PCT10  \\\n",
            "0                  All Occupations  ...    26.37   39.85    60.7   31320   \n",
            "1           Management Occupations  ...    61.33   83.45  110.83   60890   \n",
            "2                 Chief Executives  ...   100.87       #       #   95510   \n",
            "3  General and Operations Managers  ...    49.26   76.63  105.67   47670   \n",
            "4                      Legislators  ...        *       *       *   21140   \n",
            "\n",
            "  A_PCT25  A_MEDIAN  A_PCT75 A_PCT90 ANNUAL HOURLY  \n",
            "0   38380     54850    82890  126260    NaN    NaN  \n",
            "1   85410    127570   173570  230520    NaN    NaN  \n",
            "2  140090    209820        #       #    NaN    NaN  \n",
            "3   66990    102460   159380  219800    NaN    NaN  \n",
            "4   37050     79000   114000  151910   True    NaN  \n",
            "\n",
            "[5 rows x 32 columns]"
          ]
        }
      ],
      "source": [
        "oews_df = pd.read_csv('/content/drive/MyDrive/Upwork - St. Paul Clean Energy Jobs/st_paul_green_jobs_data/raw_data/st_paul_level/OWES_Minneapolis.csv')\n",
        "\n",
        "# Display the first few rows of the DataFrame\n",
        "print(oews_df.head())"
      ],
      "id": "cell-1"
    },
    {
      "cell_type": "code",
      "execution_count": 5,
      "metadata": {
        "executionInfo": {
          "elapsed": 310,
          "status": "ok",
          "timestamp": 1724727306466,
          "user": {
            "displayName": "Eva Revear",
            "userId": "01665688304887348614"
          },
          "user_tz": 420
        },
        "outputId": "808345d9-e176-489d-a49b-1fa5e0c110a7"
      },
      "outputs": [
        {
          "output_type": "display_data",
          "metadata": {},
          "data": {
            "text/html": [
              "\n",
              "</div>\n",
              "    <div class=\"colab-df-buttons\">\n",
              "\n",
              "  <div class=\"colab-df-container\">\n",
              "    <button class=\"colab-df-convert\" onclick=\"convertToInteractive('df-372e85cf-fefc-4e3d-95bc-784b202fab7b')\"\n",
              "            title=\"Convert this dataframe to an interactive table.\"\n",
              "            style=\"display:none;\">\n",
              "\n",
              "  <svg xmlns=\"http://www.w3.org/2000/svg\" height=\"24px\" viewBox=\"0 -960 960 960\">\n",
              "    <path d=\"M120-120v-720h720v720H120Zm60-500h600v-160H180v160Zm220 220h160v-160H400v160Zm0 220h160v-160H400v160ZM180-400h160v-160H180v160Zm440 0h160v-160H620v160ZM180-180h160v-160H180v160Zm440 0h160v-160H620v160Z\"/>\n",
              "  </svg>\n",
              "    </button>\n",
              "\n",
              "  <style>\n",
              "    .colab-df-container {\n",
              "      display:flex;\n",
              "      gap: 12px;\n",
              "    }\n",
              "\n",
              "    .colab-df-convert {\n",
              "      background-color: #E8F0FE;\n",
              "      border: none;\n",
              "      border-radius: 50%;\n",
              "      cursor: pointer;\n",
              "      display: none;\n",
              "      fill: #1967D2;\n",
              "      height: 32px;\n",
              "      padding: 0 0 0 0;\n",
              "      width: 32px;\n",
              "    }\n",
              "\n",
              "    .colab-df-convert:hover {\n",
              "      background-color: #E2EBFA;\n",
              "      box-shadow: 0px 1px 2px rgba(60, 64, 67, 0.3), 0px 1px 3px 1px rgba(60, 64, 67, 0.15);\n",
              "      fill: #174EA6;\n",
              "    }\n",
              "\n",
              "    .colab-df-buttons div {\n",
              "      margin-bottom: 4px;\n",
              "    }\n",
              "\n",
              "    [theme=dark] .colab-df-convert {\n",
              "      background-color: #3B4455;\n",
              "      fill: #D2E3FC;\n",
              "    }\n",
              "\n",
              "    [theme=dark] .colab-df-convert:hover {\n",
              "      background-color: #434B5C;\n",
              "      box-shadow: 0px 1px 3px 1px rgba(0, 0, 0, 0.15);\n",
              "      filter: drop-shadow(0px 1px 2px rgba(0, 0, 0, 0.3));\n",
              "      fill: #FFFFFF;\n",
              "    }\n",
              "  </style>\n",
              "\n",
              "    <script>\n",
              "      const buttonEl =\n",
              "        document.querySelector('#df-372e85cf-fefc-4e3d-95bc-784b202fab7b button.colab-df-convert');\n",
              "      buttonEl.style.display =\n",
              "        google.colab.kernel.accessAllowed ? 'block' : 'none';\n",
              "\n",
              "      async function convertToInteractive(key) {\n",
              "        const element = document.querySelector('#df-372e85cf-fefc-4e3d-95bc-784b202fab7b');\n",
              "        const dataTable =\n",
              "          await google.colab.kernel.invokeFunction('convertToInteractive',\n",
              "                                                    [key], {});\n",
              "        if (!dataTable) return;\n",
              "\n",
              "        const docLinkHtml = 'Like what you see? Visit the ' +\n",
              "          '<a target=\"_blank\" href=https://colab.research.google.com/notebooks/data_table.ipynb>data table notebook</a>'\n",
              "          + ' to learn more about interactive tables.';\n",
              "        element.innerHTML = '';\n",
              "        dataTable['output_type'] = 'display_data';\n",
              "        await google.colab.output.renderOutput(dataTable, element);\n",
              "        const docLink = document.createElement('div');\n",
              "        docLink.innerHTML = docLinkHtml;\n",
              "        element.appendChild(docLink);\n",
              "      }\n",
              "    </script>\n",
              "  </div>\n",
              "\n",
              "\n",
              "<div id=\"df-66d9e4f2-2ed7-4655-a34c-2f44a0bbd5e9\">\n",
              "  <button class=\"colab-df-quickchart\" onclick=\"quickchart('df-66d9e4f2-2ed7-4655-a34c-2f44a0bbd5e9')\"\n",
              "            title=\"Suggest charts\"\n",
              "            style=\"display:none;\">\n",
              "\n",
              "<svg xmlns=\"http://www.w3.org/2000/svg\" height=\"24px\"viewBox=\"0 0 24 24\"\n",
              "     width=\"24px\">\n",
              "    <g>\n",
              "        <path d=\"M19 3H5c-1.1 0-2 .9-2 2v14c0 1.1.9 2 2 2h14c1.1 0 2-.9 2-2V5c0-1.1-.9-2-2-2zM9 17H7v-7h2v7zm4 0h-2V7h2v10zm4 0h-2v-4h2v4z\"/>\n",
              "    </g>\n",
              "</svg>\n",
              "  </button>\n",
              "\n",
              "<style>\n",
              "  .colab-df-quickchart {\n",
              "      --bg-color: #E8F0FE;\n",
              "      --fill-color: #1967D2;\n",
              "      --hover-bg-color: #E2EBFA;\n",
              "      --hover-fill-color: #174EA6;\n",
              "      --disabled-fill-color: #AAA;\n",
              "      --disabled-bg-color: #DDD;\n",
              "  }\n",
              "\n",
              "  [theme=dark] .colab-df-quickchart {\n",
              "      --bg-color: #3B4455;\n",
              "      --fill-color: #D2E3FC;\n",
              "      --hover-bg-color: #434B5C;\n",
              "      --hover-fill-color: #FFFFFF;\n",
              "      --disabled-bg-color: #3B4455;\n",
              "      --disabled-fill-color: #666;\n",
              "  }\n",
              "\n",
              "  .colab-df-quickchart {\n",
              "    background-color: var(--bg-color);\n",
              "    border: none;\n",
              "    border-radius: 50%;\n",
              "    cursor: pointer;\n",
              "    display: none;\n",
              "    fill: var(--fill-color);\n",
              "    height: 32px;\n",
              "    padding: 0;\n",
              "    width: 32px;\n",
              "  }\n",
              "\n",
              "  .colab-df-quickchart:hover {\n",
              "    background-color: var(--hover-bg-color);\n",
              "    box-shadow: 0 1px 2px rgba(60, 64, 67, 0.3), 0 1px 3px 1px rgba(60, 64, 67, 0.15);\n",
              "    fill: var(--button-hover-fill-color);\n",
              "  }\n",
              "\n",
              "  .colab-df-quickchart-complete:disabled,\n",
              "  .colab-df-quickchart-complete:disabled:hover {\n",
              "    background-color: var(--disabled-bg-color);\n",
              "    fill: var(--disabled-fill-color);\n",
              "    box-shadow: none;\n",
              "  }\n",
              "\n",
              "  .colab-df-spinner {\n",
              "    border: 2px solid var(--fill-color);\n",
              "    border-color: transparent;\n",
              "    border-bottom-color: var(--fill-color);\n",
              "    animation:\n",
              "      spin 1s steps(1) infinite;\n",
              "  }\n",
              "\n",
              "  @keyframes spin {\n",
              "    0% {\n",
              "      border-color: transparent;\n",
              "      border-bottom-color: var(--fill-color);\n",
              "      border-left-color: var(--fill-color);\n",
              "    }\n",
              "    20% {\n",
              "      border-color: transparent;\n",
              "      border-left-color: var(--fill-color);\n",
              "      border-top-color: var(--fill-color);\n",
              "    }\n",
              "    30% {\n",
              "      border-color: transparent;\n",
              "      border-left-color: var(--fill-color);\n",
              "      border-top-color: var(--fill-color);\n",
              "      border-right-color: var(--fill-color);\n",
              "    }\n",
              "    40% {\n",
              "      border-color: transparent;\n",
              "      border-right-color: var(--fill-color);\n",
              "      border-top-color: var(--fill-color);\n",
              "    }\n",
              "    60% {\n",
              "      border-color: transparent;\n",
              "      border-right-color: var(--fill-color);\n",
              "    }\n",
              "    80% {\n",
              "      border-color: transparent;\n",
              "      border-right-color: var(--fill-color);\n",
              "      border-bottom-color: var(--fill-color);\n",
              "    }\n",
              "    90% {\n",
              "      border-color: transparent;\n",
              "      border-bottom-color: var(--fill-color);\n",
              "    }\n",
              "  }\n",
              "</style>\n",
              "\n",
              "  <script>\n",
              "    async function quickchart(key) {\n",
              "      const quickchartButtonEl =\n",
              "        document.querySelector('#' + key + ' button');\n",
              "      quickchartButtonEl.disabled = true;  // To prevent multiple clicks.\n",
              "      quickchartButtonEl.classList.add('colab-df-spinner');\n",
              "      try {\n",
              "        const charts = await google.colab.kernel.invokeFunction(\n",
              "            'suggestCharts', [key], {});\n",
              "      } catch (error) {\n",
              "        console.error('Error during call to suggestCharts:', error);\n",
              "      }\n",
              "      quickchartButtonEl.classList.remove('colab-df-spinner');\n",
              "      quickchartButtonEl.classList.add('colab-df-quickchart-complete');\n",
              "    }\n",
              "    (() => {\n",
              "      let quickchartButtonEl =\n",
              "        document.querySelector('#df-66d9e4f2-2ed7-4655-a34c-2f44a0bbd5e9 button');\n",
              "      quickchartButtonEl.style.display =\n",
              "        google.colab.kernel.accessAllowed ? 'block' : 'none';\n",
              "    })();\n",
              "  </script>\n",
              "</div>\n",
              "\n",
              "    </div>\n",
              "  </div>"
            ]
          }
        }
      ],
      "source": [
        "green_jobs_df = pd.read_csv('/content/drive/MyDrive/Upwork - St. Paul Clean Energy Jobs/st_paul_green_jobs_data/processed_data/Green Enhanced Skills Occupations - All - Sheet1.csv')\n",
        "\n",
        "green_jobs_df.head()"
      ],
      "id": "cell-2"
    },
    {
      "cell_type": "code",
      "execution_count": 6,
      "metadata": {
        "executionInfo": {
          "elapsed": 410,
          "status": "ok",
          "timestamp": 1724727306859,
          "user": {
            "displayName": "Eva Revear",
            "userId": "01665688304887348614"
          },
          "user_tz": 420
        },
        "outputId": "f5ca49a3-e80a-449b-96c4-8a949789e2ce"
      },
      "outputs": [
        {
          "output_type": "stream",
          "name": "stdout",
          "text": [
            "   O*NET-SOC Code             O*NET-SOC Sector\n",
            "0         51-8013  Renewable Energy Generation\n",
            "1         47-5041  Renewable Energy Generation\n",
            "4         11-3071  Renewable Energy Generation\n",
            "5         49-9042  Renewable Energy Generation\n",
            "7         17-2071  Renewable Energy Generation\n",
            "8         51-4041  Renewable Energy Generation\n",
            "10        17-2141  Renewable Energy Generation\n",
            "11        47-2211  Renewable Energy Generation\n",
            "21        19-4051  Renewable Energy Generation\n",
            "22        51-8011  Renewable Energy Generation"
          ]
        },
        {
          "output_type": "stream",
          "name": "stderr",
          "text": [
            "SettingWithCopyWarning: \n",
            "A value is trying to be set on a copy of a slice from a DataFrame.\n",
            "Try using .loc[row_indexer,col_indexer] = value instead\n",
            "\n",
            "See the caveats in the documentation: https://pandas.pydata.org/pandas-docs/stable/user_guide/indexing.html#returning-a-view-versus-a-copy\n",
            "  green_jobs_df_selected['O*NET-SOC Code'] = green_jobs_df_selected['O*NET-SOC Code'].str.split('.').str[0]"
          ]
        }
      ],
      "source": [
        "green_jobs_df_selected = green_jobs_df[['O*NET-SOC Code', 'O*NET-SOC Sector']]\n",
        "green_jobs_df_selected['O*NET-SOC Code'] = green_jobs_df_selected['O*NET-SOC Code'].str.split('.').str[0]\n",
        "# green_jobs_df_selected['O*NET-SOC Code'] = green_jobs_df_selected['O*NET-SOC Code'].str.replace('-', '')\n",
        "# Get unique rows based on the selected columns\n",
        "green_jobs_df_unique = green_jobs_df_selected.drop_duplicates()\n",
        "\n",
        "\n",
        "# Display the first few rows of the unique DataFrame\n",
        "print(green_jobs_df_unique.head(10))"
      ],
      "id": "cell-3"
    },
    {
      "cell_type": "code",
      "execution_count": 7,
      "metadata": {
        "executionInfo": {
          "elapsed": 20,
          "status": "ok",
          "timestamp": 1724727306860,
          "user": {
            "displayName": "Eva Revear",
            "userId": "01665688304887348614"
          },
          "user_tz": 420
        },
        "outputId": "1092a7ef-403d-4798-8ed4-3c728631cb1b"
      },
      "outputs": [
        {
          "output_type": "display_data",
          "metadata": {},
          "data": {
            "text/plain": [
              "742"
            ]
          }
        }
      ],
      "source": [
        "green_jobs_acs_df_merged = pd.merge(oews_df, green_jobs_df_unique, left_on='OCC_CODE', right_on='O*NET-SOC Code', how='outer')\n",
        "\n",
        "# Display the first few rows of the merged DataFrame\n",
        "len(green_jobs_acs_df_merged)"
      ],
      "id": "cell-4"
    },
    {
      "cell_type": "code",
      "execution_count": 8,
      "metadata": {
        "executionInfo": {
          "elapsed": 15,
          "status": "ok",
          "timestamp": 1724727306861,
          "user": {
            "displayName": "Eva Revear",
            "userId": "01665688304887348614"
          },
          "user_tz": 420
        }
      },
      "outputs": [],
      "source": [
        "green_jobs_acs_df_merged.to_csv('/content/drive/MyDrive/Upwork - St. Paul Clean Energy Jobs/st_paul_green_jobs_data/processed_data/OWES_and_ONET-St_Paul.csv', index=False)"
      ],
      "id": "cell-5"
    }
  ],
  "nbformat": 4,
  "nbformat_minor": 5,
  "metadata": {
    "colab": {
      "authorship_tag": "ABX9TyMIwt6CikuyPfbkkcEgxnFd",
      "mount_file_id": "1UXAf8dS5vr_4qZSr9EQkKYvaGKfdQk48",
      "provenance": []
    },
    "kernelspec": {
      "name": "python3",
      "display_name": "Python 3",
      "language": "python"
    },
    "language_info": {
      "name": "python"
    }
  }
}