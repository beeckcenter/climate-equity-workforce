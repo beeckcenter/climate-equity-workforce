{
  "cells": [
    {
      "cell_type": "markdown",
      "metadata": {},
      "source": [
        "#"
      ],
      "id": "ab713060-c94b-4b85-9ed8-36cbbea3bdfe"
    },
    {
      "cell_type": "code",
      "execution_count": 104,
      "metadata": {
        "executionInfo": {
          "elapsed": 549,
          "status": "ok",
          "timestamp": 1724726909848,
          "user": {
            "displayName": "Eva Revear",
            "userId": "01665688304887348614"
          },
          "user_tz": 420
        }
      },
      "outputs": [],
      "source": [
        "import pandas as pd"
      ],
      "id": "cell-0"
    },
    {
      "cell_type": "code",
      "execution_count": 105,
      "metadata": {
        "executionInfo": {
          "elapsed": 1012,
          "status": "ok",
          "timestamp": 1724726910857,
          "user": {
            "displayName": "Eva Revear",
            "userId": "01665688304887348614"
          },
          "user_tz": 420
        },
        "outputId": "84613a85-da5d-4202-e75c-7fb6376dcf90"
      },
      "outputs": [
        {
          "output_type": "stream",
          "name": "stdout",
          "text": [
            "   AREA AREA_TITLE  AREA_TYPE PRIM_STATE  NAICS     NAICS_TITLE  \\\n",
            "0    99       U.S.          1         US      0  Cross-industry   \n",
            "1    99       U.S.          1         US      0  Cross-industry   \n",
            "2    99       U.S.          1         US      0  Cross-industry   \n",
            "3    99       U.S.          1         US      0  Cross-industry   \n",
            "4    99       U.S.          1         US      0  Cross-industry   \n",
            "\n",
            "          I_GROUP  OWN_CODE OCC_CODE               OCC_TITLE  ... H_MEDIAN  \\\n",
            "0  cross-industry      1235  00-0000         All Occupations  ...    23.11   \n",
            "1  cross-industry      1235  11-0000  Management Occupations  ...    56.19   \n",
            "2  cross-industry      1235  11-1000          Top Executives  ...    49.74   \n",
            "3  cross-industry      1235  11-1010        Chief Executives  ...    99.37   \n",
            "4  cross-industry      1235  11-1011        Chief Executives  ...    99.37   \n",
            "\n",
            "   H_PCT75  H_PCT90  A_PCT10  A_PCT25  A_MEDIAN  A_PCT75 A_PCT90 ANNUAL  \\\n",
            "0    37.01     58.4    29050    35660     48060    76980  121470    NaN   \n",
            "1    81.29   111.36    54550    78330    116880   169090  231620    NaN   \n",
            "2    79.57        #    46400    66170    103460   165500       #    NaN   \n",
            "3        #        #    80000   130840    206680        #       #    NaN   \n",
            "4        #        #    80000   130840    206680        #       #    NaN   \n",
            "\n",
            "   HOURLY  \n",
            "0     NaN  \n",
            "1     NaN  \n",
            "2     NaN  \n",
            "3     NaN  \n",
            "4     NaN  \n",
            "\n",
            "[5 rows x 32 columns]"
          ]
        }
      ],
      "source": [
        "oews_df = pd.read_excel('/content/drive/MyDrive/Upwork - St. Paul Clean Energy Jobs/st_paul_green_jobs_data/raw_data/national_level/OWES_national.xlsx', sheet_name='national_M2023_dl')\n",
        "\n",
        "# Display the first few rows of the DataFrame\n",
        "print(oews_df.head())"
      ],
      "id": "cell-1"
    },
    {
      "cell_type": "code",
      "execution_count": 106,
      "metadata": {
        "executionInfo": {
          "elapsed": 117,
          "status": "ok",
          "timestamp": 1724726910858,
          "user": {
            "displayName": "Eva Revear",
            "userId": "01665688304887348614"
          },
          "user_tz": 420
        },
        "outputId": "69931483-4347-496f-d5bb-709fc91cff1c"
      },
      "outputs": [
        {
          "output_type": "display_data",
          "metadata": {},
          "data": {
            "text/html": [
              "\n",
              "</div>\n",
              "    <div class=\"colab-df-buttons\">\n",
              "\n",
              "  <div class=\"colab-df-container\">\n",
              "    <button class=\"colab-df-convert\" onclick=\"convertToInteractive('df-4feeb3c6-5842-4b40-a382-d2710f5929e6')\"\n",
              "            title=\"Convert this dataframe to an interactive table.\"\n",
              "            style=\"display:none;\">\n",
              "\n",
              "  <svg xmlns=\"http://www.w3.org/2000/svg\" height=\"24px\" viewBox=\"0 -960 960 960\">\n",
              "    <path d=\"M120-120v-720h720v720H120Zm60-500h600v-160H180v160Zm220 220h160v-160H400v160Zm0 220h160v-160H400v160ZM180-400h160v-160H180v160Zm440 0h160v-160H620v160ZM180-180h160v-160H180v160Zm440 0h160v-160H620v160Z\"/>\n",
              "  </svg>\n",
              "    </button>\n",
              "\n",
              "  <style>\n",
              "    .colab-df-container {\n",
              "      display:flex;\n",
              "      gap: 12px;\n",
              "    }\n",
              "\n",
              "    .colab-df-convert {\n",
              "      background-color: #E8F0FE;\n",
              "      border: none;\n",
              "      border-radius: 50%;\n",
              "      cursor: pointer;\n",
              "      display: none;\n",
              "      fill: #1967D2;\n",
              "      height: 32px;\n",
              "      padding: 0 0 0 0;\n",
              "      width: 32px;\n",
              "    }\n",
              "\n",
              "    .colab-df-convert:hover {\n",
              "      background-color: #E2EBFA;\n",
              "      box-shadow: 0px 1px 2px rgba(60, 64, 67, 0.3), 0px 1px 3px 1px rgba(60, 64, 67, 0.15);\n",
              "      fill: #174EA6;\n",
              "    }\n",
              "\n",
              "    .colab-df-buttons div {\n",
              "      margin-bottom: 4px;\n",
              "    }\n",
              "\n",
              "    [theme=dark] .colab-df-convert {\n",
              "      background-color: #3B4455;\n",
              "      fill: #D2E3FC;\n",
              "    }\n",
              "\n",
              "    [theme=dark] .colab-df-convert:hover {\n",
              "      background-color: #434B5C;\n",
              "      box-shadow: 0px 1px 3px 1px rgba(0, 0, 0, 0.15);\n",
              "      filter: drop-shadow(0px 1px 2px rgba(0, 0, 0, 0.3));\n",
              "      fill: #FFFFFF;\n",
              "    }\n",
              "  </style>\n",
              "\n",
              "    <script>\n",
              "      const buttonEl =\n",
              "        document.querySelector('#df-4feeb3c6-5842-4b40-a382-d2710f5929e6 button.colab-df-convert');\n",
              "      buttonEl.style.display =\n",
              "        google.colab.kernel.accessAllowed ? 'block' : 'none';\n",
              "\n",
              "      async function convertToInteractive(key) {\n",
              "        const element = document.querySelector('#df-4feeb3c6-5842-4b40-a382-d2710f5929e6');\n",
              "        const dataTable =\n",
              "          await google.colab.kernel.invokeFunction('convertToInteractive',\n",
              "                                                    [key], {});\n",
              "        if (!dataTable) return;\n",
              "\n",
              "        const docLinkHtml = 'Like what you see? Visit the ' +\n",
              "          '<a target=\"_blank\" href=https://colab.research.google.com/notebooks/data_table.ipynb>data table notebook</a>'\n",
              "          + ' to learn more about interactive tables.';\n",
              "        element.innerHTML = '';\n",
              "        dataTable['output_type'] = 'display_data';\n",
              "        await google.colab.output.renderOutput(dataTable, element);\n",
              "        const docLink = document.createElement('div');\n",
              "        docLink.innerHTML = docLinkHtml;\n",
              "        element.appendChild(docLink);\n",
              "      }\n",
              "    </script>\n",
              "  </div>\n",
              "\n",
              "\n",
              "<div id=\"df-66cb27e9-6e15-43dd-9e95-567b58d2af57\">\n",
              "  <button class=\"colab-df-quickchart\" onclick=\"quickchart('df-66cb27e9-6e15-43dd-9e95-567b58d2af57')\"\n",
              "            title=\"Suggest charts\"\n",
              "            style=\"display:none;\">\n",
              "\n",
              "<svg xmlns=\"http://www.w3.org/2000/svg\" height=\"24px\"viewBox=\"0 0 24 24\"\n",
              "     width=\"24px\">\n",
              "    <g>\n",
              "        <path d=\"M19 3H5c-1.1 0-2 .9-2 2v14c0 1.1.9 2 2 2h14c1.1 0 2-.9 2-2V5c0-1.1-.9-2-2-2zM9 17H7v-7h2v7zm4 0h-2V7h2v10zm4 0h-2v-4h2v4z\"/>\n",
              "    </g>\n",
              "</svg>\n",
              "  </button>\n",
              "\n",
              "<style>\n",
              "  .colab-df-quickchart {\n",
              "      --bg-color: #E8F0FE;\n",
              "      --fill-color: #1967D2;\n",
              "      --hover-bg-color: #E2EBFA;\n",
              "      --hover-fill-color: #174EA6;\n",
              "      --disabled-fill-color: #AAA;\n",
              "      --disabled-bg-color: #DDD;\n",
              "  }\n",
              "\n",
              "  [theme=dark] .colab-df-quickchart {\n",
              "      --bg-color: #3B4455;\n",
              "      --fill-color: #D2E3FC;\n",
              "      --hover-bg-color: #434B5C;\n",
              "      --hover-fill-color: #FFFFFF;\n",
              "      --disabled-bg-color: #3B4455;\n",
              "      --disabled-fill-color: #666;\n",
              "  }\n",
              "\n",
              "  .colab-df-quickchart {\n",
              "    background-color: var(--bg-color);\n",
              "    border: none;\n",
              "    border-radius: 50%;\n",
              "    cursor: pointer;\n",
              "    display: none;\n",
              "    fill: var(--fill-color);\n",
              "    height: 32px;\n",
              "    padding: 0;\n",
              "    width: 32px;\n",
              "  }\n",
              "\n",
              "  .colab-df-quickchart:hover {\n",
              "    background-color: var(--hover-bg-color);\n",
              "    box-shadow: 0 1px 2px rgba(60, 64, 67, 0.3), 0 1px 3px 1px rgba(60, 64, 67, 0.15);\n",
              "    fill: var(--button-hover-fill-color);\n",
              "  }\n",
              "\n",
              "  .colab-df-quickchart-complete:disabled,\n",
              "  .colab-df-quickchart-complete:disabled:hover {\n",
              "    background-color: var(--disabled-bg-color);\n",
              "    fill: var(--disabled-fill-color);\n",
              "    box-shadow: none;\n",
              "  }\n",
              "\n",
              "  .colab-df-spinner {\n",
              "    border: 2px solid var(--fill-color);\n",
              "    border-color: transparent;\n",
              "    border-bottom-color: var(--fill-color);\n",
              "    animation:\n",
              "      spin 1s steps(1) infinite;\n",
              "  }\n",
              "\n",
              "  @keyframes spin {\n",
              "    0% {\n",
              "      border-color: transparent;\n",
              "      border-bottom-color: var(--fill-color);\n",
              "      border-left-color: var(--fill-color);\n",
              "    }\n",
              "    20% {\n",
              "      border-color: transparent;\n",
              "      border-left-color: var(--fill-color);\n",
              "      border-top-color: var(--fill-color);\n",
              "    }\n",
              "    30% {\n",
              "      border-color: transparent;\n",
              "      border-left-color: var(--fill-color);\n",
              "      border-top-color: var(--fill-color);\n",
              "      border-right-color: var(--fill-color);\n",
              "    }\n",
              "    40% {\n",
              "      border-color: transparent;\n",
              "      border-right-color: var(--fill-color);\n",
              "      border-top-color: var(--fill-color);\n",
              "    }\n",
              "    60% {\n",
              "      border-color: transparent;\n",
              "      border-right-color: var(--fill-color);\n",
              "    }\n",
              "    80% {\n",
              "      border-color: transparent;\n",
              "      border-right-color: var(--fill-color);\n",
              "      border-bottom-color: var(--fill-color);\n",
              "    }\n",
              "    90% {\n",
              "      border-color: transparent;\n",
              "      border-bottom-color: var(--fill-color);\n",
              "    }\n",
              "  }\n",
              "</style>\n",
              "\n",
              "  <script>\n",
              "    async function quickchart(key) {\n",
              "      const quickchartButtonEl =\n",
              "        document.querySelector('#' + key + ' button');\n",
              "      quickchartButtonEl.disabled = true;  // To prevent multiple clicks.\n",
              "      quickchartButtonEl.classList.add('colab-df-spinner');\n",
              "      try {\n",
              "        const charts = await google.colab.kernel.invokeFunction(\n",
              "            'suggestCharts', [key], {});\n",
              "      } catch (error) {\n",
              "        console.error('Error during call to suggestCharts:', error);\n",
              "      }\n",
              "      quickchartButtonEl.classList.remove('colab-df-spinner');\n",
              "      quickchartButtonEl.classList.add('colab-df-quickchart-complete');\n",
              "    }\n",
              "    (() => {\n",
              "      let quickchartButtonEl =\n",
              "        document.querySelector('#df-66cb27e9-6e15-43dd-9e95-567b58d2af57 button');\n",
              "      quickchartButtonEl.style.display =\n",
              "        google.colab.kernel.accessAllowed ? 'block' : 'none';\n",
              "    })();\n",
              "  </script>\n",
              "</div>\n",
              "\n",
              "    </div>\n",
              "  </div>"
            ]
          }
        }
      ],
      "source": [
        "green_jobs_df = pd.read_csv('/content/drive/MyDrive/Upwork - St. Paul Clean Energy Jobs/st_paul_green_jobs_data/processed_data/Green Enhanced Skills Occupations - All - Sheet1.csv')\n",
        "\n",
        "green_jobs_df.head()"
      ],
      "id": "cell-2"
    },
    {
      "cell_type": "code",
      "execution_count": 107,
      "metadata": {
        "executionInfo": {
          "elapsed": 107,
          "status": "ok",
          "timestamp": 1724726910858,
          "user": {
            "displayName": "Eva Revear",
            "userId": "01665688304887348614"
          },
          "user_tz": 420
        },
        "outputId": "a58dae60-efe8-4a02-acac-74254355e005"
      },
      "outputs": [
        {
          "output_type": "stream",
          "name": "stdout",
          "text": [
            "   O*NET-SOC Code             O*NET-SOC Sector\n",
            "0         51-8013  Renewable Energy Generation\n",
            "1         47-5041  Renewable Energy Generation\n",
            "4         11-3071  Renewable Energy Generation\n",
            "5         49-9042  Renewable Energy Generation\n",
            "7         17-2071  Renewable Energy Generation\n",
            "8         51-4041  Renewable Energy Generation\n",
            "10        17-2141  Renewable Energy Generation\n",
            "11        47-2211  Renewable Energy Generation\n",
            "21        19-4051  Renewable Energy Generation\n",
            "22        51-8011  Renewable Energy Generation"
          ]
        },
        {
          "output_type": "stream",
          "name": "stderr",
          "text": [
            "SettingWithCopyWarning: \n",
            "A value is trying to be set on a copy of a slice from a DataFrame.\n",
            "Try using .loc[row_indexer,col_indexer] = value instead\n",
            "\n",
            "See the caveats in the documentation: https://pandas.pydata.org/pandas-docs/stable/user_guide/indexing.html#returning-a-view-versus-a-copy\n",
            "  green_jobs_df_selected['O*NET-SOC Code'] = green_jobs_df_selected['O*NET-SOC Code'].str.split('.').str[0]"
          ]
        }
      ],
      "source": [
        "green_jobs_df_selected = green_jobs_df[['O*NET-SOC Code', 'O*NET-SOC Sector']]\n",
        "green_jobs_df_selected['O*NET-SOC Code'] = green_jobs_df_selected['O*NET-SOC Code'].str.split('.').str[0]\n",
        "# green_jobs_df_selected['O*NET-SOC Code'] = green_jobs_df_selected['O*NET-SOC Code'].str.replace('-', '')\n",
        "# Get unique rows based on the selected columns\n",
        "green_jobs_df_unique = green_jobs_df_selected.drop_duplicates()\n",
        "\n",
        "\n",
        "# Display the first few rows of the unique DataFrame\n",
        "print(green_jobs_df_unique.head(10))"
      ],
      "id": "cell-3"
    },
    {
      "cell_type": "code",
      "execution_count": 108,
      "metadata": {
        "executionInfo": {
          "elapsed": 94,
          "status": "ok",
          "timestamp": 1724726910859,
          "user": {
            "displayName": "Eva Revear",
            "userId": "01665688304887348614"
          },
          "user_tz": 420
        },
        "outputId": "e1cc8dd2-14e7-4a56-af4e-849490728d3c"
      },
      "outputs": [
        {
          "output_type": "display_data",
          "metadata": {},
          "data": {
            "text/plain": [
              "59"
            ]
          }
        }
      ],
      "source": [
        "len(green_jobs_df_unique)"
      ],
      "id": "cell-4"
    },
    {
      "cell_type": "code",
      "execution_count": 109,
      "metadata": {
        "executionInfo": {
          "elapsed": 80,
          "status": "ok",
          "timestamp": 1724726910859,
          "user": {
            "displayName": "Eva Revear",
            "userId": "01665688304887348614"
          },
          "user_tz": 420
        },
        "outputId": "3a60bf3a-a4a3-43f0-dfcb-f3ffdb2b4d6b"
      },
      "outputs": [
        {
          "output_type": "display_data",
          "metadata": {},
          "data": {
            "text/plain": [
              "1420"
            ]
          }
        }
      ],
      "source": [
        "green_jobs_acs_df_merged = pd.merge(oews_df, green_jobs_df_unique, left_on='OCC_CODE', right_on='O*NET-SOC Code', how='outer')\n",
        "\n",
        "# Display the first few rows of the merged DataFrame\n",
        "len(green_jobs_acs_df_merged)"
      ],
      "id": "cell-5"
    },
    {
      "cell_type": "code",
      "execution_count": 110,
      "metadata": {
        "executionInfo": {
          "elapsed": 67,
          "status": "ok",
          "timestamp": 1724726910860,
          "user": {
            "displayName": "Eva Revear",
            "userId": "01665688304887348614"
          },
          "user_tz": 420
        }
      },
      "outputs": [],
      "source": [
        "df_null_occ_code = green_jobs_acs_df_merged[green_jobs_acs_df_merged['OCC_CODE'].isnull()]"
      ],
      "id": "cell-6"
    },
    {
      "cell_type": "code",
      "execution_count": 111,
      "metadata": {
        "executionInfo": {
          "elapsed": 313,
          "status": "ok",
          "timestamp": 1724726911108,
          "user": {
            "displayName": "Eva Revear",
            "userId": "01665688304887348614"
          },
          "user_tz": 420
        },
        "outputId": "7600cfa9-4b6a-4a37-ded2-a6243e3c202e"
      },
      "outputs": [
        {
          "output_type": "display_data",
          "metadata": {},
          "data": {
            "text/html": [
              "\n",
              "<p>6 rows × 34 columns</p>\n",
              "</div>\n",
              "    <div class=\"colab-df-buttons\">\n",
              "\n",
              "  <div class=\"colab-df-container\">\n",
              "    <button class=\"colab-df-convert\" onclick=\"convertToInteractive('df-b7a01207-f7ae-42c1-997a-85941e2cf4e6')\"\n",
              "            title=\"Convert this dataframe to an interactive table.\"\n",
              "            style=\"display:none;\">\n",
              "\n",
              "  <svg xmlns=\"http://www.w3.org/2000/svg\" height=\"24px\" viewBox=\"0 -960 960 960\">\n",
              "    <path d=\"M120-120v-720h720v720H120Zm60-500h600v-160H180v160Zm220 220h160v-160H400v160Zm0 220h160v-160H400v160ZM180-400h160v-160H180v160Zm440 0h160v-160H620v160ZM180-180h160v-160H180v160Zm440 0h160v-160H620v160Z\"/>\n",
              "  </svg>\n",
              "    </button>\n",
              "\n",
              "  <style>\n",
              "    .colab-df-container {\n",
              "      display:flex;\n",
              "      gap: 12px;\n",
              "    }\n",
              "\n",
              "    .colab-df-convert {\n",
              "      background-color: #E8F0FE;\n",
              "      border: none;\n",
              "      border-radius: 50%;\n",
              "      cursor: pointer;\n",
              "      display: none;\n",
              "      fill: #1967D2;\n",
              "      height: 32px;\n",
              "      padding: 0 0 0 0;\n",
              "      width: 32px;\n",
              "    }\n",
              "\n",
              "    .colab-df-convert:hover {\n",
              "      background-color: #E2EBFA;\n",
              "      box-shadow: 0px 1px 2px rgba(60, 64, 67, 0.3), 0px 1px 3px 1px rgba(60, 64, 67, 0.15);\n",
              "      fill: #174EA6;\n",
              "    }\n",
              "\n",
              "    .colab-df-buttons div {\n",
              "      margin-bottom: 4px;\n",
              "    }\n",
              "\n",
              "    [theme=dark] .colab-df-convert {\n",
              "      background-color: #3B4455;\n",
              "      fill: #D2E3FC;\n",
              "    }\n",
              "\n",
              "    [theme=dark] .colab-df-convert:hover {\n",
              "      background-color: #434B5C;\n",
              "      box-shadow: 0px 1px 3px 1px rgba(0, 0, 0, 0.15);\n",
              "      filter: drop-shadow(0px 1px 2px rgba(0, 0, 0, 0.3));\n",
              "      fill: #FFFFFF;\n",
              "    }\n",
              "  </style>\n",
              "\n",
              "    <script>\n",
              "      const buttonEl =\n",
              "        document.querySelector('#df-b7a01207-f7ae-42c1-997a-85941e2cf4e6 button.colab-df-convert');\n",
              "      buttonEl.style.display =\n",
              "        google.colab.kernel.accessAllowed ? 'block' : 'none';\n",
              "\n",
              "      async function convertToInteractive(key) {\n",
              "        const element = document.querySelector('#df-b7a01207-f7ae-42c1-997a-85941e2cf4e6');\n",
              "        const dataTable =\n",
              "          await google.colab.kernel.invokeFunction('convertToInteractive',\n",
              "                                                    [key], {});\n",
              "        if (!dataTable) return;\n",
              "\n",
              "        const docLinkHtml = 'Like what you see? Visit the ' +\n",
              "          '<a target=\"_blank\" href=https://colab.research.google.com/notebooks/data_table.ipynb>data table notebook</a>'\n",
              "          + ' to learn more about interactive tables.';\n",
              "        element.innerHTML = '';\n",
              "        dataTable['output_type'] = 'display_data';\n",
              "        await google.colab.output.renderOutput(dataTable, element);\n",
              "        const docLink = document.createElement('div');\n",
              "        docLink.innerHTML = docLinkHtml;\n",
              "        element.appendChild(docLink);\n",
              "      }\n",
              "    </script>\n",
              "  </div>\n",
              "\n",
              "\n",
              "<div id=\"df-87829afb-4317-4eb3-810a-3b03c40eb4e9\">\n",
              "  <button class=\"colab-df-quickchart\" onclick=\"quickchart('df-87829afb-4317-4eb3-810a-3b03c40eb4e9')\"\n",
              "            title=\"Suggest charts\"\n",
              "            style=\"display:none;\">\n",
              "\n",
              "<svg xmlns=\"http://www.w3.org/2000/svg\" height=\"24px\"viewBox=\"0 0 24 24\"\n",
              "     width=\"24px\">\n",
              "    <g>\n",
              "        <path d=\"M19 3H5c-1.1 0-2 .9-2 2v14c0 1.1.9 2 2 2h14c1.1 0 2-.9 2-2V5c0-1.1-.9-2-2-2zM9 17H7v-7h2v7zm4 0h-2V7h2v10zm4 0h-2v-4h2v4z\"/>\n",
              "    </g>\n",
              "</svg>\n",
              "  </button>\n",
              "\n",
              "<style>\n",
              "  .colab-df-quickchart {\n",
              "      --bg-color: #E8F0FE;\n",
              "      --fill-color: #1967D2;\n",
              "      --hover-bg-color: #E2EBFA;\n",
              "      --hover-fill-color: #174EA6;\n",
              "      --disabled-fill-color: #AAA;\n",
              "      --disabled-bg-color: #DDD;\n",
              "  }\n",
              "\n",
              "  [theme=dark] .colab-df-quickchart {\n",
              "      --bg-color: #3B4455;\n",
              "      --fill-color: #D2E3FC;\n",
              "      --hover-bg-color: #434B5C;\n",
              "      --hover-fill-color: #FFFFFF;\n",
              "      --disabled-bg-color: #3B4455;\n",
              "      --disabled-fill-color: #666;\n",
              "  }\n",
              "\n",
              "  .colab-df-quickchart {\n",
              "    background-color: var(--bg-color);\n",
              "    border: none;\n",
              "    border-radius: 50%;\n",
              "    cursor: pointer;\n",
              "    display: none;\n",
              "    fill: var(--fill-color);\n",
              "    height: 32px;\n",
              "    padding: 0;\n",
              "    width: 32px;\n",
              "  }\n",
              "\n",
              "  .colab-df-quickchart:hover {\n",
              "    background-color: var(--hover-bg-color);\n",
              "    box-shadow: 0 1px 2px rgba(60, 64, 67, 0.3), 0 1px 3px 1px rgba(60, 64, 67, 0.15);\n",
              "    fill: var(--button-hover-fill-color);\n",
              "  }\n",
              "\n",
              "  .colab-df-quickchart-complete:disabled,\n",
              "  .colab-df-quickchart-complete:disabled:hover {\n",
              "    background-color: var(--disabled-bg-color);\n",
              "    fill: var(--disabled-fill-color);\n",
              "    box-shadow: none;\n",
              "  }\n",
              "\n",
              "  .colab-df-spinner {\n",
              "    border: 2px solid var(--fill-color);\n",
              "    border-color: transparent;\n",
              "    border-bottom-color: var(--fill-color);\n",
              "    animation:\n",
              "      spin 1s steps(1) infinite;\n",
              "  }\n",
              "\n",
              "  @keyframes spin {\n",
              "    0% {\n",
              "      border-color: transparent;\n",
              "      border-bottom-color: var(--fill-color);\n",
              "      border-left-color: var(--fill-color);\n",
              "    }\n",
              "    20% {\n",
              "      border-color: transparent;\n",
              "      border-left-color: var(--fill-color);\n",
              "      border-top-color: var(--fill-color);\n",
              "    }\n",
              "    30% {\n",
              "      border-color: transparent;\n",
              "      border-left-color: var(--fill-color);\n",
              "      border-top-color: var(--fill-color);\n",
              "      border-right-color: var(--fill-color);\n",
              "    }\n",
              "    40% {\n",
              "      border-color: transparent;\n",
              "      border-right-color: var(--fill-color);\n",
              "      border-top-color: var(--fill-color);\n",
              "    }\n",
              "    60% {\n",
              "      border-color: transparent;\n",
              "      border-right-color: var(--fill-color);\n",
              "    }\n",
              "    80% {\n",
              "      border-color: transparent;\n",
              "      border-right-color: var(--fill-color);\n",
              "      border-bottom-color: var(--fill-color);\n",
              "    }\n",
              "    90% {\n",
              "      border-color: transparent;\n",
              "      border-bottom-color: var(--fill-color);\n",
              "    }\n",
              "  }\n",
              "</style>\n",
              "\n",
              "  <script>\n",
              "    async function quickchart(key) {\n",
              "      const quickchartButtonEl =\n",
              "        document.querySelector('#' + key + ' button');\n",
              "      quickchartButtonEl.disabled = true;  // To prevent multiple clicks.\n",
              "      quickchartButtonEl.classList.add('colab-df-spinner');\n",
              "      try {\n",
              "        const charts = await google.colab.kernel.invokeFunction(\n",
              "            'suggestCharts', [key], {});\n",
              "      } catch (error) {\n",
              "        console.error('Error during call to suggestCharts:', error);\n",
              "      }\n",
              "      quickchartButtonEl.classList.remove('colab-df-spinner');\n",
              "      quickchartButtonEl.classList.add('colab-df-quickchart-complete');\n",
              "    }\n",
              "    (() => {\n",
              "      let quickchartButtonEl =\n",
              "        document.querySelector('#df-87829afb-4317-4eb3-810a-3b03c40eb4e9 button');\n",
              "      quickchartButtonEl.style.display =\n",
              "        google.colab.kernel.accessAllowed ? 'block' : 'none';\n",
              "    })();\n",
              "  </script>\n",
              "</div>\n",
              "\n",
              "    </div>\n",
              "  </div>"
            ]
          }
        }
      ],
      "source": [
        "df_null_occ_code.head(15)"
      ],
      "id": "cell-7"
    },
    {
      "cell_type": "code",
      "execution_count": 112,
      "metadata": {
        "executionInfo": {
          "elapsed": 17,
          "status": "ok",
          "timestamp": 1724726911109,
          "user": {
            "displayName": "Eva Revear",
            "userId": "01665688304887348614"
          },
          "user_tz": 420
        }
      },
      "outputs": [],
      "source": [
        "# green_jobs_acs_df_merged_filtered = green_jobs_acs_df_merged.dropna(subset=['OCC_CODE'])\n",
        "# green_jobs_acs_df_merged_filtered.head()"
      ],
      "id": "cell-8"
    },
    {
      "cell_type": "code",
      "execution_count": 113,
      "metadata": {
        "executionInfo": {
          "elapsed": 16,
          "status": "ok",
          "timestamp": 1724726911109,
          "user": {
            "displayName": "Eva Revear",
            "userId": "01665688304887348614"
          },
          "user_tz": 420
        }
      },
      "outputs": [],
      "source": [
        "# # green_jobs_acs_df_merged_filtered = green_jobs_acs_df_merged.dropna(subset=['Reported Occupation', 'O*NET-SOC Code', 'O*NET-SOC Category'])\n",
        "# len(green_jobs_acs_df_merged_filtered)"
      ],
      "id": "cell-9"
    },
    {
      "cell_type": "code",
      "execution_count": 114,
      "metadata": {
        "executionInfo": {
          "elapsed": 16,
          "status": "ok",
          "timestamp": 1724726911110,
          "user": {
            "displayName": "Eva Revear",
            "userId": "01665688304887348614"
          },
          "user_tz": 420
        }
      },
      "outputs": [],
      "source": [
        "# green_jobs_acs_df_merged_filtered['OCC_CODE'].isnull().sum()"
      ],
      "id": "cell-10"
    },
    {
      "cell_type": "code",
      "execution_count": 115,
      "metadata": {
        "executionInfo": {
          "elapsed": 17,
          "status": "ok",
          "timestamp": 1724726911111,
          "user": {
            "displayName": "Eva Revear",
            "userId": "01665688304887348614"
          },
          "user_tz": 420
        }
      },
      "outputs": [],
      "source": [
        "green_jobs_acs_df_merged.to_csv('/content/drive/MyDrive/Upwork - St. Paul Clean Energy Jobs/st_paul_green_jobs_data/processed_data/OWES_and_ONET-National.csv', index=False)"
      ],
      "id": "cell-11"
    }
  ],
  "nbformat": 4,
  "nbformat_minor": 5,
  "metadata": {
    "colab": {
      "authorship_tag": "ABX9TyO5s1Yj4eV7dbOJr4PSLRNt",
      "mount_file_id": "1HbSsAzJyA8rOwov-n3aYWT2543Q7A_nA",
      "provenance": []
    },
    "kernelspec": {
      "name": "python3",
      "display_name": "Python 3",
      "language": "python"
    },
    "language_info": {
      "name": "python"
    }
  }
}